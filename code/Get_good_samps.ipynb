{
 "cells": [
  {
   "cell_type": "markdown",
   "metadata": {
    "kernel": "SoS"
   },
   "source": [
    "# Evaluate DB91 Running_Panels \n",
    "Finding SNPS and samples that didn't work"
   ]
  },
  {
   "cell_type": "markdown",
   "metadata": {
    "kernel": "SoS"
   },
   "source": [
    "## Check each run separately"
   ]
  },
  {
   "cell_type": "code",
   "execution_count": 8,
   "metadata": {
    "kernel": "python3"
   },
   "outputs": [],
   "source": [
    "import pandas as pd\n",
    "import numpy as np"
   ]
  },
  {
   "cell_type": "code",
   "execution_count": 45,
   "metadata": {
    "kernel": "python3"
   },
   "outputs": [],
   "source": [
    "badSampleDict = {}\n",
    "goodSampleDict = {}\n",
    "increps = {}"
   ]
  },
  {
   "cell_type": "markdown",
   "metadata": {
    "kernel": "python3"
   },
   "source": [
    "### 021920 (just getting good samples)"
   ]
  },
  {
   "cell_type": "code",
   "execution_count": 35,
   "metadata": {
    "kernel": "SoS"
   },
   "outputs": [],
   "source": [
    "suf = \"021920\""
   ]
  },
  {
   "cell_type": "markdown",
   "metadata": {
    "kernel": "python3"
   },
   "source": [
    "#### Read in autoclustered genotype reports"
   ]
  },
  {
   "cell_type": "code",
   "execution_count": 4,
   "metadata": {
    "kernel": "python3"
   },
   "outputs": [],
   "source": [
    "%expand\n",
    "infile1 = \"../Panel_Design/{suf}20_Test/GenotypeArea_Katherine_DB_CHIP707_DB52_{suf}20_CHIP707_DB52_{suf}20_1_AC.xls\"\n",
    "infile2 = \"../Panel_Design/{suf}20_Test/GenotypeArea_Katherine_DB_CHIP708_DB39_{suf}20_CHIP708_DB39_{suf}20_1_AC.xls\""
   ]
  },
  {
   "cell_type": "code",
   "execution_count": 9,
   "metadata": {
    "kernel": "python3"
   },
   "outputs": [],
   "source": [
    "# read in Genotypes sheet from excel file \n",
    "inxl52 = pd.ExcelFile(infile1)\n",
    "inxl39 = pd.ExcelFile(infile2)"
   ]
  },
  {
   "cell_type": "markdown",
   "metadata": {
    "kernel": "python3"
   },
   "source": [
    "## ID and remove bad samples\n",
    "12 bad SNPs in 52, so need at least 77% to get all,74 to miss 2 \n",
    "6 bad SNPs in 39, so need at least 86% to get all, 80% to miss 2"
   ]
  },
  {
   "cell_type": "code",
   "execution_count": 10,
   "metadata": {
    "kernel": "python3"
   },
   "outputs": [],
   "source": [
    "def p2f(x):\n",
    "    return float(x.strip('%'))/100"
   ]
  },
  {
   "cell_type": "code",
   "execution_count": 11,
   "metadata": {
    "kernel": "python3"
   },
   "outputs": [],
   "source": [
    "db52_sample = inxl52.parse('Sample_Summary', converters={'CallRate':p2f})"
   ]
  },
  {
   "cell_type": "code",
   "execution_count": 22,
   "metadata": {
    "kernel": "python3"
   },
   "outputs": [
    {
     "data": {
      "text/plain": [
       "{('CANOT11837', 'H06'),\n",
       " ('LA1136', 'C12'),\n",
       " ('LAMAR2', 'A10'),\n",
       " ('LAMAR2', 'H09'),\n",
       " ('Otter19', 'A02')}"
      ]
     },
     "execution_count": 22,
     "metadata": {},
     "output_type": "execute_result"
    }
   ],
   "source": [
    "failed52_sampleDF = db52_sample[db52_sample['CallRate'] < 0.74]\n",
    "failed52_sample = set(zip(failed52_sampleDF[\"SAMPLE_NAME\"],failed52_sampleDF[\"WELL\"]))\n",
    "failed52_sample"
   ]
  },
  {
   "cell_type": "code",
   "execution_count": 15,
   "metadata": {
    "kernel": "python3"
   },
   "outputs": [],
   "source": [
    "db39_sample = inxl39.parse('Sample_Summary', converters={'CallRate':p2f,'SAMPLE_NAME':stripX})\n",
    "#db39_sample.loc[50:100,]"
   ]
  },
  {
   "cell_type": "code",
   "execution_count": 21,
   "metadata": {
    "kernel": "python3"
   },
   "outputs": [
    {
     "data": {
      "text/plain": [
       "{('CANOT11837', 'H06'),\n",
       " ('LA1136', 'C12'),\n",
       " ('LAMAR2', 'A10'),\n",
       " ('LAMAR2', 'H09'),\n",
       " ('Otter19', 'A02'),\n",
       " ('SL04', 'A07')}"
      ]
     },
     "execution_count": 21,
     "metadata": {},
     "output_type": "execute_result"
    }
   ],
   "source": [
    "failed39_sampleDF = db39_sample[db39_sample['CallRate'] < 0.80]\n",
    "failed39_sample = set(zip(failed39_sampleDF[\"SAMPLE_NAME\"], failed39_sampleDF[\"WELL\"]))\n",
    "failed39_sample"
   ]
  },
  {
   "cell_type": "code",
   "execution_count": 23,
   "metadata": {
    "kernel": "python3"
   },
   "outputs": [
    {
     "data": {
      "text/plain": [
       "{('CANOT11837', 'H06'),\n",
       " ('LA1136', 'C12'),\n",
       " ('LAMAR2', 'A10'),\n",
       " ('LAMAR2', 'H09'),\n",
       " ('Otter19', 'A02')}"
      ]
     },
     "execution_count": 23,
     "metadata": {},
     "output_type": "execute_result"
    }
   ],
   "source": [
    "#Intersection\n",
    "failed39_sample.intersection(failed52_sample)"
   ]
  },
  {
   "cell_type": "code",
   "execution_count": 39,
   "metadata": {
    "kernel": "python3"
   },
   "outputs": [
    {
     "data": {
      "text/plain": [
       "{('CANOT11837', 'H06'),\n",
       " ('LA1136', 'C12'),\n",
       " ('LAMAR2', 'A10'),\n",
       " ('LAMAR2', 'H09'),\n",
       " ('Otter19', 'A02'),\n",
       " ('SL04', 'A07')}"
      ]
     },
     "execution_count": 39,
     "metadata": {},
     "output_type": "execute_result"
    }
   ],
   "source": [
    "%expand\n",
    "# Union\n",
    "union_bad_samp = failed39_sample.union(failed52_sample)\n",
    "union_bad_samp"
   ]
  },
  {
   "cell_type": "code",
   "execution_count": 46,
   "metadata": {
    "kernel": "python3"
   },
   "outputs": [],
   "source": [
    "%expand\n",
    "idx = pd.MultiIndex.from_frame(db52_sample[['SAMPLE_NAME', 'WELL']])\n",
    "pass_52 = db52_sample.loc[~idx.isin(union_bad_samp)]\n",
    "goodS = set(zip(pass_52[\"SAMPLE_NAME\"], pass_52[\"WELL\"]))\n",
    "badSampleDict[\"{suf}\"] = union_bad_samp\n",
    "goodSampleDict[\"{suf}\"] = goodS"
   ]
  },
  {
   "cell_type": "markdown",
   "metadata": {
    "kernel": "python3"
   },
   "source": [
    "### 03272020"
   ]
  },
  {
   "cell_type": "code",
   "execution_count": 195,
   "metadata": {
    "kernel": "SoS"
   },
   "outputs": [],
   "source": [
    "suf = \"032720\""
   ]
  },
  {
   "cell_type": "markdown",
   "metadata": {
    "kernel": "python3"
   },
   "source": [
    "#### Read in autoclustered genotype reports"
   ]
  },
  {
   "cell_type": "code",
   "execution_count": 198,
   "metadata": {
    "kernel": "python3"
   },
   "outputs": [],
   "source": [
    "%expand\n",
    "infile1 = \"{suf}/GenotypeArea_Katherine_DB_CHIP_723_52DB_{suf}20_CHIP723_{suf}20_1_ACme.xls\"\n",
    "infile2 = \"{suf}/GenotypeArea_Katherine_DB_CHIP724_DB39_{suf}20_CHIP724_{suf}20_1_ACme.xls\""
   ]
  },
  {
   "cell_type": "code",
   "execution_count": 199,
   "metadata": {
    "kernel": "python3"
   },
   "outputs": [],
   "source": [
    "# read in Genotypes sheet from excel file \n",
    "inxl52 = pd.ExcelFile(infile1)\n",
    "inxl39 = pd.ExcelFile(infile2)"
   ]
  },
  {
   "cell_type": "code",
   "execution_count": 200,
   "metadata": {
    "kernel": "python3"
   },
   "outputs": [],
   "source": [
    "db52_sample = inxl52.parse('Sample_Summary', converters={'CallRate':p2f})"
   ]
  },
  {
   "cell_type": "code",
   "execution_count": 201,
   "metadata": {
    "kernel": "python3"
   },
   "outputs": [
    {
     "data": {
      "text/plain": [
       "{('GU46', 'E06'),\n",
       " ('GU55', 'E07'),\n",
       " ('GU61', 'F01'),\n",
       " ('LA10_006', 'F11'),\n",
       " ('LA10_15', 'F12'),\n",
       " ('LA11_30', 'F09'),\n",
       " ('LA11_32', 'F10'),\n",
       " ('LA11_33', 'F07'),\n",
       " ('LA11_34', 'F08'),\n",
       " ('LAMAR2_B', 'D11'),\n",
       " ('Otter19', 'H06'),\n",
       " ('TWRA20_020', 'G12'),\n",
       " ('VA19_795', 'B10'),\n",
       " ('VA19_811', 'B12'),\n",
       " ('VA19_812', 'C01'),\n",
       " ('VA19_812', 'C11')}"
      ]
     },
     "execution_count": 201,
     "metadata": {},
     "output_type": "execute_result"
    }
   ],
   "source": [
    "failed52_sampleDF = db52_sample[db52_sample['CallRate'] < 0.74]\n",
    "failed52_sample = set(zip(failed52_sampleDF[\"SAMPLE_NAME\"],failed52_sampleDF[\"WELL\"]))\n",
    "failed52_sample"
   ]
  },
  {
   "cell_type": "code",
   "execution_count": 202,
   "metadata": {
    "kernel": "python3"
   },
   "outputs": [],
   "source": [
    "db39_sample = inxl39.parse('Sample_Summary', converters={'CallRate':p2f})\n",
    "#db39_sample.loc[50:100,]"
   ]
  },
  {
   "cell_type": "code",
   "execution_count": 203,
   "metadata": {
    "kernel": "python3"
   },
   "outputs": [
    {
     "data": {
      "text/plain": [
       "{('GU46', 'E06'),\n",
       " ('GU55', 'E07'),\n",
       " ('GU56', 'E09'),\n",
       " ('LA10_006', 'F11'),\n",
       " ('LA10_15', 'F12'),\n",
       " ('LA11_30', 'F09'),\n",
       " ('LA11_32', 'F10'),\n",
       " ('LA11_33', 'F07'),\n",
       " ('LA11_34', 'F08'),\n",
       " ('LAMAR2_B', 'D11'),\n",
       " ('Otter19', 'H06'),\n",
       " ('RM09', 'H08')}"
      ]
     },
     "execution_count": 203,
     "metadata": {},
     "output_type": "execute_result"
    }
   ],
   "source": [
    "failed39_sampleDF = db39_sample[db39_sample['CallRate'] < 0.80]\n",
    "failed39_sample = set(zip(failed39_sampleDF[\"SAMPLE_NAME\"], failed39_sampleDF[\"WELL\"]))\n",
    "failed39_sample"
   ]
  },
  {
   "cell_type": "code",
   "execution_count": 204,
   "metadata": {
    "kernel": "python3"
   },
   "outputs": [
    {
     "data": {
      "text/plain": [
       "{('GU46', 'E06'),\n",
       " ('GU55', 'E07'),\n",
       " ('LA10_006', 'F11'),\n",
       " ('LA10_15', 'F12'),\n",
       " ('LA11_30', 'F09'),\n",
       " ('LA11_32', 'F10'),\n",
       " ('LA11_33', 'F07'),\n",
       " ('LA11_34', 'F08'),\n",
       " ('LAMAR2_B', 'D11'),\n",
       " ('Otter19', 'H06')}"
      ]
     },
     "execution_count": 204,
     "metadata": {},
     "output_type": "execute_result"
    }
   ],
   "source": [
    "#Intersection\n",
    "failed39_sample.intersection(failed52_sample)"
   ]
  },
  {
   "cell_type": "code",
   "execution_count": 205,
   "metadata": {
    "kernel": "python3"
   },
   "outputs": [
    {
     "data": {
      "text/plain": [
       "{('GU46', 'E06'),\n",
       " ('GU55', 'E07'),\n",
       " ('GU56', 'E09'),\n",
       " ('GU61', 'F01'),\n",
       " ('LA10_006', 'F11'),\n",
       " ('LA10_15', 'F12'),\n",
       " ('LA11_30', 'F09'),\n",
       " ('LA11_32', 'F10'),\n",
       " ('LA11_33', 'F07'),\n",
       " ('LA11_34', 'F08'),\n",
       " ('LAMAR2_B', 'D11'),\n",
       " ('Otter19', 'H06'),\n",
       " ('RM09', 'H08'),\n",
       " ('TWRA20_020', 'G12'),\n",
       " ('VA19_795', 'B10'),\n",
       " ('VA19_811', 'B12'),\n",
       " ('VA19_812', 'C01'),\n",
       " ('VA19_812', 'C11')}"
      ]
     },
     "execution_count": 205,
     "metadata": {},
     "output_type": "execute_result"
    }
   ],
   "source": [
    "%expand\n",
    "# Union\n",
    "union_bad_samp = failed39_sample.union(failed52_sample)\n",
    "union_bad_samp"
   ]
  },
  {
   "cell_type": "code",
   "execution_count": 206,
   "metadata": {
    "kernel": "python3"
   },
   "outputs": [],
   "source": [
    "%expand\n",
    "idx = pd.MultiIndex.from_frame(db52_sample[['SAMPLE_NAME', 'WELL']])\n",
    "pass_52 = db52_sample.loc[~idx.isin(union_bad_samp)]\n",
    "goodS = set(zip(pass_52[\"SAMPLE_NAME\"], pass_52[\"WELL\"]))\n",
    "badSampleDict[\"{suf}\"] = union_bad_samp\n",
    "goodSampleDict[\"{suf}\"] = goodS"
   ]
  },
  {
   "cell_type": "markdown",
   "metadata": {
    "kernel": "python3"
   },
   "source": [
    "### 041720"
   ]
  },
  {
   "cell_type": "code",
   "execution_count": 79,
   "metadata": {
    "kernel": "SoS"
   },
   "outputs": [],
   "source": [
    "suf = \"041720\""
   ]
  },
  {
   "cell_type": "markdown",
   "metadata": {
    "kernel": "python3"
   },
   "source": [
    "#### Read in autoclustered genotype reports"
   ]
  },
  {
   "cell_type": "code",
   "execution_count": 80,
   "metadata": {
    "kernel": "python3"
   },
   "outputs": [],
   "source": [
    "%expand\n",
    "infile1 = \"{suf}/GenotypeArea_Katherine_DB_CHIP734_DB52_{suf}_CHIP734_DB52_04172020_1_AC.xls\"\n",
    "infile2 = \"{suf}/GenotypeArea_Katherine_DB_CHIP735_DB39_{suf}_CHIP735_DB39_04172020_1_AC.xls\""
   ]
  },
  {
   "cell_type": "code",
   "execution_count": 81,
   "metadata": {
    "kernel": "python3"
   },
   "outputs": [],
   "source": [
    "# read in Genotypes sheet from excel file \n",
    "inxl52 = pd.ExcelFile(infile1)\n",
    "inxl39 = pd.ExcelFile(infile2)"
   ]
  },
  {
   "cell_type": "code",
   "execution_count": 82,
   "metadata": {
    "kernel": "python3"
   },
   "outputs": [],
   "source": [
    "db52_sample = inxl52.parse('Sample_Summary', converters={'CallRate':p2f})"
   ]
  },
  {
   "cell_type": "code",
   "execution_count": 83,
   "metadata": {
    "kernel": "python3"
   },
   "outputs": [
    {
     "data": {
      "text/plain": [
       "set()"
      ]
     },
     "execution_count": 83,
     "metadata": {},
     "output_type": "execute_result"
    }
   ],
   "source": [
    "failed52_sampleDF = db52_sample[db52_sample['CallRate'] < 0.74]\n",
    "failed52_sample = set(zip(failed52_sampleDF[\"SAMPLE_NAME\"],failed52_sampleDF[\"WELL\"]))\n",
    "failed52_sample"
   ]
  },
  {
   "cell_type": "code",
   "execution_count": 84,
   "metadata": {
    "kernel": "python3"
   },
   "outputs": [],
   "source": [
    "db39_sample = inxl39.parse('Sample_Summary', converters={'CallRate':p2f})\n",
    "#db39_sample.loc[50:100,]"
   ]
  },
  {
   "cell_type": "code",
   "execution_count": 85,
   "metadata": {
    "kernel": "python3"
   },
   "outputs": [
    {
     "data": {
      "text/plain": [
       "set()"
      ]
     },
     "execution_count": 85,
     "metadata": {},
     "output_type": "execute_result"
    }
   ],
   "source": [
    "failed39_sampleDF = db39_sample[db39_sample['CallRate'] < 0.80]\n",
    "failed39_sample = set(zip(failed39_sampleDF[\"SAMPLE_NAME\"], failed39_sampleDF[\"WELL\"]))\n",
    "failed39_sample"
   ]
  },
  {
   "cell_type": "code",
   "execution_count": 86,
   "metadata": {
    "kernel": "python3"
   },
   "outputs": [
    {
     "data": {
      "text/plain": [
       "set()"
      ]
     },
     "execution_count": 86,
     "metadata": {},
     "output_type": "execute_result"
    }
   ],
   "source": [
    "#Intersection\n",
    "failed39_sample.intersection(failed52_sample)"
   ]
  },
  {
   "cell_type": "code",
   "execution_count": 87,
   "metadata": {
    "kernel": "python3"
   },
   "outputs": [
    {
     "data": {
      "text/plain": [
       "set()"
      ]
     },
     "execution_count": 87,
     "metadata": {},
     "output_type": "execute_result"
    }
   ],
   "source": [
    "%expand\n",
    "# Union\n",
    "union_bad_samp = failed39_sample.union(failed52_sample)\n",
    "union_bad_samp"
   ]
  },
  {
   "cell_type": "code",
   "execution_count": 88,
   "metadata": {
    "kernel": "python3"
   },
   "outputs": [],
   "source": [
    "%expand\n",
    "idx = pd.MultiIndex.from_frame(db52_sample[['SAMPLE_NAME', 'WELL']])\n",
    "pass_52 = db52_sample.loc[~idx.isin(union_bad_samp)]\n",
    "goodS = set(zip(pass_52[\"SAMPLE_NAME\"], pass_52[\"WELL\"]))\n",
    "badSampleDict[\"{suf}\"] = union_bad_samp\n",
    "goodSampleDict[\"{suf}\"] = goodS"
   ]
  },
  {
   "cell_type": "markdown",
   "metadata": {
    "kernel": "python3"
   },
   "source": [
    "### 042420"
   ]
  },
  {
   "cell_type": "code",
   "execution_count": 89,
   "metadata": {
    "kernel": "SoS"
   },
   "outputs": [],
   "source": [
    "suf = \"042420\""
   ]
  },
  {
   "cell_type": "markdown",
   "metadata": {
    "kernel": "python3"
   },
   "source": [
    "#### Read in autoclustered genotype reports"
   ]
  },
  {
   "cell_type": "code",
   "execution_count": 90,
   "metadata": {
    "kernel": "python3"
   },
   "outputs": [],
   "source": [
    "%expand\n",
    "infile1 = \"{suf}/GenotypeArea_Katherine_DB_CHIP744_DB52_{suf}20_CHIP744_DB52_{suf}20_1_AC.xls\"\n",
    "infile2 = \"{suf}/GenotypeArea_Katherine_DB_CHIP745_DB39_{suf}20_CHIP745_DB39_{suf}20_1_AC.xls\""
   ]
  },
  {
   "cell_type": "code",
   "execution_count": 91,
   "metadata": {
    "kernel": "python3"
   },
   "outputs": [],
   "source": [
    "# read in Genotypes sheet from excel file \n",
    "inxl52 = pd.ExcelFile(infile1)\n",
    "inxl39 = pd.ExcelFile(infile2)"
   ]
  },
  {
   "cell_type": "code",
   "execution_count": 92,
   "metadata": {
    "kernel": "python3"
   },
   "outputs": [],
   "source": [
    "db52_sample = inxl52.parse('Sample_Summary', converters={'CallRate':p2f})"
   ]
  },
  {
   "cell_type": "code",
   "execution_count": 93,
   "metadata": {
    "kernel": "python3"
   },
   "outputs": [
    {
     "data": {
      "text/plain": [
       "{('HA5', 'F07'),\n",
       " ('MF3', 'H07'),\n",
       " ('NC20297', 'F04'),\n",
       " ('NC20301', 'B05'),\n",
       " ('NC20317', 'A10'),\n",
       " ('NC20377', 'H11'),\n",
       " ('NC20385', 'A11'),\n",
       " ('SL14B', 'E12')}"
      ]
     },
     "execution_count": 93,
     "metadata": {},
     "output_type": "execute_result"
    }
   ],
   "source": [
    "failed52_sampleDF = db52_sample[db52_sample['CallRate'] < 0.74]\n",
    "failed52_sample = set(zip(failed52_sampleDF[\"SAMPLE_NAME\"],failed52_sampleDF[\"WELL\"]))\n",
    "failed52_sample"
   ]
  },
  {
   "cell_type": "code",
   "execution_count": 94,
   "metadata": {
    "kernel": "python3"
   },
   "outputs": [],
   "source": [
    "db39_sample = inxl39.parse('Sample_Summary', converters={'CallRate':p2f})\n",
    "#db39_sample.loc[50:100,]"
   ]
  },
  {
   "cell_type": "code",
   "execution_count": 95,
   "metadata": {
    "kernel": "python3"
   },
   "outputs": [
    {
     "data": {
      "text/plain": [
       "{('HA5', 'F07')}"
      ]
     },
     "execution_count": 95,
     "metadata": {},
     "output_type": "execute_result"
    }
   ],
   "source": [
    "failed39_sampleDF = db39_sample[db39_sample['CallRate'] < 0.80]\n",
    "failed39_sample = set(zip(failed39_sampleDF[\"SAMPLE_NAME\"], failed39_sampleDF[\"WELL\"]))\n",
    "failed39_sample"
   ]
  },
  {
   "cell_type": "code",
   "execution_count": 96,
   "metadata": {
    "kernel": "python3"
   },
   "outputs": [
    {
     "data": {
      "text/plain": [
       "{('HA5', 'F07')}"
      ]
     },
     "execution_count": 96,
     "metadata": {},
     "output_type": "execute_result"
    }
   ],
   "source": [
    "#Intersection\n",
    "failed39_sample.intersection(failed52_sample)"
   ]
  },
  {
   "cell_type": "code",
   "execution_count": 97,
   "metadata": {
    "kernel": "python3"
   },
   "outputs": [
    {
     "data": {
      "text/plain": [
       "{('HA5', 'F07'),\n",
       " ('MF3', 'H07'),\n",
       " ('NC20297', 'F04'),\n",
       " ('NC20301', 'B05'),\n",
       " ('NC20317', 'A10'),\n",
       " ('NC20377', 'H11'),\n",
       " ('NC20385', 'A11'),\n",
       " ('SL14B', 'E12')}"
      ]
     },
     "execution_count": 97,
     "metadata": {},
     "output_type": "execute_result"
    }
   ],
   "source": [
    "%expand\n",
    "# Union\n",
    "union_bad_samp = failed39_sample.union(failed52_sample)\n",
    "union_bad_samp"
   ]
  },
  {
   "cell_type": "code",
   "execution_count": 98,
   "metadata": {
    "kernel": "python3"
   },
   "outputs": [],
   "source": [
    "%expand\n",
    "idx = pd.MultiIndex.from_frame(db52_sample[['SAMPLE_NAME', 'WELL']])\n",
    "pass_52 = db52_sample.loc[~idx.isin(union_bad_samp)]\n",
    "goodS = set(zip(pass_52[\"SAMPLE_NAME\"], pass_52[\"WELL\"]))\n",
    "badSampleDict[\"{suf}\"] = union_bad_samp\n",
    "goodSampleDict[\"{suf}\"] = goodS"
   ]
  },
  {
   "cell_type": "markdown",
   "metadata": {
    "kernel": "python3"
   },
   "source": [
    "### 043020"
   ]
  },
  {
   "cell_type": "code",
   "execution_count": 99,
   "metadata": {
    "kernel": "SoS"
   },
   "outputs": [],
   "source": [
    "suf = \"043020\""
   ]
  },
  {
   "cell_type": "markdown",
   "metadata": {
    "kernel": "python3"
   },
   "source": [
    "#### Read in autoclustered genotype reports"
   ]
  },
  {
   "cell_type": "code",
   "execution_count": 100,
   "metadata": {
    "kernel": "python3"
   },
   "outputs": [],
   "source": [
    "%expand\n",
    "infile1 = \"{suf}/GenotypeArea_Katherine_DB_CHIP749_DB52_{suf}_CHIP749_DB52_{suf}_1_ACme.xls\"\n",
    "infile2 = \"{suf}/GenotypeArea_Katherine_DB_CHIP750_DB39_{suf}_CHIP750_DB39_{suf}_1_ACme.xls\""
   ]
  },
  {
   "cell_type": "code",
   "execution_count": 101,
   "metadata": {
    "kernel": "python3"
   },
   "outputs": [],
   "source": [
    "# read in Genotypes sheet from excel file \n",
    "inxl52 = pd.ExcelFile(infile1)\n",
    "inxl39 = pd.ExcelFile(infile2)"
   ]
  },
  {
   "cell_type": "code",
   "execution_count": 102,
   "metadata": {
    "kernel": "python3"
   },
   "outputs": [],
   "source": [
    "db52_sample = inxl52.parse('Sample_Summary', converters={'CallRate':p2f})"
   ]
  },
  {
   "cell_type": "code",
   "execution_count": 103,
   "metadata": {
    "kernel": "python3"
   },
   "outputs": [
    {
     "data": {
      "text/plain": [
       "set()"
      ]
     },
     "execution_count": 103,
     "metadata": {},
     "output_type": "execute_result"
    }
   ],
   "source": [
    "failed52_sampleDF = db52_sample[db52_sample['CallRate'] < 0.74]\n",
    "failed52_sample = set(zip(failed52_sampleDF[\"SAMPLE_NAME\"],failed52_sampleDF[\"WELL\"]))\n",
    "failed52_sample"
   ]
  },
  {
   "cell_type": "code",
   "execution_count": 104,
   "metadata": {
    "kernel": "python3"
   },
   "outputs": [],
   "source": [
    "db39_sample = inxl39.parse('Sample_Summary', converters={'CallRate':p2f})\n",
    "#db39_sample.loc[50:100,]"
   ]
  },
  {
   "cell_type": "code",
   "execution_count": 105,
   "metadata": {
    "kernel": "python3"
   },
   "outputs": [
    {
     "data": {
      "text/plain": [
       "{('LA1139B', 'E05'), ('LSRC15', 'G08')}"
      ]
     },
     "execution_count": 105,
     "metadata": {},
     "output_type": "execute_result"
    }
   ],
   "source": [
    "failed39_sampleDF = db39_sample[db39_sample['CallRate'] < 0.80]\n",
    "failed39_sample = set(zip(failed39_sampleDF[\"SAMPLE_NAME\"], failed39_sampleDF[\"WELL\"]))\n",
    "failed39_sample"
   ]
  },
  {
   "cell_type": "code",
   "execution_count": 106,
   "metadata": {
    "kernel": "python3"
   },
   "outputs": [
    {
     "data": {
      "text/plain": [
       "set()"
      ]
     },
     "execution_count": 106,
     "metadata": {},
     "output_type": "execute_result"
    }
   ],
   "source": [
    "#Intersection\n",
    "failed39_sample.intersection(failed52_sample)"
   ]
  },
  {
   "cell_type": "code",
   "execution_count": 107,
   "metadata": {
    "kernel": "python3"
   },
   "outputs": [
    {
     "data": {
      "text/plain": [
       "{('LA1139B', 'E05'), ('LSRC15', 'G08')}"
      ]
     },
     "execution_count": 107,
     "metadata": {},
     "output_type": "execute_result"
    }
   ],
   "source": [
    "%expand\n",
    "# Union\n",
    "union_bad_samp = failed39_sample.union(failed52_sample)\n",
    "union_bad_samp"
   ]
  },
  {
   "cell_type": "code",
   "execution_count": 108,
   "metadata": {
    "kernel": "python3"
   },
   "outputs": [],
   "source": [
    "%expand\n",
    "idx = pd.MultiIndex.from_frame(db52_sample[['SAMPLE_NAME', 'WELL']])\n",
    "pass_52 = db52_sample.loc[~idx.isin(union_bad_samp)]\n",
    "goodS = set(zip(pass_52[\"SAMPLE_NAME\"], pass_52[\"WELL\"]))\n",
    "badSampleDict[\"{suf}\"] = union_bad_samp\n",
    "goodSampleDict[\"{suf}\"] = goodS"
   ]
  },
  {
   "cell_type": "markdown",
   "metadata": {
    "kernel": "python3"
   },
   "source": [
    "### 050720"
   ]
  },
  {
   "cell_type": "code",
   "execution_count": 109,
   "metadata": {
    "kernel": "SoS"
   },
   "outputs": [],
   "source": [
    "suf = \"050720\""
   ]
  },
  {
   "cell_type": "markdown",
   "metadata": {
    "kernel": "python3"
   },
   "source": [
    "#### Read in autoclustered genotype reports"
   ]
  },
  {
   "cell_type": "code",
   "execution_count": 110,
   "metadata": {
    "kernel": "python3"
   },
   "outputs": [],
   "source": [
    "%expand\n",
    "infile1 = \"{suf}/GenotypeArea_Katherine_DB_CHIP757_DB52_{suf}_CHIP757_DB52_{suf}_1_ACme.xls\"\n",
    "infile2 = \"{suf}/GenotypeArea_Katherine_DB_CHIP758_DB39_{suf}_CHIP758_DB39_{suf}_1_ACme.xls\""
   ]
  },
  {
   "cell_type": "code",
   "execution_count": 111,
   "metadata": {
    "kernel": "python3"
   },
   "outputs": [],
   "source": [
    "# read in Genotypes sheet from excel file \n",
    "inxl52 = pd.ExcelFile(infile1)\n",
    "inxl39 = pd.ExcelFile(infile2)"
   ]
  },
  {
   "cell_type": "code",
   "execution_count": 112,
   "metadata": {
    "kernel": "python3"
   },
   "outputs": [],
   "source": [
    "db52_sample = inxl52.parse('Sample_Summary', converters={'CallRate':p2f})"
   ]
  },
  {
   "cell_type": "code",
   "execution_count": 113,
   "metadata": {
    "kernel": "python3"
   },
   "outputs": [
    {
     "data": {
      "text/plain": [
       "{('SR5', 'A01')}"
      ]
     },
     "execution_count": 113,
     "metadata": {},
     "output_type": "execute_result"
    }
   ],
   "source": [
    "failed52_sampleDF = db52_sample[db52_sample['CallRate'] < 0.74]\n",
    "failed52_sample = set(zip(failed52_sampleDF[\"SAMPLE_NAME\"],failed52_sampleDF[\"WELL\"]))\n",
    "failed52_sample"
   ]
  },
  {
   "cell_type": "code",
   "execution_count": 114,
   "metadata": {
    "kernel": "python3"
   },
   "outputs": [],
   "source": [
    "db39_sample = inxl39.parse('Sample_Summary', converters={'CallRate':p2f})\n",
    "#db39_sample.loc[50:100,]"
   ]
  },
  {
   "cell_type": "code",
   "execution_count": 115,
   "metadata": {
    "kernel": "python3"
   },
   "outputs": [
    {
     "data": {
      "text/plain": [
       "{('SR5', 'A01'), ('WP32', 'A07')}"
      ]
     },
     "execution_count": 115,
     "metadata": {},
     "output_type": "execute_result"
    }
   ],
   "source": [
    "failed39_sampleDF = db39_sample[db39_sample['CallRate'] < 0.80]\n",
    "failed39_sample = set(zip(failed39_sampleDF[\"SAMPLE_NAME\"], failed39_sampleDF[\"WELL\"]))\n",
    "failed39_sample"
   ]
  },
  {
   "cell_type": "code",
   "execution_count": 116,
   "metadata": {
    "kernel": "python3"
   },
   "outputs": [
    {
     "data": {
      "text/plain": [
       "{('SR5', 'A01')}"
      ]
     },
     "execution_count": 116,
     "metadata": {},
     "output_type": "execute_result"
    }
   ],
   "source": [
    "#Intersection\n",
    "failed39_sample.intersection(failed52_sample)"
   ]
  },
  {
   "cell_type": "code",
   "execution_count": 117,
   "metadata": {
    "kernel": "python3"
   },
   "outputs": [
    {
     "data": {
      "text/plain": [
       "{('SR5', 'A01'), ('WP32', 'A07')}"
      ]
     },
     "execution_count": 117,
     "metadata": {},
     "output_type": "execute_result"
    }
   ],
   "source": [
    "%expand\n",
    "# Union\n",
    "union_bad_samp = failed39_sample.union(failed52_sample)\n",
    "union_bad_samp"
   ]
  },
  {
   "cell_type": "code",
   "execution_count": 118,
   "metadata": {
    "kernel": "python3"
   },
   "outputs": [],
   "source": [
    "%expand\n",
    "idx = pd.MultiIndex.from_frame(db52_sample[['SAMPLE_NAME', 'WELL']])\n",
    "pass_52 = db52_sample.loc[~idx.isin(union_bad_samp)]\n",
    "goodS = set(zip(pass_52[\"SAMPLE_NAME\"], pass_52[\"WELL\"]))\n",
    "badSampleDict[\"{suf}\"] = union_bad_samp\n",
    "goodSampleDict[\"{suf}\"] = goodS"
   ]
  },
  {
   "cell_type": "markdown",
   "metadata": {
    "kernel": "python3"
   },
   "source": [
    "### 051420"
   ]
  },
  {
   "cell_type": "code",
   "execution_count": 119,
   "metadata": {
    "kernel": "SoS"
   },
   "outputs": [],
   "source": [
    "suf = \"051420\""
   ]
  },
  {
   "cell_type": "markdown",
   "metadata": {
    "kernel": "python3"
   },
   "source": [
    "#### Read in autoclustered genotype reports"
   ]
  },
  {
   "cell_type": "code",
   "execution_count": 120,
   "metadata": {
    "kernel": "python3"
   },
   "outputs": [],
   "source": [
    "%expand\n",
    "infile1 = \"{suf}/GenotypeArea_Katherine_DB_CHIP761_DB52_{suf}_CHIP761_DB52_0514_1_ACme.xls\"\n",
    "infile2 = \"{suf}/GenotypeArea_Katherine_DB_CHIP762_DB39_{suf}_CHIP762_DB39_{suf}_1_ACme.xls\""
   ]
  },
  {
   "cell_type": "code",
   "execution_count": 121,
   "metadata": {
    "kernel": "python3"
   },
   "outputs": [],
   "source": [
    "# read in Genotypes sheet from excel file \n",
    "inxl52 = pd.ExcelFile(infile1)\n",
    "inxl39 = pd.ExcelFile(infile2)"
   ]
  },
  {
   "cell_type": "code",
   "execution_count": 122,
   "metadata": {
    "kernel": "python3"
   },
   "outputs": [],
   "source": [
    "db52_sample = inxl52.parse('Sample_Summary', converters={'CallRate':p2f})"
   ]
  },
  {
   "cell_type": "code",
   "execution_count": 123,
   "metadata": {
    "kernel": "python3"
   },
   "outputs": [
    {
     "data": {
      "text/plain": [
       "{('HRTN18256', 'A01'),\n",
       " ('HRTN18257', 'B01'),\n",
       " ('HRTN18259', 'C01'),\n",
       " ('HRTN18261', 'D01')}"
      ]
     },
     "execution_count": 123,
     "metadata": {},
     "output_type": "execute_result"
    }
   ],
   "source": [
    "failed52_sampleDF = db52_sample[db52_sample['CallRate'] < 0.74]\n",
    "failed52_sample = set(zip(failed52_sampleDF[\"SAMPLE_NAME\"],failed52_sampleDF[\"WELL\"]))\n",
    "failed52_sample"
   ]
  },
  {
   "cell_type": "code",
   "execution_count": 124,
   "metadata": {
    "kernel": "python3"
   },
   "outputs": [],
   "source": [
    "db39_sample = inxl39.parse('Sample_Summary', converters={'CallRate':p2f})\n",
    "#db39_sample.loc[50:100,]"
   ]
  },
  {
   "cell_type": "code",
   "execution_count": 125,
   "metadata": {
    "kernel": "python3"
   },
   "outputs": [
    {
     "data": {
      "text/plain": [
       "{('HRTN18256', 'A01'), ('HRTN18257B', 'G12'), ('HRTN18261', 'D01')}"
      ]
     },
     "execution_count": 125,
     "metadata": {},
     "output_type": "execute_result"
    }
   ],
   "source": [
    "failed39_sampleDF = db39_sample[db39_sample['CallRate'] < 0.80]\n",
    "failed39_sample = set(zip(failed39_sampleDF[\"SAMPLE_NAME\"], failed39_sampleDF[\"WELL\"]))\n",
    "failed39_sample"
   ]
  },
  {
   "cell_type": "code",
   "execution_count": 126,
   "metadata": {
    "kernel": "python3"
   },
   "outputs": [
    {
     "data": {
      "text/plain": [
       "{('HRTN18256', 'A01'), ('HRTN18261', 'D01')}"
      ]
     },
     "execution_count": 126,
     "metadata": {},
     "output_type": "execute_result"
    }
   ],
   "source": [
    "#Intersection\n",
    "failed39_sample.intersection(failed52_sample)"
   ]
  },
  {
   "cell_type": "code",
   "execution_count": 127,
   "metadata": {
    "kernel": "python3"
   },
   "outputs": [
    {
     "data": {
      "text/plain": [
       "{('HRTN18256', 'A01'),\n",
       " ('HRTN18257', 'B01'),\n",
       " ('HRTN18257B', 'G12'),\n",
       " ('HRTN18259', 'C01'),\n",
       " ('HRTN18261', 'D01')}"
      ]
     },
     "execution_count": 127,
     "metadata": {},
     "output_type": "execute_result"
    }
   ],
   "source": [
    "%expand\n",
    "# Union\n",
    "union_bad_samp = failed39_sample.union(failed52_sample)\n",
    "union_bad_samp"
   ]
  },
  {
   "cell_type": "code",
   "execution_count": 128,
   "metadata": {
    "kernel": "python3"
   },
   "outputs": [],
   "source": [
    "%expand\n",
    "idx = pd.MultiIndex.from_frame(db52_sample[['SAMPLE_NAME', 'WELL']])\n",
    "pass_52 = db52_sample.loc[~idx.isin(union_bad_samp)]\n",
    "goodS = set(zip(pass_52[\"SAMPLE_NAME\"], pass_52[\"WELL\"]))\n",
    "badSampleDict[\"{suf}\"] = union_bad_samp\n",
    "goodSampleDict[\"{suf}\"] = goodS"
   ]
  },
  {
   "cell_type": "markdown",
   "metadata": {
    "kernel": "python3"
   },
   "source": [
    "### 052920, just to get good samps"
   ]
  },
  {
   "cell_type": "code",
   "execution_count": 129,
   "metadata": {
    "kernel": "SoS"
   },
   "outputs": [],
   "source": [
    "suf = \"052920\""
   ]
  },
  {
   "cell_type": "markdown",
   "metadata": {
    "kernel": "python3"
   },
   "source": [
    "#### Read in autoclustered genotype reports"
   ]
  },
  {
   "cell_type": "code",
   "execution_count": 130,
   "metadata": {
    "kernel": "python3"
   },
   "outputs": [],
   "source": [
    "%expand\n",
    "infile1 = \"{suf}/GenotypeArea_Katherine_DB_CHIP770_CHIP770_DB52_{suf}_1_ACme.xls\"\n",
    "infile2 = \"{suf}/GenotypeArea_Katherine_DB_CHIP771_DB39_{suf}_CHIP771_DB39_{suf}_1_ACme.xls\""
   ]
  },
  {
   "cell_type": "code",
   "execution_count": 131,
   "metadata": {
    "kernel": "python3"
   },
   "outputs": [],
   "source": [
    "# read in Genotypes sheet from excel file \n",
    "inxl52 = pd.ExcelFile(infile1)\n",
    "inxl39 = pd.ExcelFile(infile2)"
   ]
  },
  {
   "cell_type": "code",
   "execution_count": 132,
   "metadata": {
    "kernel": "python3"
   },
   "outputs": [],
   "source": [
    "db52_sample = inxl52.parse('Sample_Summary', converters={'CallRate':p2f})"
   ]
  },
  {
   "cell_type": "code",
   "execution_count": 133,
   "metadata": {
    "kernel": "python3"
   },
   "outputs": [
    {
     "data": {
      "text/plain": [
       "{('SL32', 'F04')}"
      ]
     },
     "execution_count": 133,
     "metadata": {},
     "output_type": "execute_result"
    }
   ],
   "source": [
    "failed52_sampleDF = db52_sample[db52_sample['CallRate'] < 0.74]\n",
    "failed52_sample = set(zip(failed52_sampleDF[\"SAMPLE_NAME\"],failed52_sampleDF[\"WELL\"]))\n",
    "failed52_sample"
   ]
  },
  {
   "cell_type": "code",
   "execution_count": 134,
   "metadata": {
    "kernel": "python3"
   },
   "outputs": [],
   "source": [
    "db39_sample = inxl39.parse('Sample_Summary', converters={'CallRate':p2f})\n",
    "#db39_sample.loc[50:100,]"
   ]
  },
  {
   "cell_type": "code",
   "execution_count": 135,
   "metadata": {
    "kernel": "python3"
   },
   "outputs": [
    {
     "data": {
      "text/plain": [
       "{('CAN11619rq', 'G02'), ('SL32', 'F04'), ('WP32B', 'A02')}"
      ]
     },
     "execution_count": 135,
     "metadata": {},
     "output_type": "execute_result"
    }
   ],
   "source": [
    "failed39_sampleDF = db39_sample[db39_sample['CallRate'] < 0.80]\n",
    "failed39_sample = set(zip(failed39_sampleDF[\"SAMPLE_NAME\"], failed39_sampleDF[\"WELL\"]))\n",
    "failed39_sample"
   ]
  },
  {
   "cell_type": "code",
   "execution_count": 136,
   "metadata": {
    "kernel": "python3"
   },
   "outputs": [
    {
     "data": {
      "text/plain": [
       "{('SL32', 'F04')}"
      ]
     },
     "execution_count": 136,
     "metadata": {},
     "output_type": "execute_result"
    }
   ],
   "source": [
    "#Intersection\n",
    "failed39_sample.intersection(failed52_sample)"
   ]
  },
  {
   "cell_type": "code",
   "execution_count": 137,
   "metadata": {
    "kernel": "python3"
   },
   "outputs": [
    {
     "data": {
      "text/plain": [
       "{('CAN11619rq', 'G02'), ('SL32', 'F04'), ('WP32B', 'A02')}"
      ]
     },
     "execution_count": 137,
     "metadata": {},
     "output_type": "execute_result"
    }
   ],
   "source": [
    "%expand\n",
    "# Union\n",
    "union_bad_samp = failed39_sample.union(failed52_sample)\n",
    "union_bad_samp"
   ]
  },
  {
   "cell_type": "code",
   "execution_count": 138,
   "metadata": {
    "kernel": "python3"
   },
   "outputs": [],
   "source": [
    "%expand\n",
    "idx = pd.MultiIndex.from_frame(db52_sample[['SAMPLE_NAME', 'WELL']])\n",
    "pass_52 = db52_sample.loc[~idx.isin(union_bad_samp)]\n",
    "goodS = set(zip(pass_52[\"SAMPLE_NAME\"], pass_52[\"WELL\"]))\n",
    "badSampleDict[\"{suf}\"] = union_bad_samp\n",
    "goodSampleDict[\"{suf}\"] = goodS"
   ]
  },
  {
   "cell_type": "markdown",
   "metadata": {
    "kernel": "python3"
   },
   "source": [
    "### 082420, just to get good samps"
   ]
  },
  {
   "cell_type": "code",
   "execution_count": 139,
   "metadata": {
    "kernel": "SoS"
   },
   "outputs": [],
   "source": [
    "suf = \"082520\""
   ]
  },
  {
   "cell_type": "markdown",
   "metadata": {
    "kernel": "python3"
   },
   "source": [
    "#### Read in autoclustered genotype reports"
   ]
  },
  {
   "cell_type": "code",
   "execution_count": 140,
   "metadata": {
    "kernel": "python3"
   },
   "outputs": [],
   "source": [
    "%expand\n",
    "infile1 = \"{suf}/comb_GenotypeArea_Katherine_DB_CHIP796_CHIP818_DB52_{suf}_CHIP796_DB52_{suf}_2_AC.xls\"\n",
    "infile2 = \"{suf}/GenotypeArea_Katherine_DB_CHIP797_DB39_{suf}_CHIP797_DB39_{suf}_2_AC.xls\""
   ]
  },
  {
   "cell_type": "code",
   "execution_count": 141,
   "metadata": {
    "kernel": "python3"
   },
   "outputs": [],
   "source": [
    "# read in Genotypes sheet from excel file \n",
    "inxl52 = pd.ExcelFile(infile1)\n",
    "inxl39 = pd.ExcelFile(infile2)"
   ]
  },
  {
   "cell_type": "code",
   "execution_count": 142,
   "metadata": {
    "kernel": "python3"
   },
   "outputs": [],
   "source": [
    "db52_sample = inxl52.parse('Sample_Summary', converters={'CallRate':p2f})"
   ]
  },
  {
   "cell_type": "code",
   "execution_count": 143,
   "metadata": {
    "kernel": "python3"
   },
   "outputs": [
    {
     "data": {
      "text/plain": [
       "set()"
      ]
     },
     "execution_count": 143,
     "metadata": {},
     "output_type": "execute_result"
    }
   ],
   "source": [
    "failed52_sampleDF = db52_sample[db52_sample['CallRate'] < 0.74]\n",
    "failed52_sample = set(zip(failed52_sampleDF[\"SAMPLE_NAME\"],failed52_sampleDF[\"WELL\"]))\n",
    "failed52_sample"
   ]
  },
  {
   "cell_type": "code",
   "execution_count": 144,
   "metadata": {
    "kernel": "python3"
   },
   "outputs": [],
   "source": [
    "db39_sample = inxl39.parse('Sample_Summary', converters={'CallRate':p2f})\n",
    "#db39_sample.loc[50:100,]"
   ]
  },
  {
   "cell_type": "code",
   "execution_count": 145,
   "metadata": {
    "kernel": "python3"
   },
   "outputs": [
    {
     "data": {
      "text/plain": [
       "{('BR18164', 'G05'), ('LOM17128', 'G09'), ('OC1761', 'D12'), ('RM11r', 'H08')}"
      ]
     },
     "execution_count": 145,
     "metadata": {},
     "output_type": "execute_result"
    }
   ],
   "source": [
    "failed39_sampleDF = db39_sample[db39_sample['CallRate'] < 0.80]\n",
    "failed39_sample = set(zip(failed39_sampleDF[\"SAMPLE_NAME\"], failed39_sampleDF[\"WELL\"]))\n",
    "failed39_sample"
   ]
  },
  {
   "cell_type": "code",
   "execution_count": 146,
   "metadata": {
    "kernel": "python3"
   },
   "outputs": [
    {
     "data": {
      "text/plain": [
       "set()"
      ]
     },
     "execution_count": 146,
     "metadata": {},
     "output_type": "execute_result"
    }
   ],
   "source": [
    "#Intersection\n",
    "failed39_sample.intersection(failed52_sample)"
   ]
  },
  {
   "cell_type": "code",
   "execution_count": 147,
   "metadata": {
    "kernel": "python3"
   },
   "outputs": [
    {
     "data": {
      "text/plain": [
       "{('BR18164', 'G05'), ('LOM17128', 'G09'), ('OC1761', 'D12'), ('RM11r', 'H08')}"
      ]
     },
     "execution_count": 147,
     "metadata": {},
     "output_type": "execute_result"
    }
   ],
   "source": [
    "%expand\n",
    "# Union\n",
    "union_bad_samp = failed39_sample.union(failed52_sample)\n",
    "union_bad_samp"
   ]
  },
  {
   "cell_type": "code",
   "execution_count": 148,
   "metadata": {
    "kernel": "python3"
   },
   "outputs": [],
   "source": [
    "%expand\n",
    "idx = pd.MultiIndex.from_frame(db52_sample[['SAMPLE_NAME', 'WELL']])\n",
    "pass_52 = db52_sample.loc[~idx.isin(union_bad_samp)]\n",
    "goodS = set(zip(pass_52[\"SAMPLE_NAME\"], pass_52[\"WELL\"]))\n",
    "badSampleDict[\"{suf}\"] = union_bad_samp\n",
    "goodSampleDict[\"{suf}\"] = goodS"
   ]
  },
  {
   "cell_type": "code",
   "execution_count": null,
   "metadata": {
    "kernel": "python3"
   },
   "outputs": [],
   "source": []
  },
  {
   "cell_type": "markdown",
   "metadata": {
    "kernel": "python3"
   },
   "source": [
    "### 100520, just to get good samps"
   ]
  },
  {
   "cell_type": "code",
   "execution_count": 221,
   "metadata": {
    "kernel": "SoS"
   },
   "outputs": [],
   "source": [
    "suf = \"100520\""
   ]
  },
  {
   "cell_type": "markdown",
   "metadata": {
    "kernel": "python3"
   },
   "source": [
    "#### Read in autoclustered genotype reports"
   ]
  },
  {
   "cell_type": "code",
   "execution_count": 222,
   "metadata": {
    "kernel": "python3"
   },
   "outputs": [],
   "source": [
    "%expand\n",
    "infile1 = \"{suf}/comb_GenotypeArea_Katherine_DB_CHIP819_CHIP814_DB52_101220_814redo_CHIP819_DB52_101220_814redo_1_AC.xls\"\n",
    "infile2 = \"{suf}/comb_GenotypeArea_Katherine_DB_CHIP820_CHIP815_DB39_101220_CHIP820_DB39_101220_815redo_1_ACme.xls\""
   ]
  },
  {
   "cell_type": "code",
   "execution_count": 223,
   "metadata": {
    "kernel": "python3"
   },
   "outputs": [],
   "source": [
    "# read in Genotypes sheet from excel file \n",
    "inxl52 = pd.ExcelFile(infile1)\n",
    "inxl39 = pd.ExcelFile(infile2)"
   ]
  },
  {
   "cell_type": "code",
   "execution_count": 224,
   "metadata": {
    "kernel": "python3"
   },
   "outputs": [],
   "source": [
    "db52_sample = inxl52.parse('Sample_Summary', converters={'CallRate':p2f})"
   ]
  },
  {
   "cell_type": "code",
   "execution_count": 225,
   "metadata": {
    "kernel": "python3"
   },
   "outputs": [
    {
     "data": {
      "text/plain": [
       "{('LA2058s', 'A03'),\n",
       " ('VA19667', 'H11'),\n",
       " ('VA19773', 'E11'),\n",
       " ('VA19789', 'C11'),\n",
       " ('VA19805', 'F11'),\n",
       " ('VA19815', 'G11')}"
      ]
     },
     "execution_count": 225,
     "metadata": {},
     "output_type": "execute_result"
    }
   ],
   "source": [
    "failed52_sampleDF = db52_sample[db52_sample['CallRate'] < 0.74]\n",
    "failed52_sample = set(zip(failed52_sampleDF[\"SAMPLE_NAME\"],failed52_sampleDF[\"WELL\"]))\n",
    "failed52_sample"
   ]
  },
  {
   "cell_type": "code",
   "execution_count": 226,
   "metadata": {
    "kernel": "python3"
   },
   "outputs": [],
   "source": [
    "db39_sample = inxl39.parse('Sample_Summary', converters={'CallRate':p2f})\n",
    "#db39_sample.loc[50:100,]"
   ]
  },
  {
   "cell_type": "code",
   "execution_count": 227,
   "metadata": {
    "kernel": "python3"
   },
   "outputs": [
    {
     "data": {
      "text/plain": [
       "{('LA2058s', 'A03'),\n",
       " ('VA19773', 'E11'),\n",
       " ('VA19789', 'C11'),\n",
       " ('VA19815', 'G11')}"
      ]
     },
     "execution_count": 227,
     "metadata": {},
     "output_type": "execute_result"
    }
   ],
   "source": [
    "failed39_sampleDF = db39_sample[db39_sample['CallRate'] < 0.80]\n",
    "failed39_sample = set(zip(failed39_sampleDF[\"SAMPLE_NAME\"], failed39_sampleDF[\"WELL\"]))\n",
    "failed39_sample"
   ]
  },
  {
   "cell_type": "code",
   "execution_count": 228,
   "metadata": {
    "kernel": "python3"
   },
   "outputs": [
    {
     "data": {
      "text/plain": [
       "{('LA2058s', 'A03'),\n",
       " ('VA19773', 'E11'),\n",
       " ('VA19789', 'C11'),\n",
       " ('VA19815', 'G11')}"
      ]
     },
     "execution_count": 228,
     "metadata": {},
     "output_type": "execute_result"
    }
   ],
   "source": [
    "#Intersection\n",
    "failed39_sample.intersection(failed52_sample)"
   ]
  },
  {
   "cell_type": "code",
   "execution_count": 229,
   "metadata": {
    "kernel": "python3"
   },
   "outputs": [
    {
     "data": {
      "text/plain": [
       "{('LA2058s', 'A03'),\n",
       " ('VA19667', 'H11'),\n",
       " ('VA19773', 'E11'),\n",
       " ('VA19789', 'C11'),\n",
       " ('VA19805', 'F11'),\n",
       " ('VA19815', 'G11')}"
      ]
     },
     "execution_count": 229,
     "metadata": {},
     "output_type": "execute_result"
    }
   ],
   "source": [
    "%expand\n",
    "# Union\n",
    "union_bad_samp = failed39_sample.union(failed52_sample)\n",
    "union_bad_samp"
   ]
  },
  {
   "cell_type": "code",
   "execution_count": 230,
   "metadata": {
    "kernel": "python3"
   },
   "outputs": [],
   "source": [
    "%expand\n",
    "idx = pd.MultiIndex.from_frame(db52_sample[['SAMPLE_NAME', 'WELL']])\n",
    "pass_52 = db52_sample.loc[~idx.isin(union_bad_samp)]\n",
    "goodS = set(zip(pass_52[\"SAMPLE_NAME\"], pass_52[\"WELL\"]))\n",
    "badSampleDict[\"{suf}\"] = union_bad_samp\n",
    "goodSampleDict[\"{suf}\"] = goodS"
   ]
  },
  {
   "cell_type": "markdown",
   "metadata": {
    "kernel": "python3"
   },
   "source": [
    "### 120720, just to get good samps"
   ]
  },
  {
   "cell_type": "code",
   "execution_count": 166,
   "metadata": {
    "kernel": "SoS"
   },
   "outputs": [],
   "source": [
    "suf = \"120720\""
   ]
  },
  {
   "cell_type": "markdown",
   "metadata": {
    "kernel": "python3"
   },
   "source": [
    "#### Read in autoclustered genotype reports"
   ]
  },
  {
   "cell_type": "code",
   "execution_count": 167,
   "metadata": {
    "kernel": "python3"
   },
   "outputs": [],
   "source": [
    "%expand\n",
    "infile1 = \"{suf}/GenotypeArea_Katherine_DB_CHIP834_DB52_{suf}20_CHIP834_DB52_{suf}20_1_ACme.xls\"\n",
    "infile2 = \"{suf}/GenotypeArea_Katherine_DB_CHIP835_DB39_{suf}20_CHIP835_D392_{suf}20_1_ACme.xls\""
   ]
  },
  {
   "cell_type": "code",
   "execution_count": 168,
   "metadata": {
    "kernel": "python3"
   },
   "outputs": [],
   "source": [
    "# read in Genotypes sheet from excel file \n",
    "inxl52 = pd.ExcelFile(infile1)\n",
    "inxl39 = pd.ExcelFile(infile2)"
   ]
  },
  {
   "cell_type": "code",
   "execution_count": 169,
   "metadata": {
    "kernel": "python3"
   },
   "outputs": [],
   "source": [
    "db52_sample = inxl52.parse('Sample_Summary', converters={'CallRate':p2f})"
   ]
  },
  {
   "cell_type": "code",
   "execution_count": 170,
   "metadata": {
    "kernel": "python3"
   },
   "outputs": [
    {
     "data": {
      "text/plain": [
       "{('LDWF20_119', 'A03'),\n",
       " ('LDWF20_122', 'A06'),\n",
       " ('LDWF20_127', 'A11'),\n",
       " ('LDWF20_151', 'C11'),\n",
       " ('LDWF20_87', 'E08'),\n",
       " ('MDNR20_11', 'A12'),\n",
       " ('MDNR20_19', 'C03'),\n",
       " ('VADGIF19_578', 'A08'),\n",
       " ('VADGIF19_667', 'C01'),\n",
       " ('VADGIF19_805', 'E12')}"
      ]
     },
     "execution_count": 170,
     "metadata": {},
     "output_type": "execute_result"
    }
   ],
   "source": [
    "failed52_sampleDF = db52_sample[db52_sample['CallRate'] < 0.74]\n",
    "failed52_sample = set(zip(failed52_sampleDF[\"SAMPLE_NAME\"],failed52_sampleDF[\"WELL\"]))\n",
    "failed52_sample"
   ]
  },
  {
   "cell_type": "code",
   "execution_count": 171,
   "metadata": {
    "kernel": "python3"
   },
   "outputs": [],
   "source": [
    "db39_sample = inxl39.parse('Sample_Summary', converters={'CallRate':p2f})\n",
    "#db39_sample.loc[50:100,]"
   ]
  },
  {
   "cell_type": "code",
   "execution_count": 172,
   "metadata": {
    "kernel": "python3"
   },
   "outputs": [
    {
     "data": {
      "text/plain": [
       "{('LDWF20_146', 'C06'), ('LDWF20_149', 'C09')}"
      ]
     },
     "execution_count": 172,
     "metadata": {},
     "output_type": "execute_result"
    }
   ],
   "source": [
    "failed39_sampleDF = db39_sample[db39_sample['CallRate'] < 0.80]\n",
    "failed39_sample = set(zip(failed39_sampleDF[\"SAMPLE_NAME\"], failed39_sampleDF[\"WELL\"]))\n",
    "failed39_sample"
   ]
  },
  {
   "cell_type": "code",
   "execution_count": 173,
   "metadata": {
    "kernel": "python3"
   },
   "outputs": [
    {
     "data": {
      "text/plain": [
       "set()"
      ]
     },
     "execution_count": 173,
     "metadata": {},
     "output_type": "execute_result"
    }
   ],
   "source": [
    "#Intersection\n",
    "failed39_sample.intersection(failed52_sample)"
   ]
  },
  {
   "cell_type": "code",
   "execution_count": 174,
   "metadata": {
    "kernel": "python3"
   },
   "outputs": [
    {
     "data": {
      "text/plain": [
       "{('LDWF20_119', 'A03'),\n",
       " ('LDWF20_122', 'A06'),\n",
       " ('LDWF20_127', 'A11'),\n",
       " ('LDWF20_146', 'C06'),\n",
       " ('LDWF20_149', 'C09'),\n",
       " ('LDWF20_151', 'C11'),\n",
       " ('LDWF20_87', 'E08'),\n",
       " ('MDNR20_11', 'A12'),\n",
       " ('MDNR20_19', 'C03'),\n",
       " ('VADGIF19_578', 'A08'),\n",
       " ('VADGIF19_667', 'C01'),\n",
       " ('VADGIF19_805', 'E12')}"
      ]
     },
     "execution_count": 174,
     "metadata": {},
     "output_type": "execute_result"
    }
   ],
   "source": [
    "%expand\n",
    "# Union\n",
    "union_bad_samp = failed39_sample.union(failed52_sample)\n",
    "union_bad_samp"
   ]
  },
  {
   "cell_type": "code",
   "execution_count": 175,
   "metadata": {
    "kernel": "python3"
   },
   "outputs": [],
   "source": [
    "%expand\n",
    "idx = pd.MultiIndex.from_frame(db52_sample[['SAMPLE_NAME', 'WELL']])\n",
    "pass_52 = db52_sample.loc[~idx.isin(union_bad_samp)]\n",
    "goodS = set(zip(pass_52[\"SAMPLE_NAME\"], pass_52[\"WELL\"]))\n",
    "badSampleDict[\"{suf}\"] = union_bad_samp\n",
    "goodSampleDict[\"{suf}\"] = goodS"
   ]
  },
  {
   "cell_type": "markdown",
   "metadata": {
    "kernel": "python3"
   },
   "source": [
    "## write to file"
   ]
  },
  {
   "cell_type": "code",
   "execution_count": 231,
   "metadata": {
    "kernel": "python3"
   },
   "outputs": [],
   "source": [
    "import csv\n",
    "with open('badSampsDict0219_1207.csv', 'w') as f:\n",
    "    for key in badSampleDict.keys():\n",
    "        b = [i for sub in badSampleDict[key] for i in sub]\n",
    "        f.write(key+','+','.join(b)+'\\n')\n"
   ]
  },
  {
   "cell_type": "code",
   "execution_count": 232,
   "metadata": {
    "kernel": "python3"
   },
   "outputs": [],
   "source": [
    "import csv\n",
    "with open('goodSampsDict0219_1207.csv', 'w') as f:\n",
    "    for key in goodSampleDict.keys():\n",
    "        b = [i for sub in goodSampleDict[key] for i in sub]\n",
    "        f.write(key+','+','.join(b)+'\\n')\n"
   ]
  },
  {
   "cell_type": "code",
   "execution_count": 191,
   "metadata": {
    "kernel": "python3"
   },
   "outputs": [],
   "source": [
    "def medals(string):\n",
    "    '''takes a file, and gathers up the country codes and their medal counts\n",
    "    storing them into a dictionary'''\n",
    "\n",
    "    #creates an empty dictionary\n",
    "    medalDict = {}\n",
    "    #creates an empty tuple\n",
    "    medalCount = ()\n",
    "    #These following two lines remove the column headings\n",
    "    with open(string) as fin:\n",
    "        \n",
    "        for eachline in fin:\n",
    "            date, m = eachline.strip().split(',',1)\n",
    "            data = m.split(',')\n",
    "            data = set(zip(data[::2],data[1::2])) \n",
    "            medalDict[date] = data\n",
    "\n",
    "    return medalDict"
   ]
  },
  {
   "cell_type": "code",
   "execution_count": 192,
   "metadata": {
    "kernel": "python3"
   },
   "outputs": [],
   "source": [
    "x = medals(\"badSampsDict0219_1207.csv\")"
   ]
  },
  {
   "cell_type": "code",
   "execution_count": 193,
   "metadata": {
    "kernel": "python3"
   },
   "outputs": [
    {
     "data": {
      "text/plain": [
       "{'021920': {('CANOT11837', 'H06'),\n",
       "  ('LA1136', 'C12'),\n",
       "  ('LAMAR2', 'A10'),\n",
       "  ('LAMAR2', 'H09'),\n",
       "  ('Otter19', 'A02'),\n",
       "  ('SL04', 'A07')},\n",
       " '032720': {('GU46', 'E06'),\n",
       "  ('GU55', 'E07'),\n",
       "  ('GU56', 'E09'),\n",
       "  ('GU61', 'F01'),\n",
       "  ('LA10_006', 'F11'),\n",
       "  ('LA10_15', 'F12'),\n",
       "  ('LA11_30', 'F09'),\n",
       "  ('LA11_32', 'F10'),\n",
       "  ('LA11_33', 'F07'),\n",
       "  ('LA11_34', 'F08'),\n",
       "  ('LAMAR2_B', 'D11'),\n",
       "  ('Otter19', 'H06'),\n",
       "  ('RM09', 'H08'),\n",
       "  ('TWRA20_020', 'G12'),\n",
       "  ('VADGIF19_795', 'B10'),\n",
       "  ('VADGIF19_811', 'B12'),\n",
       "  ('VADGIF19_812', 'C01'),\n",
       "  ('VADGIF19_812', 'C11')},\n",
       " '041720': set(),\n",
       " '042420': {('HA5', 'F07'),\n",
       "  ('MF3', 'H07'),\n",
       "  ('NC20297', 'F04'),\n",
       "  ('NC20301', 'B05'),\n",
       "  ('NC20317', 'A10'),\n",
       "  ('NC20377', 'H11'),\n",
       "  ('NC20385', 'A11'),\n",
       "  ('SL14B', 'E12')},\n",
       " '043020': {('LA1139B', 'E05'), ('LSRC15', 'G08')},\n",
       " '050720': {('SR5', 'A01'), ('WP32', 'A07')},\n",
       " '051420': {('HRTN18256', 'A01'),\n",
       "  ('HRTN18257', 'B01'),\n",
       "  ('HRTN18257B', 'G12'),\n",
       "  ('HRTN18259', 'C01'),\n",
       "  ('HRTN18261', 'D01')},\n",
       " '052920': {('CAN11619rq', 'G02'), ('SL32', 'F04'), ('WP32B', 'A02')},\n",
       " '082520': {('BR18164', 'G05'),\n",
       "  ('LOM17128', 'G09'),\n",
       "  ('OC1761', 'D12'),\n",
       "  ('RM11r', 'H08')},\n",
       " '100520': {('LA2058s', 'A03'),\n",
       "  ('VA19667', 'H11'),\n",
       "  ('VA19773', 'E11'),\n",
       "  ('VA19789', 'C11'),\n",
       "  ('VA19805', 'F11'),\n",
       "  ('VA19815', 'G11')},\n",
       " '120720': {('LDWF20_119', 'A03'),\n",
       "  ('LDWF20_122', 'A06'),\n",
       "  ('LDWF20_127', 'A11'),\n",
       "  ('LDWF20_146', 'C06'),\n",
       "  ('LDWF20_149', 'C09'),\n",
       "  ('LDWF20_151', 'C11'),\n",
       "  ('LDWF20_87', 'E08'),\n",
       "  ('MDNR20_11', 'A12'),\n",
       "  ('MDNR20_19', 'C03'),\n",
       "  ('VADGIF19_578', 'A08'),\n",
       "  ('VADGIF19_667', 'C01'),\n",
       "  ('VADGIF19_805', 'E12')}}"
      ]
     },
     "execution_count": 193,
     "metadata": {},
     "output_type": "execute_result"
    }
   ],
   "source": [
    "x"
   ]
  },
  {
   "cell_type": "code",
   "execution_count": 194,
   "metadata": {
    "kernel": "python3"
   },
   "outputs": [
    {
     "data": {
      "text/plain": [
       "{'021920': {('CANOT11837', 'H06'),\n",
       "  ('LA1136', 'C12'),\n",
       "  ('LAMAR2', 'A10'),\n",
       "  ('LAMAR2', 'H09'),\n",
       "  ('Otter19', 'A02'),\n",
       "  ('SL04', 'A07')},\n",
       " '032720': {('GU46', 'E06'),\n",
       "  ('GU55', 'E07'),\n",
       "  ('GU56', 'E09'),\n",
       "  ('GU61', 'F01'),\n",
       "  ('LA10_006', 'F11'),\n",
       "  ('LA10_15', 'F12'),\n",
       "  ('LA11_30', 'F09'),\n",
       "  ('LA11_32', 'F10'),\n",
       "  ('LA11_33', 'F07'),\n",
       "  ('LA11_34', 'F08'),\n",
       "  ('LAMAR2_B', 'D11'),\n",
       "  ('Otter19', 'H06'),\n",
       "  ('RM09', 'H08'),\n",
       "  ('TWRA20_020', 'G12'),\n",
       "  ('VADGIF19_795', 'B10'),\n",
       "  ('VADGIF19_811', 'B12'),\n",
       "  ('VADGIF19_812', 'C01'),\n",
       "  ('VADGIF19_812', 'C11')},\n",
       " '041720': set(),\n",
       " '042420': {('HA5', 'F07'),\n",
       "  ('MF3', 'H07'),\n",
       "  ('NC20297', 'F04'),\n",
       "  ('NC20301', 'B05'),\n",
       "  ('NC20317', 'A10'),\n",
       "  ('NC20377', 'H11'),\n",
       "  ('NC20385', 'A11'),\n",
       "  ('SL14B', 'E12')},\n",
       " '043020': {('LA1139B', 'E05'), ('LSRC15', 'G08')},\n",
       " '050720': {('SR5', 'A01'), ('WP32', 'A07')},\n",
       " '051420': {('HRTN18256', 'A01'),\n",
       "  ('HRTN18257', 'B01'),\n",
       "  ('HRTN18257B', 'G12'),\n",
       "  ('HRTN18259', 'C01'),\n",
       "  ('HRTN18261', 'D01')},\n",
       " '052920': {('CAN11619rq', 'G02'), ('SL32', 'F04'), ('WP32B', 'A02')},\n",
       " '082520': {('BR18164', 'G05'),\n",
       "  ('LOM17128', 'G09'),\n",
       "  ('OC1761', 'D12'),\n",
       "  ('RM11r', 'H08')},\n",
       " '100520': {('LA2058s', 'A03'),\n",
       "  ('VA19667', 'H11'),\n",
       "  ('VA19773', 'E11'),\n",
       "  ('VA19789', 'C11'),\n",
       "  ('VA19805', 'F11'),\n",
       "  ('VA19815', 'G11')},\n",
       " '120720': {('LDWF20_119', 'A03'),\n",
       "  ('LDWF20_122', 'A06'),\n",
       "  ('LDWF20_127', 'A11'),\n",
       "  ('LDWF20_146', 'C06'),\n",
       "  ('LDWF20_149', 'C09'),\n",
       "  ('LDWF20_151', 'C11'),\n",
       "  ('LDWF20_87', 'E08'),\n",
       "  ('MDNR20_11', 'A12'),\n",
       "  ('MDNR20_19', 'C03'),\n",
       "  ('VADGIF19_578', 'A08'),\n",
       "  ('VADGIF19_667', 'C01'),\n",
       "  ('VADGIF19_805', 'E12')}}"
      ]
     },
     "execution_count": 194,
     "metadata": {},
     "output_type": "execute_result"
    }
   ],
   "source": [
    "badSampleDict"
   ]
  },
  {
   "cell_type": "code",
   "execution_count": 46,
   "metadata": {
    "kernel": "python3"
   },
   "outputs": [],
   "source": [
    "# add to existing goodSamps file\n",
    "with open(\"goodSamps_0219_0825\", \"a\") as myfile:\n",
    "    myfile.writelines(\"%s\\n\" % s for s in sorted(goodSamps))\n"
   ]
  },
  {
   "cell_type": "code",
   "execution_count": 180,
   "metadata": {
    "kernel": "python3"
   },
   "outputs": [],
   "source": [
    "b = [i for sub in badSampleDict['120720'] for i in sub]"
   ]
  },
  {
   "cell_type": "code",
   "execution_count": 181,
   "metadata": {
    "kernel": "python3"
   },
   "outputs": [
    {
     "data": {
      "text/plain": [
       "['LDWF20_146',\n",
       " 'C06',\n",
       " 'LDWF20_127',\n",
       " 'A11',\n",
       " 'MDNR20_19',\n",
       " 'C03',\n",
       " 'LDWF20_119',\n",
       " 'A03',\n",
       " 'VADGIF19_578',\n",
       " 'A08',\n",
       " 'VADGIF19_667',\n",
       " 'C01',\n",
       " 'VADGIF19_805',\n",
       " 'E12',\n",
       " 'LDWF20_87',\n",
       " 'E08',\n",
       " 'LDWF20_122',\n",
       " 'A06',\n",
       " 'LDWF20_149',\n",
       " 'C09',\n",
       " 'MDNR20_11',\n",
       " 'A12',\n",
       " 'LDWF20_151',\n",
       " 'C11']"
      ]
     },
     "execution_count": 181,
     "metadata": {},
     "output_type": "execute_result"
    }
   ],
   "source": [
    "b"
   ]
  },
  {
   "cell_type": "code",
   "execution_count": null,
   "metadata": {
    "kernel": "python3"
   },
   "outputs": [],
   "source": []
  }
 ],
 "metadata": {
  "kernelspec": {
   "display_name": "SoS",
   "language": "sos",
   "name": "sos"
  },
  "language_info": {
   "codemirror_mode": "sos",
   "file_extension": ".sos",
   "mimetype": "text/x-sos",
   "name": "sos",
   "nbconvert_exporter": "sos_notebook.converter.SoS_Exporter",
   "pygments_lexer": "sos"
  },
  "sos": {
   "kernels": [
    [
     "SoS",
     "sos",
     "",
     ""
    ],
    [
     "python3",
     "python3",
     "python",
     ""
    ]
   ],
   "version": "0.19.6"
  }
 },
 "nbformat": 4,
 "nbformat_minor": 2
}
