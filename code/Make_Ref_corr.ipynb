{
 "cells": [
  {
   "cell_type": "markdown",
   "metadata": {
    "kernel": "SoS"
   },
   "source": [
    "# Make reference .geno  \n",
    "Make with all SNPs, and with just V4 filtering"
   ]
  },
  {
   "cell_type": "code",
   "execution_count": 1,
   "metadata": {
    "kernel": "python3"
   },
   "outputs": [],
   "source": [
    "import pandas as pd\n",
    "import numpy as np"
   ]
  },
  {
   "cell_type": "code",
   "execution_count": 2,
   "metadata": {
    "kernel": "python3"
   },
   "outputs": [],
   "source": [
    "infile1 = \"refs_MA_52_0120.xlsx\"\n",
    "infile2 = \"refs_MA_39_0120.xlsx\""
   ]
  },
  {
   "cell_type": "code",
   "execution_count": 3,
   "metadata": {
    "kernel": "python3"
   },
   "outputs": [],
   "source": [
    "# read in Genotypes sheet from excel file \n",
    "inxl52 = pd.ExcelFile(infile1)\n",
    "inxl39 = pd.ExcelFile(infile2)"
   ]
  },
  {
   "cell_type": "code",
   "execution_count": 4,
   "metadata": {
    "kernel": "python3"
   },
   "outputs": [],
   "source": [
    "db52_geno = inxl52.parse('Genotypes')\n",
    "db52_geno['Date'] = db52_geno['Date'].apply(str)"
   ]
  },
  {
   "cell_type": "code",
   "execution_count": 5,
   "metadata": {
    "kernel": "python3"
   },
   "outputs": [],
   "source": [
    "db39_geno = inxl39.parse('Genotypes')\n",
    "db39_geno['Date'] = db39_geno['Date'].apply(str)"
   ]
  },
  {
   "cell_type": "code",
   "execution_count": 6,
   "metadata": {
    "kernel": "python3"
   },
   "outputs": [
    {
     "data": {
      "text/plain": [
       "(73, 94)"
      ]
     },
     "execution_count": 6,
     "metadata": {},
     "output_type": "execute_result"
    }
   ],
   "source": [
    "db52_39_geno = db52_geno.merge(db39_geno,on=[\"Date\",\"SAMPLE_NAME\",\"WELL\"])\n",
    "db52_39_geno.set_index('SAMPLE_NAME', drop = False, inplace=True)\n",
    "db52_39_geno.shape"
   ]
  },
  {
   "cell_type": "markdown",
   "metadata": {
    "kernel": "python3"
   },
   "source": [
    "## V4"
   ]
  },
  {
   "cell_type": "code",
   "execution_count": 7,
   "metadata": {
    "kernel": "python3"
   },
   "outputs": [
    {
     "data": {
      "text/plain": [
       "['X126230_13777',\n",
       " 'X141791_7873',\n",
       " 'X190236_2746',\n",
       " 'X194561_9140',\n",
       " 'X194968_5912',\n",
       " 'X2156_1716',\n",
       " 'X218289_7454',\n",
       " 'X221258_4404',\n",
       " 'X117099_13373',\n",
       " 'X201239_10000',\n",
       " 'X205485_3157',\n",
       " 'X230449_27274',\n",
       " 'X6349_7011',\n",
       " 'X112084_4248',\n",
       " 'X228046_17494',\n",
       " 'X224779_3298',\n",
       " 'X195403_4772',\n",
       " 'X247020_27217']"
      ]
     },
     "execution_count": 7,
     "metadata": {},
     "output_type": "execute_result"
    }
   ],
   "source": [
    "import re\n",
    "f = open(\"../Running_Panel/V4badSNPs\",\"r\")\n",
    "badsnps=f.readline().strip()\n",
    "badsnps=re.split('\\s-s\\s|-s\\s',badsnps)[1:]\n",
    "f.close()\n",
    "#print(re.split('XXX|YYY|ZZZ', s_strs))\n",
    "badsnps"
   ]
  },
  {
   "cell_type": "code",
   "execution_count": 8,
   "metadata": {
    "kernel": "python3"
   },
   "outputs": [
    {
     "data": {
      "text/plain": [
       "(73, 76)"
      ]
     },
     "execution_count": 8,
     "metadata": {},
     "output_type": "execute_result"
    }
   ],
   "source": [
    "db52_39_sfilt = db52_39_geno.drop(labels=badsnps,axis=1)\n",
    "db52_39_sfilt.shape"
   ]
  },
  {
   "cell_type": "code",
   "execution_count": null,
   "metadata": {
    "kernel": "python3"
   },
   "outputs": [],
   "source": []
  },
  {
   "cell_type": "code",
   "execution_count": 9,
   "metadata": {
    "kernel": "python3"
   },
   "outputs": [
    {
     "data": {
      "text/html": [
       "<div>\n",
       "<style scoped>\n",
       "    .dataframe tbody tr th:only-of-type {\n",
       "        vertical-align: middle;\n",
       "    }\n",
       "\n",
       "    .dataframe tbody tr th {\n",
       "        vertical-align: top;\n",
       "    }\n",
       "\n",
       "    .dataframe thead th {\n",
       "        text-align: right;\n",
       "    }\n",
       "</style>\n",
       "<table border=\"1\" class=\"dataframe\">\n",
       "  <thead>\n",
       "    <tr style=\"text-align: right;\">\n",
       "      <th></th>\n",
       "      <th>Date</th>\n",
       "      <th>SAMPLE_NAME</th>\n",
       "      <th>WELL</th>\n",
       "      <th>X104650_2998</th>\n",
       "      <th>X104795_7287</th>\n",
       "      <th>X107554_774</th>\n",
       "      <th>X120320_1376</th>\n",
       "      <th>X121338_5301</th>\n",
       "      <th>X135849_12666</th>\n",
       "      <th>X136296_2709</th>\n",
       "      <th>...</th>\n",
       "      <th>X235476_9196</th>\n",
       "      <th>X236674_44316</th>\n",
       "      <th>X241030_2917</th>\n",
       "      <th>X242562_17320</th>\n",
       "      <th>X243446_17343</th>\n",
       "      <th>X246396_2361</th>\n",
       "      <th>X247085_6096</th>\n",
       "      <th>X99556_26307</th>\n",
       "      <th>X99669_18498</th>\n",
       "      <th>Coverage</th>\n",
       "    </tr>\n",
       "    <tr>\n",
       "      <th>SAMPLE_NAME</th>\n",
       "      <th></th>\n",
       "      <th></th>\n",
       "      <th></th>\n",
       "      <th></th>\n",
       "      <th></th>\n",
       "      <th></th>\n",
       "      <th></th>\n",
       "      <th></th>\n",
       "      <th></th>\n",
       "      <th></th>\n",
       "      <th></th>\n",
       "      <th></th>\n",
       "      <th></th>\n",
       "      <th></th>\n",
       "      <th></th>\n",
       "      <th></th>\n",
       "      <th></th>\n",
       "      <th></th>\n",
       "      <th></th>\n",
       "      <th></th>\n",
       "      <th></th>\n",
       "    </tr>\n",
       "  </thead>\n",
       "  <tbody>\n",
       "    <tr>\n",
       "      <th>CAN11619rB</th>\n",
       "      <td>52920</td>\n",
       "      <td>CAN11619rB</td>\n",
       "      <td>E12</td>\n",
       "      <td>T</td>\n",
       "      <td>G</td>\n",
       "      <td>T</td>\n",
       "      <td>A</td>\n",
       "      <td>G</td>\n",
       "      <td>T</td>\n",
       "      <td>G</td>\n",
       "      <td>...</td>\n",
       "      <td>G</td>\n",
       "      <td>T</td>\n",
       "      <td>C</td>\n",
       "      <td>G</td>\n",
       "      <td>C</td>\n",
       "      <td>A</td>\n",
       "      <td>A</td>\n",
       "      <td>T</td>\n",
       "      <td>TA</td>\n",
       "      <td>1.000000</td>\n",
       "    </tr>\n",
       "    <tr>\n",
       "      <th>CANOT11829</th>\n",
       "      <td>21920</td>\n",
       "      <td>CANOT11829</td>\n",
       "      <td>C06</td>\n",
       "      <td>T</td>\n",
       "      <td>G</td>\n",
       "      <td>T</td>\n",
       "      <td>A</td>\n",
       "      <td>G</td>\n",
       "      <td>T</td>\n",
       "      <td>G</td>\n",
       "      <td>...</td>\n",
       "      <td>G</td>\n",
       "      <td>T</td>\n",
       "      <td>C</td>\n",
       "      <td>G</td>\n",
       "      <td>C</td>\n",
       "      <td>A</td>\n",
       "      <td>A</td>\n",
       "      <td>T</td>\n",
       "      <td>A</td>\n",
       "      <td>1.000000</td>\n",
       "    </tr>\n",
       "    <tr>\n",
       "      <th>CANOT11829B</th>\n",
       "      <td>21920</td>\n",
       "      <td>CANOT11829B</td>\n",
       "      <td>D04</td>\n",
       "      <td>T</td>\n",
       "      <td>G</td>\n",
       "      <td>T</td>\n",
       "      <td>A</td>\n",
       "      <td>G</td>\n",
       "      <td>T</td>\n",
       "      <td>G</td>\n",
       "      <td>...</td>\n",
       "      <td>G</td>\n",
       "      <td>T</td>\n",
       "      <td>C</td>\n",
       "      <td>G</td>\n",
       "      <td>C</td>\n",
       "      <td>A</td>\n",
       "      <td>A</td>\n",
       "      <td>T</td>\n",
       "      <td>A</td>\n",
       "      <td>0.986301</td>\n",
       "    </tr>\n",
       "    <tr>\n",
       "      <th>CANOT11830</th>\n",
       "      <td>21920</td>\n",
       "      <td>CANOT11830</td>\n",
       "      <td>H03</td>\n",
       "      <td>T</td>\n",
       "      <td>G</td>\n",
       "      <td>T</td>\n",
       "      <td>A</td>\n",
       "      <td>G</td>\n",
       "      <td>T</td>\n",
       "      <td>G</td>\n",
       "      <td>...</td>\n",
       "      <td>G</td>\n",
       "      <td>T</td>\n",
       "      <td>C</td>\n",
       "      <td>G</td>\n",
       "      <td>C</td>\n",
       "      <td>A</td>\n",
       "      <td>A</td>\n",
       "      <td>T</td>\n",
       "      <td>A</td>\n",
       "      <td>1.000000</td>\n",
       "    </tr>\n",
       "    <tr>\n",
       "      <th>CANOT11830B</th>\n",
       "      <td>32720</td>\n",
       "      <td>CANOT11830B</td>\n",
       "      <td>H07</td>\n",
       "      <td>T</td>\n",
       "      <td>G</td>\n",
       "      <td>T</td>\n",
       "      <td>A</td>\n",
       "      <td>G</td>\n",
       "      <td>T</td>\n",
       "      <td>G</td>\n",
       "      <td>...</td>\n",
       "      <td>G</td>\n",
       "      <td>T</td>\n",
       "      <td>C</td>\n",
       "      <td>G</td>\n",
       "      <td>C</td>\n",
       "      <td>A</td>\n",
       "      <td>A</td>\n",
       "      <td>T</td>\n",
       "      <td>A</td>\n",
       "      <td>1.000000</td>\n",
       "    </tr>\n",
       "  </tbody>\n",
       "</table>\n",
       "<p>5 rows × 77 columns</p>\n",
       "</div>"
      ],
      "text/plain": [
       "              Date  SAMPLE_NAME WELL X104650_2998 X104795_7287 X107554_774  \\\n",
       "SAMPLE_NAME                                                                  \n",
       "CAN11619rB   52920   CAN11619rB  E12            T            G           T   \n",
       "CANOT11829   21920   CANOT11829  C06            T            G           T   \n",
       "CANOT11829B  21920  CANOT11829B  D04            T            G           T   \n",
       "CANOT11830   21920   CANOT11830  H03            T            G           T   \n",
       "CANOT11830B  32720  CANOT11830B  H07            T            G           T   \n",
       "\n",
       "            X120320_1376 X121338_5301 X135849_12666 X136296_2709  ...  \\\n",
       "SAMPLE_NAME                                                       ...   \n",
       "CAN11619rB             A            G             T            G  ...   \n",
       "CANOT11829             A            G             T            G  ...   \n",
       "CANOT11829B            A            G             T            G  ...   \n",
       "CANOT11830             A            G             T            G  ...   \n",
       "CANOT11830B            A            G             T            G  ...   \n",
       "\n",
       "            X235476_9196 X236674_44316 X241030_2917 X242562_17320  \\\n",
       "SAMPLE_NAME                                                         \n",
       "CAN11619rB             G             T            C             G   \n",
       "CANOT11829             G             T            C             G   \n",
       "CANOT11829B            G             T            C             G   \n",
       "CANOT11830             G             T            C             G   \n",
       "CANOT11830B            G             T            C             G   \n",
       "\n",
       "            X243446_17343 X246396_2361 X247085_6096 X99556_26307 X99669_18498  \\\n",
       "SAMPLE_NAME                                                                     \n",
       "CAN11619rB              C            A            A            T           TA   \n",
       "CANOT11829              C            A            A            T            A   \n",
       "CANOT11829B             C            A            A            T            A   \n",
       "CANOT11830              C            A            A            T            A   \n",
       "CANOT11830B             C            A            A            T            A   \n",
       "\n",
       "             Coverage  \n",
       "SAMPLE_NAME            \n",
       "CAN11619rB   1.000000  \n",
       "CANOT11829   1.000000  \n",
       "CANOT11829B  0.986301  \n",
       "CANOT11830   1.000000  \n",
       "CANOT11830B  1.000000  \n",
       "\n",
       "[5 rows x 77 columns]"
      ]
     },
     "execution_count": 9,
     "metadata": {},
     "output_type": "execute_result"
    }
   ],
   "source": [
    "df = db52_39_sfilt\n",
    "coverage_row= df.iloc[:,3:].count(axis=1)/73\n",
    "df_coverage=pd.DataFrame(data=coverage_row,columns=['Coverage'])\n",
    "df52_39_sfilt =pd.concat([df,df_coverage],axis=1)\n",
    "df52_39_sfilt.head()"
   ]
  },
  {
   "cell_type": "code",
   "execution_count": 10,
   "metadata": {
    "kernel": "python3"
   },
   "outputs": [
    {
     "data": {
      "text/plain": [
       "['CANOT11837', 'SL04', 'SL32']"
      ]
     },
     "execution_count": 10,
     "metadata": {},
     "output_type": "execute_result"
    }
   ],
   "source": [
    "failedDF = df52_39_sfilt[df52_39_sfilt['Coverage'] < 0.93]\n",
    "failed_sample = list(failedDF[\"SAMPLE_NAME\"])\n",
    "failed_sample"
   ]
  },
  {
   "cell_type": "code",
   "execution_count": 11,
   "metadata": {
    "kernel": "python3"
   },
   "outputs": [],
   "source": [
    "passDF = df52_39_sfilt[df52_39_sfilt['Coverage'] >= 0.93]"
   ]
  },
  {
   "cell_type": "code",
   "execution_count": 12,
   "metadata": {
    "kernel": "python3"
   },
   "outputs": [
    {
     "data": {
      "text/html": [
       "<div>\n",
       "<style scoped>\n",
       "    .dataframe tbody tr th:only-of-type {\n",
       "        vertical-align: middle;\n",
       "    }\n",
       "\n",
       "    .dataframe tbody tr th {\n",
       "        vertical-align: top;\n",
       "    }\n",
       "\n",
       "    .dataframe thead th {\n",
       "        text-align: right;\n",
       "    }\n",
       "</style>\n",
       "<table border=\"1\" class=\"dataframe\">\n",
       "  <thead>\n",
       "    <tr style=\"text-align: right;\">\n",
       "      <th></th>\n",
       "      <th>Date</th>\n",
       "      <th>Coverage</th>\n",
       "    </tr>\n",
       "    <tr>\n",
       "      <th>SAMPLE_NAME</th>\n",
       "      <th></th>\n",
       "      <th></th>\n",
       "    </tr>\n",
       "  </thead>\n",
       "  <tbody>\n",
       "    <tr>\n",
       "      <th>MATT01</th>\n",
       "      <td>X</td>\n",
       "      <td>0.986301</td>\n",
       "    </tr>\n",
       "    <tr>\n",
       "      <th>MATT04</th>\n",
       "      <td>X</td>\n",
       "      <td>1.000000</td>\n",
       "    </tr>\n",
       "    <tr>\n",
       "      <th>MATT08b</th>\n",
       "      <td>X</td>\n",
       "      <td>1.000000</td>\n",
       "    </tr>\n",
       "    <tr>\n",
       "      <th>MATT09</th>\n",
       "      <td>X</td>\n",
       "      <td>1.000000</td>\n",
       "    </tr>\n",
       "    <tr>\n",
       "      <th>Mill12</th>\n",
       "      <td>X</td>\n",
       "      <td>1.000000</td>\n",
       "    </tr>\n",
       "    <tr>\n",
       "      <th>Mill6</th>\n",
       "      <td>X</td>\n",
       "      <td>1.000000</td>\n",
       "    </tr>\n",
       "    <tr>\n",
       "      <th>Mill8</th>\n",
       "      <td>X</td>\n",
       "      <td>1.000000</td>\n",
       "    </tr>\n",
       "    <tr>\n",
       "      <th>Otter13</th>\n",
       "      <td>X</td>\n",
       "      <td>0.986301</td>\n",
       "    </tr>\n",
       "    <tr>\n",
       "      <th>Otter16</th>\n",
       "      <td>X</td>\n",
       "      <td>1.000000</td>\n",
       "    </tr>\n",
       "    <tr>\n",
       "      <th>Otter17</th>\n",
       "      <td>X</td>\n",
       "      <td>1.000000</td>\n",
       "    </tr>\n",
       "    <tr>\n",
       "      <th>Otter21</th>\n",
       "      <td>X</td>\n",
       "      <td>1.000000</td>\n",
       "    </tr>\n",
       "    <tr>\n",
       "      <th>Otter23</th>\n",
       "      <td>X</td>\n",
       "      <td>0.958904</td>\n",
       "    </tr>\n",
       "    <tr>\n",
       "      <th>Otter40</th>\n",
       "      <td>X</td>\n",
       "      <td>1.000000</td>\n",
       "    </tr>\n",
       "    <tr>\n",
       "      <th>SIPS114</th>\n",
       "      <td>X</td>\n",
       "      <td>1.000000</td>\n",
       "    </tr>\n",
       "    <tr>\n",
       "      <th>Sipsey117</th>\n",
       "      <td>X</td>\n",
       "      <td>0.986301</td>\n",
       "    </tr>\n",
       "    <tr>\n",
       "      <th>Sipsey120</th>\n",
       "      <td>X</td>\n",
       "      <td>0.986301</td>\n",
       "    </tr>\n",
       "    <tr>\n",
       "      <th>Sipsey125</th>\n",
       "      <td>X</td>\n",
       "      <td>1.000000</td>\n",
       "    </tr>\n",
       "    <tr>\n",
       "      <th>Sipsey126</th>\n",
       "      <td>X</td>\n",
       "      <td>1.000000</td>\n",
       "    </tr>\n",
       "    <tr>\n",
       "      <th>TN11853</th>\n",
       "      <td>32720</td>\n",
       "      <td>0.986301</td>\n",
       "    </tr>\n",
       "    <tr>\n",
       "      <th>TN11854</th>\n",
       "      <td>32720</td>\n",
       "      <td>0.986301</td>\n",
       "    </tr>\n",
       "  </tbody>\n",
       "</table>\n",
       "</div>"
      ],
      "text/plain": [
       "              Date  Coverage\n",
       "SAMPLE_NAME                 \n",
       "MATT01           X  0.986301\n",
       "MATT04           X  1.000000\n",
       "MATT08b          X  1.000000\n",
       "MATT09           X  1.000000\n",
       "Mill12           X  1.000000\n",
       "Mill6            X  1.000000\n",
       "Mill8            X  1.000000\n",
       "Otter13          X  0.986301\n",
       "Otter16          X  1.000000\n",
       "Otter17          X  1.000000\n",
       "Otter21          X  1.000000\n",
       "Otter23          X  0.958904\n",
       "Otter40          X  1.000000\n",
       "SIPS114          X  1.000000\n",
       "Sipsey117        X  0.986301\n",
       "Sipsey120        X  0.986301\n",
       "Sipsey125        X  1.000000\n",
       "Sipsey126        X  1.000000\n",
       "TN11853      32720  0.986301\n",
       "TN11854      32720  0.986301"
      ]
     },
     "execution_count": 12,
     "metadata": {},
     "output_type": "execute_result"
    }
   ],
   "source": [
    "passDF.iloc[50:,[0,76]].sort_values(by='SAMPLE_NAME')"
   ]
  },
  {
   "cell_type": "code",
   "execution_count": 13,
   "metadata": {
    "kernel": "python3"
   },
   "outputs": [],
   "source": [
    "badsamps = [\"CANOT11829B\",\"CANOT11830\",\"FL16\",\n",
    "            \"FLM13B\",\"SL10B\",\"SL14\",'SL32', 'SL20','SL31','CANOT11837', 'SL04']"
   ]
  },
  {
   "cell_type": "markdown",
   "metadata": {
    "kernel": "python3"
   },
   "source": [
    "### Make V4 geno for now"
   ]
  },
  {
   "cell_type": "code",
   "execution_count": 14,
   "metadata": {
    "kernel": "python3"
   },
   "outputs": [],
   "source": [
    "db52_39_filt = df52_39_sfilt.drop(badsamps) "
   ]
  },
  {
   "cell_type": "code",
   "execution_count": 15,
   "metadata": {
    "kernel": "python3"
   },
   "outputs": [
    {
     "data": {
      "text/plain": [
       "(62, 73)"
      ]
     },
     "execution_count": 15,
     "metadata": {},
     "output_type": "execute_result"
    }
   ],
   "source": [
    "db52_39_filt.drop(labels=['Date','WELL','SAMPLE_NAME','Coverage'],\n",
    "          axis=1,inplace=True)\n",
    "db52_39_filt.shape"
   ]
  },
  {
   "cell_type": "code",
   "execution_count": 16,
   "metadata": {
    "kernel": "python3"
   },
   "outputs": [],
   "source": [
    "alleles = {'A':'0101','T':'0404','C':'0202','G':'0303',\n",
    "         'TA':'0401','AT':'0104',\n",
    "        'CT':'0204','TC':'0402',\n",
    "        'GC':'0302','CG':'0203',\n",
    "        'TG':'0403','GT':'0304',\n",
    "        'CA':'0201','AC':'0102',\n",
    "          'GA':'0301','AG':'0103'}\n",
    "db52_39_filt = db52_39_filt.replace(to_replace=alleles)\n",
    "db52_39_filt = db52_39_filt.replace(np.nan, '0000', regex=True)"
   ]
  },
  {
   "cell_type": "code",
   "execution_count": 17,
   "metadata": {
    "kernel": "python3"
   },
   "outputs": [],
   "source": [
    "db52_39_filt.rename(index=lambda x: x+\"rf,\", inplace=True)\n"
   ]
  },
  {
   "cell_type": "code",
   "execution_count": 18,
   "metadata": {
    "kernel": "python3"
   },
   "outputs": [],
   "source": [
    "final = open(\"refV4_0120.gen\",\"w\")\n",
    "final.write(\"MA\\n\")\n",
    "final.write(',\\t'.join(list(db52_39_filt.columns))+\"\\n\")\n",
    "final.write(\"Pop\\n\")\n",
    "final.write(db52_39_filt.to_csv(header=False, sep = \"\\t\"))\n",
    "final.close()"
   ]
  },
  {
   "cell_type": "markdown",
   "metadata": {
    "kernel": "python3"
   },
   "source": [
    "## V5"
   ]
  },
  {
   "cell_type": "code",
   "execution_count": 8,
   "metadata": {
    "kernel": "python3"
   },
   "outputs": [
    {
     "data": {
      "text/plain": [
       "['X126230_13777',\n",
       " 'X141791_7873',\n",
       " 'X190236_2746',\n",
       " 'X194561_9140',\n",
       " 'X194968_5912',\n",
       " 'X2156_1716',\n",
       " 'X218289_7454',\n",
       " 'X221258_4404',\n",
       " 'X117099_13373',\n",
       " 'X201239_10000',\n",
       " 'X205485_3157',\n",
       " 'X230449_27274',\n",
       " 'X6349_7011',\n",
       " 'X112084_4248',\n",
       " 'X228046_17494',\n",
       " 'X224779_3298',\n",
       " 'X195403_4772',\n",
       " 'X247020_27217',\n",
       " 'X126488_13871',\n",
       " 'X188611_1228',\n",
       " 'X232694_38736',\n",
       " 'X219104_2929']"
      ]
     },
     "execution_count": 8,
     "metadata": {},
     "output_type": "execute_result"
    }
   ],
   "source": [
    "import re\n",
    "f = open(\"../Running_Panel/V5badSNPs\",\"r\")\n",
    "badsnps = []\n",
    "for line in f:\n",
    "    badsnps.append(line.strip())\n",
    "f.close()\n",
    "#print(re.split('XXX|YYY|ZZZ', s_strs))\n",
    "badsnps"
   ]
  },
  {
   "cell_type": "code",
   "execution_count": 9,
   "metadata": {
    "kernel": "python3"
   },
   "outputs": [
    {
     "data": {
      "text/plain": [
       "(59, 72)"
      ]
     },
     "execution_count": 9,
     "metadata": {},
     "output_type": "execute_result"
    }
   ],
   "source": [
    "db52_39_sfilt = db52_39_geno.drop(labels=badsnps,axis=1)\n",
    "db52_39_sfilt.shape"
   ]
  },
  {
   "cell_type": "code",
   "execution_count": 11,
   "metadata": {
    "kernel": "python3"
   },
   "outputs": [
    {
     "data": {
      "text/html": [
       "<div>\n",
       "<style scoped>\n",
       "    .dataframe tbody tr th:only-of-type {\n",
       "        vertical-align: middle;\n",
       "    }\n",
       "\n",
       "    .dataframe tbody tr th {\n",
       "        vertical-align: top;\n",
       "    }\n",
       "\n",
       "    .dataframe thead th {\n",
       "        text-align: right;\n",
       "    }\n",
       "</style>\n",
       "<table border=\"1\" class=\"dataframe\">\n",
       "  <thead>\n",
       "    <tr style=\"text-align: right;\">\n",
       "      <th></th>\n",
       "      <th>Date</th>\n",
       "      <th>SAMPLE_NAME</th>\n",
       "      <th>WELL</th>\n",
       "      <th>X104650_2998</th>\n",
       "      <th>X104795_7287</th>\n",
       "      <th>X107554_774</th>\n",
       "      <th>X120320_1376</th>\n",
       "      <th>X121338_5301</th>\n",
       "      <th>X135849_12666</th>\n",
       "      <th>X136296_2709</th>\n",
       "      <th>...</th>\n",
       "      <th>X235476_9196</th>\n",
       "      <th>X236674_44316</th>\n",
       "      <th>X241030_2917</th>\n",
       "      <th>X242562_17320</th>\n",
       "      <th>X243446_17343</th>\n",
       "      <th>X246396_2361</th>\n",
       "      <th>X247085_6096</th>\n",
       "      <th>X99556_26307</th>\n",
       "      <th>X99669_18498</th>\n",
       "      <th>Coverage</th>\n",
       "    </tr>\n",
       "    <tr>\n",
       "      <th>SAMPLE_NAME</th>\n",
       "      <th></th>\n",
       "      <th></th>\n",
       "      <th></th>\n",
       "      <th></th>\n",
       "      <th></th>\n",
       "      <th></th>\n",
       "      <th></th>\n",
       "      <th></th>\n",
       "      <th></th>\n",
       "      <th></th>\n",
       "      <th></th>\n",
       "      <th></th>\n",
       "      <th></th>\n",
       "      <th></th>\n",
       "      <th></th>\n",
       "      <th></th>\n",
       "      <th></th>\n",
       "      <th></th>\n",
       "      <th></th>\n",
       "      <th></th>\n",
       "      <th></th>\n",
       "    </tr>\n",
       "  </thead>\n",
       "  <tbody>\n",
       "    <tr>\n",
       "      <th>CAN11619rB</th>\n",
       "      <td>52920</td>\n",
       "      <td>CAN11619rB</td>\n",
       "      <td>E12</td>\n",
       "      <td>T</td>\n",
       "      <td>G</td>\n",
       "      <td>T</td>\n",
       "      <td>A</td>\n",
       "      <td>G</td>\n",
       "      <td>T</td>\n",
       "      <td>G</td>\n",
       "      <td>...</td>\n",
       "      <td>G</td>\n",
       "      <td>T</td>\n",
       "      <td>C</td>\n",
       "      <td>G</td>\n",
       "      <td>C</td>\n",
       "      <td>A</td>\n",
       "      <td>A</td>\n",
       "      <td>T</td>\n",
       "      <td>TA</td>\n",
       "      <td>1.000000</td>\n",
       "    </tr>\n",
       "    <tr>\n",
       "      <th>DB60778B</th>\n",
       "      <td>52920</td>\n",
       "      <td>DB60778B</td>\n",
       "      <td>F03</td>\n",
       "      <td>T</td>\n",
       "      <td>G</td>\n",
       "      <td>T</td>\n",
       "      <td>A</td>\n",
       "      <td>G</td>\n",
       "      <td>T</td>\n",
       "      <td>G</td>\n",
       "      <td>...</td>\n",
       "      <td>G</td>\n",
       "      <td>T</td>\n",
       "      <td>C</td>\n",
       "      <td>G</td>\n",
       "      <td>C</td>\n",
       "      <td>A</td>\n",
       "      <td>A</td>\n",
       "      <td>T</td>\n",
       "      <td>A</td>\n",
       "      <td>1.000000</td>\n",
       "    </tr>\n",
       "    <tr>\n",
       "      <th>SL14r</th>\n",
       "      <td>52920</td>\n",
       "      <td>SL14r</td>\n",
       "      <td>A04</td>\n",
       "      <td>C</td>\n",
       "      <td>A</td>\n",
       "      <td>T</td>\n",
       "      <td>G</td>\n",
       "      <td>A</td>\n",
       "      <td>T</td>\n",
       "      <td>G</td>\n",
       "      <td>...</td>\n",
       "      <td>A</td>\n",
       "      <td>T</td>\n",
       "      <td>C</td>\n",
       "      <td>A</td>\n",
       "      <td>C</td>\n",
       "      <td>A</td>\n",
       "      <td>G</td>\n",
       "      <td>C</td>\n",
       "      <td>T</td>\n",
       "      <td>0.985507</td>\n",
       "    </tr>\n",
       "    <tr>\n",
       "      <th>SL32</th>\n",
       "      <td>52920</td>\n",
       "      <td>SL32</td>\n",
       "      <td>F04</td>\n",
       "      <td>NaN</td>\n",
       "      <td>GA</td>\n",
       "      <td>T</td>\n",
       "      <td>G</td>\n",
       "      <td>AG</td>\n",
       "      <td>NaN</td>\n",
       "      <td>NaN</td>\n",
       "      <td>...</td>\n",
       "      <td>NaN</td>\n",
       "      <td>T</td>\n",
       "      <td>NaN</td>\n",
       "      <td>AG</td>\n",
       "      <td>C</td>\n",
       "      <td>A</td>\n",
       "      <td>NaN</td>\n",
       "      <td>C</td>\n",
       "      <td>T</td>\n",
       "      <td>0.753623</td>\n",
       "    </tr>\n",
       "    <tr>\n",
       "      <th>SL34</th>\n",
       "      <td>52920</td>\n",
       "      <td>SL34</td>\n",
       "      <td>H09</td>\n",
       "      <td>C</td>\n",
       "      <td>GA</td>\n",
       "      <td>T</td>\n",
       "      <td>G</td>\n",
       "      <td>A</td>\n",
       "      <td>T</td>\n",
       "      <td>G</td>\n",
       "      <td>...</td>\n",
       "      <td>A</td>\n",
       "      <td>T</td>\n",
       "      <td>C</td>\n",
       "      <td>A</td>\n",
       "      <td>C</td>\n",
       "      <td>A</td>\n",
       "      <td>G</td>\n",
       "      <td>C</td>\n",
       "      <td>T</td>\n",
       "      <td>1.000000</td>\n",
       "    </tr>\n",
       "  </tbody>\n",
       "</table>\n",
       "<p>5 rows × 73 columns</p>\n",
       "</div>"
      ],
      "text/plain": [
       "              Date SAMPLE_NAME WELL X104650_2998 X104795_7287 X107554_774  \\\n",
       "SAMPLE_NAME                                                                 \n",
       "CAN11619rB   52920  CAN11619rB  E12            T            G           T   \n",
       "DB60778B     52920    DB60778B  F03            T            G           T   \n",
       "SL14r        52920       SL14r  A04            C            A           T   \n",
       "SL32         52920        SL32  F04          NaN           GA           T   \n",
       "SL34         52920        SL34  H09            C           GA           T   \n",
       "\n",
       "            X120320_1376 X121338_5301 X135849_12666 X136296_2709  ...  \\\n",
       "SAMPLE_NAME                                                       ...   \n",
       "CAN11619rB             A            G             T            G  ...   \n",
       "DB60778B               A            G             T            G  ...   \n",
       "SL14r                  G            A             T            G  ...   \n",
       "SL32                   G           AG           NaN          NaN  ...   \n",
       "SL34                   G            A             T            G  ...   \n",
       "\n",
       "            X235476_9196 X236674_44316 X241030_2917 X242562_17320  \\\n",
       "SAMPLE_NAME                                                         \n",
       "CAN11619rB             G             T            C             G   \n",
       "DB60778B               G             T            C             G   \n",
       "SL14r                  A             T            C             A   \n",
       "SL32                 NaN             T          NaN            AG   \n",
       "SL34                   A             T            C             A   \n",
       "\n",
       "            X243446_17343 X246396_2361 X247085_6096 X99556_26307 X99669_18498  \\\n",
       "SAMPLE_NAME                                                                     \n",
       "CAN11619rB              C            A            A            T           TA   \n",
       "DB60778B                C            A            A            T            A   \n",
       "SL14r                   C            A            G            C            T   \n",
       "SL32                    C            A          NaN            C            T   \n",
       "SL34                    C            A            G            C            T   \n",
       "\n",
       "             Coverage  \n",
       "SAMPLE_NAME            \n",
       "CAN11619rB   1.000000  \n",
       "DB60778B     1.000000  \n",
       "SL14r        0.985507  \n",
       "SL32         0.753623  \n",
       "SL34         1.000000  \n",
       "\n",
       "[5 rows x 73 columns]"
      ]
     },
     "execution_count": 11,
     "metadata": {},
     "output_type": "execute_result"
    }
   ],
   "source": [
    "df = db52_39_sfilt\n",
    "coverage_row= df.iloc[:,3:].count(axis=1)/69\n",
    "df_coverage=pd.DataFrame(data=coverage_row,columns=['Coverage'])\n",
    "df52_39_sfilt =pd.concat([df,df_coverage],axis=1)\n",
    "df52_39_sfilt.head()"
   ]
  },
  {
   "cell_type": "code",
   "execution_count": 12,
   "metadata": {
    "kernel": "python3"
   },
   "outputs": [
    {
     "data": {
      "text/plain": [
       "['SL32', 'CANOT11837', 'SL04']"
      ]
     },
     "execution_count": 12,
     "metadata": {},
     "output_type": "execute_result"
    }
   ],
   "source": [
    "failedDF = df52_39_sfilt[df52_39_sfilt['Coverage'] < 0.93]\n",
    "failed_sample = list(failedDF[\"SAMPLE_NAME\"])\n",
    "failed_sample"
   ]
  },
  {
   "cell_type": "code",
   "execution_count": 13,
   "metadata": {
    "kernel": "python3"
   },
   "outputs": [],
   "source": [
    "passDF = df52_39_sfilt[df52_39_sfilt['Coverage'] >= 0.93]"
   ]
  },
  {
   "cell_type": "code",
   "execution_count": 17,
   "metadata": {
    "kernel": "python3"
   },
   "outputs": [
    {
     "data": {
      "text/html": [
       "<div>\n",
       "<style scoped>\n",
       "    .dataframe tbody tr th:only-of-type {\n",
       "        vertical-align: middle;\n",
       "    }\n",
       "\n",
       "    .dataframe tbody tr th {\n",
       "        vertical-align: top;\n",
       "    }\n",
       "\n",
       "    .dataframe thead th {\n",
       "        text-align: right;\n",
       "    }\n",
       "</style>\n",
       "<table border=\"1\" class=\"dataframe\">\n",
       "  <thead>\n",
       "    <tr style=\"text-align: right;\">\n",
       "      <th></th>\n",
       "      <th>Date</th>\n",
       "      <th>Coverage</th>\n",
       "    </tr>\n",
       "    <tr>\n",
       "      <th>SAMPLE_NAME</th>\n",
       "      <th></th>\n",
       "      <th></th>\n",
       "    </tr>\n",
       "  </thead>\n",
       "  <tbody>\n",
       "    <tr>\n",
       "      <th>CAN11619rB</th>\n",
       "      <td>52920</td>\n",
       "      <td>1.000000</td>\n",
       "    </tr>\n",
       "    <tr>\n",
       "      <th>CANOT11829</th>\n",
       "      <td>21920</td>\n",
       "      <td>1.000000</td>\n",
       "    </tr>\n",
       "    <tr>\n",
       "      <th>CANOT11829B</th>\n",
       "      <td>21920</td>\n",
       "      <td>0.985507</td>\n",
       "    </tr>\n",
       "    <tr>\n",
       "      <th>CANOT11830</th>\n",
       "      <td>21920</td>\n",
       "      <td>1.000000</td>\n",
       "    </tr>\n",
       "    <tr>\n",
       "      <th>CANOT11830B</th>\n",
       "      <td>32720</td>\n",
       "      <td>1.000000</td>\n",
       "    </tr>\n",
       "    <tr>\n",
       "      <th>CANOT11832</th>\n",
       "      <td>21920</td>\n",
       "      <td>0.985507</td>\n",
       "    </tr>\n",
       "    <tr>\n",
       "      <th>CANOT11838</th>\n",
       "      <td>21920</td>\n",
       "      <td>1.000000</td>\n",
       "    </tr>\n",
       "    <tr>\n",
       "      <th>CANOT2617</th>\n",
       "      <td>21920</td>\n",
       "      <td>0.971014</td>\n",
       "    </tr>\n",
       "    <tr>\n",
       "      <th>CANOT2618</th>\n",
       "      <td>21920</td>\n",
       "      <td>0.985507</td>\n",
       "    </tr>\n",
       "    <tr>\n",
       "      <th>DB12041</th>\n",
       "      <td>21920</td>\n",
       "      <td>1.000000</td>\n",
       "    </tr>\n",
       "    <tr>\n",
       "      <th>DB2589</th>\n",
       "      <td>21920</td>\n",
       "      <td>1.000000</td>\n",
       "    </tr>\n",
       "    <tr>\n",
       "      <th>DB2590</th>\n",
       "      <td>21920</td>\n",
       "      <td>0.985507</td>\n",
       "    </tr>\n",
       "    <tr>\n",
       "      <th>DB2592</th>\n",
       "      <td>21920</td>\n",
       "      <td>1.000000</td>\n",
       "    </tr>\n",
       "    <tr>\n",
       "      <th>DB2593</th>\n",
       "      <td>21920</td>\n",
       "      <td>0.971014</td>\n",
       "    </tr>\n",
       "    <tr>\n",
       "      <th>DB2634</th>\n",
       "      <td>21920</td>\n",
       "      <td>0.971014</td>\n",
       "    </tr>\n",
       "    <tr>\n",
       "      <th>DB2634B</th>\n",
       "      <td>21920</td>\n",
       "      <td>0.971014</td>\n",
       "    </tr>\n",
       "    <tr>\n",
       "      <th>DB2635</th>\n",
       "      <td>21920</td>\n",
       "      <td>1.000000</td>\n",
       "    </tr>\n",
       "    <tr>\n",
       "      <th>DB2637</th>\n",
       "      <td>21920</td>\n",
       "      <td>1.000000</td>\n",
       "    </tr>\n",
       "    <tr>\n",
       "      <th>DB60778B</th>\n",
       "      <td>52920</td>\n",
       "      <td>1.000000</td>\n",
       "    </tr>\n",
       "    <tr>\n",
       "      <th>FL01</th>\n",
       "      <td>21920</td>\n",
       "      <td>1.000000</td>\n",
       "    </tr>\n",
       "    <tr>\n",
       "      <th>FL09</th>\n",
       "      <td>21920</td>\n",
       "      <td>1.000000</td>\n",
       "    </tr>\n",
       "    <tr>\n",
       "      <th>FL12</th>\n",
       "      <td>21920</td>\n",
       "      <td>1.000000</td>\n",
       "    </tr>\n",
       "    <tr>\n",
       "      <th>FL15</th>\n",
       "      <td>21920</td>\n",
       "      <td>0.985507</td>\n",
       "    </tr>\n",
       "    <tr>\n",
       "      <th>FL16</th>\n",
       "      <td>21920</td>\n",
       "      <td>0.985507</td>\n",
       "    </tr>\n",
       "    <tr>\n",
       "      <th>FL16B</th>\n",
       "      <td>32720</td>\n",
       "      <td>1.000000</td>\n",
       "    </tr>\n",
       "    <tr>\n",
       "      <th>FL20</th>\n",
       "      <td>21920</td>\n",
       "      <td>1.000000</td>\n",
       "    </tr>\n",
       "    <tr>\n",
       "      <th>FL21</th>\n",
       "      <td>21920</td>\n",
       "      <td>1.000000</td>\n",
       "    </tr>\n",
       "    <tr>\n",
       "      <th>FL23</th>\n",
       "      <td>21920</td>\n",
       "      <td>1.000000</td>\n",
       "    </tr>\n",
       "    <tr>\n",
       "      <th>FL30</th>\n",
       "      <td>21920</td>\n",
       "      <td>0.985507</td>\n",
       "    </tr>\n",
       "    <tr>\n",
       "      <th>FLF17</th>\n",
       "      <td>21920</td>\n",
       "      <td>1.000000</td>\n",
       "    </tr>\n",
       "    <tr>\n",
       "      <th>FLM10</th>\n",
       "      <td>21920</td>\n",
       "      <td>1.000000</td>\n",
       "    </tr>\n",
       "    <tr>\n",
       "      <th>FLM12</th>\n",
       "      <td>21920</td>\n",
       "      <td>1.000000</td>\n",
       "    </tr>\n",
       "    <tr>\n",
       "      <th>FLM13</th>\n",
       "      <td>21920</td>\n",
       "      <td>1.000000</td>\n",
       "    </tr>\n",
       "    <tr>\n",
       "      <th>FLM13B</th>\n",
       "      <td>21920</td>\n",
       "      <td>0.985507</td>\n",
       "    </tr>\n",
       "    <tr>\n",
       "      <th>FLM15</th>\n",
       "      <td>21920</td>\n",
       "      <td>1.000000</td>\n",
       "    </tr>\n",
       "    <tr>\n",
       "      <th>SL10</th>\n",
       "      <td>21920</td>\n",
       "      <td>0.956522</td>\n",
       "    </tr>\n",
       "    <tr>\n",
       "      <th>SL10B</th>\n",
       "      <td>32720</td>\n",
       "      <td>0.971014</td>\n",
       "    </tr>\n",
       "    <tr>\n",
       "      <th>SL11</th>\n",
       "      <td>21920</td>\n",
       "      <td>0.942029</td>\n",
       "    </tr>\n",
       "    <tr>\n",
       "      <th>SL14</th>\n",
       "      <td>21920</td>\n",
       "      <td>0.971014</td>\n",
       "    </tr>\n",
       "    <tr>\n",
       "      <th>SL14r</th>\n",
       "      <td>52920</td>\n",
       "      <td>0.985507</td>\n",
       "    </tr>\n",
       "    <tr>\n",
       "      <th>SL15</th>\n",
       "      <td>21920</td>\n",
       "      <td>0.971014</td>\n",
       "    </tr>\n",
       "    <tr>\n",
       "      <th>SL16</th>\n",
       "      <td>21920</td>\n",
       "      <td>0.985507</td>\n",
       "    </tr>\n",
       "    <tr>\n",
       "      <th>SL19</th>\n",
       "      <td>21920</td>\n",
       "      <td>0.971014</td>\n",
       "    </tr>\n",
       "    <tr>\n",
       "      <th>SL19B</th>\n",
       "      <td>21920</td>\n",
       "      <td>0.956522</td>\n",
       "    </tr>\n",
       "    <tr>\n",
       "      <th>SL2</th>\n",
       "      <td>21920</td>\n",
       "      <td>0.971014</td>\n",
       "    </tr>\n",
       "    <tr>\n",
       "      <th>SL20</th>\n",
       "      <td>52920</td>\n",
       "      <td>0.956522</td>\n",
       "    </tr>\n",
       "    <tr>\n",
       "      <th>SL31</th>\n",
       "      <td>52920</td>\n",
       "      <td>0.942029</td>\n",
       "    </tr>\n",
       "    <tr>\n",
       "      <th>SL34</th>\n",
       "      <td>52920</td>\n",
       "      <td>1.000000</td>\n",
       "    </tr>\n",
       "    <tr>\n",
       "      <th>SL36</th>\n",
       "      <td>52920</td>\n",
       "      <td>1.000000</td>\n",
       "    </tr>\n",
       "    <tr>\n",
       "      <th>SL37</th>\n",
       "      <td>52920</td>\n",
       "      <td>1.000000</td>\n",
       "    </tr>\n",
       "    <tr>\n",
       "      <th>SL40</th>\n",
       "      <td>52920</td>\n",
       "      <td>0.985507</td>\n",
       "    </tr>\n",
       "    <tr>\n",
       "      <th>SL43</th>\n",
       "      <td>52920</td>\n",
       "      <td>1.000000</td>\n",
       "    </tr>\n",
       "    <tr>\n",
       "      <th>SL8</th>\n",
       "      <td>21920</td>\n",
       "      <td>0.971014</td>\n",
       "    </tr>\n",
       "    <tr>\n",
       "      <th>TN11851</th>\n",
       "      <td>32720</td>\n",
       "      <td>1.000000</td>\n",
       "    </tr>\n",
       "    <tr>\n",
       "      <th>TN11853</th>\n",
       "      <td>32720</td>\n",
       "      <td>0.985507</td>\n",
       "    </tr>\n",
       "    <tr>\n",
       "      <th>TN11854</th>\n",
       "      <td>32720</td>\n",
       "      <td>0.985507</td>\n",
       "    </tr>\n",
       "  </tbody>\n",
       "</table>\n",
       "</div>"
      ],
      "text/plain": [
       "              Date  Coverage\n",
       "SAMPLE_NAME                 \n",
       "CAN11619rB   52920  1.000000\n",
       "CANOT11829   21920  1.000000\n",
       "CANOT11829B  21920  0.985507\n",
       "CANOT11830   21920  1.000000\n",
       "CANOT11830B  32720  1.000000\n",
       "CANOT11832   21920  0.985507\n",
       "CANOT11838   21920  1.000000\n",
       "CANOT2617    21920  0.971014\n",
       "CANOT2618    21920  0.985507\n",
       "DB12041      21920  1.000000\n",
       "DB2589       21920  1.000000\n",
       "DB2590       21920  0.985507\n",
       "DB2592       21920  1.000000\n",
       "DB2593       21920  0.971014\n",
       "DB2634       21920  0.971014\n",
       "DB2634B      21920  0.971014\n",
       "DB2635       21920  1.000000\n",
       "DB2637       21920  1.000000\n",
       "DB60778B     52920  1.000000\n",
       "FL01         21920  1.000000\n",
       "FL09         21920  1.000000\n",
       "FL12         21920  1.000000\n",
       "FL15         21920  0.985507\n",
       "FL16         21920  0.985507\n",
       "FL16B        32720  1.000000\n",
       "FL20         21920  1.000000\n",
       "FL21         21920  1.000000\n",
       "FL23         21920  1.000000\n",
       "FL30         21920  0.985507\n",
       "FLF17        21920  1.000000\n",
       "FLM10        21920  1.000000\n",
       "FLM12        21920  1.000000\n",
       "FLM13        21920  1.000000\n",
       "FLM13B       21920  0.985507\n",
       "FLM15        21920  1.000000\n",
       "SL10         21920  0.956522\n",
       "SL10B        32720  0.971014\n",
       "SL11         21920  0.942029\n",
       "SL14         21920  0.971014\n",
       "SL14r        52920  0.985507\n",
       "SL15         21920  0.971014\n",
       "SL16         21920  0.985507\n",
       "SL19         21920  0.971014\n",
       "SL19B        21920  0.956522\n",
       "SL2          21920  0.971014\n",
       "SL20         52920  0.956522\n",
       "SL31         52920  0.942029\n",
       "SL34         52920  1.000000\n",
       "SL36         52920  1.000000\n",
       "SL37         52920  1.000000\n",
       "SL40         52920  0.985507\n",
       "SL43         52920  1.000000\n",
       "SL8          21920  0.971014\n",
       "TN11851      32720  1.000000\n",
       "TN11853      32720  0.985507\n",
       "TN11854      32720  0.985507"
      ]
     },
     "execution_count": 17,
     "metadata": {},
     "output_type": "execute_result"
    }
   ],
   "source": [
    "passDF.iloc[:,[0,72]].sort_values(by='SAMPLE_NAME')"
   ]
  },
  {
   "cell_type": "code",
   "execution_count": 18,
   "metadata": {
    "kernel": "python3"
   },
   "outputs": [],
   "source": [
    "badsamps = [\"CANOT11829B\",\"CANOT11830\",\"DB2634B\",\"FL16\",\n",
    "            \"FLM13B\",\"SL10\",\"SL14\",\"SL19B\",'SL32', 'CANOT11837', 'SL04']"
   ]
  },
  {
   "cell_type": "code",
   "execution_count": 19,
   "metadata": {
    "kernel": "python3"
   },
   "outputs": [],
   "source": [
    "db52_39_filt = df52_39_sfilt.drop(badsamps) "
   ]
  },
  {
   "cell_type": "code",
   "execution_count": 20,
   "metadata": {
    "kernel": "python3"
   },
   "outputs": [
    {
     "data": {
      "text/plain": [
       "(48, 69)"
      ]
     },
     "execution_count": 20,
     "metadata": {},
     "output_type": "execute_result"
    }
   ],
   "source": [
    "db52_39_filt.drop(labels=['Date','WELL','SAMPLE_NAME','Coverage'],\n",
    "          axis=1,inplace=True)\n",
    "db52_39_filt.shape"
   ]
  },
  {
   "cell_type": "code",
   "execution_count": 21,
   "metadata": {
    "kernel": "python3"
   },
   "outputs": [],
   "source": [
    "alleles = {'A':'0101','T':'0404','C':'0202','G':'0303',\n",
    "         'TA':'0401','AT':'0104',\n",
    "        'CT':'0204','TC':'0402',\n",
    "        'GC':'0302','CG':'0203',\n",
    "        'TG':'0403','GT':'0304',\n",
    "        'CA':'0201','AC':'0102',\n",
    "          'GA':'0301','AG':'0103'}\n",
    "db52_39_filt = db52_39_filt.replace(to_replace=alleles)\n",
    "db52_39_filt = db52_39_filt.replace(np.nan, '0000', regex=True)"
   ]
  },
  {
   "cell_type": "code",
   "execution_count": 22,
   "metadata": {
    "kernel": "python3"
   },
   "outputs": [],
   "source": [
    "db52_39_filt.rename(index=lambda x: x+\",\", inplace=True)\n"
   ]
  },
  {
   "cell_type": "code",
   "execution_count": 23,
   "metadata": {
    "kernel": "python3"
   },
   "outputs": [],
   "source": [
    "final = open(\"refV5.gen\",\"w\")\n",
    "final.write(\"MA\\n\")\n",
    "final.write(',\\t'.join(list(db52_39_filt.columns))+\"\\n\")\n",
    "final.write(\"Pop\\n\")\n",
    "final.write(db52_39_filt.to_csv(header=False, sep = \"\\t\"))\n",
    "final.close()"
   ]
  },
  {
   "cell_type": "code",
   "execution_count": null,
   "metadata": {
    "kernel": "python3"
   },
   "outputs": [],
   "source": []
  }
 ],
 "metadata": {
  "kernelspec": {
   "display_name": "SoS",
   "language": "sos",
   "name": "sos"
  },
  "language_info": {
   "codemirror_mode": "sos",
   "file_extension": ".sos",
   "mimetype": "text/x-sos",
   "name": "sos",
   "nbconvert_exporter": "sos_notebook.converter.SoS_Exporter",
   "pygments_lexer": "sos"
  },
  "sos": {
   "kernels": [
    [
     "python3",
     "python3",
     "python",
     ""
    ]
   ],
   "version": "0.19.6"
  }
 },
 "nbformat": 4,
 "nbformat_minor": 4
}
