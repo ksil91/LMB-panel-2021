{
 "cells": [
  {
   "cell_type": "markdown",
   "metadata": {},
   "source": [
    "# Running allfiltu with strataG"
   ]
  },
  {
   "cell_type": "code",
   "execution_count": 1,
   "metadata": {},
   "outputs": [
    {
     "name": "stderr",
     "output_type": "stream",
     "text": [
      "code for methods in class \"Rcpp_SpExtent\" was not checked for suspicious field assignments (recommended package 'codetools' not available?)\n",
      "\n",
      "code for methods in class \"Rcpp_SpExtent\" was not checked for suspicious field assignments (recommended package 'codetools' not available?)\n",
      "\n",
      "code for methods in class \"Rcpp_SpPoly\" was not checked for suspicious field assignments (recommended package 'codetools' not available?)\n",
      "\n",
      "code for methods in class \"Rcpp_SpPoly\" was not checked for suspicious field assignments (recommended package 'codetools' not available?)\n",
      "\n",
      "code for methods in class \"Rcpp_SpPolyPart\" was not checked for suspicious field assignments (recommended package 'codetools' not available?)\n",
      "\n",
      "code for methods in class \"Rcpp_SpPolyPart\" was not checked for suspicious field assignments (recommended package 'codetools' not available?)\n",
      "\n",
      "code for methods in class \"Rcpp_SpPolygons\" was not checked for suspicious field assignments (recommended package 'codetools' not available?)\n",
      "\n",
      "code for methods in class \"Rcpp_SpPolygons\" was not checked for suspicious field assignments (recommended package 'codetools' not available?)\n",
      "\n",
      "Registered S3 method overwritten by 'spdep':\n",
      "  method   from\n",
      "  plot.mst ape \n",
      "\n",
      "Loading required package: ade4\n",
      "\n",
      "\n",
      "   /// adegenet 2.1.3 is loaded ////////////\n",
      "\n",
      "   > overview: '?adegenet'\n",
      "   > tutorials/doc/questions: 'adegenetWeb()' \n",
      "   > bug reports/feature requests: adegenetIssues()\n",
      "\n",
      "\n",
      "\n"
     ]
    }
   ],
   "source": [
    "library(strataG)\n",
    "library(adegenet)"
   ]
  },
  {
   "cell_type": "code",
   "execution_count": 2,
   "metadata": {},
   "outputs": [
    {
     "name": "stdout",
     "output_type": "stream",
     "text": [
      "\n",
      " Converting data from a STRUCTURE .stru file to a genind object... \n",
      "\n"
     ]
    }
   ],
   "source": [
    "ad <- read.structure(\"allfiltu.str\",n.ind=144,n.loc=8582,ask=F, onerowperind = F,col.lab = 1,col.pop = 2,row.marknames = 1)"
   ]
  },
  {
   "cell_type": "code",
   "execution_count": 3,
   "metadata": {},
   "outputs": [
    {
     "data": {
      "text/plain": [
       "/// GENIND OBJECT /////////\n",
       "\n",
       " // 144 individuals; 8,582 loci; 17,164 alleles; size: 14.4 Mb\n",
       "\n",
       " // Basic content\n",
       "   @tab:  144 x 17164 matrix of allele counts\n",
       "   @loc.n.all: number of alleles per locus (range: 2-2)\n",
       "   @loc.fac: locus factor for the 17164 columns of @tab\n",
       "   @all.names: list of allele names for each locus\n",
       "   @ploidy: ploidy of each individual  (range: 2-2)\n",
       "   @type:  codom\n",
       "   @call: read.structure(file = \"allfiltu.str\", n.ind = 144, n.loc = 8582, \n",
       "    onerowperind = F, col.lab = 1, col.pop = 2, row.marknames = 1, \n",
       "    ask = F)\n",
       "\n",
       " // Optional content\n",
       "   @pop: population of each individual (group size range: 29-44)"
      ]
     },
     "metadata": {},
     "output_type": "display_data"
    }
   ],
   "source": [
    "ad"
   ]
  },
  {
   "cell_type": "code",
   "execution_count": 4,
   "metadata": {},
   "outputs": [
    {
     "data": {
      "text/plain": [
       "\n",
       "<<< gtypes created on 2020-06-03 06:22:41 >>>\n",
       "\n",
       "Contents: 144 samples, 8582 loci, 4 strata\n",
       "Other info: genind\n",
       "\n",
       "Strata summary:\n",
       "  stratum num.ind num.missing num.alleles\n",
       "1       1      44    1.950361    1.995456\n",
       "2       2      29    1.429271    1.664414\n",
       "3       3      29    2.328129    1.397343\n",
       "4       4      42    2.456304    1.547425\n"
      ]
     },
     "metadata": {},
     "output_type": "display_data"
    }
   ],
   "source": [
    "gi.g <- genind2gtypes(ad)\n",
    "gi.g"
   ]
  },
  {
   "cell_type": "code",
   "execution_count": 5,
   "metadata": {},
   "outputs": [],
   "source": [
    "old_path <- Sys.getenv(\"PATH\")\n",
    "\n",
    "Sys.setenv(PATH = paste(old_path, \"/home/kes0132/Software/CLUMPPdir\", sep = \":\"))"
   ]
  },
  {
   "cell_type": "code",
   "execution_count": 7,
   "metadata": {},
   "outputs": [],
   "source": [
    "system(\"module load structure/2.3.4\")"
   ]
  },
  {
   "cell_type": "code",
   "execution_count": null,
   "metadata": {},
   "outputs": [],
   "source": [
    "sr <- structureRun(gi.g, label = \"allfiltu_sG\",k.range = c(3), num.k.rep = 3\n",
    "                   ,burnin=20000,numreps=200000,noadmix=F, freqscorr=T, delete.files = FALSE,exec=\"/tools/structure-2.3.4/structure\")"
   ]
  },
  {
   "cell_type": "code",
   "execution_count": null,
   "metadata": {},
   "outputs": [],
   "source": []
  }
 ],
 "metadata": {
  "kernelspec": {
   "display_name": "R",
   "language": "R",
   "name": "ir"
  },
  "language_info": {
   "codemirror_mode": "r",
   "file_extension": ".r",
   "mimetype": "text/x-r-source",
   "name": "R",
   "pygments_lexer": "r",
   "version": "3.6.1"
  }
 },
 "nbformat": 4,
 "nbformat_minor": 4
}
