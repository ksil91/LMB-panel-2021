{
 "cells": [
  {
   "cell_type": "markdown",
   "metadata": {
    "kernel": "SoS"
   },
   "source": [
    "# Read in MassArray primer design and get SNPs\n"
   ]
  },
  {
   "cell_type": "code",
   "execution_count": 1,
   "metadata": {
    "kernel": "SoS"
   },
   "outputs": [],
   "source": [
    "suf = \"Sub193_seq_for_design_10222019-3.trs\""
   ]
  },
  {
   "cell_type": "code",
   "execution_count": 4,
   "metadata": {
    "kernel": "R"
   },
   "outputs": [],
   "source": [
    "library(stringr)"
   ]
  },
  {
   "cell_type": "code",
   "execution_count": 43,
   "metadata": {
    "kernel": "R"
   },
   "outputs": [
    {
     "name": "stderr",
     "output_type": "stream",
     "text": [
      "Warning message in which(str_detect(x, \"Well 1\")):which(str_detect(x, \"SNP Capture\")):\n",
      "“numerical expression has 4 elements: only the first used”"
     ]
    }
   ],
   "source": [
    "%expand\n",
    "x <- readLines(\"{suf}\")\n",
    "snpX <- x[which(str_detect(x, \"Well 1\")):which(str_detect(x, \"SNP Capture\"))]  # ditch part of file after traces\n",
    "\n"
   ]
  },
  {
   "cell_type": "code",
   "execution_count": 44,
   "metadata": {
    "kernel": "R"
   },
   "outputs": [
    {
     "data": {
      "text/html": [
       "<ol class=list-inline>\n",
       "\t<li>'136479_9685_AT'</li>\n",
       "\t<li>'112084_4248_CG'</li>\n",
       "\t<li>'197986_3441_GA'</li>\n",
       "\t<li>'181276_2072_CT'</li>\n",
       "\t<li>'228046_17494_TA'</li>\n",
       "\t<li>'199466_2432_AT'</li>\n",
       "</ol>\n"
      ],
      "text/latex": [
       "\\begin{enumerate*}\n",
       "\\item '136479\\_9685\\_AT'\n",
       "\\item '112084\\_4248\\_CG'\n",
       "\\item '197986\\_3441\\_GA'\n",
       "\\item '181276\\_2072\\_CT'\n",
       "\\item '228046\\_17494\\_TA'\n",
       "\\item '199466\\_2432\\_AT'\n",
       "\\end{enumerate*}\n"
      ],
      "text/markdown": [
       "1. '136479_9685_AT'\n",
       "2. '112084_4248_CG'\n",
       "3. '197986_3441_GA'\n",
       "4. '181276_2072_CT'\n",
       "5. '228046_17494_TA'\n",
       "6. '199466_2432_AT'\n",
       "\n",
       "\n"
      ],
      "text/plain": [
       "[1] \"136479_9685_AT\"  \"112084_4248_CG\"  \"197986_3441_GA\"  \"181276_2072_CT\" \n",
       "[5] \"228046_17494_TA\" \"199466_2432_AT\" "
      ]
     },
     "metadata": {},
     "output_type": "display_data"
    }
   ],
   "source": [
    "markers <- na.omit(str_extract(snpX, '(?<=SNP ID:\\\\s)\\\\w+'))\n",
    "head(markers)"
   ]
  },
  {
   "cell_type": "code",
   "execution_count": 45,
   "metadata": {
    "kernel": "R"
   },
   "outputs": [
    {
     "data": {
      "text/html": [
       "<table>\n",
       "<thead><tr><th scope=col>Chr</th><th scope=col>BP</th></tr></thead>\n",
       "<tbody>\n",
       "\t<tr><td>136479</td><td>9685  </td></tr>\n",
       "\t<tr><td>112084</td><td>4248  </td></tr>\n",
       "\t<tr><td>197986</td><td>3441  </td></tr>\n",
       "\t<tr><td>181276</td><td>2072  </td></tr>\n",
       "\t<tr><td>228046</td><td>17494 </td></tr>\n",
       "\t<tr><td>199466</td><td>2432  </td></tr>\n",
       "</tbody>\n",
       "</table>\n"
      ],
      "text/latex": [
       "\\begin{tabular}{ll}\n",
       " Chr & BP\\\\\n",
       "\\hline\n",
       "\t 136479 & 9685  \\\\\n",
       "\t 112084 & 4248  \\\\\n",
       "\t 197986 & 3441  \\\\\n",
       "\t 181276 & 2072  \\\\\n",
       "\t 228046 & 17494 \\\\\n",
       "\t 199466 & 2432  \\\\\n",
       "\\end{tabular}\n"
      ],
      "text/markdown": [
       "\n",
       "| Chr | BP |\n",
       "|---|---|\n",
       "| 136479 | 9685   |\n",
       "| 112084 | 4248   |\n",
       "| 197986 | 3441   |\n",
       "| 181276 | 2072   |\n",
       "| 228046 | 17494  |\n",
       "| 199466 | 2432   |\n",
       "\n"
      ],
      "text/plain": [
       "     Chr    BP   \n",
       "[1,] 136479 9685 \n",
       "[2,] 112084 4248 \n",
       "[3,] 197986 3441 \n",
       "[4,] 181276 2072 \n",
       "[5,] 228046 17494\n",
       "[6,] 199466 2432 "
      ]
     },
     "metadata": {},
     "output_type": "display_data"
    }
   ],
   "source": [
    "Chr <- sapply(strsplit(markers,\"_\"), '[',1)\n",
    "BP <- sapply(strsplit(markers,\"_\"), '[',2)\n",
    "positions <- cbind(Chr, BP)\n",
    "head(positions)"
   ]
  },
  {
   "cell_type": "code",
   "execution_count": 46,
   "metadata": {
    "kernel": "R"
   },
   "outputs": [],
   "source": [
    "write.table(positions,\"MApanel47_Sub193.positions\",col.names = F, sep=\"\\t\",row.names = F, quote=F)"
   ]
  },
  {
   "cell_type": "code",
   "execution_count": 31,
   "metadata": {
    "kernel": "SoS"
   },
   "outputs": [],
   "source": [
    "sufb = \"Sub193_53seq_for_design_10222019.trs\""
   ]
  },
  {
   "cell_type": "code",
   "execution_count": 35,
   "metadata": {
    "kernel": "R"
   },
   "outputs": [
    {
     "name": "stderr",
     "output_type": "stream",
     "text": [
      "Warning message in which(str_detect(x, \"Well 1\")):which(str_detect(x, \"SNP Capture\")):\n",
      "“numerical expression has 2 elements: only the first used”"
     ]
    }
   ],
   "source": [
    "%expand\n",
    "x <- readLines(\"{sufb}\")\n",
    "snpb <- x[which(str_detect(x, \"Well 1\")):which(str_detect(x, \"SNP Capture\"))]  # ditch part of file after traces\n",
    "\n"
   ]
  },
  {
   "cell_type": "code",
   "execution_count": 38,
   "metadata": {
    "kernel": "R"
   },
   "outputs": [
    {
     "ename": "ERROR",
     "evalue": "Error in len(markers): could not find function \"len\"\n",
     "output_type": "error",
     "traceback": [
      "Error in len(markers): could not find function \"len\"\nTraceback:\n"
     ]
    }
   ],
   "source": [
    "markers <- c(markers,(na.omit(str_extract(snpb, '(?<=SNP ID:\\\\s)\\\\w+'))))\n"
   ]
  },
  {
   "cell_type": "code",
   "execution_count": 39,
   "metadata": {
    "kernel": "R"
   },
   "outputs": [
    {
     "data": {
      "text/html": [
       "80"
      ],
      "text/latex": [
       "80"
      ],
      "text/markdown": [
       "80"
      ],
      "text/plain": [
       "[1] 80"
      ]
     },
     "metadata": {},
     "output_type": "display_data"
    }
   ],
   "source": [
    "length(markers)"
   ]
  },
  {
   "cell_type": "code",
   "execution_count": 40,
   "metadata": {
    "kernel": "R"
   },
   "outputs": [
    {
     "data": {
      "text/html": [
       "<table>\n",
       "<thead><tr><th scope=col>Chr</th><th scope=col>BP</th></tr></thead>\n",
       "<tbody>\n",
       "\t<tr><td>136479</td><td>9685  </td></tr>\n",
       "\t<tr><td>112084</td><td>4248  </td></tr>\n",
       "\t<tr><td>197986</td><td>3441  </td></tr>\n",
       "\t<tr><td>181276</td><td>2072  </td></tr>\n",
       "\t<tr><td>228046</td><td>17494 </td></tr>\n",
       "\t<tr><td>199466</td><td>2432  </td></tr>\n",
       "</tbody>\n",
       "</table>\n"
      ],
      "text/latex": [
       "\\begin{tabular}{ll}\n",
       " Chr & BP\\\\\n",
       "\\hline\n",
       "\t 136479 & 9685  \\\\\n",
       "\t 112084 & 4248  \\\\\n",
       "\t 197986 & 3441  \\\\\n",
       "\t 181276 & 2072  \\\\\n",
       "\t 228046 & 17494 \\\\\n",
       "\t 199466 & 2432  \\\\\n",
       "\\end{tabular}\n"
      ],
      "text/markdown": [
       "\n",
       "| Chr | BP |\n",
       "|---|---|\n",
       "| 136479 | 9685   |\n",
       "| 112084 | 4248   |\n",
       "| 197986 | 3441   |\n",
       "| 181276 | 2072   |\n",
       "| 228046 | 17494  |\n",
       "| 199466 | 2432   |\n",
       "\n"
      ],
      "text/plain": [
       "     Chr    BP   \n",
       "[1,] 136479 9685 \n",
       "[2,] 112084 4248 \n",
       "[3,] 197986 3441 \n",
       "[4,] 181276 2072 \n",
       "[5,] 228046 17494\n",
       "[6,] 199466 2432 "
      ]
     },
     "metadata": {},
     "output_type": "display_data"
    }
   ],
   "source": [
    "Chr <- sapply(strsplit(markers,\"_\"), '[',1)\n",
    "BP <- sapply(strsplit(markers,\"_\"), '[',2)\n",
    "positions <- cbind(Chr, BP)\n",
    "head(positions)"
   ]
  },
  {
   "cell_type": "code",
   "execution_count": 41,
   "metadata": {
    "kernel": "R"
   },
   "outputs": [],
   "source": [
    "write.table(positions,\"MApanel80_Sub193.positions\",col.names = F, sep=\"\\t\",row.names = F, quote=F)"
   ]
  },
  {
   "cell_type": "markdown",
   "metadata": {
    "kernel": "R"
   },
   "source": [
    "## Read in 91 MA SNPs sent by Ryan"
   ]
  },
  {
   "cell_type": "code",
   "execution_count": 1,
   "metadata": {
    "kernel": "bash"
   },
   "outputs": [
    {
     "name": "stdout",
     "output_type": "stream",
     "text": [
      "Panel_1\t107554_774\n",
      "Panel_1\t190236_2746\n",
      "Panel_1\t104650_2998\n",
      "Panel_1\t188596_16158\n",
      "Panel_1\t141791_7873\n",
      "Panel_1\t224014_1072\n",
      "Panel_1\t219104_2929\n",
      "Panel_1\t112084_4248\n",
      "Panel_1\t186875_4699\n",
      "Panel_1\t135849_12666\n"
     ]
    }
   ],
   "source": [
    "head Panel_Design/Delta_bass_91_SNP_panel.txt"
   ]
  },
  {
   "cell_type": "code",
   "execution_count": 4,
   "metadata": {
    "kernel": "python3"
   },
   "outputs": [],
   "source": [
    "IN = open(\"Panel_Design/Delta_bass_91_SNP_panel.txt\",\"r\")\n",
    "OUT = open(\"Panel_Design/MApanel91.positions\",\"w\")\n",
    "\n",
    "for line in IN:\n",
    "    loci = line.split()[1].split(\"_\")\n",
    "    OUT.write(loci[0]+\"\\t\"+loci[1]+\"\\n\")\n",
    "IN.close()\n",
    "OUT.close()"
   ]
  },
  {
   "cell_type": "code",
   "execution_count": null,
   "metadata": {
    "kernel": "python3"
   },
   "outputs": [],
   "source": []
  }
 ],
 "metadata": {
  "kernelspec": {
   "display_name": "SoS",
   "language": "sos",
   "name": "sos"
  },
  "language_info": {
   "codemirror_mode": "sos",
   "file_extension": ".sos",
   "mimetype": "text/x-sos",
   "name": "sos",
   "nbconvert_exporter": "sos_notebook.converter.SoS_Exporter",
   "pygments_lexer": "sos"
  },
  "sos": {
   "kernels": [
    [
     "R",
     "ir",
     "R",
     "#DCDCDA"
    ],
    [
     "SoS",
     "sos",
     "",
     ""
    ],
    [
     "bash",
     "bash",
     "bash",
     ""
    ],
    [
     "python3",
     "python3",
     "python",
     ""
    ]
   ],
   "version": "0.19.6"
  }
 },
 "nbformat": 4,
 "nbformat_minor": 2
}
