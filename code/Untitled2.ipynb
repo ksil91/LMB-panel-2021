{
 "cells": [
  {
   "cell_type": "code",
   "execution_count": 1,
   "metadata": {
    "kernel": "SoS"
   },
   "outputs": [],
   "source": [
    "vcf = \"./maf05mac4het9m3R50_2/populations.snps.vcf\"\n",
    "suffix = \"./maf05mac4het9m3R50_2/Making/filtered\""
   ]
  },
  {
   "cell_type": "code",
   "execution_count": 2,
   "metadata": {
    "kernel": "SoS"
   },
   "outputs": [
    {
     "name": "stderr",
     "output_type": "stream",
     "text": [
      "Failed to start kernel \"Bash\". Kernel died before replying to kernel_info\n",
      "Error Message:\n",
      "Traceback (most recent call last):\n",
      "  File \"/home/kes0132/.conda/envs/KSsos/lib/python3.6/site-packages/pexpect/spawnbase.py\", line 166, in read_nonblocking\n",
      "    s = os.read(self.child_fd, size)\n",
      "OSError: [Errno 5] Input/output error\n",
      "\n",
      "During handling of the above exception, another exception occurred:\n",
      "\n",
      "Traceback (most recent call last):\n",
      "  File \"/home/kes0132/.conda/envs/KSsos/lib/python3.6/site-packages/pexpect/expect.py\", line 111, in expect_loop\n",
      "    incoming = spawn.read_nonblocking(spawn.maxread, timeout)\n",
      "  File \"/home/kes0132/.conda/envs/KSsos/lib/python3.6/site-packages/pexpect/pty_spawn.py\", line 459, in read_nonblocking\n",
      "    incoming = super(spawn, self).read_nonblocking(size)\n",
      "  File \"/home/kes0132/.conda/envs/KSsos/lib/python3.6/site-packages/pexpect/spawnbase.py\", line 171, in read_nonblocking\n",
      "    raise EOF('End Of File (EOF). Exception style platform.')\n",
      "pexpect.exceptions.EOF: End Of File (EOF). Exception style platform.\n",
      "\n",
      "During handling of the above exception, another exception occurred:\n",
      "\n",
      "Traceback (most recent call last):\n",
      "  File \"/home/kes0132/.conda/envs/KSsos/lib/python3.6/runpy.py\", line 193, in _run_module_as_main\n",
      "    \"__main__\", mod_spec)\n",
      "  File \"/home/kes0132/.conda/envs/KSsos/lib/python3.6/runpy.py\", line 85, in _run_code\n",
      "    exec(code, run_globals)\n",
      "  File \"/home/kes0132/.conda/envs/KSsos/lib/python3.6/site-packages/bash_kernel/__main__.py\", line 3, in <module>\n",
      "    IPKernelApp.launch_instance(kernel_class=BashKernel)\n",
      "  File \"/home/kes0132/.conda/envs/KSsos/lib/python3.6/site-packages/traitlets/config/application.py\", line 657, in launch_instance\n",
      "    app.initialize(argv)\n",
      "  File \"</home/kes0132/.conda/envs/KSsos/lib/python3.6/site-packages/decorator.py:decorator-gen-124>\", line 2, in initialize\n",
      "  File \"/home/kes0132/.conda/envs/KSsos/lib/python3.6/site-packages/traitlets/config/application.py\", line 87, in catch_config_error\n",
      "    return method(app, *args, **kwargs)\n",
      "  File \"/home/kes0132/.conda/envs/KSsos/lib/python3.6/site-packages/ipykernel/kernelapp.py\", line 542, in initialize\n",
      "    self.init_kernel()\n",
      "  File \"/home/kes0132/.conda/envs/KSsos/lib/python3.6/site-packages/ipykernel/kernelapp.py\", line 447, in init_kernel\n",
      "    user_ns=self.user_ns,\n",
      "  File \"/home/kes0132/.conda/envs/KSsos/lib/python3.6/site-packages/traitlets/config/configurable.py\", line 412, in instance\n",
      "    inst = cls(*args, **kwargs)\n",
      "  File \"/home/kes0132/.conda/envs/KSsos/lib/python3.6/site-packages/bash_kernel/kernel.py\", line 81, in __init__\n",
      "    self._start_bash()\n",
      "  File \"/home/kes0132/.conda/envs/KSsos/lib/python3.6/site-packages/bash_kernel/kernel.py\", line 104, in _start_bash\n",
      "    line_output_callback=self.process_output)\n",
      "  File \"/home/kes0132/.conda/envs/KSsos/lib/python3.6/site-packages/bash_kernel/kernel.py\", line 33, in __init__\n",
      "    prompt_change, extra_init_cmd=extra_init_cmd)\n",
      "  File \"/home/kes0132/.conda/envs/KSsos/lib/python3.6/site-packages/pexpect/replwrap.py\", line 51, in __init__\n",
      "    prompt_change.format(new_prompt, continuation_prompt))\n",
      "  File \"/home/kes0132/.conda/envs/KSsos/lib/python3.6/site-packages/pexpect/replwrap.py\", line 61, in set_prompt\n",
      "    self.child.expect(orig_prompt)\n",
      "  File \"/home/kes0132/.conda/envs/KSsos/lib/python3.6/site-packages/pexpect/spawnbase.py\", line 341, in expect\n",
      "    timeout, searchwindowsize, async_)\n",
      "  File \"/home/kes0132/.conda/envs/KSsos/lib/python3.6/site-packages/pexpect/spawnbase.py\", line 369, in expect_list\n",
      "    return exp.expect_loop(timeout)\n",
      "  File \"/home/kes0132/.conda/envs/KSsos/lib/python3.6/site-packages/pexpect/expect.py\", line 117, in expect_loop\n",
      "    return self.eof(e)\n",
      "  File \"/home/kes0132/.conda/envs/KSsos/lib/python3.6/site-packages/pexpect/expect.py\", line 63, in eof\n",
      "    raise EOF(msg)\n",
      "pexpect.exceptions.EOF: End Of File (EOF). Exception style platform.\n",
      "<pexpect.pty_spawn.spawn object at 0x2aaaaeaaceb8>\n",
      "command: /home/kes0132/.conda/envs/KSsos/bin/bash\n",
      "args: [b'/home/kes0132/.conda/envs/KSsos/bin/bash', b'--rcfile', b'/home/kes0132/.conda/envs/KSsos/lib/python3.6/site-packages/pexpect/bashrc.sh']\n",
      "buffer (last 100 chars): ''\n",
      "before (last 100 chars): 'bash: xmalloc: locale.c:81: cannot allocate 2 bytes (0 bytes allocated)\\r\\n'\n",
      "after: <class 'pexpect.exceptions.EOF'>\n",
      "match: None\n",
      "match_index: None\n",
      "exitstatus: 2\n",
      "flag_eof: True\n",
      "pid: 10060\n",
      "child_fd: 38\n",
      "closed: False\n",
      "timeout: 30\n",
      "delimiter: <class 'pexpect.exceptions.EOF'>\n",
      "logfile: None\n",
      "logfile_read: None\n",
      "logfile_send: None\n",
      "maxread: 2000\n",
      "ignorecase: False\n",
      "searchwindowsize: None\n",
      "delaybeforesend: 0.05\n",
      "delayafterclose: 0.1\n",
      "delayafterterminate: 0.1\n",
      "searcher: searcher_re:\n",
      "    0: re.compile('\\\\$')\n",
      "Use of %expand magic in SoS cells is deprecated.\n",
      "File contains parsing errors: \n",
      "\t[line  2]: module load vcftools/v0.1.17\n",
      "\n",
      "vcftools --vcf ./maf05mac4het9m3R50_2/populations.snps.vcf --recode --recode-INFO-all \\\n",
      "--min-alleles 2 --max-alleles 2 \\\n",
      "--max-missing 0.75 \\\n",
      "\n",
      "Invalid statements: SyntaxError('invalid syntax', ('<string>', 1, 11, 'module load vcftools/v0.1.17\\n'))\n"
     ]
    }
   ],
   "source": [
    "%expand\n",
    "module load vcftools/v0.1.17\n",
    "\n",
    "vcftools --vcf {vcf} --recode --recode-INFO-all \\\n",
    "--min-alleles 2 --max-alleles 2 \\\n",
    "--max-missing 0.75 \\\n",
    "--out {suffix}"
   ]
  },
  {
   "cell_type": "code",
   "execution_count": null,
   "metadata": {
    "kernel": "Bash"
   },
   "outputs": [],
   "source": []
  }
 ],
 "metadata": {
  "kernelspec": {
   "display_name": "SoS",
   "language": "sos",
   "name": "sos"
  },
  "language_info": {
   "codemirror_mode": "sos",
   "file_extension": ".sos",
   "mimetype": "text/x-sos",
   "name": "sos",
   "nbconvert_exporter": "sos_notebook.converter.SoS_Exporter",
   "pygments_lexer": "sos"
  },
  "sos": {
   "kernels": [
    [
     "Bash",
     "bash",
     "Bash",
     "#E6EEFF",
     ""
    ],
    [
     "SoS",
     "sos",
     "",
     "",
     "sos"
    ]
   ],
   "version": "0.20.5"
  }
 },
 "nbformat": 4,
 "nbformat_minor": 4
}
