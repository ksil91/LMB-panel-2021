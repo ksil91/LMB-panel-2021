{
 "cells": [
  {
   "cell_type": "code",
   "execution_count": 1,
   "metadata": {},
   "outputs": [],
   "source": [
    "import pandas as pd\n",
    "import numpy as np"
   ]
  },
  {
   "cell_type": "code",
   "execution_count": 2,
   "metadata": {},
   "outputs": [],
   "source": [
    "# get file names from command line\n",
    "infile1 = \"08242020/GenotypeArea_Katherine_DB_CHIP796_DB52_082520_CHIP796_DB52_082520_2_AC.xls\"\n",
    "infile2 = \"08242020/GenotypeArea_Katherine_DB_CHIP797_DB39_082520_CHIP797_DB39_082520_2_AC.xls\""
   ]
  },
  {
   "cell_type": "code",
   "execution_count": 3,
   "metadata": {},
   "outputs": [],
   "source": [
    "# read in Genotypes sheet from excel file \n",
    "inxl52 = pd.ExcelFile(infile1)\n",
    "inxl39 = pd.ExcelFile(infile2)"
   ]
  },
  {
   "cell_type": "code",
   "execution_count": 10,
   "metadata": {},
   "outputs": [],
   "source": [
    "def p2f(x):\n",
    "    return float(x.strip('%'))/100\n",
    "\n",
    "db52_sample = inxl52.parse('Sample_Summary', converters={'CallRate':p2f})\n",
    "failed52_sampleDF = db52_sample[db52_sample['CallRate'] < 0.8]"
   ]
  },
  {
   "cell_type": "code",
   "execution_count": 11,
   "metadata": {},
   "outputs": [],
   "source": [
    "db39_sample = inxl39.parse('Sample_Summary', converters={'CallRate':p2f})\n",
    "failed39_sampleDF = db39_sample[db39_sample['CallRate'] < 0.8]"
   ]
  },
  {
   "cell_type": "code",
   "execution_count": 13,
   "metadata": {},
   "outputs": [
    {
     "data": {
      "text/html": [
       "<div>\n",
       "<table border=\"1\" class=\"dataframe\">\n",
       "  <thead>\n",
       "    <tr style=\"text-align: right;\">\n",
       "      <th></th>\n",
       "      <th>SAMPLE_NAME</th>\n",
       "      <th>WELL</th>\n",
       "      <th>CallRate_52</th>\n",
       "      <th>CallRate_39</th>\n",
       "    </tr>\n",
       "  </thead>\n",
       "  <tbody>\n",
       "    <tr>\n",
       "      <th>0</th>\n",
       "      <td>BR18158</td>\n",
       "      <td>C06</td>\n",
       "      <td>0.6923</td>\n",
       "      <td>0.9231</td>\n",
       "    </tr>\n",
       "    <tr>\n",
       "      <th>1</th>\n",
       "      <td>BR18164</td>\n",
       "      <td>G05</td>\n",
       "      <td>0.8846</td>\n",
       "      <td>0.0000</td>\n",
       "    </tr>\n",
       "    <tr>\n",
       "      <th>2</th>\n",
       "      <td>FLF17r</td>\n",
       "      <td>E08</td>\n",
       "      <td>0.7885</td>\n",
       "      <td>0.8205</td>\n",
       "    </tr>\n",
       "    <tr>\n",
       "      <th>3</th>\n",
       "      <td>LOM17128</td>\n",
       "      <td>G09</td>\n",
       "      <td>0.7692</td>\n",
       "      <td>0.7949</td>\n",
       "    </tr>\n",
       "    <tr>\n",
       "      <th>4</th>\n",
       "      <td>OC1761</td>\n",
       "      <td>D12</td>\n",
       "      <td>0.7885</td>\n",
       "      <td>0.7179</td>\n",
       "    </tr>\n",
       "    <tr>\n",
       "      <th>5</th>\n",
       "      <td>OC1774</td>\n",
       "      <td>B12</td>\n",
       "      <td>0.6538</td>\n",
       "      <td>0.8974</td>\n",
       "    </tr>\n",
       "    <tr>\n",
       "      <th>6</th>\n",
       "      <td>RM11r</td>\n",
       "      <td>H08</td>\n",
       "      <td>0.9038</td>\n",
       "      <td>0.6154</td>\n",
       "    </tr>\n",
       "    <tr>\n",
       "      <th>7</th>\n",
       "      <td>SR191304</td>\n",
       "      <td>C01</td>\n",
       "      <td>0.6731</td>\n",
       "      <td>0.8974</td>\n",
       "    </tr>\n",
       "  </tbody>\n",
       "</table>\n",
       "</div>"
      ],
      "text/plain": [
       "  SAMPLE_NAME WELL  CallRate_52  CallRate_39\n",
       "0     BR18158  C06       0.6923       0.9231\n",
       "1     BR18164  G05       0.8846       0.0000\n",
       "2      FLF17r  E08       0.7885       0.8205\n",
       "3    LOM17128  G09       0.7692       0.7949\n",
       "4      OC1761  D12       0.7885       0.7179\n",
       "5      OC1774  B12       0.6538       0.8974\n",
       "6       RM11r  H08       0.9038       0.6154\n",
       "7    SR191304  C01       0.6731       0.8974"
      ]
     },
     "execution_count": 13,
     "metadata": {},
     "output_type": "execute_result"
    }
   ],
   "source": [
    "union_bad_samp = set(failed52_sampleDF['SAMPLE_NAME']).union(set(failed39_sampleDF['SAMPLE_NAME']))\n",
    "fail52 = db52_sample[db52_sample['SAMPLE_NAME'].isin(union_bad_samp)]\n",
    "fail39 = db39_sample[db39_sample['SAMPLE_NAME'].isin(union_bad_samp)]\n",
    "fail52.merge(fail39,'outer',on=['SAMPLE_NAME','WELL'],suffixes=[\"_52\",\"_39\"])"
   ]
  },
  {
   "cell_type": "code",
   "execution_count": null,
   "metadata": {},
   "outputs": [],
   "source": []
  }
 ],
 "metadata": {
  "kernelspec": {
   "display_name": "Python 2",
   "language": "python",
   "name": "python2"
  },
  "language_info": {
   "codemirror_mode": {
    "name": "ipython",
    "version": 2
   },
   "file_extension": ".py",
   "mimetype": "text/x-python",
   "name": "python",
   "nbconvert_exporter": "python",
   "pygments_lexer": "ipython2",
   "version": "2.7.12"
  }
 },
 "nbformat": 4,
 "nbformat_minor": 2
}
