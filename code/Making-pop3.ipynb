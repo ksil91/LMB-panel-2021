{
 "cells": [
  {
   "cell_type": "markdown",
   "metadata": {
    "kernel": "SoS"
   },
   "source": [
    "Ryan: (maf) set to 0.05, minimum minor allele count (mac) set to\n",
    "10, and minimum locus coverage (max-missing) set to 0.1. Only SNPs called in 100% of individuals; 2) SNPs with observed heterozygosity larger than 0.6 were removed to avoid paralogous loci in the dataset (Li et al.,\n",
    "2014); 3) SNPs deviating from Hardy-Weinberg equilibrium (HWE, p-value < 0.01) in more\n",
    "than one population were removed; 4) SNP pairs that showed linkage disequilibrium (LD) with r2> 0.2 were pruned\n",
    "\n",
    "Bradburn: Call rates > 0.85, maf > 0.01 (or 0.05 in a pop)"
   ]
  },
  {
   "cell_type": "code",
   "execution_count": 6,
   "metadata": {
    "kernel": "SoS"
   },
   "outputs": [],
   "source": [
    "vcf = \"./maf05mac10het8m3R5r5_2/populations.snps.vcf\"\n",
    "suffix = \"./maf05mac10het8m3R5r5_2/Making/\""
   ]
  },
  {
   "cell_type": "code",
   "execution_count": 21,
   "metadata": {
    "kernel": "bash"
   },
   "outputs": [
    {
     "name": "stdout",
     "output_type": "stream",
     "text": [
      "\n",
      "VCFtools - 0.1.17\n",
      "(C) Adam Auton and Anthony Marcketta 2009\n",
      "\n",
      "Parameters as interpreted:\n",
      "\t--vcf ./maf05mac10het8m3R5r5_2/populations.snps.vcf\n",
      "\t--recode-INFO-all\n",
      "\t--min-alleles 2\n",
      "\t--max-missing 0.9\n",
      "\t--out ./maf05mac10het8m3R5r5_2/Making/m90\n",
      "\t--recode\n",
      "\n",
      "After filtering, kept 144 out of 144 Individuals\n",
      "Outputting VCF file...\n",
      "After filtering, kept 12321 out of a possible 27568 Sites\n",
      "Run Time = 11.00 seconds\n"
     ]
    }
   ],
   "source": [
    "%expand\n",
    "module load vcftools/v0.1.17\n",
    "\n",
    "vcftools --vcf {vcf} --recode --recode-INFO-all \\\n",
    "--min-alleles 2 \\\n",
    "--max-missing 0.9 \\\n",
    "--out {suffix}m90"
   ]
  },
  {
   "cell_type": "code",
   "execution_count": 22,
   "metadata": {
    "kernel": "bash"
   },
   "outputs": [
    {
     "name": "stdout",
     "output_type": "stream",
     "text": [
      "\n",
      "VCFtools - 0.1.17\n",
      "(C) Adam Auton and Anthony Marcketta 2009\n",
      "\n",
      "Parameters as interpreted:\n",
      "\t--vcf ./maf05mac10het8m3R5r5_2/Making/m90.recode.vcf\n",
      "\t--missing-indv\n",
      "\t--out ./maf05mac10het8m3R5r5_2/Making/m90\n",
      "\n",
      "After filtering, kept 144 out of 144 Individuals\n",
      "Outputting Individual Missingness\n",
      "After filtering, kept 12321 out of a possible 12321 Sites\n",
      "Run Time = 2.00 seconds\n"
     ]
    }
   ],
   "source": [
    "%expand\n",
    "vcftools --vcf {suffix}m90.recode.vcf --missing-indv --out {suffix}m90"
   ]
  },
  {
   "cell_type": "code",
   "execution_count": 23,
   "metadata": {
    "kernel": "bash"
   },
   "outputs": [
    {
     "name": "stdout",
     "output_type": "stream",
     "text": [
      "INDV\tN_DATA\tN_GENOTYPES_FILTERED\tN_MISS\tF_MISS\n",
      "ALL02\t12321\t0\t284\t0.0230501\n",
      "ALL03\t12321\t0\t3133\t0.254281\n",
      "ALL04\t12321\t0\t155\t0.0125801\n",
      "ALL05\t12321\t0\t239\t0.0193978\n",
      "ALL06\t12321\t0\t303\t0.0245922\n",
      "ALL11\t12321\t0\t60\t0.00486973\n",
      "ALL12\t12321\t0\t130\t0.0105511\n",
      "ALLATOONA01\t12321\t0\t140\t0.0113627\n",
      "ALLATOONA10\t12321\t0\t191\t0.015502\n",
      "CANOT11829\t12321\t0\t1097\t0.089035\n",
      "CANOT_11830\t12321\t0\t205\t0.0166383\n",
      "CANOT_11832\t12321\t0\t103\t0.00835971\n",
      "CANOT11837\t12321\t0\t644\t0.0522685\n",
      "CANOT11838\t12321\t0\t125\t0.0101453\n",
      "CANOT_2617\t12321\t0\t394\t0.0319779\n",
      "DB12041\t12321\t0\t2168\t0.17596\n",
      "DB2589\t12321\t0\t723\t0.0586803\n",
      "DB2590\t12321\t0\t128\t0.0103888\n",
      "DB_2592\t12321\t0\t141\t0.0114439\n",
      "DB_2593\t12321\t0\t1417\t0.115007\n",
      "DB2634\t12321\t0\t721\t0.058518\n",
      "DB2635\t12321\t0\t317\t0.0257284\n",
      "DB_2637\t12321\t0\t64\t0.00519438\n",
      "FL01\t12321\t0\t616\t0.0499959\n",
      "FL09\t12321\t0\t791\t0.0641993\n",
      "FL12\t12321\t0\t148\t0.012012\n",
      "FL15\t12321\t0\t173\t0.0140411\n",
      "FL16\t12321\t0\t187\t0.0151773\n",
      "FL20\t12321\t0\t114\t0.0092525\n",
      "FL21\t12321\t0\t240\t0.0194789\n",
      "FL23\t12321\t0\t369\t0.0299489\n",
      "FL30\t12321\t0\t113\t0.00917133\n",
      "FL55\t12321\t0\t600\t0.0486973\n",
      "FL60\t12321\t0\t180\t0.0146092\n",
      "FL64\t12321\t0\t139\t0.0112816\n",
      "FL68\t12321\t0\t147\t0.0119308\n",
      "FL70\t12321\t0\t128\t0.0103888\n",
      "FL71\t12321\t0\t581\t0.0471553\n",
      "FL72\t12321\t0\t285\t0.0231312\n",
      "FL73\t12321\t0\t85\t0.00689879\n",
      "FLAL01\t12321\t0\t459\t0.0372535\n",
      "FLAL01II\t12321\t0\t2945\t0.239023\n",
      "FLAL02\t12321\t0\t1390\t0.112816\n",
      "FLAL02II\t12321\t0\t1250\t0.101453\n",
      "FLAL03\t12321\t0\t2236\t0.181479\n",
      "FLAL04\t12321\t0\t1104\t0.0896031\n",
      "FLAL04II\t12321\t0\t1591\t0.129129\n",
      "FLF17\t12321\t0\t2651\t0.215161\n",
      "FLM10\t12321\t0\t131\t0.0106323\n",
      "FLM12\t12321\t0\t226\t0.0183427\n",
      "FLM13\t12321\t0\t117\t0.00949598\n",
      "FLM15\t12321\t0\t421\t0.0341693\n",
      "GU_36\t12321\t0\t717\t0.0581933\n",
      "GU_42\t12321\t0\t246\t0.0199659\n",
      "GU_45\t12321\t0\t108\t0.00876552\n",
      "GU46\t12321\t0\t170\t0.0137976\n",
      "GU51\t12321\t0\t141\t0.0114439\n",
      "GU55\t12321\t0\t174\t0.0141222\n",
      "GU56\t12321\t0\t126\t0.0102264\n",
      "GU57\t12321\t0\t380\t0.0308417\n",
      "GU_58\t12321\t0\t338\t0.0274328\n",
      "GU61\t12321\t0\t684\t0.055515\n",
      "LA006\t12321\t0\t2297\t0.18643\n",
      "LA015\t12321\t0\t376\t0.030517\n",
      "LA030\t12321\t0\t101\t0.00819739\n",
      "LA032\t12321\t0\t521\t0.0422855\n",
      "LA033\t12321\t0\t140\t0.0113627\n",
      "LA034\t12321\t0\t173\t0.0140411\n",
      "LA10_014\t12321\t0\t1538\t0.124828\n",
      "LA11_36\t12321\t0\t173\t0.0140411\n",
      "LA11_39\t12321\t0\t269\t0.0218326\n",
      "LAMAR2\t12321\t0\t76\t0.00616833\n",
      "LE04\t12321\t0\t147\t0.0119308\n",
      "LE05\t12321\t0\t265\t0.021508\n",
      "LE10\t12321\t0\t89\t0.00722344\n",
      "LE21\t12321\t0\t324\t0.0262966\n",
      "LE23\t12321\t0\t468\t0.0379839\n",
      "LHARD_32\t12321\t0\t110\t0.00892785\n",
      "LHARD_33\t12321\t0\t132\t0.0107134\n",
      "LHARD_34\t12321\t0\t747\t0.0606282\n",
      "LHARD_35\t12321\t0\t126\t0.0102264\n",
      "LHARD_36\t12321\t0\t89\t0.00722344\n",
      "MATT_01\t12321\t0\t216\t0.017531\n",
      "MATT_02\t12321\t0\t215\t0.0174499\n",
      "MATT_03\t12321\t0\t419\t0.034007\n",
      "MATT_04\t12321\t0\t242\t0.0196413\n",
      "MATT_05\t12321\t0\t94\t0.00762925\n",
      "MATT_06\t12321\t0\t410\t0.0332765\n",
      "MATT_07\t12321\t0\t112\t0.00909017\n",
      "MATT_08\t12321\t0\t649\t0.0526743\n",
      "MATT_09\t12321\t0\t426\t0.0345751\n",
      "MATT_10\t12321\t0\t188\t0.0152585\n",
      "Mill_17\t12321\t0\t2595\t0.210616\n",
      "Mill_18\t12321\t0\t808\t0.0655791\n",
      "Mill__22\t12321\t0\t943\t0.076536\n",
      "NB07\t12321\t0\t90\t0.0073046\n",
      "NB11\t12321\t0\t122\t0.00990179\n",
      "NB12\t12321\t0\t61\t0.0049509\n",
      "NB13\t12321\t0\t541\t0.0439088\n",
      "NB19\t12321\t0\t171\t0.0138787\n",
      "NBM01\t12321\t0\t149\t0.0120932\n",
      "Otter_12\t12321\t0\t494\t0.0400941\n",
      "Otter_13\t12321\t0\t335\t0.0271894\n",
      "Otter_16\t12321\t0\t134\t0.0108757\n",
      "Otter_17\t12321\t0\t79\t0.00641182\n",
      "Otter_19\t12321\t0\t291\t0.0236182\n",
      "Otter_21\t12321\t0\t226\t0.0183427\n",
      "Otter_23\t12321\t0\t217\t0.0176122\n",
      "Otter_4\t12321\t0\t1108\t0.0899278\n",
      "Otter_5\t12321\t0\t113\t0.00917133\n",
      "Otter_6\t12321\t0\t648\t0.0525931\n",
      "REELF_15612\t12321\t0\t240\t0.0194789\n",
      "REELF_15732\t12321\t0\t86\t0.00697995\n",
      "REELF_15745\t12321\t0\t257\t0.0208587\n",
      "REELF_15775\t12321\t0\t277\t0.0224819\n",
      "RM09\t12321\t0\t750\t0.0608717\n",
      "RM1\t12321\t0\t77\t0.00624949\n",
      "RM11\t12321\t0\t184\t0.0149339\n",
      "RM12\t12321\t0\t94\t0.00762925\n",
      "RM13\t12321\t0\t126\t0.0102264\n",
      "SIPS_09\t12321\t0\t117\t0.00949598\n",
      "SIPS_110\t12321\t0\t152\t0.0123367\n",
      "SIPS_114\t12321\t0\t89\t0.00722344\n",
      "SIPS_13\t12321\t0\t142\t0.011525\n",
      "SIPS_14\t12321\t0\t148\t0.012012\n",
      "SIPS_18\t12321\t0\t50\t0.00405811\n",
      "SIPS_20\t12321\t0\t66\t0.00535671\n",
      "SIPS_26\t12321\t0\t81\t0.00657414\n",
      "SIPS_27\t12321\t0\t106\t0.0086032\n",
      "SIPS_32\t12321\t0\t200\t0.0162324\n",
      "SL04\t12321\t0\t1447\t0.117442\n",
      "SL10\t12321\t0\t575\t0.0466683\n",
      "SL11\t12321\t0\t764\t0.062008\n",
      "SL14\t12321\t0\t341\t0.0276763\n",
      "SL15\t12321\t0\t286\t0.0232124\n",
      "SL16\t12321\t0\t549\t0.0445581\n",
      "SL19\t12321\t0\t505\t0.0409869\n",
      "SL2\t12321\t0\t288\t0.0233747\n",
      "SL8\t12321\t0\t1288\t0.104537\n",
      "Sipsey_122\t12321\t0\t261\t0.0211833\n",
      "Sipsey_123\t12321\t0\t489\t0.0396883\n",
      "Sipsey_124\t12321\t0\t57\t0.00462625\n",
      "TN11851\t12321\t0\t522\t0.0423667\n",
      "TN11855\t12321\t0\t1184\t0.0960961\n"
     ]
    }
   ],
   "source": [
    "%expand\n",
    "cat {suffix}m90.imiss"
   ]
  },
  {
   "cell_type": "code",
   "execution_count": 24,
   "metadata": {
    "kernel": "bash"
   },
   "outputs": [
    {
     "name": "stdout",
     "output_type": "stream",
     "text": [
      "Processing population: Big_Bayou_Canot (6 inds)\n",
      "Processing population: DOlive_Bay (8 inds)\n",
      "Processing population: FL_ASF (7 inds)\n",
      "Processing population: FL_Bass_Cons (5 inds)\n",
      "Processing population: Lake_Allatoona1 (5 inds)\n",
      "Processing population: Lake_Allatoona2 (4 inds)\n",
      "Processing population: Lake_Guntersville (10 inds)\n",
      "Processing population: Lake_Harding (5 inds)\n",
      "Processing population: Lake_Mattoon (10 inds)\n",
      "Processing population: Lake_Otter (10 inds)\n",
      "Processing population: Lamar_County_Lake (1 inds)\n",
      "Processing population: Lay_Lake (9 inds)\n",
      "Processing population: Mill_Creek (3 inds)\n",
      "Processing population: Northern_ASF (6 inds)\n",
      "Processing population: Reelfoot (4 inds)\n",
      "Processing population: Reeves_Branch (5 inds)\n",
      "Processing population: Rocky_Mt_PFA (5 inds)\n",
      "Processing population: Sipsey_River (13 inds)\n",
      "Processing population: St_Johns_River (17 inds)\n",
      "Processing population: Sugar_Lake (9 inds)\n",
      "Processing population: Tensaw_Lake (2 inds)\n",
      "Outputting results of HWE test for filtered loci to 'filtered.hwe'\n",
      "Kept 12162 of a possible 12321 loci (filtered 159 loci)\n"
     ]
    }
   ],
   "source": [
    "%expand\n",
    "module load vcftools/v0.1.17\n",
    "## Filtering out loci that depart HWE in at least 2 populations with a p-value cutoff of 0.05\n",
    "\n",
    "../../../Scripts/filter_hwe_by_pop.pl -v {suffix}m90.recode.vcf \\\n",
    "-p ./NFLDB.location -h 0.05 -c 0.08 -o {suffix}m90-hwPbi\n",
    "\n",
    "mv exclude.hwe exclude.txt\n",
    "## remove intermediate files\n",
    "rm *.inds\n",
    "## Remove these if you don't want to inspect HWE results\n",
    "rm *.hwe"
   ]
  },
  {
   "cell_type": "markdown",
   "metadata": {
    "kernel": "bash"
   },
   "source": [
    "## All filtered SNPs (unlinked)"
   ]
  },
  {
   "cell_type": "code",
   "execution_count": 25,
   "metadata": {
    "kernel": "bash"
   },
   "outputs": [
    {
     "name": "stdout",
     "output_type": "stream",
     "text": [
      "sort -k1,1d -k2,2n\n"
     ]
    }
   ],
   "source": [
    "%expand\n",
    "module load tabix/0.2.6\n",
    "module load samtools/1.6\n",
    "module load bcftools/1.3.2\n",
    "\n",
    "cp {suffix}m90-hwPbi.recode.vcf {suffix}m90-hwPbicp.recode.vcf\n",
    "vcf-sort {suffix}m90-hwPbicp.recode.vcf > {suffix}m90-hwPbicp.sorted.vcf\n",
    "bgzip {suffix}m90-hwPbicp.sorted.vcf\n",
    "tabix -p vcf {suffix}m90-hwPbicp.sorted.vcf.gz"
   ]
  },
  {
   "cell_type": "code",
   "execution_count": 26,
   "metadata": {
    "kernel": "bash"
   },
   "outputs": [
    {
     "name": "stdout",
     "output_type": "stream",
     "text": [
      "7285\n"
     ]
    }
   ],
   "source": [
    "%expand\n",
    "module load bcftools/1.3.2\n",
    "\n",
    "bcftools +prune {suffix}m90-hwPbicp.sorted.vcf.gz -l 0.2 -n 1 -w 1000 \\\n",
    "-Ov -o {suffix}m90-hwPbi-thinned.vcf\n",
    "grep -v \"#\" {suffix}m90-hwPbi-thinned.vcf | wc -l"
   ]
  },
  {
   "cell_type": "code",
   "execution_count": 13,
   "metadata": {
    "kernel": "ir"
   },
   "outputs": [
    {
     "data": {
      "text/html": [
       "'/gpfs01/home/kes0132/Delta/Stacks_Assembly/MyStacks'"
      ],
      "text/latex": [
       "'/gpfs01/home/kes0132/Delta/Stacks\\_Assembly/MyStacks'"
      ],
      "text/markdown": [
       "'/gpfs01/home/kes0132/Delta/Stacks_Assembly/MyStacks'"
      ],
      "text/plain": [
       "[1] \"/gpfs01/home/kes0132/Delta/Stacks_Assembly/MyStacks\""
      ]
     },
     "metadata": {},
     "output_type": "display_data"
    }
   ],
   "source": [
    "getwd()"
   ]
  },
  {
   "cell_type": "code",
   "execution_count": 27,
   "metadata": {
    "kernel": "ir"
   },
   "outputs": [],
   "source": [
    "library(radiator)"
   ]
  },
  {
   "cell_type": "code",
   "execution_count": 15,
   "metadata": {
    "kernel": "ir"
   },
   "outputs": [],
   "source": [
    "%expand\n",
    "setwd(\"{suffix}\")"
   ]
  },
  {
   "cell_type": "code",
   "execution_count": 28,
   "metadata": {
    "kernel": "ir"
   },
   "outputs": [
    {
     "name": "stderr",
     "output_type": "stream",
     "text": [
      "Execution date@time: 20191009@1348\n",
      "Folder created: read_vcf_20191009@1348\n",
      "Function call and arguments stored in: radiator_read_vcf_args_20191009@1348.tsv\n",
      "File written: random.seed (524696)\n",
      "\n",
      "Reading VCF\n",
      "Data summary: \n",
      "    number of samples: 144\n",
      "    number of markers: 7285\n",
      "done! timing: 7 sec\n",
      "\n",
      "\n",
      "File written: radiator_20191009@1348.gds\n",
      "\n",
      "Analyzing the data...\n",
      "VCF source: Stacks v2.4\n",
      "Data is bi-allelic\n",
      "Cleaning VCF's sample names\n",
      "Synchronizing data and strata...\n",
      "    Number of strata: 4\n",
      "    Number of individuals: 144\n",
      "Reads assembly: de novo\n",
      "Filters parameters file generated: filters_parameters_20191009@1348.tsv\n",
      "Filters parameters file: initiated and updated\n"
     ]
    },
    {
     "name": "stdout",
     "output_type": "stream",
     "text": [
      "################################################################################\n",
      "########################### radiator::filter_monomorphic #######################\n",
      "################################################################################\n"
     ]
    },
    {
     "name": "stderr",
     "output_type": "stream",
     "text": [
      "Execution date@time: 20191009@1348\n",
      "Function call and arguments stored in: radiator_filter_monomorphic_args_20191009@1348.tsv\n",
      "Filters parameters file: initiated\n",
      "File written: whitelist.polymorphic.markers_20191009@1348.tsv\n",
      "Filters parameters file: updated\n"
     ]
    },
    {
     "name": "stdout",
     "output_type": "stream",
     "text": [
      "################################### RESULTS ####################################\n"
     ]
    },
    {
     "name": "stderr",
     "output_type": "stream",
     "text": [
      "\n",
      "Filter monomorphic markers\n",
      "Number of individuals / strata / chrom / locus / SNP:\n",
      "    Before: 144 / 4 / 1 / 7285 / 7285\n",
      "    Blacklisted: 0 / 0 / 0 / 0 / 0\n",
      "    After: 144 / 4 / 1 / 7285 / 7285\n",
      "\n",
      "Computation time, overall: 0 sec\n"
     ]
    },
    {
     "name": "stdout",
     "output_type": "stream",
     "text": [
      "######################## filter_monomorphic completed ##########################\n"
     ]
    },
    {
     "name": "stderr",
     "output_type": "stream",
     "text": [
      "\n",
      "Preparing output files...\n",
      "File written: whitelist.markers.tsv\n",
      "Writing the filtered strata: strata.filtered.tsvstrata.filtered.tsv\n",
      "\n",
      "Generating statistics after filtering\n",
      "Generating individual stats...\n"
     ]
    },
    {
     "name": "stdout",
     "output_type": "stream",
     "text": [
      "[==================================================] 100%, completed in 0s\n"
     ]
    },
    {
     "name": "stderr",
     "output_type": "stream",
     "text": [
      "File written: individuals qc info and stats summary\n",
      "File written: individuals qc plot\n",
      "Generating markers stats...\n"
     ]
    },
    {
     "name": "stdout",
     "output_type": "stream",
     "text": [
      "[==================================================] 100%, completed in 0s\n",
      "[==================================================] 100%, completed in 0s\n",
      "################################### SUMMARY ####################################\n"
     ]
    },
    {
     "name": "stderr",
     "output_type": "stream",
     "text": [
      "\n",
      "\n",
      "Summary (AFTER filtering):\n",
      "Missing data: \n",
      "    markers: 0.04\n",
      "    individuals: 0.04\n",
      "\n",
      "\n",
      "Coverage info:\n",
      "    individuals mean read depth: 85699\n",
      "    individuals mean genotype coverage: 12\n",
      "    markers mean coverage: 12\n",
      "\n",
      "\n",
      "Number of chromosome/contig/scaffold: 1\n",
      "Number of locus: 7285\n",
      "Number of markers: 7285\n",
      "Number of populations: 4\n",
      "Number of individuals: 144\n",
      "\n",
      "Number of ind/pop:\n",
      "NB = 42\n",
      "DB = 29\n",
      "FL = 29\n",
      "ILMB = 44\n",
      "\n",
      "Number of duplicate id: 0\n",
      "radiator Genomic Data Structure (GDS) file: radiator_20191009@1348.gds\n",
      "\n",
      "Computation time, overall: 14 sec\n"
     ]
    },
    {
     "data": {
      "image/png": "[encoded data removed]",
      "text/plain": [
       "plot without title"
      ]
     },
     "metadata": {},
     "output_type": "display_data"
    },
    {
     "name": "stdout",
     "output_type": "stream",
     "text": [
      "############################## completed read_vcf ##############################\n"
     ]
    },
    {
     "data": {
      "image/png": "[encoded data removed]",
      "text/plain": [
       "plot without title"
      ]
     },
     "metadata": {},
     "output_type": "display_data"
    }
   ],
   "source": [
    "%expand\n",
    "data = read_vcf(\"m90-hwPbi-thinned.vcf\", strata = \"../../NFLDB.strata\",\n",
    "        vcf.stats = TRUE, parallel.core = 1, filter.common.markers = F,pop.levels=c(\"NB\",\"DB\",\"FL\",\"ILMB\"))\n"
   ]
  },
  {
   "cell_type": "code",
   "execution_count": 29,
   "metadata": {
    "kernel": "ir"
   },
   "outputs": [
    {
     "name": "stdout",
     "output_type": "stream",
     "text": [
      "################################################################################\n",
      "########################## radiator::genomic_converter #########################\n",
      "################################################################################\n"
     ]
    },
    {
     "name": "stderr",
     "output_type": "stream",
     "text": [
      "Execution date@time: 20191009@1349\n",
      "\n",
      "Deprecated arguments identified inside \"...\": \n",
      "    pop.levels\n",
      "\n",
      "Read documentation, for latest changes, and modify your codes!\n",
      "\n",
      "Folder created: 03_radiator_genomic_converter_20191009@1349\n",
      "Function call and arguments stored in: radiator_genomic_converter_args_20191009@1349.tsv\n",
      "Filters parameters file generated: filters_parameters_20191009@1349.tsv\n",
      "\n",
      "Importing data\n",
      "\n",
      "Synchronizing data and strata...\n",
      "    Number of strata: 4\n",
      "    Number of individuals: 144\n",
      "\n",
      "Writing tidy data set:\n",
      "P3-allfiltu.rad\n",
      "\n",
      "Preparing data for output\n",
      "\n",
      "Data is bi-allelic\n",
      "Calibrating REF/ALT alleles...\n",
      "    number of REF/ALT switch = 3\n",
      "Generating structure file\n",
      "Generating adegenet genind object\n"
     ]
    },
    {
     "name": "stdout",
     "output_type": "stream",
     "text": [
      "################################### RESULTS ####################################\n"
     ]
    },
    {
     "name": "stderr",
     "output_type": "stream",
     "text": [
      "Data format of input: SeqVarGDSClass\n",
      "Biallelic data\n",
      "Number of markers: 7285\n",
      "Number of chromosome/contig/scaffold: 1\n",
      "Number of strata: 4\n",
      "Number of individuals: 144\n",
      "\n",
      "Computation time, overall: 51 sec\n"
     ]
    },
    {
     "name": "stdout",
     "output_type": "stream",
     "text": [
      "######################### genomic_converter completed ##########################\n"
     ]
    }
   ],
   "source": [
    "outs = genomic_converter(data, strata=\"../../NFLDB.strata\", \n",
    "                  output = c(\"genind\",\"structure\"),\n",
    "                 parallel.core = 4, filename = \"P3-allfiltu\", pop.levels=c(\"NB\",\"DB\",\"FL\",\"ILMB\"))"
   ]
  },
  {
   "cell_type": "code",
   "execution_count": 30,
   "metadata": {
    "kernel": "ir"
   },
   "outputs": [
    {
     "data": {
      "text/plain": [
       "/// GENIND OBJECT /////////\n",
       "\n",
       " // 144 individuals; 7,285 loci; 14,570 alleles; size: 12.2 Mb\n",
       "\n",
       " // Basic content\n",
       "   @tab:  144 x 14570 matrix of allele counts\n",
       "   @loc.n.all: number of alleles per locus (range: 2-2)\n",
       "   @loc.fac: locus factor for the 14570 columns of @tab\n",
       "   @all.names: list of allele names for each locus\n",
       "   @ploidy: ploidy of each individual  (range: 2-2)\n",
       "   @type:  codom\n",
       "   @call: radiator::write_genind(data = input, write = TRUE)\n",
       "\n",
       " // Optional content\n",
       "   @pop: population of each individual (group size range: 29-44)\n",
       "   @strata: a data frame with 2 columns ( INDIVIDUALS, POP_ID )"
      ]
     },
     "metadata": {},
     "output_type": "display_data"
    }
   ],
   "source": [
    "outs$genind"
   ]
  },
  {
   "cell_type": "code",
   "execution_count": 31,
   "metadata": {
    "kernel": "ir"
   },
   "outputs": [],
   "source": [
    "allfiltu = outs$genind\n",
    "save(allfiltu, file=\"P3-allfiltu.genind\")"
   ]
  },
  {
   "cell_type": "code",
   "execution_count": null,
   "metadata": {
    "kernel": "bash"
   },
   "outputs": [],
   "source": []
  },
  {
   "cell_type": "markdown",
   "metadata": {
    "kernel": "bash"
   },
   "source": [
    "## Fixed within at least 2 pops"
   ]
  },
  {
   "cell_type": "code",
   "execution_count": 164,
   "metadata": {
    "kernel": "python3"
   },
   "outputs": [],
   "source": [
    "import pandas as pd\n",
    "infile =\"./maf05mac4het9m3R50_2/populations.sumstats.tsv\"\n",
    "\n",
    "IN = pd.read_table(infile,header=4)"
   ]
  },
  {
   "cell_type": "code",
   "execution_count": 165,
   "metadata": {
    "kernel": "python3"
   },
   "outputs": [
    {
     "data": {
      "text/plain": [
       "# Locus ID                int64\n",
       "Chr                       int64\n",
       "BP                        int64\n",
       "Col                       int64\n",
       "Pop ID                   object\n",
       "P Nuc                    object\n",
       "Q Nuc                    object\n",
       "N                         int64\n",
       "P                       float64\n",
       "Obs Het                 float64\n",
       "Obs Hom                 float64\n",
       "Exp Het                 float64\n",
       "Exp Hom                 float64\n",
       "Pi                      float64\n",
       "Smoothed Pi             float64\n",
       "Smoothed Pi P-value     float64\n",
       "Fis                     float64\n",
       "Smoothed Fis            float64\n",
       "Smoothed Fis P-value    float64\n",
       "HWE P-value             float64\n",
       "Private                   int64\n",
       "dtype: object"
      ]
     },
     "execution_count": 165,
     "metadata": {},
     "output_type": "execute_result"
    }
   ],
   "source": [
    "IN.dtypes"
   ]
  },
  {
   "cell_type": "code",
   "execution_count": 166,
   "metadata": {
    "kernel": "python3"
   },
   "outputs": [],
   "source": [
    "filt = IN[[\"# Locus ID\",\"Pop ID\",\"P\",\"Obs Het\",\"Private\"]]"
   ]
  },
  {
   "cell_type": "code",
   "execution_count": 167,
   "metadata": {
    "kernel": "python3"
   },
   "outputs": [
    {
     "data": {
      "text/html": [
       "<div>\n",
       "<style scoped>\n",
       "    .dataframe tbody tr th:only-of-type {\n",
       "        vertical-align: middle;\n",
       "    }\n",
       "\n",
       "    .dataframe tbody tr th {\n",
       "        vertical-align: top;\n",
       "    }\n",
       "\n",
       "    .dataframe thead th {\n",
       "        text-align: right;\n",
       "    }\n",
       "</style>\n",
       "<table border=\"1\" class=\"dataframe\">\n",
       "  <thead>\n",
       "    <tr style=\"text-align: right;\">\n",
       "      <th></th>\n",
       "      <th># Locus ID</th>\n",
       "      <th>Pop ID</th>\n",
       "      <th>P</th>\n",
       "      <th>Obs Het</th>\n",
       "      <th>Private</th>\n",
       "    </tr>\n",
       "  </thead>\n",
       "  <tbody>\n",
       "    <tr>\n",
       "      <td>0</td>\n",
       "      <td>127</td>\n",
       "      <td>ILMB</td>\n",
       "      <td>0.625000</td>\n",
       "      <td>0.36111</td>\n",
       "      <td>0</td>\n",
       "    </tr>\n",
       "    <tr>\n",
       "      <td>1</td>\n",
       "      <td>127</td>\n",
       "      <td>DB</td>\n",
       "      <td>0.379310</td>\n",
       "      <td>0.34483</td>\n",
       "      <td>0</td>\n",
       "    </tr>\n",
       "    <tr>\n",
       "      <td>2</td>\n",
       "      <td>127</td>\n",
       "      <td>NB</td>\n",
       "      <td>0.646341</td>\n",
       "      <td>0.41463</td>\n",
       "      <td>0</td>\n",
       "    </tr>\n",
       "    <tr>\n",
       "      <td>3</td>\n",
       "      <td>178</td>\n",
       "      <td>ILMB</td>\n",
       "      <td>0.845238</td>\n",
       "      <td>0.30952</td>\n",
       "      <td>0</td>\n",
       "    </tr>\n",
       "    <tr>\n",
       "      <td>4</td>\n",
       "      <td>178</td>\n",
       "      <td>DB</td>\n",
       "      <td>0.948276</td>\n",
       "      <td>0.10345</td>\n",
       "      <td>0</td>\n",
       "    </tr>\n",
       "  </tbody>\n",
       "</table>\n",
       "</div>"
      ],
      "text/plain": [
       "   # Locus ID Pop ID         P  Obs Het  Private\n",
       "0         127   ILMB  0.625000  0.36111        0\n",
       "1         127     DB  0.379310  0.34483        0\n",
       "2         127     NB  0.646341  0.41463        0\n",
       "3         178   ILMB  0.845238  0.30952        0\n",
       "4         178     DB  0.948276  0.10345        0"
      ]
     },
     "execution_count": 167,
     "metadata": {},
     "output_type": "execute_result"
    }
   ],
   "source": [
    "filt.iloc[0:5]"
   ]
  },
  {
   "cell_type": "code",
   "execution_count": 168,
   "metadata": {
    "kernel": "python3"
   },
   "outputs": [],
   "source": [
    "fixed = filt[filt['P'] ==1.0]\n",
    "floc = set(fixed['# Locus ID'].tolist())\n",
    "f = filt[filt['# Locus ID'].isin(floc)]"
   ]
  },
  {
   "cell_type": "code",
   "execution_count": 169,
   "metadata": {
    "kernel": "python3"
   },
   "outputs": [
    {
     "data": {
      "text/plain": [
       "25835"
      ]
     },
     "execution_count": 169,
     "metadata": {},
     "output_type": "execute_result"
    }
   ],
   "source": [
    "len(floc)"
   ]
  },
  {
   "cell_type": "code",
   "execution_count": 170,
   "metadata": {
    "kernel": "python3"
   },
   "outputs": [],
   "source": [
    "goodLoc =[]\n",
    "for loc in floc:\n",
    "    for row in f[f['# Locus ID'] == loc].itertuples(index=True):\n",
    "        if row.P < 0.03:\n",
    "            goodLoc.append(row._1)\n"
   ]
  },
  {
   "cell_type": "code",
   "execution_count": 171,
   "metadata": {
    "kernel": "python3"
   },
   "outputs": [
    {
     "data": {
      "text/plain": [
       "6471"
      ]
     },
     "execution_count": 171,
     "metadata": {},
     "output_type": "execute_result"
    }
   ],
   "source": [
    "len(set(goodLoc))"
   ]
  },
  {
   "cell_type": "code",
   "execution_count": 172,
   "metadata": {
    "kernel": "python3"
   },
   "outputs": [],
   "source": [
    "x = IN[IN['# Locus ID'].isin(goodLoc)]"
   ]
  },
  {
   "cell_type": "code",
   "execution_count": 185,
   "metadata": {
    "kernel": "python3"
   },
   "outputs": [
    {
     "name": "stdout",
     "output_type": "stream",
     "text": [
      "8464\n"
     ]
    }
   ],
   "source": [
    "%expand\n",
    "positions = []\n",
    "OUT = open(\"{suffix}fixed.positions\",\"w\")\n",
    "OUTr = open(\"{suffix}fixed_R.positions\",\"w\")\n",
    "OUTr.write(\"LOCUS\\tPOS\\n\")\n",
    "n=0\n",
    "for row in x.itertuples(index=True):\n",
    "    if (row.Chr, row.BP) not in positions:\n",
    "        positions.append((row.Chr, row.BP))\n",
    "        OUT.write(str(row.Chr)+\"\\t\"+str(row.BP)+\"\\n\")\n",
    "        OUTr.write(str(row.Chr)+\"\\t\"+str(row.BP)+\"\\n\")\n",
    "        n+=1\n",
    "OUT.close()\n",
    "OUTr.close()\n",
    "print(n)"
   ]
  },
  {
   "cell_type": "code",
   "execution_count": 12,
   "metadata": {
    "kernel": "bash"
   },
   "outputs": [
    {
     "name": "stdout",
     "output_type": "stream",
     "text": [
      "\n",
      "VCFtools - 0.1.17\n",
      "(C) Adam Auton and Anthony Marcketta 2009\n",
      "\n",
      "Parameters as interpreted:\n",
      "\t--vcf ./maf05mac4het9m3R50_2/Making/m85-hwPbi.recode.vcf\n",
      "\t--recode-INFO-all\n",
      "\t--out ./maf05mac4het9m3R50_2/Making/m85-hwPBi-fixed\n",
      "\t--positions ./maf05mac4het9m3R50_2/Making/fixed.positions\n",
      "\t--recode\n",
      "\n",
      "After filtering, kept 144 out of 144 Individuals\n",
      "Outputting VCF file...\n",
      "After filtering, kept 3937 out of a possible 15078 Sites\n",
      "Run Time = 4.00 seconds\n"
     ]
    }
   ],
   "source": [
    "%expand\n",
    "module load vcftools/v0.1.17\n",
    "\n",
    "vcftools --vcf {suffix}m85-hwPbi.recode.vcf --recode \\\n",
    "--recode-INFO-all --positions {suffix}fixed.positions \\\n",
    "--out {suffix}m85-hwPBi-fixed"
   ]
  },
  {
   "cell_type": "code",
   "execution_count": 23,
   "metadata": {
    "jupyter": {
     "source_hidden": true
    },
    "kernel": "ir",
    "scrolled": true
   },
   "outputs": [
    {
     "name": "stderr",
     "output_type": "stream",
     "text": [
      "Execution date@time: 20190926@1402\n",
      "Folder created: read_vcf_20190926@1402\n",
      "Function call and arguments stored in: radiator_read_vcf_args_20190926@1402.tsv\n",
      "File written: random.seed (482548)\n",
      "\n",
      "Reading VCF\n",
      "Data summary: \n",
      "    number of samples: 144\n",
      "    number of markers: 3937\n",
      "done! timing: 3 sec\n",
      "\n",
      "\n",
      "File written: radiator_20190926@1402.gds\n",
      "\n",
      "Analyzing the data...\n",
      "VCF source: Stacks v2.4\n",
      "Data is bi-allelic\n",
      "Cleaning VCF's sample names\n",
      "Synchronizing data and strata...\n",
      "    Number of strata: 4\n",
      "    Number of individuals: 144\n",
      "Reads assembly: de novo\n",
      "Filters parameters file generated: filters_parameters_20190926@1402.tsv\n",
      "Filters parameters file: initiated and updated\n"
     ]
    },
    {
     "name": "stdout",
     "output_type": "stream",
     "text": [
      "################################################################################\n",
      "########################### radiator::filter_monomorphic #######################\n",
      "################################################################################\n"
     ]
    },
    {
     "name": "stderr",
     "output_type": "stream",
     "text": [
      "Execution date@time: 20190926@1402\n",
      "Function call and arguments stored in: radiator_filter_monomorphic_args_20190926@1402.tsv\n",
      "Filters parameters file: initiated\n",
      "File written: whitelist.polymorphic.markers_20190926@1402.tsv\n",
      "Filters parameters file: updated\n"
     ]
    },
    {
     "name": "stdout",
     "output_type": "stream",
     "text": [
      "################################### RESULTS ####################################\n"
     ]
    },
    {
     "name": "stderr",
     "output_type": "stream",
     "text": [
      "\n",
      "Filter monomorphic markers\n",
      "Number of individuals / strata / chrom / locus / SNP:\n",
      "    Before: 144 / 4 / 1 / 2229 / 3937\n",
      "    Blacklisted: 0 / 0 / 0 / 0 / 0\n",
      "    After: 144 / 4 / 1 / 2229 / 3937\n",
      "\n",
      "Computation time, overall: 0 sec\n"
     ]
    },
    {
     "name": "stdout",
     "output_type": "stream",
     "text": [
      "######################## filter_monomorphic completed ##########################\n"
     ]
    },
    {
     "name": "stderr",
     "output_type": "stream",
     "text": [
      "\n",
      "Preparing output files...\n",
      "File written: whitelist.markers.tsv\n",
      "Writing the filtered strata: strata.filtered.tsvstrata.filtered.tsv\n",
      "\n",
      "Generating statistics after filtering\n",
      "Generating individual stats...\n",
      "File written: individuals qc info and stats summary\n",
      "File written: individuals qc plot\n",
      "Generating markers stats...\n"
     ]
    },
    {
     "name": "stdout",
     "output_type": "stream",
     "text": [
      "################################### SUMMARY ####################################\n"
     ]
    },
    {
     "name": "stderr",
     "output_type": "stream",
     "text": [
      "\n",
      "\n",
      "Summary (AFTER filtering):\n",
      "Missing data: \n",
      "    markers: 0.06\n",
      "    individuals: 0.06\n",
      "\n",
      "\n",
      "Coverage info:\n",
      "    individuals mean read depth: 41006\n",
      "    individuals mean genotype coverage: 11\n",
      "    markers mean coverage: 11\n",
      "\n",
      "\n",
      "Number of chromosome/contig/scaffold: 1\n",
      "Number of locus: 2229\n",
      "Number of markers: 3937\n",
      "Number of populations: 4\n",
      "Number of individuals: 144\n",
      "\n",
      "Number of ind/pop:\n",
      "ILMB = 44\n",
      "DB = 29\n",
      "FL = 29\n",
      "NB = 42\n",
      "\n",
      "Number of duplicate id: 0\n",
      "radiator Genomic Data Structure (GDS) file: radiator_20190926@1402.gds\n",
      "\n",
      "Computation time, overall: 10 sec\n"
     ]
    },
    {
     "data": {
      "image/png": "[encoded data removed]",
      "text/plain": [
       "plot without title"
      ]
     },
     "metadata": {},
     "output_type": "display_data"
    },
    {
     "name": "stdout",
     "output_type": "stream",
     "text": [
      "############################## completed read_vcf ##############################\n"
     ]
    },
    {
     "data": {
      "image/png": "[encoded data removed]",
      "text/plain": [
       "plot without title"
      ]
     },
     "metadata": {},
     "output_type": "display_data"
    }
   ],
   "source": [
    "%expand\n",
    "data = read_vcf(\"m85-hwPBi-fixed.recode.vcf\", strata = \"../../NFLDB.strata\",\n",
    "        vcf.stats = TRUE, parallel.core = 4, filter.common.markers = F)\n"
   ]
  },
  {
   "cell_type": "code",
   "execution_count": null,
   "metadata": {
    "jupyter": {
     "source_hidden": true
    },
    "kernel": "ir"
   },
   "outputs": [],
   "source": [
    "#dataLD = filter_ld(data, interactive.filter = F, filter.short.ld = \"mac\",\n",
    "#  filter.long.ld = 0.7, parallel.core = 4, long.ld.missing = TRUE,\n",
    "#  filename = \"filtered_hwld\")"
   ]
  },
  {
   "cell_type": "code",
   "execution_count": null,
   "metadata": {
    "jupyter": {
     "source_hidden": true
    },
    "kernel": "ir"
   },
   "outputs": [],
   "source": [
    "genomic_converter(dataLD, strata=\"../../NFLDB.strata\", \n",
    "                  output = c(\"genind\",\"structure\",\"vcf\"),\n",
    "                 parallel.core = 4, filename = \"hwp3t1ld7\")"
   ]
  },
  {
   "cell_type": "code",
   "execution_count": 178,
   "metadata": {
    "kernel": "bash"
   },
   "outputs": [],
   "source": [
    "%expand\n",
    "module load tabix/0.2.6\n",
    "module load samtools/1.6\n",
    "\n",
    "bgzip {suffix}m85-hwPBi-fixed.recode.vcf \n",
    "tabix -p vcf {suffix}m85-hwPBi-fixed.recode.vcf.gz"
   ]
  },
  {
   "cell_type": "code",
   "execution_count": 179,
   "metadata": {
    "kernel": "bash"
   },
   "outputs": [
    {
     "name": "stdout",
     "output_type": "stream",
     "text": [
      "2229\n"
     ]
    }
   ],
   "source": [
    "%expand\n",
    "module load bcftools/1.3.2\n",
    "\n",
    "bcftools +prune {suffix}m85-hwPBi-fixed.recode.vcf.gz -l 0.2 -n 1 -w 10000 \\\n",
    "-Ov -o {suffix}m85-hwPBi-fixed-thinned.vcf\n",
    "grep -v \"#\" {suffix}m85-hwPBi-fixed-thinned.vcf | wc -l"
   ]
  },
  {
   "cell_type": "code",
   "execution_count": null,
   "metadata": {
    "kernel": "bash"
   },
   "outputs": [],
   "source": []
  },
  {
   "cell_type": "code",
   "execution_count": 11,
   "metadata": {
    "kernel": "ir"
   },
   "outputs": [
    {
     "name": "stderr",
     "output_type": "stream",
     "text": [
      "Execution date@time: 20191007@1129\n",
      "Folder created: read_vcf_20191007@1129\n",
      "Function call and arguments stored in: radiator_read_vcf_args_20191007@1129.tsv\n",
      "File written: random.seed (661011)\n",
      "\n",
      "Reading VCF\n",
      "Data summary: \n",
      "    number of samples: 144\n",
      "    number of markers: 2229\n",
      "done! timing: 6 sec\n",
      "\n",
      "\n",
      "File written: radiator_20191007@1129.gds\n",
      "\n",
      "Analyzing the data...\n",
      "VCF source: Stacks v2.4\n",
      "Data is bi-allelic\n",
      "Cleaning VCF's sample names\n",
      "Synchronizing data and strata...\n",
      "    Number of strata: 4\n",
      "    Number of individuals: 144\n",
      "Reads assembly: de novo\n",
      "Filters parameters file generated: filters_parameters_20191007@1129.tsv\n",
      "Filters parameters file: initiated and updated\n"
     ]
    },
    {
     "name": "stdout",
     "output_type": "stream",
     "text": [
      "################################################################################\n",
      "########################### radiator::filter_monomorphic #######################\n",
      "################################################################################\n"
     ]
    },
    {
     "name": "stderr",
     "output_type": "stream",
     "text": [
      "Execution date@time: 20191007@1129\n",
      "Function call and arguments stored in: radiator_filter_monomorphic_args_20191007@1129.tsv\n",
      "Filters parameters file: initiated\n",
      "File written: whitelist.polymorphic.markers_20191007@1129.tsv\n",
      "Filters parameters file: updated\n"
     ]
    },
    {
     "name": "stdout",
     "output_type": "stream",
     "text": [
      "################################### RESULTS ####################################\n"
     ]
    },
    {
     "name": "stderr",
     "output_type": "stream",
     "text": [
      "\n",
      "Filter monomorphic markers\n",
      "Number of individuals / strata / chrom / locus / SNP:\n",
      "    Before: 144 / 4 / 1 / 2229 / 2229\n",
      "    Blacklisted: 0 / 0 / 0 / 0 / 0\n",
      "    After: 144 / 4 / 1 / 2229 / 2229\n",
      "\n",
      "Computation time, overall: 0 sec\n"
     ]
    },
    {
     "name": "stdout",
     "output_type": "stream",
     "text": [
      "######################## filter_monomorphic completed ##########################\n"
     ]
    },
    {
     "name": "stderr",
     "output_type": "stream",
     "text": [
      "\n",
      "Preparing output files...\n",
      "File written: whitelist.markers.tsv\n",
      "Writing the filtered strata: strata.filtered.tsvstrata.filtered.tsv\n",
      "\n",
      "Generating statistics after filtering\n",
      "Generating individual stats...\n",
      "File written: individuals qc info and stats summary\n",
      "File written: individuals qc plot\n",
      "Generating markers stats...\n"
     ]
    },
    {
     "name": "stdout",
     "output_type": "stream",
     "text": [
      "################################### SUMMARY ####################################\n"
     ]
    },
    {
     "name": "stderr",
     "output_type": "stream",
     "text": [
      "\n",
      "\n",
      "Summary (AFTER filtering):\n",
      "Missing data: \n",
      "    markers: 0.06\n",
      "    individuals: 0.06\n",
      "\n",
      "\n",
      "Coverage info:\n",
      "    individuals mean read depth: 23028\n",
      "    individuals mean genotype coverage: 11\n",
      "    markers mean coverage: 11\n",
      "\n",
      "\n",
      "Number of chromosome/contig/scaffold: 1\n",
      "Number of locus: 2229\n",
      "Number of markers: 2229\n",
      "Number of populations: 4\n",
      "Number of individuals: 144\n",
      "\n",
      "Number of ind/pop:\n",
      "NB = 42\n",
      "DB = 29\n",
      "FL = 29\n",
      "ILMB = 44\n",
      "\n",
      "Number of duplicate id: 0\n",
      "radiator Genomic Data Structure (GDS) file: radiator_20191007@1129.gds\n",
      "\n",
      "Computation time, overall: 19 sec\n"
     ]
    },
    {
     "data": {
      "image/png": "[encoded data removed]",
      "text/plain": [
       "plot without title"
      ]
     },
     "metadata": {},
     "output_type": "display_data"
    },
    {
     "name": "stdout",
     "output_type": "stream",
     "text": [
      "############################## completed read_vcf ##############################\n"
     ]
    },
    {
     "data": {
      "image/png": "[encoded data removed]",
      "text/plain": [
       "plot without title"
      ]
     },
     "metadata": {},
     "output_type": "display_data"
    }
   ],
   "source": [
    "data = read_vcf(\"m85-hwPBi-fixed-thinned.vcf\", strata = \"../../NFLDB.strata\",\n",
    "        vcf.stats = TRUE, parallel.core = 4, filter.common.markers = F,pop.levels=c(\"NB\",\"DB\",\"FL\",\"ILMB\"))\n"
   ]
  },
  {
   "cell_type": "code",
   "execution_count": 12,
   "metadata": {
    "kernel": "ir"
   },
   "outputs": [
    {
     "name": "stdout",
     "output_type": "stream",
     "text": [
      "################################################################################\n",
      "########################## radiator::genomic_converter #########################\n",
      "################################################################################\n"
     ]
    },
    {
     "name": "stderr",
     "output_type": "stream",
     "text": [
      "Execution date@time: 20191007@1130\n",
      "\n",
      "Deprecated arguments identified inside \"...\": \n",
      "    pop.levels\n",
      "\n",
      "Read documentation, for latest changes, and modify your codes!\n",
      "\n",
      "Folder created: 05_radiator_genomic_converter_20191007@1130\n",
      "Function call and arguments stored in: radiator_genomic_converter_args_20191007@1130.tsv\n",
      "Filters parameters file generated: filters_parameters_20191007@1130.tsv\n",
      "\n",
      "Importing data\n",
      "\n",
      "Synchronizing data and strata...\n",
      "    Number of strata: 4\n",
      "    Number of individuals: 144\n",
      "\n",
      "Writing tidy data set:\n",
      "fixedu.rad\n",
      "\n",
      "Preparing data for output\n",
      "\n",
      "Data is bi-allelic\n",
      "Calibrating REF/ALT alleles...\n",
      "    number of REF/ALT switch = 2\n",
      "Generating structure file\n",
      "Generating adegenet genind object\n",
      "Generating VCF file\n"
     ]
    },
    {
     "name": "stdout",
     "output_type": "stream",
     "text": [
      "################################### RESULTS ####################################\n"
     ]
    },
    {
     "name": "stderr",
     "output_type": "stream",
     "text": [
      "Data format of input: SeqVarGDSClass\n",
      "Biallelic data\n",
      "Number of markers: 2229\n",
      "Number of chromosome/contig/scaffold: 1\n",
      "Number of strata: 4\n",
      "Number of individuals: 144\n",
      "\n",
      "Computation time, overall: 17 sec\n"
     ]
    },
    {
     "name": "stdout",
     "output_type": "stream",
     "text": [
      "######################### genomic_converter completed ##########################\n"
     ]
    }
   ],
   "source": [
    "outs = genomic_converter(data, strata=\"../../NFLDB.strata\", \n",
    "                  output = c(\"genind\",\"structure\",\"vcf\"),\n",
    "                 parallel.core = 4, filename = \"fixedu\",pop.levels=c(\"NB\",\"DB\",\"FL\",\"ILMB\") )"
   ]
  },
  {
   "cell_type": "code",
   "execution_count": 13,
   "metadata": {
    "kernel": "ir"
   },
   "outputs": [
    {
     "data": {
      "text/plain": [
       "/// GENIND OBJECT /////////\n",
       "\n",
       " // 144 individuals; 2,229 loci; 4,458 alleles; size: 3.8 Mb\n",
       "\n",
       " // Basic content\n",
       "   @tab:  144 x 4458 matrix of allele counts\n",
       "   @loc.n.all: number of alleles per locus (range: 2-2)\n",
       "   @loc.fac: locus factor for the 4458 columns of @tab\n",
       "   @all.names: list of allele names for each locus\n",
       "   @ploidy: ploidy of each individual  (range: 2-2)\n",
       "   @type:  codom\n",
       "   @call: radiator::write_genind(data = input, write = TRUE)\n",
       "\n",
       " // Optional content\n",
       "   @pop: population of each individual (group size range: 29-44)\n",
       "   @strata: a data frame with 2 columns ( INDIVIDUALS, POP_ID )"
      ]
     },
     "metadata": {},
     "output_type": "display_data"
    }
   ],
   "source": [
    "outs$genind"
   ]
  },
  {
   "cell_type": "code",
   "execution_count": 14,
   "metadata": {
    "kernel": "ir"
   },
   "outputs": [],
   "source": [
    "d = outs$genind\n",
    "save(d, file=\"fixedu.genind\")"
   ]
  },
  {
   "cell_type": "markdown",
   "metadata": {
    "kernel": "R"
   },
   "source": [
    "### Top markers based on PCA"
   ]
  },
  {
   "cell_type": "code",
   "execution_count": 46,
   "metadata": {
    "kernel": "bash"
   },
   "outputs": [
    {
     "name": "stdout",
     "output_type": "stream",
     "text": [
      "\n",
      "VCFtools - 0.1.17\n",
      "(C) Adam Auton and Anthony Marcketta 2009\n",
      "\n",
      "Parameters as interpreted:\n",
      "\t--vcf ./maf05mac4het9m3R50_2/Making/m85-hwPBi-fixed-thinned.vcf\n",
      "\t--recode-INFO-all\n",
      "\t--out ./maf05mac4het9m3R50_2/Making/../Analysis/pc12_95-fixed\n",
      "\t--positions ./maf05mac4het9m3R50_2/Making/../Analysis/pc12_95.positions\n",
      "\t--recode\n",
      "\n",
      "After filtering, kept 144 out of 144 Individuals\n",
      "Outputting VCF file...\n",
      "After filtering, kept 218 out of a possible 2229 Sites\n",
      "Run Time = 1.00 seconds\n"
     ]
    }
   ],
   "source": [
    "%expand\n",
    "module load vcftools/v0.1.17\n",
    "\n",
    "vcftools --vcf {suffix}m85-hwPBi-fixed-thinned.vcf --recode \\\n",
    "--recode-INFO-all --positions {suffix}../Analysis/pc12_95.positions \\\n",
    "--out {suffix}../Analysis/pc12_95-fixed"
   ]
  },
  {
   "cell_type": "code",
   "execution_count": 47,
   "metadata": {
    "kernel": "R"
   },
   "outputs": [
    {
     "data": {
      "text/html": [
       "'/gpfs01/home/kes0132/Delta/Stacks_Assembly/MyStacks/maf05mac4het9m3R50_2/Making'"
      ],
      "text/latex": [
       "'/gpfs01/home/kes0132/Delta/Stacks\\_Assembly/MyStacks/maf05mac4het9m3R50\\_2/Making'"
      ],
      "text/markdown": [
       "'/gpfs01/home/kes0132/Delta/Stacks_Assembly/MyStacks/maf05mac4het9m3R50_2/Making'"
      ],
      "text/plain": [
       "[1] \"/gpfs01/home/kes0132/Delta/Stacks_Assembly/MyStacks/maf05mac4het9m3R50_2/Making\""
      ]
     },
     "metadata": {},
     "output_type": "display_data"
    }
   ],
   "source": [
    "getwd()"
   ]
  },
  {
   "cell_type": "code",
   "execution_count": 16,
   "metadata": {
    "kernel": "ir"
   },
   "outputs": [
    {
     "name": "stderr",
     "output_type": "stream",
     "text": [
      "Execution date@time: 20191007@1133\n",
      "Folder created: read_vcf_20191007@1133\n",
      "Function call and arguments stored in: radiator_read_vcf_args_20191007@1133.tsv\n",
      "File written: random.seed (542535)\n",
      "\n",
      "Reading VCF\n",
      "Data summary: \n",
      "    number of samples: 144\n",
      "    number of markers: 218\n",
      "done! timing: 1 sec\n",
      "\n",
      "\n",
      "File written: radiator_20191007@1133.gds\n",
      "\n",
      "Analyzing the data...\n",
      "VCF source: Stacks v2.4\n",
      "Data is bi-allelic\n",
      "Cleaning VCF's sample names\n",
      "Synchronizing data and strata...\n",
      "    Number of strata: 4\n",
      "    Number of individuals: 144\n",
      "Reads assembly: de novo\n",
      "Filters parameters file generated: filters_parameters_20191007@1133.tsv\n",
      "Filters parameters file: initiated and updated\n"
     ]
    },
    {
     "name": "stdout",
     "output_type": "stream",
     "text": [
      "################################################################################\n",
      "########################### radiator::filter_monomorphic #######################\n",
      "################################################################################\n"
     ]
    },
    {
     "name": "stderr",
     "output_type": "stream",
     "text": [
      "Execution date@time: 20191007@1133\n",
      "Function call and arguments stored in: radiator_filter_monomorphic_args_20191007@1133.tsv\n",
      "Filters parameters file: initiated\n",
      "File written: whitelist.polymorphic.markers_20191007@1133.tsv\n",
      "Filters parameters file: updated\n"
     ]
    },
    {
     "name": "stdout",
     "output_type": "stream",
     "text": [
      "################################### RESULTS ####################################\n"
     ]
    },
    {
     "name": "stderr",
     "output_type": "stream",
     "text": [
      "\n",
      "Filter monomorphic markers\n",
      "Number of individuals / strata / chrom / locus / SNP:\n",
      "    Before: 144 / 4 / 1 / 218 / 218\n",
      "    Blacklisted: 0 / 0 / 0 / 0 / 0\n",
      "    After: 144 / 4 / 1 / 218 / 218\n",
      "\n",
      "Computation time, overall: 0 sec\n"
     ]
    },
    {
     "name": "stdout",
     "output_type": "stream",
     "text": [
      "######################## filter_monomorphic completed ##########################\n"
     ]
    },
    {
     "name": "stderr",
     "output_type": "stream",
     "text": [
      "\n",
      "Preparing output files...\n",
      "File written: whitelist.markers.tsv\n",
      "Writing the filtered strata: strata.filtered.tsvstrata.filtered.tsv\n",
      "\n",
      "Generating statistics after filtering\n",
      "Generating individual stats...\n",
      "File written: individuals qc info and stats summary\n",
      "File written: individuals qc plot\n",
      "Generating markers stats...\n"
     ]
    },
    {
     "name": "stdout",
     "output_type": "stream",
     "text": [
      "################################### SUMMARY ####################################\n"
     ]
    },
    {
     "name": "stderr",
     "output_type": "stream",
     "text": [
      "\n",
      "\n",
      "Summary (AFTER filtering):\n",
      "Missing data: \n",
      "    markers: 0.02\n",
      "    individuals: 0.02\n",
      "\n",
      "\n",
      "Coverage info:\n",
      "    individuals mean read depth: 3229\n",
      "    individuals mean genotype coverage: 15\n",
      "    markers mean coverage: 15\n",
      "\n",
      "\n",
      "Number of chromosome/contig/scaffold: 1\n",
      "Number of locus: 218\n",
      "Number of markers: 218\n",
      "Number of populations: 4\n",
      "Number of individuals: 144\n",
      "\n",
      "Number of ind/pop:\n",
      "NB = 42\n",
      "DB = 29\n",
      "FL = 29\n",
      "ILMB = 44\n",
      "\n",
      "Number of duplicate id: 0\n",
      "radiator Genomic Data Structure (GDS) file: radiator_20191007@1133.gds\n",
      "\n",
      "Computation time, overall: 6 sec\n"
     ]
    },
    {
     "data": {
      "image/png": "[encoded data removed]",
      "text/plain": [
       "plot without title"
      ]
     },
     "metadata": {},
     "output_type": "display_data"
    },
    {
     "name": "stdout",
     "output_type": "stream",
     "text": [
      "############################## completed read_vcf ##############################\n"
     ]
    },
    {
     "data": {
      "image/png": "[encoded data removed]",
      "text/plain": [
       "plot without title"
      ]
     },
     "metadata": {},
     "output_type": "display_data"
    }
   ],
   "source": [
    "%expand\n",
    "data = read_vcf(\"../Analysis/pc12_95-fixed/pc12_95-fixed.recode.vcf\", strata = \"../../NFLDB.strata\",\n",
    "        vcf.stats = TRUE, parallel.core = 4, filter.common.markers = F, pop.levels=c(\"NB\",\"DB\",\"FL\",\"ILMB\") )\n"
   ]
  },
  {
   "cell_type": "code",
   "execution_count": 17,
   "metadata": {
    "kernel": "ir"
   },
   "outputs": [
    {
     "name": "stdout",
     "output_type": "stream",
     "text": [
      "################################################################################\n",
      "########################## radiator::genomic_converter #########################\n",
      "################################################################################\n"
     ]
    },
    {
     "name": "stderr",
     "output_type": "stream",
     "text": [
      "Execution date@time: 20191007@1134\n",
      "\n",
      "Deprecated arguments identified inside \"...\": \n",
      "    pop.levels\n",
      "\n",
      "Read documentation, for latest changes, and modify your codes!\n",
      "\n",
      "Folder created: 08_radiator_genomic_converter_20191007@1134\n",
      "Function call and arguments stored in: radiator_genomic_converter_args_20191007@1134.tsv\n",
      "Filters parameters file generated: filters_parameters_20191007@1134.tsv\n",
      "\n",
      "Importing data\n",
      "\n",
      "Synchronizing data and strata...\n",
      "    Number of strata: 4\n",
      "    Number of individuals: 144\n",
      "\n",
      "Writing tidy data set:\n",
      "pc12_95-fixed.rad\n",
      "\n",
      "Preparing data for output\n",
      "\n",
      "Data is bi-allelic\n",
      "Calibrating REF/ALT alleles...\n",
      "    number of REF/ALT switch = 0\n",
      "Generating structure file\n",
      "Generating adegenet genind object\n"
     ]
    },
    {
     "name": "stdout",
     "output_type": "stream",
     "text": [
      "################################### RESULTS ####################################\n"
     ]
    },
    {
     "name": "stderr",
     "output_type": "stream",
     "text": [
      "Data format of input: SeqVarGDSClass\n",
      "Biallelic data\n",
      "Number of markers: 218\n",
      "Number of chromosome/contig/scaffold: 1\n",
      "Number of strata: 4\n",
      "Number of individuals: 144\n",
      "\n",
      "Computation time, overall: 2 sec\n"
     ]
    },
    {
     "name": "stdout",
     "output_type": "stream",
     "text": [
      "######################### genomic_converter completed ##########################\n"
     ]
    }
   ],
   "source": [
    "outs = genomic_converter(data, strata=\"../../NFLDB.strata\", \n",
    "                  output = c(\"genind\",\"structure\"),\n",
    "                 parallel.core = 4, filename = \"pc12_95-fixed\",pop.levels=c(\"NB\",\"DB\",\"FL\",\"ILMB\"))"
   ]
  },
  {
   "cell_type": "code",
   "execution_count": 18,
   "metadata": {
    "kernel": "ir"
   },
   "outputs": [
    {
     "data": {
      "text/plain": [
       "/// GENIND OBJECT /////////\n",
       "\n",
       " // 144 individuals; 218 loci; 436 alleles; size: 410.1 Kb\n",
       "\n",
       " // Basic content\n",
       "   @tab:  144 x 436 matrix of allele counts\n",
       "   @loc.n.all: number of alleles per locus (range: 2-2)\n",
       "   @loc.fac: locus factor for the 436 columns of @tab\n",
       "   @all.names: list of allele names for each locus\n",
       "   @ploidy: ploidy of each individual  (range: 2-2)\n",
       "   @type:  codom\n",
       "   @call: radiator::write_genind(data = input, write = TRUE)\n",
       "\n",
       " // Optional content\n",
       "   @pop: population of each individual (group size range: 29-44)\n",
       "   @strata: a data frame with 2 columns ( INDIVIDUALS, POP_ID )"
      ]
     },
     "metadata": {},
     "output_type": "display_data"
    }
   ],
   "source": [
    "outs$genind"
   ]
  },
  {
   "cell_type": "code",
   "execution_count": 19,
   "metadata": {
    "kernel": "ir"
   },
   "outputs": [],
   "source": [
    "d = outs$genind\n",
    "save(d, file=\"../Analysis/pc12_95-fixed/pc12_95-fixed.genind\")"
   ]
  },
  {
   "cell_type": "code",
   "execution_count": null,
   "metadata": {
    "kernel": "ir"
   },
   "outputs": [],
   "source": []
  },
  {
   "cell_type": "markdown",
   "metadata": {
    "kernel": "Python3"
   },
   "source": [
    "## Structure file with pure references\n"
   ]
  },
  {
   "cell_type": "code",
   "execution_count": 3,
   "metadata": {
    "kernel": "Python3"
   },
   "outputs": [],
   "source": [
    "%expand\n",
    "#don't need\n",
    "purefile = open(\"{suffix}../Analysis/Pure_NFLDB.tsv\",\"r\")\n",
    "str_in = open(\"{suffix}../Analysis/allfiltu/allfiltu_pflag.str\",\"r\")\n",
    "str_out = open(\"{suffix}../Analysis/allfiltu/allfiltu_pflagPureB.str\",\"w\")\n",
    "\n",
    "keep = []\n",
    "next(purefile)\n",
    "next(purefile)\n",
    "for line in purefile:\n",
    "    keep.append(line.split(\"\\t\")[0])\n",
    "purefile.close()\n",
    "\n",
    "str_out.write(str_in.readline())\n",
    "for line in str_in:\n",
    "    stuff = line.split(\"\\t\")\n",
    "    if stuff[0] not in keep:\n",
    "        stuff[2] = \"0\"\n",
    "        if stuff[1] == \"1\":\n",
    "            stuff[1] = \"5\"\n",
    "        if stuff[1] == \"2\":\n",
    "            stuff[1] = \"6\"\n",
    "        if stuff[1] == \"3\":\n",
    "            stuff[1] = \"7\"\n",
    "    else:\n",
    "        stuff[2] = \"1\"\n",
    "    str_out.write(\"\\t\".join(stuff))\n",
    "\n",
    "str_in.close()\n",
    "str_out.close()"
   ]
  },
  {
   "cell_type": "code",
   "execution_count": 5,
   "metadata": {
    "kernel": "Python3"
   },
   "outputs": [],
   "source": [
    "%expand\n",
    "#don't need\n",
    "purefile = open(\"{suffix}../Analysis/Pure_NFLDB.tsv\",\"r\")\n",
    "str_in = open(\"{suffix}../Analysis/pc12_95-fixed/pc12_95-fixed_pflag.str\",\"r\")\n",
    "str_out = open(\"{suffix}../Analysis/pc12_95-fixed/pc12_95-fixed_pflagPureB.str\",\"w\")\n",
    "\n",
    "keep = []\n",
    "next(purefile)\n",
    "next(purefile)\n",
    "for line in purefile:\n",
    "    keep.append(line.split(\"\\t\")[0])\n",
    "purefile.close()\n",
    "\n",
    "str_out.write(str_in.readline())\n",
    "for line in str_in:\n",
    "    stuff = line.split(\"\\t\")\n",
    "    if stuff[0] not in keep:\n",
    "        stuff[2] = \"0\"\n",
    "        if stuff[1] == \"1\":\n",
    "            stuff[1] = \"5\"\n",
    "        if stuff[1] == \"2\":\n",
    "            stuff[1] = \"6\"\n",
    "        if stuff[1] == \"3\":\n",
    "            stuff[1] = \"7\"\n",
    "    else:\n",
    "        stuff[2] = \"1\"\n",
    "    str_out.write(\"\\t\".join(stuff))\n",
    "\n",
    "str_in.close()\n",
    "str_out.close()"
   ]
  },
  {
   "cell_type": "code",
   "execution_count": 22,
   "metadata": {
    "kernel": "Python3"
   },
   "outputs": [],
   "source": [
    "%expand\n",
    "purefile = open(\"{suffix}../Analysis/Pure_NFLDB.tsv\",\"r\")\n",
    "str_in = open(\"{suffix}../Analysis/fixed-thinned/fixedu_pflag.str\",\"r\")\n",
    "str_out = open(\"{suffix}../Analysis/fixed-thinned/fixedu_pflagPure.str\",\"w\")\n",
    "\n",
    "keep = []\n",
    "next(purefile)\n",
    "next(purefile)\n",
    "for line in purefile:\n",
    "    keep.append(line.split(\"\\t\")[0])\n",
    "purefile.close()\n",
    "\n",
    "str_out.write(str_in.readline())\n",
    "for line in str_in:\n",
    "    stuff = line.split(\"\\t\")\n",
    "    if stuff[0] not in keep:\n",
    "        stuff[2] = \"0\"\n",
    "    else:\n",
    "        stuff[2] = \"1\"\n",
    "    str_out.write(\"\\t\".join(stuff))\n",
    "\n",
    "str_in.close()\n",
    "str_out.close()"
   ]
  },
  {
   "cell_type": "code",
   "execution_count": 6,
   "metadata": {
    "kernel": "Python3"
   },
   "outputs": [],
   "source": [
    "%expand\n",
    "purefile = open(\"{suffix}../Analysis/Pure_NFLDB.tsv\",\"r\")\n",
    "str_in = open(\"{suffix}../Analysis/pc12_95-fixed/pc12_95-fixed_pflag.str\",\"r\")\n",
    "str_out = open(\"{suffix}../Analysis/pc12_95-fixed/pc12_95-fixed_pflagPure.str\",\"w\")\n",
    "\n",
    "keep = []\n",
    "next(purefile)\n",
    "next(purefile)\n",
    "for line in purefile:\n",
    "    keep.append(line.split(\"\\t\")[0])\n",
    "purefile.close()\n",
    "\n",
    "str_out.write(str_in.readline())\n",
    "for line in str_in:\n",
    "    stuff = line.split(\"\\t\")\n",
    "    if stuff[0] not in keep:\n",
    "        stuff[2] = \"0\"\n",
    "    else:\n",
    "        stuff[2] = \"1\"\n",
    "    str_out.write(\"\\t\".join(stuff))\n",
    "\n",
    "str_in.close()\n",
    "str_out.close()"
   ]
  },
  {
   "cell_type": "code",
   "execution_count": 21,
   "metadata": {
    "kernel": "Python3"
   },
   "outputs": [
    {
     "data": {
      "text/plain": [
       "['CANOT-11830',\n",
       " 'CANOT-11832',\n",
       " 'CANOT-2617',\n",
       " 'CANOT11829',\n",
       " 'CANOT11837',\n",
       " 'CANOT11838',\n",
       " 'DB-2592',\n",
       " 'DB-2593',\n",
       " 'DB-2637',\n",
       " 'DB12041',\n",
       " 'DB2589',\n",
       " 'DB2590',\n",
       " 'DB2634',\n",
       " 'DB2635',\n",
       " 'SIPS-26',\n",
       " 'TN11851',\n",
       " 'TN11855',\n",
       " 'FL01',\n",
       " 'FL09',\n",
       " 'FL12',\n",
       " 'FL15',\n",
       " 'FL16',\n",
       " 'FL20',\n",
       " 'FL21',\n",
       " 'FL23',\n",
       " 'FL30',\n",
       " 'FL55',\n",
       " 'FL60',\n",
       " 'FL64',\n",
       " 'FL68',\n",
       " 'FL70',\n",
       " 'FL71',\n",
       " 'FL72',\n",
       " 'FL73',\n",
       " 'FLAL01',\n",
       " 'FLAL01II',\n",
       " 'FLAL02',\n",
       " 'FLAL02II',\n",
       " 'FLAL03',\n",
       " 'FLAL03',\n",
       " 'FLAL04',\n",
       " 'FLAL04II',\n",
       " 'FLF17',\n",
       " 'FLM10',\n",
       " 'FLM12',\n",
       " 'FLM13',\n",
       " 'FLM15',\n",
       " 'MATT-01',\n",
       " 'MATT-02',\n",
       " 'MATT-06',\n",
       " 'Mill-18',\n",
       " 'NB11',\n",
       " 'NB12',\n",
       " 'NB13',\n",
       " 'NB19',\n",
       " 'NBM01',\n",
       " 'Otter-13',\n",
       " 'Otter-4',\n",
       " 'SL04',\n",
       " 'SL10',\n",
       " 'SL11',\n",
       " 'SL14',\n",
       " 'SL15',\n",
       " 'SL16',\n",
       " 'SL19',\n",
       " 'SL2',\n",
       " 'SL8']"
      ]
     },
     "execution_count": 21,
     "metadata": {},
     "output_type": "execute_result"
    }
   ],
   "source": [
    "keep"
   ]
  },
  {
   "cell_type": "markdown",
   "metadata": {
    "kernel": "ir"
   },
   "source": [
    "## Fixed within all pops"
   ]
  },
  {
   "cell_type": "code",
   "execution_count": 164,
   "metadata": {
    "kernel": "python3"
   },
   "outputs": [],
   "source": [
    "import pandas as pd\n",
    "infile =\"./maf05mac4het9m3R50_2/populations.sumstats.tsv\"\n",
    "\n",
    "IN = pd.read_table(infile,header=4)"
   ]
  },
  {
   "cell_type": "code",
   "execution_count": 165,
   "metadata": {
    "kernel": "python3"
   },
   "outputs": [
    {
     "data": {
      "text/plain": [
       "# Locus ID                int64\n",
       "Chr                       int64\n",
       "BP                        int64\n",
       "Col                       int64\n",
       "Pop ID                   object\n",
       "P Nuc                    object\n",
       "Q Nuc                    object\n",
       "N                         int64\n",
       "P                       float64\n",
       "Obs Het                 float64\n",
       "Obs Hom                 float64\n",
       "Exp Het                 float64\n",
       "Exp Hom                 float64\n",
       "Pi                      float64\n",
       "Smoothed Pi             float64\n",
       "Smoothed Pi P-value     float64\n",
       "Fis                     float64\n",
       "Smoothed Fis            float64\n",
       "Smoothed Fis P-value    float64\n",
       "HWE P-value             float64\n",
       "Private                   int64\n",
       "dtype: object"
      ]
     },
     "execution_count": 165,
     "metadata": {},
     "output_type": "execute_result"
    }
   ],
   "source": [
    "IN.dtypes"
   ]
  },
  {
   "cell_type": "code",
   "execution_count": 166,
   "metadata": {
    "kernel": "python3"
   },
   "outputs": [],
   "source": [
    "filt = IN[[\"# Locus ID\",\"Pop ID\",\"P\",\"Obs Het\",\"Private\"]]"
   ]
  },
  {
   "cell_type": "code",
   "execution_count": 167,
   "metadata": {
    "kernel": "python3"
   },
   "outputs": [
    {
     "data": {
      "text/html": [
       "<div>\n",
       "<style scoped>\n",
       "    .dataframe tbody tr th:only-of-type {\n",
       "        vertical-align: middle;\n",
       "    }\n",
       "\n",
       "    .dataframe tbody tr th {\n",
       "        vertical-align: top;\n",
       "    }\n",
       "\n",
       "    .dataframe thead th {\n",
       "        text-align: right;\n",
       "    }\n",
       "</style>\n",
       "<table border=\"1\" class=\"dataframe\">\n",
       "  <thead>\n",
       "    <tr style=\"text-align: right;\">\n",
       "      <th></th>\n",
       "      <th># Locus ID</th>\n",
       "      <th>Pop ID</th>\n",
       "      <th>P</th>\n",
       "      <th>Obs Het</th>\n",
       "      <th>Private</th>\n",
       "    </tr>\n",
       "  </thead>\n",
       "  <tbody>\n",
       "    <tr>\n",
       "      <td>0</td>\n",
       "      <td>127</td>\n",
       "      <td>ILMB</td>\n",
       "      <td>0.625000</td>\n",
       "      <td>0.36111</td>\n",
       "      <td>0</td>\n",
       "    </tr>\n",
       "    <tr>\n",
       "      <td>1</td>\n",
       "      <td>127</td>\n",
       "      <td>DB</td>\n",
       "      <td>0.379310</td>\n",
       "      <td>0.34483</td>\n",
       "      <td>0</td>\n",
       "    </tr>\n",
       "    <tr>\n",
       "      <td>2</td>\n",
       "      <td>127</td>\n",
       "      <td>NB</td>\n",
       "      <td>0.646341</td>\n",
       "      <td>0.41463</td>\n",
       "      <td>0</td>\n",
       "    </tr>\n",
       "    <tr>\n",
       "      <td>3</td>\n",
       "      <td>178</td>\n",
       "      <td>ILMB</td>\n",
       "      <td>0.845238</td>\n",
       "      <td>0.30952</td>\n",
       "      <td>0</td>\n",
       "    </tr>\n",
       "    <tr>\n",
       "      <td>4</td>\n",
       "      <td>178</td>\n",
       "      <td>DB</td>\n",
       "      <td>0.948276</td>\n",
       "      <td>0.10345</td>\n",
       "      <td>0</td>\n",
       "    </tr>\n",
       "  </tbody>\n",
       "</table>\n",
       "</div>"
      ],
      "text/plain": [
       "   # Locus ID Pop ID         P  Obs Het  Private\n",
       "0         127   ILMB  0.625000  0.36111        0\n",
       "1         127     DB  0.379310  0.34483        0\n",
       "2         127     NB  0.646341  0.41463        0\n",
       "3         178   ILMB  0.845238  0.30952        0\n",
       "4         178     DB  0.948276  0.10345        0"
      ]
     },
     "execution_count": 167,
     "metadata": {},
     "output_type": "execute_result"
    }
   ],
   "source": [
    "filt.iloc[0:5]"
   ]
  },
  {
   "cell_type": "code",
   "execution_count": 168,
   "metadata": {
    "kernel": "python3"
   },
   "outputs": [],
   "source": [
    "fixed = filt[filt['P'] ==1.0]\n",
    "floc = set(fixed['# Locus ID'].tolist())\n",
    "f = filt[filt['# Locus ID'].isin(floc)]"
   ]
  },
  {
   "cell_type": "code",
   "execution_count": 169,
   "metadata": {
    "kernel": "python3"
   },
   "outputs": [
    {
     "data": {
      "text/plain": [
       "25835"
      ]
     },
     "execution_count": 169,
     "metadata": {},
     "output_type": "execute_result"
    }
   ],
   "source": [
    "len(floc)"
   ]
  },
  {
   "cell_type": "code",
   "execution_count": 170,
   "metadata": {
    "kernel": "python3"
   },
   "outputs": [],
   "source": [
    "goodLoc =[]\n",
    "for loc in floc:\n",
    "    for row in f[f['# Locus ID'] == loc].itertuples(index=True):\n",
    "        if row.P < 0.03:\n",
    "            goodLoc.append(row._1)\n"
   ]
  },
  {
   "cell_type": "code",
   "execution_count": 171,
   "metadata": {
    "kernel": "python3"
   },
   "outputs": [
    {
     "data": {
      "text/plain": [
       "6471"
      ]
     },
     "execution_count": 171,
     "metadata": {},
     "output_type": "execute_result"
    }
   ],
   "source": [
    "len(set(goodLoc))"
   ]
  },
  {
   "cell_type": "code",
   "execution_count": 172,
   "metadata": {
    "kernel": "python3"
   },
   "outputs": [],
   "source": [
    "x = IN[IN['# Locus ID'].isin(goodLoc)]"
   ]
  },
  {
   "cell_type": "code",
   "execution_count": 185,
   "metadata": {
    "kernel": "python3"
   },
   "outputs": [
    {
     "name": "stdout",
     "output_type": "stream",
     "text": [
      "8464\n"
     ]
    }
   ],
   "source": [
    "%expand\n",
    "positions = []\n",
    "OUT = open(\"{suffix}fixed.positions\",\"w\")\n",
    "OUTr = open(\"{suffix}fixed_R.positions\",\"w\")\n",
    "OUTr.write(\"LOCUS\\tPOS\\n\")\n",
    "n=0\n",
    "for row in x.itertuples(index=True):\n",
    "    if (row.Chr, row.BP) not in positions:\n",
    "        positions.append((row.Chr, row.BP))\n",
    "        OUT.write(str(row.Chr)+\"\\t\"+str(row.BP)+\"\\n\")\n",
    "        OUTr.write(str(row.Chr)+\"\\t\"+str(row.BP)+\"\\n\")\n",
    "        n+=1\n",
    "OUT.close()\n",
    "OUTr.close()\n",
    "print(n)"
   ]
  },
  {
   "cell_type": "code",
   "execution_count": null,
   "metadata": {
    "kernel": "ir"
   },
   "outputs": [],
   "source": []
  },
  {
   "cell_type": "markdown",
   "metadata": {
    "kernel": "bash"
   },
   "source": [
    "### Making inputs in R"
   ]
  },
  {
   "cell_type": "code",
   "execution_count": 2,
   "metadata": {
    "kernel": "ir"
   },
   "outputs": [
    {
     "data": {
      "text/html": [
       "'/gpfs01/home/kes0132/Delta/Stacks_Assembly/MyStacks'"
      ],
      "text/latex": [
       "'/gpfs01/home/kes0132/Delta/Stacks\\_Assembly/MyStacks'"
      ],
      "text/markdown": [
       "'/gpfs01/home/kes0132/Delta/Stacks_Assembly/MyStacks'"
      ],
      "text/plain": [
       "[1] \"/gpfs01/home/kes0132/Delta/Stacks_Assembly/MyStacks\""
      ]
     },
     "metadata": {},
     "output_type": "display_data"
    }
   ],
   "source": [
    "getwd()"
   ]
  },
  {
   "cell_type": "code",
   "execution_count": 152,
   "metadata": {
    "kernel": "ir"
   },
   "outputs": [
    {
     "ename": "ERROR",
     "evalue": "Error in library(\"adegenet\"): there is no package called 'adegenet'\n",
     "output_type": "error",
     "traceback": [
      "Error in library(\"adegenet\"): there is no package called 'adegenet'\nTraceback:\n",
      "1. library(\"adegenet\")",
      "2. stop(txt, domain = NA)"
     ]
    }
   ],
   "source": [
    "library(\"adegenet\") # .genind format\n",
    "library(\"radiator\") # Conversion from vcf to a lot of other formats"
   ]
  },
  {
   "cell_type": "code",
   "execution_count": 2,
   "metadata": {
    "kernel": "ir"
   },
   "outputs": [
    {
     "name": "stderr",
     "output_type": "stream",
     "text": [
      "Loading required package: ade4\n",
      "\n",
      "   /// adegenet 2.1.1 is loaded ////////////\n",
      "\n",
      "   > overview: '?adegenet'\n",
      "   > tutorials/doc/questions: 'adegenetWeb()' \n",
      "   > bug reports/feature requests: adegenetIssues()\n",
      "\n",
      "\n"
     ]
    }
   ],
   "source": [
    "%expand\n",
    "setwd(\"{suffix}\")\n",
    "library(radiator)\n",
    "library(adegenet)"
   ]
  },
  {
   "cell_type": "code",
   "execution_count": null,
   "metadata": {
    "kernel": "ir"
   },
   "outputs": [],
   "source": [
    "%expand\n",
    "setwd(\"{suffix}\")\n",
    "data <- radiator::filter_rad(\n",
    "    data = \"./maf05mac4het9m3R50_2/populations.snps.vcf\",\n",
    "    strata = \"../../NFLDB.strata\", \n",
    "    output = c(\"genind\")\n",
    "    )"
   ]
  },
  {
   "cell_type": "code",
   "execution_count": null,
   "metadata": {
    "kernel": "ir"
   },
   "outputs": [],
   "source": [
    "whitelist.markers = \"fixed_R.positions\","
   ]
  },
  {
   "cell_type": "code",
   "execution_count": 11,
   "metadata": {
    "kernel": "ir"
   },
   "outputs": [
    {
     "name": "stderr",
     "output_type": "stream",
     "text": [
      "Execution date@time: 20190926@1205\n",
      "Folder created: read_vcf_20190926@1205\n",
      "Function call and arguments stored in: radiator_read_vcf_args_20190926@1205.tsv\n",
      "File written: random.seed (246505)\n",
      "\n",
      "Reading VCF\n",
      "Data summary: \n",
      "    number of samples: 144\n",
      "    number of markers: 4995\n",
      "done! timing: 3 sec\n",
      "\n",
      "\n",
      "File written: filtered_20190926@1205.gds\n",
      "\n",
      "Analyzing the data...\n",
      "VCF source: Stacks v2.4\n",
      "Data is bi-allelic\n",
      "Cleaning VCF's sample names\n",
      "Synchronizing data and strata...\n",
      "    Number of strata: 4\n",
      "    Number of individuals: 144\n",
      "Reads assembly: de novo\n",
      "Filters parameters file generated: filters_parameters_20190926@1205.tsv\n",
      "Filters parameters file: initiated and updated\n"
     ]
    },
    {
     "name": "stdout",
     "output_type": "stream",
     "text": [
      "################################################################################\n",
      "########################### radiator::filter_monomorphic #######################\n",
      "################################################################################\n"
     ]
    },
    {
     "name": "stderr",
     "output_type": "stream",
     "text": [
      "Execution date@time: 20190926@1205\n",
      "Function call and arguments stored in: radiator_filter_monomorphic_args_20190926@1205.tsv\n",
      "Filters parameters file: initiated\n",
      "File written: whitelist.polymorphic.markers_20190926@1205.tsv\n",
      "Filters parameters file: updated\n"
     ]
    },
    {
     "name": "stdout",
     "output_type": "stream",
     "text": [
      "################################### RESULTS ####################################\n"
     ]
    },
    {
     "name": "stderr",
     "output_type": "stream",
     "text": [
      "\n",
      "Filter monomorphic markers\n",
      "Number of individuals / strata / chrom / locus / SNP:\n",
      "    Before: 144 / 4 / 1 / 2622 / 4995\n",
      "    Blacklisted: 0 / 0 / 0 / 0 / 0\n",
      "    After: 144 / 4 / 1 / 2622 / 4995\n",
      "\n",
      "Computation time, overall: 0 sec\n"
     ]
    },
    {
     "name": "stdout",
     "output_type": "stream",
     "text": [
      "######################## filter_monomorphic completed ##########################\n",
      "################################################################################\n",
      "######################### radiator::filter_genotyping ##########################\n",
      "################################################################################\n"
     ]
    },
    {
     "name": "stderr",
     "output_type": "stream",
     "text": [
      "Execution date@time: 20190926@1205\n",
      "Function call and arguments stored in: radiator_filter_genotyping_args_20190926@1205.tsv\n",
      "Importing data ...\n",
      "Filters parameters file: initiated\n",
      "Generating statistics\n",
      "Generating missingness/genotyping helper table...\n"
     ]
    },
    {
     "ename": "ERROR",
     "evalue": "Error in is_missing(.key): object 'id.select' not found\n",
     "output_type": "error",
     "traceback": [
      "Error in is_missing(.key): object 'id.select' not found\nTraceback:\n",
      "1. read_vcf(\"../../Silliman_subset//sub_populations.snps.vcf\", strata = \"../../NFLDB.strata\", \n .     vcf.stats = TRUE, parallel.core = 4, filter.common.markers = F, \n .     filter.genotyping = 15, filename = \"filtered\")",
      "2. filter_genotyping(data = gds, interactive.filter = FALSE, filter.genotyping = filter.genotyping, \n .     filename = NULL, parallel.core = parallel.core, verbose = verbose, \n .     parameters = filters.parameters, path.folder = wf, internal = FALSE)",
      "3. missing_per_pop(gds = data, strata = strata, parallel.core = parallel.core)",
      "4. strata %>% dplyr::group_by(STRATA) %>% tidyr::nest(data = ., \n .     .key = id.select) %>% dplyr::mutate(MISSING_POP = purrr::map(.x = .$id.select, \n .     .f = missing_pop, gds = gds, markers.meta = markers.meta, \n .     parallel.core = parallel.core)) %>% tidyr::unnest(data = ., \n .     MISSING_POP) %>% dplyr::mutate(BLACKLISTED_MARKERS = n.markers - \n .     WHITELISTED_MARKERS)",
      "5. withVisible(eval(quote(`_fseq`(`_lhs`)), env, env))",
      "6. eval(quote(`_fseq`(`_lhs`)), env, env)",
      "7. eval(quote(`_fseq`(`_lhs`)), env, env)",
      "8. `_fseq`(`_lhs`)",
      "9. freduce(value, `_function_list`)",
      "10. function_list[[i]](value)",
      "11. tidyr::nest(data = ., .key = id.select)",
      "12. nest.grouped_df(data = ., .key = id.select)",
      "13. NextMethod()",
      "14. nest.tbl_df(data = ., .key = id.select)",
      "15. check_key(.key)",
      "16. is_missing(.key)"
     ]
    },
    {
     "name": "stderr",
     "output_type": "stream",
     "text": [
      "\n",
      "Computation time, overall: 1 sec\n"
     ]
    },
    {
     "name": "stdout",
     "output_type": "stream",
     "text": [
      "######################## completed filter_genotyping ###########################\n"
     ]
    },
    {
     "name": "stderr",
     "output_type": "stream",
     "text": [
      "\n",
      "Computation time, overall: 4 sec\n"
     ]
    },
    {
     "name": "stdout",
     "output_type": "stream",
     "text": [
      "############################## completed read_vcf ##############################\n"
     ]
    },
    {
     "data": {
      "image/png": "[encoded data removed]",
      "text/plain": [
       "plot without title"
      ]
     },
     "metadata": {},
     "output_type": "display_data"
    }
   ],
   "source": [
    "%expand\n",
    "data = read_vcf(\"../../Silliman_subset//sub_populations.snps.vcf\", strata = \"../../NFLDB.strata\",\n",
    "        vcf.stats = TRUE, \n",
    "  parallel.core = 4, filter.common.markers = F, filter.genotyping = 15, filename= \"filtered\")\n"
   ]
  },
  {
   "cell_type": "code",
   "execution_count": null,
   "metadata": {
    "kernel": "ir"
   },
   "outputs": [],
   "source": [
    "dataHW = filter_hwe(data,interactive.filter=F, strata= \"../../NFLDB.location.strata\"\n",
    "                   hw.pop.threshold=3, midp.threshold = 1, parallel.core = 4, \n",
    "                    filename=\"filtered_hwe\")"
   ]
  },
  {
   "cell_type": "code",
   "execution_count": null,
   "metadata": {
    "kernel": "ir"
   },
   "outputs": [],
   "source": [
    "dataHWLD = filter_ld(dataHW, interactive.filter = F, filter.short.ld = \"mac\",\n",
    "  filter.long.ld = 0.7, parallel.core = 4, long.ld.missing = TRUE,\n",
    "  filename = \"filtered_hwld\")"
   ]
  },
  {
   "cell_type": "code",
   "execution_count": null,
   "metadata": {
    "kernel": "ir"
   },
   "outputs": [],
   "source": [
    "genomic_converter(dataHWLD, strata=\"../../NFLDB.strata\", \n",
    "                  output = c(\"genind\",\"structure\",\"vcf\"),\n",
    "                 parallel.core = 4, filename = \"hwp3t1ld7\")"
   ]
  },
  {
   "cell_type": "markdown",
   "metadata": {
    "kernel": "ir"
   },
   "source": [
    "### Population Structure"
   ]
  },
  {
   "cell_type": "code",
   "execution_count": null,
   "metadata": {
    "kernel": "bash"
   },
   "outputs": [],
   "source": []
  }
 ],
 "metadata": {
  "kernelspec": {
   "display_name": "SoS",
   "language": "sos",
   "name": "sos"
  },
  "language_info": {
   "codemirror_mode": "sos",
   "file_extension": ".sos",
   "mimetype": "text/x-sos",
   "name": "sos",
   "nbconvert_exporter": "sos_notebook.converter.SoS_Exporter",
   "pygments_lexer": "sos"
  },
  "sos": {
   "kernels": [
    [
     "Python3",
     "python3",
     "python",
     "",
     {
      "name": "ipython",
      "version": 3
     }
    ],
    [
     "R",
     "ir",
     "R",
     "",
     "r"
    ],
    [
     "SoS",
     "sos",
     "",
     "",
     "sos"
    ],
    [
     "bash",
     "bash",
     "bash",
     "",
     "shell"
    ],
    [
     "ir",
     "ir",
     "R",
     "",
     "r"
    ],
    [
     "Python3",
     "python3",
     "",
     "",
     ""
    ]
   ],
   "version": "0.20.5"
  }
 },
 "nbformat": 4,
 "nbformat_minor": 4
}
