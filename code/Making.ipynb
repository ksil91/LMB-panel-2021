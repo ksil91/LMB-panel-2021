{
 "cells": [
  {
   "cell_type": "markdown",
   "metadata": {
    "kernel": "SoS"
   },
   "source": [
    "Ryan: (maf) set to 0.05, minimum minor allele count (mac) set to\n",
    "10, and minimum locus coverage (max-missing) set to 0.1. Only SNPs called in 100% of individuals; 2) SNPs with observed heterozygosity larger than 0.6 were removed to avoid paralogous loci in the dataset (Li et al.,\n",
    "2014); 3) SNPs deviating from Hardy-Weinberg equilibrium (HWE, p-value < 0.01) in more\n",
    "than one population were removed; 4) SNP pairs that showed linkage disequilibrium (LD) with r2> 0.2 were pruned\n",
    "\n",
    "Bradburn: Call rates > 0.85, maf > 0.01 (or 0.05 in a pop)"
   ]
  },
  {
   "cell_type": "code",
   "execution_count": 1,
   "metadata": {
    "kernel": "SoS"
   },
   "outputs": [],
   "source": [
    "vcf = \"./maf05mac4het9m3R50_2/populations.snps.vcf\"\n",
    "suffix = \"./maf05mac4het9m3R50_2/Making/\""
   ]
  },
  {
   "cell_type": "code",
   "execution_count": 154,
   "metadata": {
    "kernel": "bash"
   },
   "outputs": [
    {
     "name": "stdout",
     "output_type": "stream",
     "text": [
      "\n",
      "VCFtools - 0.1.17\n",
      "(C) Adam Auton and Anthony Marcketta 2009\n",
      "\n",
      "Parameters as interpreted:\n",
      "\t--vcf ./maf05mac4het9m3R50_2/populations.snps.vcf\n",
      "\t--recode-INFO-all\n",
      "\t--min-alleles 2\n",
      "\t--max-missing 0.85\n",
      "\t--out ./maf05mac4het9m3R50_2/Making/m85\n",
      "\t--recode\n",
      "\n",
      "After filtering, kept 144 out of 144 Individuals\n",
      "Outputting VCF file...\n",
      "After filtering, kept 15327 out of a possible 30942 Sites\n",
      "Run Time = 15.00 seconds\n"
     ]
    }
   ],
   "source": [
    "%expand\n",
    "module load vcftools/v0.1.17\n",
    "\n",
    "vcftools --vcf {vcf} --recode --recode-INFO-all \\\n",
    "--min-alleles 2 \\\n",
    "--max-missing 0.85 \\\n",
    "--out {suffix}m85"
   ]
  },
  {
   "cell_type": "code",
   "execution_count": 156,
   "metadata": {
    "kernel": "bash"
   },
   "outputs": [
    {
     "name": "stdout",
     "output_type": "stream",
     "text": [
      "\n",
      "VCFtools - 0.1.17\n",
      "(C) Adam Auton and Anthony Marcketta 2009\n",
      "\n",
      "Parameters as interpreted:\n",
      "\t--vcf ./maf05mac4het9m3R50_2/Making/m85.recode.vcf\n",
      "\t--missing-indv\n",
      "\t--out ./maf05mac4het9m3R50_2/Making/m85\n",
      "\n",
      "After filtering, kept 144 out of 144 Individuals\n",
      "Outputting Individual Missingness\n",
      "After filtering, kept 15327 out of a possible 15327 Sites\n",
      "Run Time = 2.00 seconds\n"
     ]
    }
   ],
   "source": [
    "%expand\n",
    "vcftools --vcf {suffix}m85.recode.vcf --missing-indv --out {suffix}m85"
   ]
  },
  {
   "cell_type": "code",
   "execution_count": 157,
   "metadata": {
    "kernel": "bash"
   },
   "outputs": [
    {
     "name": "stdout",
     "output_type": "stream",
     "text": [
      "INDV\tN_DATA\tN_GENOTYPES_FILTERED\tN_MISS\tF_MISS\n",
      "ALL02\t15327\t0\t555\t0.0362106\n",
      "ALL03\t15327\t0\t4599\t0.300059\n",
      "ALL04\t15327\t0\t330\t0.0215306\n",
      "ALL05\t15327\t0\t451\t0.0294252\n",
      "ALL06\t15327\t0\t630\t0.0411039\n",
      "ALL11\t15327\t0\t116\t0.00756834\n",
      "ALL12\t15327\t0\t234\t0.0152672\n",
      "ALLATOONA01\t15327\t0\t264\t0.0172245\n",
      "ALLATOONA10\t15327\t0\t354\t0.0230965\n",
      "CANOT11829\t15327\t0\t1926\t0.125661\n",
      "CANOT_11830\t15327\t0\t400\t0.0260977\n",
      "CANOT_11832\t15327\t0\t212\t0.0138318\n",
      "CANOT11837\t15327\t0\t1149\t0.0749657\n",
      "CANOT11838\t15327\t0\t253\t0.0165068\n",
      "CANOT_2617\t15327\t0\t678\t0.0442357\n",
      "DB12041\t15327\t0\t3524\t0.229921\n",
      "DB2589\t15327\t0\t1313\t0.0856658\n",
      "DB2590\t15327\t0\t279\t0.0182032\n",
      "DB_2592\t15327\t0\t291\t0.0189861\n",
      "DB_2593\t15327\t0\t2396\t0.156325\n",
      "DB2634\t15327\t0\t1396\t0.0910811\n",
      "DB2635\t15327\t0\t655\t0.042735\n",
      "DB_2637\t15327\t0\t177\t0.0115482\n",
      "FL01\t15327\t0\t1169\t0.0762706\n",
      "FL09\t15327\t0\t1458\t0.0951262\n",
      "FL12\t15327\t0\t322\t0.0210087\n",
      "FL15\t15327\t0\t368\t0.0240099\n",
      "FL16\t15327\t0\t432\t0.0281856\n",
      "FL20\t15327\t0\t251\t0.0163763\n",
      "FL21\t15327\t0\t478\t0.0311868\n",
      "FL23\t15327\t0\t781\t0.0509558\n",
      "FL30\t15327\t0\t229\t0.014941\n",
      "FL55\t15327\t0\t1148\t0.0749005\n",
      "FL60\t15327\t0\t345\t0.0225093\n",
      "FL64\t15327\t0\t308\t0.0200953\n",
      "FL68\t15327\t0\t301\t0.0196385\n",
      "FL70\t15327\t0\t251\t0.0163763\n",
      "FL71\t15327\t0\t1031\t0.0672669\n",
      "FL72\t15327\t0\t536\t0.034971\n",
      "FL73\t15327\t0\t195\t0.0127226\n",
      "FLAL01\t15327\t0\t938\t0.0611992\n",
      "FLAL01II\t15327\t0\t4628\t0.301951\n",
      "FLAL02\t15327\t0\t2503\t0.163307\n",
      "FLAL02II\t15327\t0\t2232\t0.145625\n",
      "FLAL03\t15327\t0\t3682\t0.24023\n",
      "FLAL04\t15327\t0\t1979\t0.129119\n",
      "FLAL04II\t15327\t0\t2763\t0.18027\n",
      "FLF17\t15327\t0\t4128\t0.269329\n",
      "FLM10\t15327\t0\t278\t0.0181379\n",
      "FLM12\t15327\t0\t455\t0.0296862\n",
      "FLM13\t15327\t0\t256\t0.0167026\n",
      "FLM15\t15327\t0\t857\t0.0559144\n",
      "GU_36\t15327\t0\t1309\t0.0854048\n",
      "GU_42\t15327\t0\t406\t0.0264892\n",
      "GU_45\t15327\t0\t203\t0.0132446\n",
      "GU46\t15327\t0\t361\t0.0235532\n",
      "GU51\t15327\t0\t292\t0.0190513\n",
      "GU55\t15327\t0\t336\t0.0219221\n",
      "GU56\t15327\t0\t254\t0.0165721\n",
      "GU57\t15327\t0\t711\t0.0463887\n",
      "GU_58\t15327\t0\t611\t0.0398643\n",
      "GU61\t15327\t0\t1319\t0.0860573\n",
      "LA006\t15327\t0\t3667\t0.239251\n",
      "LA015\t15327\t0\t705\t0.0459973\n",
      "LA030\t15327\t0\t202\t0.0131794\n",
      "LA032\t15327\t0\t994\t0.0648529\n",
      "LA033\t15327\t0\t240\t0.0156586\n",
      "LA034\t15327\t0\t345\t0.0225093\n",
      "LA10_014\t15327\t0\t2616\t0.170679\n",
      "LA11_36\t15327\t0\t351\t0.0229008\n",
      "LA11_39\t15327\t0\t500\t0.0326222\n",
      "LAMAR2\t15327\t0\t158\t0.0103086\n",
      "LE04\t15327\t0\t251\t0.0163763\n",
      "LE05\t15327\t0\t476\t0.0310563\n",
      "LE10\t15327\t0\t164\t0.0107001\n",
      "LE21\t15327\t0\t600\t0.0391466\n",
      "LE23\t15327\t0\t874\t0.0570236\n",
      "LHARD_32\t15327\t0\t234\t0.0152672\n",
      "LHARD_33\t15327\t0\t261\t0.0170288\n",
      "LHARD_34\t15327\t0\t946\t0.0617211\n",
      "LHARD_35\t15327\t0\t230\t0.0150062\n",
      "LHARD_36\t15327\t0\t171\t0.0111568\n",
      "MATT_01\t15327\t0\t483\t0.031513\n",
      "MATT_02\t15327\t0\t452\t0.0294904\n",
      "MATT_03\t15327\t0\t650\t0.0424088\n",
      "MATT_04\t15327\t0\t492\t0.0321002\n",
      "MATT_05\t15327\t0\t188\t0.0122659\n",
      "MATT_06\t15327\t0\t858\t0.0559796\n",
      "MATT_07\t15327\t0\t221\t0.014419\n",
      "MATT_08\t15327\t0\t1318\t0.085992\n",
      "MATT_09\t15327\t0\t853\t0.0556534\n",
      "MATT_10\t15327\t0\t417\t0.0272069\n",
      "Mill_17\t15327\t0\t4128\t0.269329\n",
      "Mill_18\t15327\t0\t1514\t0.0987799\n",
      "Mill__22\t15327\t0\t1738\t0.113395\n",
      "NB07\t15327\t0\t192\t0.0125269\n",
      "NB11\t15327\t0\t243\t0.0158544\n",
      "NB12\t15327\t0\t162\t0.0105696\n",
      "NB13\t15327\t0\t1075\t0.0701377\n",
      "NB19\t15327\t0\t340\t0.0221831\n",
      "NBM01\t15327\t0\t336\t0.0219221\n",
      "Otter_12\t15327\t0\t1033\t0.0673974\n",
      "Otter_13\t15327\t0\t722\t0.0471064\n",
      "Otter_16\t15327\t0\t288\t0.0187904\n",
      "Otter_17\t15327\t0\t181\t0.0118092\n",
      "Otter_19\t15327\t0\t622\t0.040582\n",
      "Otter_21\t15327\t0\t492\t0.0321002\n",
      "Otter_23\t15327\t0\t425\t0.0277288\n",
      "Otter_4\t15327\t0\t1918\t0.125139\n",
      "Otter_5\t15327\t0\t235\t0.0153324\n",
      "Otter_6\t15327\t0\t1232\t0.080381\n",
      "REELF_15612\t15327\t0\t510\t0.0332746\n",
      "REELF_15732\t15327\t0\t168\t0.010961\n",
      "REELF_15745\t15327\t0\t557\t0.0363411\n",
      "REELF_15775\t15327\t0\t641\t0.0418216\n",
      "RM09\t15327\t0\t1295\t0.0844914\n",
      "RM1\t15327\t0\t150\t0.00978665\n",
      "RM11\t15327\t0\t380\t0.0247928\n",
      "RM12\t15327\t0\t201\t0.0131141\n",
      "RM13\t15327\t0\t245\t0.0159849\n",
      "SIPS_09\t15327\t0\t220\t0.0143538\n",
      "SIPS_110\t15327\t0\t303\t0.019769\n",
      "SIPS_114\t15327\t0\t168\t0.010961\n",
      "SIPS_13\t15327\t0\t261\t0.0170288\n",
      "SIPS_14\t15327\t0\t285\t0.0185946\n",
      "SIPS_18\t15327\t0\t120\t0.00782932\n",
      "SIPS_20\t15327\t0\t142\t0.0092647\n",
      "SIPS_26\t15327\t0\t167\t0.0108958\n",
      "SIPS_27\t15327\t0\t220\t0.0143538\n",
      "SIPS_32\t15327\t0\t410\t0.0267502\n",
      "SL04\t15327\t0\t2525\t0.164742\n",
      "SL10\t15327\t0\t1153\t0.0752267\n",
      "SL11\t15327\t0\t1556\t0.10152\n",
      "SL14\t15327\t0\t734\t0.0478893\n",
      "SL15\t15327\t0\t591\t0.0385594\n",
      "SL16\t15327\t0\t1080\t0.0704639\n",
      "SL19\t15327\t0\t984\t0.0642004\n",
      "SL2\t15327\t0\t592\t0.0386246\n",
      "SL8\t15327\t0\t2212\t0.14432\n",
      "Sipsey_122\t15327\t0\t458\t0.0298819\n",
      "Sipsey_123\t15327\t0\t956\t0.0623736\n",
      "Sipsey_124\t15327\t0\t125\t0.00815554\n",
      "TN11851\t15327\t0\t1012\t0.0660273\n",
      "TN11855\t15327\t0\t2053\t0.133947\n"
     ]
    }
   ],
   "source": [
    "%expand\n",
    "cat {suffix}m85.imiss"
   ]
  },
  {
   "cell_type": "code",
   "execution_count": 15,
   "metadata": {
    "kernel": "bash"
   },
   "outputs": [
    {
     "name": "stdout",
     "output_type": "stream",
     "text": [
      "Processing population: Big_Bayou_Canot (6 inds)\n",
      "Processing population: DOlive_Bay (8 inds)\n",
      "Processing population: FL_ASF (7 inds)\n",
      "Processing population: FL_Bass_Cons (5 inds)\n",
      "Processing population: Lake_Allatoona1 (5 inds)\n",
      "Processing population: Lake_Allatoona2 (4 inds)\n",
      "Processing population: Lake_Guntersville (10 inds)\n",
      "Processing population: Lake_Harding (5 inds)\n",
      "Processing population: Lake_Mattoon (10 inds)\n",
      "Processing population: Lake_Otter (10 inds)\n",
      "Processing population: Lamar_County_Lake (1 inds)\n",
      "Processing population: Lay_Lake (9 inds)\n",
      "Processing population: Mill_Creek (3 inds)\n",
      "Processing population: Northern_ASF (6 inds)\n",
      "Processing population: Reelfoot (4 inds)\n",
      "Processing population: Reeves_Branch (5 inds)\n",
      "Processing population: Rocky_Mt_PFA (5 inds)\n",
      "Processing population: Sipsey_River (13 inds)\n",
      "Processing population: St_Johns_River (17 inds)\n",
      "Processing population: Sugar_Lake (9 inds)\n",
      "Processing population: Tensaw_Lake (2 inds)\n",
      "Outputting results of HWE test for filtered loci to 'filtered.hwe'\n",
      "Kept 15078 of a possible 15327 loci (filtered 249 loci)\n"
     ]
    }
   ],
   "source": [
    "%expand\n",
    "module load vcftools/v0.1.17\n",
    "## Filtering out loci that depart HWE in at least 2 populations with a p-value cutoff of 0.05\n",
    "\n",
    "../../../Scripts/filter_hwe_by_pop.pl -v {suffix}m85.recode.vcf \\\n",
    "-p ./NFLDB.location -h 0.05 -c 0.08 -o {suffix}m85-hwPbi\n",
    "\n",
    "mv exclude.hwe exclude.txt\n",
    "## remove intermediate files\n",
    "rm *.inds\n",
    "## Remove these if you don't want to inspect HWE results\n",
    "rm *.hwe"
   ]
  },
  {
   "cell_type": "markdown",
   "metadata": {
    "kernel": "bash"
   },
   "source": [
    "## All filtered SNPs (unlinked)"
   ]
  },
  {
   "cell_type": "code",
   "execution_count": 21,
   "metadata": {
    "kernel": "bash"
   },
   "outputs": [
    {
     "name": "stdout",
     "output_type": "stream",
     "text": [
      "sort -k1,1d -k2,2n\n"
     ]
    }
   ],
   "source": [
    "%expand\n",
    "module load tabix/0.2.6\n",
    "module load samtools/1.6\n",
    "module load bcftools/1.3.2\n",
    "\n",
    "cp {suffix}m85-hwPbi.recode.vcf {suffix}m85-hwPbicp.recode.vcf\n",
    "vcf-sort {suffix}m85-hwPbicp.recode.vcf > {suffix}m85-hwPbicp.sorted.vcf\n",
    "bgzip {suffix}m85-hwPbicp.sorted.vcf\n",
    "tabix -p vcf {suffix}m85-hwPbicp.sorted.vcf.gz"
   ]
  },
  {
   "cell_type": "code",
   "execution_count": 24,
   "metadata": {
    "kernel": "bash"
   },
   "outputs": [
    {
     "name": "stdout",
     "output_type": "stream",
     "text": [
      "8582\n"
     ]
    }
   ],
   "source": [
    "%expand\n",
    "module load bcftools/1.3.2\n",
    "\n",
    "bcftools +prune {suffix}m85-hwPbicp.sorted.vcf.gz -l 0.2 -n 1 -w 1000 \\\n",
    "-Ov -o {suffix}m85-hwPbi-thinned.vcf\n",
    "grep -v \"#\" {suffix}m85-hwPbi-thinned.vcf | wc -l"
   ]
  },
  {
   "cell_type": "code",
   "execution_count": 32,
   "metadata": {
    "kernel": "R"
   },
   "outputs": [
    {
     "data": {
      "text/html": [
       "'/gpfs01/home/kes0132/Delta/Stacks_Assembly/MyStacks'"
      ],
      "text/latex": [
       "'/gpfs01/home/kes0132/Delta/Stacks\\_Assembly/MyStacks'"
      ],
      "text/markdown": [
       "'/gpfs01/home/kes0132/Delta/Stacks_Assembly/MyStacks'"
      ],
      "text/plain": [
       "[1] \"/gpfs01/home/kes0132/Delta/Stacks_Assembly/MyStacks\""
      ]
     },
     "metadata": {},
     "output_type": "display_data"
    }
   ],
   "source": [
    "getwd()"
   ]
  },
  {
   "cell_type": "code",
   "execution_count": 8,
   "metadata": {
    "kernel": "ir"
   },
   "outputs": [],
   "source": [
    "library(radiator)"
   ]
  },
  {
   "cell_type": "code",
   "execution_count": 10,
   "metadata": {
    "kernel": "ir"
   },
   "outputs": [],
   "source": [
    "%expand\n",
    "setwd(\"{suffix}\")"
   ]
  },
  {
   "cell_type": "code",
   "execution_count": 12,
   "metadata": {
    "kernel": "ir"
   },
   "outputs": [
    {
     "name": "stderr",
     "output_type": "stream",
     "text": [
      "Execution date@time: 20191007@1059\n",
      "Folder created: read_vcf_20191007@1059\n",
      "Function call and arguments stored in: radiator_read_vcf_args_20191007@1059.tsv\n",
      "File written: random.seed (549504)\n",
      "\n",
      "Reading VCF\n",
      "Data summary: \n",
      "    number of samples: 144\n",
      "    number of markers: 8582\n",
      "done! timing: 8 sec\n",
      "\n",
      "\n",
      "File written: radiator_20191007@1059.gds\n",
      "\n",
      "Analyzing the data...\n",
      "VCF source: Stacks v2.4\n",
      "Data is bi-allelic\n",
      "Cleaning VCF's sample names\n",
      "Synchronizing data and strata...\n",
      "    Number of strata: 4\n",
      "    Number of individuals: 144\n",
      "Reads assembly: de novo\n",
      "Filters parameters file generated: filters_parameters_20191007@1059.tsv\n",
      "Filters parameters file: initiated and updated\n"
     ]
    },
    {
     "name": "stdout",
     "output_type": "stream",
     "text": [
      "################################################################################\n",
      "########################### radiator::filter_monomorphic #######################\n",
      "################################################################################\n"
     ]
    },
    {
     "name": "stderr",
     "output_type": "stream",
     "text": [
      "Execution date@time: 20191007@1059\n",
      "Function call and arguments stored in: radiator_filter_monomorphic_args_20191007@1059.tsv\n",
      "Filters parameters file: initiated\n",
      "File written: whitelist.polymorphic.markers_20191007@1059.tsv\n",
      "Filters parameters file: updated\n"
     ]
    },
    {
     "name": "stdout",
     "output_type": "stream",
     "text": [
      "################################### RESULTS ####################################\n"
     ]
    },
    {
     "name": "stderr",
     "output_type": "stream",
     "text": [
      "\n",
      "Filter monomorphic markers\n",
      "Number of individuals / strata / chrom / locus / SNP:\n",
      "    Before: 144 / 4 / 1 / 8582 / 8582\n",
      "    Blacklisted: 0 / 0 / 0 / 0 / 0\n",
      "    After: 144 / 4 / 1 / 8582 / 8582\n",
      "\n",
      "Computation time, overall: 0 sec\n"
     ]
    },
    {
     "name": "stdout",
     "output_type": "stream",
     "text": [
      "######################## filter_monomorphic completed ##########################\n"
     ]
    },
    {
     "name": "stderr",
     "output_type": "stream",
     "text": [
      "\n",
      "Preparing output files...\n",
      "File written: whitelist.markers.tsv\n",
      "Writing the filtered strata: strata.filtered.tsvstrata.filtered.tsv\n",
      "\n",
      "Generating statistics after filtering\n",
      "Generating individual stats...\n"
     ]
    },
    {
     "name": "stdout",
     "output_type": "stream",
     "text": [
      "[==================================================] 100%, completed in 0s\n"
     ]
    },
    {
     "name": "stderr",
     "output_type": "stream",
     "text": [
      "File written: individuals qc info and stats summary\n",
      "File written: individuals qc plot\n",
      "Generating markers stats...\n"
     ]
    },
    {
     "name": "stdout",
     "output_type": "stream",
     "text": [
      "[==================================================] 100%, completed in 0s\n",
      "[==================================================] 100%, completed in 0s\n",
      "################################### SUMMARY ####################################\n"
     ]
    },
    {
     "name": "stderr",
     "output_type": "stream",
     "text": [
      "\n",
      "\n",
      "Summary (AFTER filtering):\n",
      "Missing data: \n",
      "    markers: 0.06\n",
      "    individuals: 0.06\n",
      "\n",
      "\n",
      "Coverage info:\n",
      "    individuals mean read depth: 92390\n",
      "    individuals mean genotype coverage: 11\n",
      "    markers mean coverage: 11\n",
      "\n",
      "\n",
      "Number of chromosome/contig/scaffold: 1\n",
      "Number of locus: 8582\n",
      "Number of markers: 8582\n",
      "Number of populations: 4\n",
      "Number of individuals: 144\n",
      "\n",
      "Number of ind/pop:\n",
      "NB = 42\n",
      "DB = 29\n",
      "FL = 29\n",
      "ILMB = 44\n",
      "\n",
      "Number of duplicate id: 0\n",
      "radiator Genomic Data Structure (GDS) file: radiator_20191007@1059.gds\n",
      "\n",
      "Computation time, overall: 18 sec\n"
     ]
    },
    {
     "data": {
      "image/png": "[encoded data removed]",
      "text/plain": [
       "plot without title"
      ]
     },
     "metadata": {},
     "output_type": "display_data"
    },
    {
     "name": "stdout",
     "output_type": "stream",
     "text": [
      "############################## completed read_vcf ##############################\n"
     ]
    },
    {
     "data": {
      "image/png": "[encoded data removed]",
      "text/plain": [
       "plot without title"
      ]
     },
     "metadata": {},
     "output_type": "display_data"
    }
   ],
   "source": [
    "%expand\n",
    "setwd(\"{suffix}\")\n",
    "data = read_vcf(\"m85-hwPbi-thinned.vcf\", strata = \"../../NFLDB.strata\",\n",
    "        vcf.stats = TRUE, parallel.core = 1, filter.common.markers = F,pop.levels=c(\"NB\",\"DB\",\"FL\",\"ILMB\"))\n"
   ]
  },
  {
   "cell_type": "code",
   "execution_count": 13,
   "metadata": {
    "kernel": "ir"
   },
   "outputs": [
    {
     "name": "stdout",
     "output_type": "stream",
     "text": [
      "################################################################################\n",
      "########################## radiator::genomic_converter #########################\n",
      "################################################################################\n"
     ]
    },
    {
     "name": "stderr",
     "output_type": "stream",
     "text": [
      "Execution date@time: 20191007@1100\n",
      "\n",
      "Deprecated arguments identified inside \"...\": \n",
      "    pop.levels\n",
      "\n",
      "Read documentation, for latest changes, and modify your codes!\n",
      "\n",
      "Folder created: 03_radiator_genomic_converter_20191007@1100\n",
      "Function call and arguments stored in: radiator_genomic_converter_args_20191007@1100.tsv\n",
      "Filters parameters file generated: filters_parameters_20191007@1100.tsv\n",
      "\n",
      "Importing data\n",
      "\n",
      "Synchronizing data and strata...\n",
      "    Number of strata: 4\n",
      "    Number of individuals: 144\n",
      "\n",
      "Writing tidy data set:\n",
      "allfiltu.rad\n",
      "\n",
      "Preparing data for output\n",
      "\n",
      "Data is bi-allelic\n",
      "Calibrating REF/ALT alleles...\n",
      "    number of REF/ALT switch = 4\n",
      "Generating structure file\n",
      "Generating adegenet genind object\n"
     ]
    },
    {
     "name": "stdout",
     "output_type": "stream",
     "text": [
      "################################### RESULTS ####################################\n"
     ]
    },
    {
     "name": "stderr",
     "output_type": "stream",
     "text": [
      "Data format of input: SeqVarGDSClass\n",
      "Biallelic data\n",
      "Number of markers: 8582\n",
      "Number of chromosome/contig/scaffold: 1\n",
      "Number of strata: 4\n",
      "Number of individuals: 144\n",
      "\n",
      "Computation time, overall: 53 sec\n"
     ]
    },
    {
     "name": "stdout",
     "output_type": "stream",
     "text": [
      "######################### genomic_converter completed ##########################\n"
     ]
    }
   ],
   "source": [
    "outs = genomic_converter(data, strata=\"../../NFLDB.strata\", \n",
    "                  output = c(\"genind\",\"structure\"),\n",
    "                 parallel.core = 4, filename = \"allfiltu\", pop.levels=c(\"NB\",\"DB\",\"FL\",\"ILMB\"))"
   ]
  },
  {
   "cell_type": "code",
   "execution_count": 14,
   "metadata": {
    "kernel": "ir"
   },
   "outputs": [
    {
     "data": {
      "text/plain": [
       "/// GENIND OBJECT /////////\n",
       "\n",
       " // 144 individuals; 8,582 loci; 17,164 alleles; size: 14.4 Mb\n",
       "\n",
       " // Basic content\n",
       "   @tab:  144 x 17164 matrix of allele counts\n",
       "   @loc.n.all: number of alleles per locus (range: 2-2)\n",
       "   @loc.fac: locus factor for the 17164 columns of @tab\n",
       "   @all.names: list of allele names for each locus\n",
       "   @ploidy: ploidy of each individual  (range: 2-2)\n",
       "   @type:  codom\n",
       "   @call: radiator::write_genind(data = input, write = TRUE)\n",
       "\n",
       " // Optional content\n",
       "   @pop: population of each individual (group size range: 29-44)\n",
       "   @strata: a data frame with 2 columns ( INDIVIDUALS, POP_ID )"
      ]
     },
     "metadata": {},
     "output_type": "display_data"
    }
   ],
   "source": [
    "outs$genind"
   ]
  },
  {
   "cell_type": "code",
   "execution_count": 15,
   "metadata": {
    "kernel": "ir"
   },
   "outputs": [],
   "source": [
    "allfiltu = outs$genind\n",
    "save(allfiltu, file=\"allfiltu.genind\")"
   ]
  },
  {
   "cell_type": "code",
   "execution_count": null,
   "metadata": {
    "kernel": "bash"
   },
   "outputs": [],
   "source": []
  },
  {
   "cell_type": "markdown",
   "metadata": {
    "kernel": "bash"
   },
   "source": [
    "## Fixed within at least 2 pops"
   ]
  },
  {
   "cell_type": "code",
   "execution_count": 256,
   "metadata": {
    "kernel": "Python3"
   },
   "outputs": [],
   "source": [
    "import pandas as pd\n",
    "infile =\"./maf05mac4het9m3R50_2/populations.sumstats.tsv\"\n",
    "\n",
    "IN = pd.read_table(infile,header=4)"
   ]
  },
  {
   "cell_type": "code",
   "execution_count": 257,
   "metadata": {
    "kernel": "Python3"
   },
   "outputs": [],
   "source": [
    "fixed = IN[(IN['P'] >0.98) & (IN['Pop ID'] != \"ILMB\")]"
   ]
  },
  {
   "cell_type": "code",
   "execution_count": 262,
   "metadata": {
    "kernel": "Python3"
   },
   "outputs": [
    {
     "data": {
      "text/html": [
       "<div>\n",
       "<style scoped>\n",
       "    .dataframe tbody tr th:only-of-type {\n",
       "        vertical-align: middle;\n",
       "    }\n",
       "\n",
       "    .dataframe tbody tr th {\n",
       "        vertical-align: top;\n",
       "    }\n",
       "\n",
       "    .dataframe thead th {\n",
       "        text-align: right;\n",
       "    }\n",
       "</style>\n",
       "<table border=\"1\" class=\"dataframe\">\n",
       "  <thead>\n",
       "    <tr style=\"text-align: right;\">\n",
       "      <th></th>\n",
       "      <th># Locus ID</th>\n",
       "      <th>Chr</th>\n",
       "      <th>BP</th>\n",
       "      <th>Col</th>\n",
       "      <th>Pop ID</th>\n",
       "      <th>P Nuc</th>\n",
       "      <th>Q Nuc</th>\n",
       "      <th>N</th>\n",
       "      <th>P</th>\n",
       "      <th>Obs Het</th>\n",
       "      <th>...</th>\n",
       "      <th>Exp Het</th>\n",
       "      <th>Exp Hom</th>\n",
       "      <th>Pi</th>\n",
       "      <th>Smoothed Pi</th>\n",
       "      <th>Smoothed Pi P-value</th>\n",
       "      <th>Fis</th>\n",
       "      <th>Smoothed Fis</th>\n",
       "      <th>Smoothed Fis P-value</th>\n",
       "      <th>HWE P-value</th>\n",
       "      <th>Private</th>\n",
       "    </tr>\n",
       "  </thead>\n",
       "  <tbody>\n",
       "    <tr>\n",
       "      <td>5</td>\n",
       "      <td>178</td>\n",
       "      <td>18</td>\n",
       "      <td>2739</td>\n",
       "      <td>90</td>\n",
       "      <td>FL</td>\n",
       "      <td>A</td>\n",
       "      <td>-</td>\n",
       "      <td>29</td>\n",
       "      <td>1.0</td>\n",
       "      <td>0.0</td>\n",
       "      <td>...</td>\n",
       "      <td>0.0</td>\n",
       "      <td>1.0</td>\n",
       "      <td>0.0</td>\n",
       "      <td>0.0</td>\n",
       "      <td>0.0</td>\n",
       "      <td>0.0</td>\n",
       "      <td>0.0</td>\n",
       "      <td>0.0</td>\n",
       "      <td>1.0</td>\n",
       "      <td>0</td>\n",
       "    </tr>\n",
       "    <tr>\n",
       "      <td>9</td>\n",
       "      <td>179</td>\n",
       "      <td>18</td>\n",
       "      <td>2739</td>\n",
       "      <td>30</td>\n",
       "      <td>FL</td>\n",
       "      <td>T</td>\n",
       "      <td>-</td>\n",
       "      <td>28</td>\n",
       "      <td>1.0</td>\n",
       "      <td>0.0</td>\n",
       "      <td>...</td>\n",
       "      <td>0.0</td>\n",
       "      <td>1.0</td>\n",
       "      <td>0.0</td>\n",
       "      <td>0.0</td>\n",
       "      <td>0.0</td>\n",
       "      <td>0.0</td>\n",
       "      <td>0.0</td>\n",
       "      <td>0.0</td>\n",
       "      <td>1.0</td>\n",
       "      <td>0</td>\n",
       "    </tr>\n",
       "    <tr>\n",
       "      <td>12</td>\n",
       "      <td>183</td>\n",
       "      <td>18</td>\n",
       "      <td>10128</td>\n",
       "      <td>74</td>\n",
       "      <td>DB</td>\n",
       "      <td>A</td>\n",
       "      <td>-</td>\n",
       "      <td>29</td>\n",
       "      <td>1.0</td>\n",
       "      <td>0.0</td>\n",
       "      <td>...</td>\n",
       "      <td>0.0</td>\n",
       "      <td>1.0</td>\n",
       "      <td>0.0</td>\n",
       "      <td>0.0</td>\n",
       "      <td>0.0</td>\n",
       "      <td>0.0</td>\n",
       "      <td>0.0</td>\n",
       "      <td>0.0</td>\n",
       "      <td>1.0</td>\n",
       "      <td>0</td>\n",
       "    </tr>\n",
       "    <tr>\n",
       "      <td>14</td>\n",
       "      <td>183</td>\n",
       "      <td>18</td>\n",
       "      <td>10128</td>\n",
       "      <td>74</td>\n",
       "      <td>NB</td>\n",
       "      <td>A</td>\n",
       "      <td>-</td>\n",
       "      <td>40</td>\n",
       "      <td>1.0</td>\n",
       "      <td>0.0</td>\n",
       "      <td>...</td>\n",
       "      <td>0.0</td>\n",
       "      <td>1.0</td>\n",
       "      <td>0.0</td>\n",
       "      <td>0.0</td>\n",
       "      <td>0.0</td>\n",
       "      <td>0.0</td>\n",
       "      <td>0.0</td>\n",
       "      <td>0.0</td>\n",
       "      <td>1.0</td>\n",
       "      <td>0</td>\n",
       "    </tr>\n",
       "    <tr>\n",
       "      <td>16</td>\n",
       "      <td>185</td>\n",
       "      <td>18</td>\n",
       "      <td>10128</td>\n",
       "      <td>32</td>\n",
       "      <td>DB</td>\n",
       "      <td>T</td>\n",
       "      <td>-</td>\n",
       "      <td>29</td>\n",
       "      <td>1.0</td>\n",
       "      <td>0.0</td>\n",
       "      <td>...</td>\n",
       "      <td>0.0</td>\n",
       "      <td>1.0</td>\n",
       "      <td>0.0</td>\n",
       "      <td>0.0</td>\n",
       "      <td>0.0</td>\n",
       "      <td>0.0</td>\n",
       "      <td>0.0</td>\n",
       "      <td>0.0</td>\n",
       "      <td>1.0</td>\n",
       "      <td>0</td>\n",
       "    </tr>\n",
       "    <tr>\n",
       "      <td>...</td>\n",
       "      <td>...</td>\n",
       "      <td>...</td>\n",
       "      <td>...</td>\n",
       "      <td>...</td>\n",
       "      <td>...</td>\n",
       "      <td>...</td>\n",
       "      <td>...</td>\n",
       "      <td>...</td>\n",
       "      <td>...</td>\n",
       "      <td>...</td>\n",
       "      <td>...</td>\n",
       "      <td>...</td>\n",
       "      <td>...</td>\n",
       "      <td>...</td>\n",
       "      <td>...</td>\n",
       "      <td>...</td>\n",
       "      <td>...</td>\n",
       "      <td>...</td>\n",
       "      <td>...</td>\n",
       "      <td>...</td>\n",
       "      <td>...</td>\n",
       "    </tr>\n",
       "    <tr>\n",
       "      <td>168773</td>\n",
       "      <td>474566</td>\n",
       "      <td>250036</td>\n",
       "      <td>11247</td>\n",
       "      <td>16</td>\n",
       "      <td>NB</td>\n",
       "      <td>G</td>\n",
       "      <td>-</td>\n",
       "      <td>39</td>\n",
       "      <td>1.0</td>\n",
       "      <td>0.0</td>\n",
       "      <td>...</td>\n",
       "      <td>0.0</td>\n",
       "      <td>1.0</td>\n",
       "      <td>0.0</td>\n",
       "      <td>0.0</td>\n",
       "      <td>0.0</td>\n",
       "      <td>0.0</td>\n",
       "      <td>0.0</td>\n",
       "      <td>0.0</td>\n",
       "      <td>1.0</td>\n",
       "      <td>0</td>\n",
       "    </tr>\n",
       "    <tr>\n",
       "      <td>168776</td>\n",
       "      <td>474567</td>\n",
       "      <td>250036</td>\n",
       "      <td>11186</td>\n",
       "      <td>48</td>\n",
       "      <td>FL</td>\n",
       "      <td>T</td>\n",
       "      <td>-</td>\n",
       "      <td>17</td>\n",
       "      <td>1.0</td>\n",
       "      <td>0.0</td>\n",
       "      <td>...</td>\n",
       "      <td>0.0</td>\n",
       "      <td>1.0</td>\n",
       "      <td>0.0</td>\n",
       "      <td>0.0</td>\n",
       "      <td>0.0</td>\n",
       "      <td>0.0</td>\n",
       "      <td>0.0</td>\n",
       "      <td>0.0</td>\n",
       "      <td>1.0</td>\n",
       "      <td>0</td>\n",
       "    </tr>\n",
       "    <tr>\n",
       "      <td>168777</td>\n",
       "      <td>474567</td>\n",
       "      <td>250036</td>\n",
       "      <td>11186</td>\n",
       "      <td>48</td>\n",
       "      <td>NB</td>\n",
       "      <td>T</td>\n",
       "      <td>-</td>\n",
       "      <td>24</td>\n",
       "      <td>1.0</td>\n",
       "      <td>0.0</td>\n",
       "      <td>...</td>\n",
       "      <td>0.0</td>\n",
       "      <td>1.0</td>\n",
       "      <td>0.0</td>\n",
       "      <td>0.0</td>\n",
       "      <td>0.0</td>\n",
       "      <td>0.0</td>\n",
       "      <td>0.0</td>\n",
       "      <td>0.0</td>\n",
       "      <td>1.0</td>\n",
       "      <td>0</td>\n",
       "    </tr>\n",
       "    <tr>\n",
       "      <td>168780</td>\n",
       "      <td>474581</td>\n",
       "      <td>250036</td>\n",
       "      <td>41435</td>\n",
       "      <td>48</td>\n",
       "      <td>FL</td>\n",
       "      <td>C</td>\n",
       "      <td>-</td>\n",
       "      <td>29</td>\n",
       "      <td>1.0</td>\n",
       "      <td>0.0</td>\n",
       "      <td>...</td>\n",
       "      <td>0.0</td>\n",
       "      <td>1.0</td>\n",
       "      <td>0.0</td>\n",
       "      <td>0.0</td>\n",
       "      <td>0.0</td>\n",
       "      <td>0.0</td>\n",
       "      <td>0.0</td>\n",
       "      <td>0.0</td>\n",
       "      <td>1.0</td>\n",
       "      <td>0</td>\n",
       "    </tr>\n",
       "    <tr>\n",
       "      <td>168784</td>\n",
       "      <td>474584</td>\n",
       "      <td>250036</td>\n",
       "      <td>41435</td>\n",
       "      <td>31</td>\n",
       "      <td>FL</td>\n",
       "      <td>G</td>\n",
       "      <td>-</td>\n",
       "      <td>29</td>\n",
       "      <td>1.0</td>\n",
       "      <td>0.0</td>\n",
       "      <td>...</td>\n",
       "      <td>0.0</td>\n",
       "      <td>1.0</td>\n",
       "      <td>0.0</td>\n",
       "      <td>0.0</td>\n",
       "      <td>0.0</td>\n",
       "      <td>0.0</td>\n",
       "      <td>0.0</td>\n",
       "      <td>0.0</td>\n",
       "      <td>1.0</td>\n",
       "      <td>0</td>\n",
       "    </tr>\n",
       "  </tbody>\n",
       "</table>\n",
       "<p>55951 rows × 21 columns</p>\n",
       "</div>"
      ],
      "text/plain": [
       "        # Locus ID     Chr     BP  Col Pop ID P Nuc Q Nuc   N    P  Obs Het  \\\n",
       "5              178      18   2739   90     FL     A     -  29  1.0      0.0   \n",
       "9              179      18   2739   30     FL     T     -  28  1.0      0.0   \n",
       "12             183      18  10128   74     DB     A     -  29  1.0      0.0   \n",
       "14             183      18  10128   74     NB     A     -  40  1.0      0.0   \n",
       "16             185      18  10128   32     DB     T     -  29  1.0      0.0   \n",
       "...            ...     ...    ...  ...    ...   ...   ...  ..  ...      ...   \n",
       "168773      474566  250036  11247   16     NB     G     -  39  1.0      0.0   \n",
       "168776      474567  250036  11186   48     FL     T     -  17  1.0      0.0   \n",
       "168777      474567  250036  11186   48     NB     T     -  24  1.0      0.0   \n",
       "168780      474581  250036  41435   48     FL     C     -  29  1.0      0.0   \n",
       "168784      474584  250036  41435   31     FL     G     -  29  1.0      0.0   \n",
       "\n",
       "        ...  Exp Het  Exp Hom   Pi  Smoothed Pi  Smoothed Pi P-value  Fis  \\\n",
       "5       ...      0.0      1.0  0.0          0.0                  0.0  0.0   \n",
       "9       ...      0.0      1.0  0.0          0.0                  0.0  0.0   \n",
       "12      ...      0.0      1.0  0.0          0.0                  0.0  0.0   \n",
       "14      ...      0.0      1.0  0.0          0.0                  0.0  0.0   \n",
       "16      ...      0.0      1.0  0.0          0.0                  0.0  0.0   \n",
       "...     ...      ...      ...  ...          ...                  ...  ...   \n",
       "168773  ...      0.0      1.0  0.0          0.0                  0.0  0.0   \n",
       "168776  ...      0.0      1.0  0.0          0.0                  0.0  0.0   \n",
       "168777  ...      0.0      1.0  0.0          0.0                  0.0  0.0   \n",
       "168780  ...      0.0      1.0  0.0          0.0                  0.0  0.0   \n",
       "168784  ...      0.0      1.0  0.0          0.0                  0.0  0.0   \n",
       "\n",
       "        Smoothed Fis  Smoothed Fis P-value  HWE P-value  Private  \n",
       "5                0.0                   0.0          1.0        0  \n",
       "9                0.0                   0.0          1.0        0  \n",
       "12               0.0                   0.0          1.0        0  \n",
       "14               0.0                   0.0          1.0        0  \n",
       "16               0.0                   0.0          1.0        0  \n",
       "...              ...                   ...          ...      ...  \n",
       "168773           0.0                   0.0          1.0        0  \n",
       "168776           0.0                   0.0          1.0        0  \n",
       "168777           0.0                   0.0          1.0        0  \n",
       "168780           0.0                   0.0          1.0        0  \n",
       "168784           0.0                   0.0          1.0        0  \n",
       "\n",
       "[55951 rows x 21 columns]"
      ]
     },
     "execution_count": 262,
     "metadata": {},
     "output_type": "execute_result"
    }
   ],
   "source": [
    "fixed"
   ]
  },
  {
   "cell_type": "code",
   "execution_count": 260,
   "metadata": {
    "kernel": "Python3"
   },
   "outputs": [],
   "source": [
    "check = []\n",
    "for row in fixed.itertuples(index=True):\n",
    "    if (row._1,row.Chr,row.BP) not in check:\n",
    "        check.append((row._1,row.Chr,row.BP))\n",
    "\n",
    "x = IN[IN[[\"# Locus ID\",\"Chr\",\"BP\"]].apply(tuple, 1).isin(check)]\n",
    "x = x[(x['Pop ID'] == \"DB\") | (x['Pop ID'] == \"NB\")| (x['Pop ID'] == \"FL\")]   \n",
    "\n"
   ]
  },
  {
   "cell_type": "code",
   "execution_count": 309,
   "metadata": {
    "kernel": "Python3"
   },
   "outputs": [
    {
     "data": {
      "text/html": [
       "<div>\n",
       "<style scoped>\n",
       "    .dataframe tbody tr th:only-of-type {\n",
       "        vertical-align: middle;\n",
       "    }\n",
       "\n",
       "    .dataframe tbody tr th {\n",
       "        vertical-align: top;\n",
       "    }\n",
       "\n",
       "    .dataframe thead th {\n",
       "        text-align: right;\n",
       "    }\n",
       "</style>\n",
       "<table border=\"1\" class=\"dataframe\">\n",
       "  <thead>\n",
       "    <tr style=\"text-align: right;\">\n",
       "      <th></th>\n",
       "      <th># Locus ID</th>\n",
       "      <th>Chr</th>\n",
       "      <th>BP</th>\n",
       "      <th>Col</th>\n",
       "      <th>Pop ID</th>\n",
       "      <th>P Nuc</th>\n",
       "      <th>Q Nuc</th>\n",
       "      <th>N</th>\n",
       "      <th>P</th>\n",
       "      <th>Obs Het</th>\n",
       "      <th>...</th>\n",
       "      <th>Exp Het</th>\n",
       "      <th>Exp Hom</th>\n",
       "      <th>Pi</th>\n",
       "      <th>Smoothed Pi</th>\n",
       "      <th>Smoothed Pi P-value</th>\n",
       "      <th>Fis</th>\n",
       "      <th>Smoothed Fis</th>\n",
       "      <th>Smoothed Fis P-value</th>\n",
       "      <th>HWE P-value</th>\n",
       "      <th>Private</th>\n",
       "    </tr>\n",
       "  </thead>\n",
       "  <tbody>\n",
       "    <tr>\n",
       "      <td>4</td>\n",
       "      <td>178</td>\n",
       "      <td>18</td>\n",
       "      <td>2739</td>\n",
       "      <td>90</td>\n",
       "      <td>DB</td>\n",
       "      <td>A</td>\n",
       "      <td>G</td>\n",
       "      <td>29</td>\n",
       "      <td>0.948276</td>\n",
       "      <td>0.10345</td>\n",
       "      <td>...</td>\n",
       "      <td>0.09810</td>\n",
       "      <td>0.90190</td>\n",
       "      <td>0.09982</td>\n",
       "      <td>0.00044</td>\n",
       "      <td>0.0</td>\n",
       "      <td>-0.03636</td>\n",
       "      <td>-0.03636</td>\n",
       "      <td>0.0</td>\n",
       "      <td>1.0000</td>\n",
       "      <td>0</td>\n",
       "    </tr>\n",
       "    <tr>\n",
       "      <td>5</td>\n",
       "      <td>178</td>\n",
       "      <td>18</td>\n",
       "      <td>2739</td>\n",
       "      <td>90</td>\n",
       "      <td>FL</td>\n",
       "      <td>A</td>\n",
       "      <td>-</td>\n",
       "      <td>29</td>\n",
       "      <td>1.000000</td>\n",
       "      <td>0.00000</td>\n",
       "      <td>...</td>\n",
       "      <td>0.00000</td>\n",
       "      <td>1.00000</td>\n",
       "      <td>0.00000</td>\n",
       "      <td>0.00000</td>\n",
       "      <td>0.0</td>\n",
       "      <td>0.00000</td>\n",
       "      <td>0.00000</td>\n",
       "      <td>0.0</td>\n",
       "      <td>1.0000</td>\n",
       "      <td>0</td>\n",
       "    </tr>\n",
       "    <tr>\n",
       "      <td>6</td>\n",
       "      <td>178</td>\n",
       "      <td>18</td>\n",
       "      <td>2739</td>\n",
       "      <td>90</td>\n",
       "      <td>NB</td>\n",
       "      <td>A</td>\n",
       "      <td>G</td>\n",
       "      <td>38</td>\n",
       "      <td>0.039474</td>\n",
       "      <td>0.07895</td>\n",
       "      <td>...</td>\n",
       "      <td>0.07583</td>\n",
       "      <td>0.92417</td>\n",
       "      <td>0.07684</td>\n",
       "      <td>0.00030</td>\n",
       "      <td>0.0</td>\n",
       "      <td>-0.02740</td>\n",
       "      <td>-0.02740</td>\n",
       "      <td>0.0</td>\n",
       "      <td>1.0000</td>\n",
       "      <td>0</td>\n",
       "    </tr>\n",
       "    <tr>\n",
       "      <td>8</td>\n",
       "      <td>179</td>\n",
       "      <td>18</td>\n",
       "      <td>2739</td>\n",
       "      <td>30</td>\n",
       "      <td>DB</td>\n",
       "      <td>T</td>\n",
       "      <td>C</td>\n",
       "      <td>28</td>\n",
       "      <td>0.964286</td>\n",
       "      <td>0.07143</td>\n",
       "      <td>...</td>\n",
       "      <td>0.06888</td>\n",
       "      <td>0.93112</td>\n",
       "      <td>0.07013</td>\n",
       "      <td>0.00000</td>\n",
       "      <td>0.0</td>\n",
       "      <td>-0.01852</td>\n",
       "      <td>0.00000</td>\n",
       "      <td>0.0</td>\n",
       "      <td>1.0000</td>\n",
       "      <td>0</td>\n",
       "    </tr>\n",
       "    <tr>\n",
       "      <td>9</td>\n",
       "      <td>179</td>\n",
       "      <td>18</td>\n",
       "      <td>2739</td>\n",
       "      <td>30</td>\n",
       "      <td>FL</td>\n",
       "      <td>T</td>\n",
       "      <td>-</td>\n",
       "      <td>28</td>\n",
       "      <td>1.000000</td>\n",
       "      <td>0.00000</td>\n",
       "      <td>...</td>\n",
       "      <td>0.00000</td>\n",
       "      <td>1.00000</td>\n",
       "      <td>0.00000</td>\n",
       "      <td>0.00000</td>\n",
       "      <td>0.0</td>\n",
       "      <td>0.00000</td>\n",
       "      <td>0.00000</td>\n",
       "      <td>0.0</td>\n",
       "      <td>1.0000</td>\n",
       "      <td>0</td>\n",
       "    </tr>\n",
       "    <tr>\n",
       "      <td>...</td>\n",
       "      <td>...</td>\n",
       "      <td>...</td>\n",
       "      <td>...</td>\n",
       "      <td>...</td>\n",
       "      <td>...</td>\n",
       "      <td>...</td>\n",
       "      <td>...</td>\n",
       "      <td>...</td>\n",
       "      <td>...</td>\n",
       "      <td>...</td>\n",
       "      <td>...</td>\n",
       "      <td>...</td>\n",
       "      <td>...</td>\n",
       "      <td>...</td>\n",
       "      <td>...</td>\n",
       "      <td>...</td>\n",
       "      <td>...</td>\n",
       "      <td>...</td>\n",
       "      <td>...</td>\n",
       "      <td>...</td>\n",
       "      <td>...</td>\n",
       "    </tr>\n",
       "    <tr>\n",
       "      <td>168780</td>\n",
       "      <td>474581</td>\n",
       "      <td>250036</td>\n",
       "      <td>41435</td>\n",
       "      <td>48</td>\n",
       "      <td>FL</td>\n",
       "      <td>C</td>\n",
       "      <td>-</td>\n",
       "      <td>29</td>\n",
       "      <td>1.000000</td>\n",
       "      <td>0.00000</td>\n",
       "      <td>...</td>\n",
       "      <td>0.00000</td>\n",
       "      <td>1.00000</td>\n",
       "      <td>0.00000</td>\n",
       "      <td>0.00000</td>\n",
       "      <td>0.0</td>\n",
       "      <td>0.00000</td>\n",
       "      <td>0.00000</td>\n",
       "      <td>0.0</td>\n",
       "      <td>1.0000</td>\n",
       "      <td>0</td>\n",
       "    </tr>\n",
       "    <tr>\n",
       "      <td>168781</td>\n",
       "      <td>474581</td>\n",
       "      <td>250036</td>\n",
       "      <td>41435</td>\n",
       "      <td>48</td>\n",
       "      <td>NB</td>\n",
       "      <td>C</td>\n",
       "      <td>T</td>\n",
       "      <td>42</td>\n",
       "      <td>0.202381</td>\n",
       "      <td>0.30952</td>\n",
       "      <td>...</td>\n",
       "      <td>0.32285</td>\n",
       "      <td>0.67715</td>\n",
       "      <td>0.32674</td>\n",
       "      <td>0.00067</td>\n",
       "      <td>0.0</td>\n",
       "      <td>0.05268</td>\n",
       "      <td>0.05268</td>\n",
       "      <td>0.0</td>\n",
       "      <td>0.6583</td>\n",
       "      <td>0</td>\n",
       "    </tr>\n",
       "    <tr>\n",
       "      <td>168783</td>\n",
       "      <td>474584</td>\n",
       "      <td>250036</td>\n",
       "      <td>41435</td>\n",
       "      <td>31</td>\n",
       "      <td>DB</td>\n",
       "      <td>G</td>\n",
       "      <td>A</td>\n",
       "      <td>29</td>\n",
       "      <td>0.965517</td>\n",
       "      <td>0.06897</td>\n",
       "      <td>...</td>\n",
       "      <td>0.06659</td>\n",
       "      <td>0.93341</td>\n",
       "      <td>0.06776</td>\n",
       "      <td>0.00000</td>\n",
       "      <td>0.0</td>\n",
       "      <td>-0.01786</td>\n",
       "      <td>0.00000</td>\n",
       "      <td>0.0</td>\n",
       "      <td>1.0000</td>\n",
       "      <td>0</td>\n",
       "    </tr>\n",
       "    <tr>\n",
       "      <td>168784</td>\n",
       "      <td>474584</td>\n",
       "      <td>250036</td>\n",
       "      <td>41435</td>\n",
       "      <td>31</td>\n",
       "      <td>FL</td>\n",
       "      <td>G</td>\n",
       "      <td>-</td>\n",
       "      <td>29</td>\n",
       "      <td>1.000000</td>\n",
       "      <td>0.00000</td>\n",
       "      <td>...</td>\n",
       "      <td>0.00000</td>\n",
       "      <td>1.00000</td>\n",
       "      <td>0.00000</td>\n",
       "      <td>0.00000</td>\n",
       "      <td>0.0</td>\n",
       "      <td>0.00000</td>\n",
       "      <td>0.00000</td>\n",
       "      <td>0.0</td>\n",
       "      <td>1.0000</td>\n",
       "      <td>0</td>\n",
       "    </tr>\n",
       "    <tr>\n",
       "      <td>168785</td>\n",
       "      <td>474584</td>\n",
       "      <td>250036</td>\n",
       "      <td>41435</td>\n",
       "      <td>31</td>\n",
       "      <td>NB</td>\n",
       "      <td>G</td>\n",
       "      <td>A</td>\n",
       "      <td>41</td>\n",
       "      <td>0.195122</td>\n",
       "      <td>0.29268</td>\n",
       "      <td>...</td>\n",
       "      <td>0.31410</td>\n",
       "      <td>0.68590</td>\n",
       "      <td>0.31798</td>\n",
       "      <td>0.00000</td>\n",
       "      <td>0.0</td>\n",
       "      <td>0.07955</td>\n",
       "      <td>0.00000</td>\n",
       "      <td>0.0</td>\n",
       "      <td>0.6265</td>\n",
       "      <td>0</td>\n",
       "    </tr>\n",
       "  </tbody>\n",
       "</table>\n",
       "<p>120319 rows × 21 columns</p>\n",
       "</div>"
      ],
      "text/plain": [
       "        # Locus ID     Chr     BP  Col Pop ID P Nuc Q Nuc   N         P  \\\n",
       "4              178      18   2739   90     DB     A     G  29  0.948276   \n",
       "5              178      18   2739   90     FL     A     -  29  1.000000   \n",
       "6              178      18   2739   90     NB     A     G  38  0.039474   \n",
       "8              179      18   2739   30     DB     T     C  28  0.964286   \n",
       "9              179      18   2739   30     FL     T     -  28  1.000000   \n",
       "...            ...     ...    ...  ...    ...   ...   ...  ..       ...   \n",
       "168780      474581  250036  41435   48     FL     C     -  29  1.000000   \n",
       "168781      474581  250036  41435   48     NB     C     T  42  0.202381   \n",
       "168783      474584  250036  41435   31     DB     G     A  29  0.965517   \n",
       "168784      474584  250036  41435   31     FL     G     -  29  1.000000   \n",
       "168785      474584  250036  41435   31     NB     G     A  41  0.195122   \n",
       "\n",
       "        Obs Het  ...  Exp Het  Exp Hom       Pi  Smoothed Pi  \\\n",
       "4       0.10345  ...  0.09810  0.90190  0.09982      0.00044   \n",
       "5       0.00000  ...  0.00000  1.00000  0.00000      0.00000   \n",
       "6       0.07895  ...  0.07583  0.92417  0.07684      0.00030   \n",
       "8       0.07143  ...  0.06888  0.93112  0.07013      0.00000   \n",
       "9       0.00000  ...  0.00000  1.00000  0.00000      0.00000   \n",
       "...         ...  ...      ...      ...      ...          ...   \n",
       "168780  0.00000  ...  0.00000  1.00000  0.00000      0.00000   \n",
       "168781  0.30952  ...  0.32285  0.67715  0.32674      0.00067   \n",
       "168783  0.06897  ...  0.06659  0.93341  0.06776      0.00000   \n",
       "168784  0.00000  ...  0.00000  1.00000  0.00000      0.00000   \n",
       "168785  0.29268  ...  0.31410  0.68590  0.31798      0.00000   \n",
       "\n",
       "        Smoothed Pi P-value      Fis  Smoothed Fis  Smoothed Fis P-value  \\\n",
       "4                       0.0 -0.03636      -0.03636                   0.0   \n",
       "5                       0.0  0.00000       0.00000                   0.0   \n",
       "6                       0.0 -0.02740      -0.02740                   0.0   \n",
       "8                       0.0 -0.01852       0.00000                   0.0   \n",
       "9                       0.0  0.00000       0.00000                   0.0   \n",
       "...                     ...      ...           ...                   ...   \n",
       "168780                  0.0  0.00000       0.00000                   0.0   \n",
       "168781                  0.0  0.05268       0.05268                   0.0   \n",
       "168783                  0.0 -0.01786       0.00000                   0.0   \n",
       "168784                  0.0  0.00000       0.00000                   0.0   \n",
       "168785                  0.0  0.07955       0.00000                   0.0   \n",
       "\n",
       "        HWE P-value  Private  \n",
       "4            1.0000        0  \n",
       "5            1.0000        0  \n",
       "6            1.0000        0  \n",
       "8            1.0000        0  \n",
       "9            1.0000        0  \n",
       "...             ...      ...  \n",
       "168780       1.0000        0  \n",
       "168781       0.6583        0  \n",
       "168783       1.0000        0  \n",
       "168784       1.0000        0  \n",
       "168785       0.6265        0  \n",
       "\n",
       "[120319 rows x 21 columns]"
      ]
     },
     "execution_count": 309,
     "metadata": {},
     "output_type": "execute_result"
    }
   ],
   "source": [
    "x"
   ]
  },
  {
   "cell_type": "code",
   "execution_count": 263,
   "metadata": {
    "kernel": "Python3"
   },
   "outputs": [],
   "source": [
    "check =[]\n",
    "goodLoc = []\n",
    "for row in x.itertuples(index=True):\n",
    "    if row.P < 0.02:\n",
    "        if (row._1,row.Chr,row.BP) not in check:\n",
    "            check.append((row._1,row.Chr,row.BP))\n",
    "            if (row.Chr,row.BP) not in goodLoc:\n",
    "                goodLoc.append((row.Chr,row.BP))"
   ]
  },
  {
   "cell_type": "code",
   "execution_count": 264,
   "metadata": {
    "kernel": "Python3"
   },
   "outputs": [],
   "source": [
    "y = IN[IN[[\"Chr\",\"BP\"]].apply(tuple, 1).isin(goodLoc)]"
   ]
  },
  {
   "cell_type": "code",
   "execution_count": 265,
   "metadata": {
    "kernel": "Python3"
   },
   "outputs": [
    {
     "data": {
      "text/html": [
       "<div>\n",
       "<style scoped>\n",
       "    .dataframe tbody tr th:only-of-type {\n",
       "        vertical-align: middle;\n",
       "    }\n",
       "\n",
       "    .dataframe tbody tr th {\n",
       "        vertical-align: top;\n",
       "    }\n",
       "\n",
       "    .dataframe thead th {\n",
       "        text-align: right;\n",
       "    }\n",
       "</style>\n",
       "<table border=\"1\" class=\"dataframe\">\n",
       "  <thead>\n",
       "    <tr style=\"text-align: right;\">\n",
       "      <th></th>\n",
       "      <th># Locus ID</th>\n",
       "      <th>Chr</th>\n",
       "      <th>BP</th>\n",
       "      <th>Col</th>\n",
       "      <th>Pop ID</th>\n",
       "      <th>P Nuc</th>\n",
       "      <th>Q Nuc</th>\n",
       "      <th>N</th>\n",
       "      <th>P</th>\n",
       "      <th>Obs Het</th>\n",
       "      <th>...</th>\n",
       "      <th>Exp Het</th>\n",
       "      <th>Exp Hom</th>\n",
       "      <th>Pi</th>\n",
       "      <th>Smoothed Pi</th>\n",
       "      <th>Smoothed Pi P-value</th>\n",
       "      <th>Fis</th>\n",
       "      <th>Smoothed Fis</th>\n",
       "      <th>Smoothed Fis P-value</th>\n",
       "      <th>HWE P-value</th>\n",
       "      <th>Private</th>\n",
       "    </tr>\n",
       "  </thead>\n",
       "  <tbody>\n",
       "    <tr>\n",
       "      <td>67</td>\n",
       "      <td>267</td>\n",
       "      <td>23</td>\n",
       "      <td>27403</td>\n",
       "      <td>15</td>\n",
       "      <td>ILMB</td>\n",
       "      <td>C</td>\n",
       "      <td>T</td>\n",
       "      <td>28</td>\n",
       "      <td>0.535714</td>\n",
       "      <td>0.50000</td>\n",
       "      <td>...</td>\n",
       "      <td>0.49745</td>\n",
       "      <td>0.50255</td>\n",
       "      <td>0.50649</td>\n",
       "      <td>0.00083</td>\n",
       "      <td>0.0</td>\n",
       "      <td>0.01282</td>\n",
       "      <td>0.01711</td>\n",
       "      <td>0.0</td>\n",
       "      <td>1.00000</td>\n",
       "      <td>0</td>\n",
       "    </tr>\n",
       "    <tr>\n",
       "      <td>68</td>\n",
       "      <td>267</td>\n",
       "      <td>23</td>\n",
       "      <td>27403</td>\n",
       "      <td>15</td>\n",
       "      <td>DB</td>\n",
       "      <td>C</td>\n",
       "      <td>-</td>\n",
       "      <td>21</td>\n",
       "      <td>1.000000</td>\n",
       "      <td>0.00000</td>\n",
       "      <td>...</td>\n",
       "      <td>0.00000</td>\n",
       "      <td>1.00000</td>\n",
       "      <td>0.00000</td>\n",
       "      <td>0.00000</td>\n",
       "      <td>0.0</td>\n",
       "      <td>0.00000</td>\n",
       "      <td>0.00000</td>\n",
       "      <td>0.0</td>\n",
       "      <td>1.00000</td>\n",
       "      <td>0</td>\n",
       "    </tr>\n",
       "    <tr>\n",
       "      <td>69</td>\n",
       "      <td>267</td>\n",
       "      <td>23</td>\n",
       "      <td>27403</td>\n",
       "      <td>15</td>\n",
       "      <td>FL</td>\n",
       "      <td>-</td>\n",
       "      <td>T</td>\n",
       "      <td>13</td>\n",
       "      <td>0.000000</td>\n",
       "      <td>0.00000</td>\n",
       "      <td>...</td>\n",
       "      <td>0.00000</td>\n",
       "      <td>1.00000</td>\n",
       "      <td>0.00000</td>\n",
       "      <td>0.00000</td>\n",
       "      <td>0.0</td>\n",
       "      <td>0.00000</td>\n",
       "      <td>0.00000</td>\n",
       "      <td>0.0</td>\n",
       "      <td>1.00000</td>\n",
       "      <td>0</td>\n",
       "    </tr>\n",
       "    <tr>\n",
       "      <td>70</td>\n",
       "      <td>267</td>\n",
       "      <td>23</td>\n",
       "      <td>27403</td>\n",
       "      <td>15</td>\n",
       "      <td>NB</td>\n",
       "      <td>C</td>\n",
       "      <td>-</td>\n",
       "      <td>23</td>\n",
       "      <td>1.000000</td>\n",
       "      <td>0.00000</td>\n",
       "      <td>...</td>\n",
       "      <td>0.00000</td>\n",
       "      <td>1.00000</td>\n",
       "      <td>0.00000</td>\n",
       "      <td>0.00000</td>\n",
       "      <td>0.0</td>\n",
       "      <td>0.00000</td>\n",
       "      <td>0.00000</td>\n",
       "      <td>0.0</td>\n",
       "      <td>1.00000</td>\n",
       "      <td>0</td>\n",
       "    </tr>\n",
       "    <tr>\n",
       "      <td>71</td>\n",
       "      <td>267</td>\n",
       "      <td>23</td>\n",
       "      <td>27360</td>\n",
       "      <td>58</td>\n",
       "      <td>ILMB</td>\n",
       "      <td>A</td>\n",
       "      <td>G</td>\n",
       "      <td>25</td>\n",
       "      <td>0.520000</td>\n",
       "      <td>0.48000</td>\n",
       "      <td>...</td>\n",
       "      <td>0.49920</td>\n",
       "      <td>0.50080</td>\n",
       "      <td>0.50939</td>\n",
       "      <td>0.00083</td>\n",
       "      <td>0.0</td>\n",
       "      <td>0.05769</td>\n",
       "      <td>0.01711</td>\n",
       "      <td>0.0</td>\n",
       "      <td>1.00000</td>\n",
       "      <td>0</td>\n",
       "    </tr>\n",
       "    <tr>\n",
       "      <td>72</td>\n",
       "      <td>267</td>\n",
       "      <td>23</td>\n",
       "      <td>27360</td>\n",
       "      <td>58</td>\n",
       "      <td>DB</td>\n",
       "      <td>A</td>\n",
       "      <td>G</td>\n",
       "      <td>20</td>\n",
       "      <td>0.975000</td>\n",
       "      <td>0.05000</td>\n",
       "      <td>...</td>\n",
       "      <td>0.04875</td>\n",
       "      <td>0.95125</td>\n",
       "      <td>0.05000</td>\n",
       "      <td>0.00008</td>\n",
       "      <td>0.0</td>\n",
       "      <td>0.00000</td>\n",
       "      <td>0.00000</td>\n",
       "      <td>0.0</td>\n",
       "      <td>1.00000</td>\n",
       "      <td>0</td>\n",
       "    </tr>\n",
       "    <tr>\n",
       "      <td>73</td>\n",
       "      <td>267</td>\n",
       "      <td>23</td>\n",
       "      <td>27360</td>\n",
       "      <td>58</td>\n",
       "      <td>FL</td>\n",
       "      <td>-</td>\n",
       "      <td>G</td>\n",
       "      <td>13</td>\n",
       "      <td>0.000000</td>\n",
       "      <td>0.00000</td>\n",
       "      <td>...</td>\n",
       "      <td>0.00000</td>\n",
       "      <td>1.00000</td>\n",
       "      <td>0.00000</td>\n",
       "      <td>0.00000</td>\n",
       "      <td>0.0</td>\n",
       "      <td>0.00000</td>\n",
       "      <td>0.00000</td>\n",
       "      <td>0.0</td>\n",
       "      <td>1.00000</td>\n",
       "      <td>0</td>\n",
       "    </tr>\n",
       "    <tr>\n",
       "      <td>74</td>\n",
       "      <td>267</td>\n",
       "      <td>23</td>\n",
       "      <td>27360</td>\n",
       "      <td>58</td>\n",
       "      <td>NB</td>\n",
       "      <td>A</td>\n",
       "      <td>-</td>\n",
       "      <td>22</td>\n",
       "      <td>1.000000</td>\n",
       "      <td>0.00000</td>\n",
       "      <td>...</td>\n",
       "      <td>0.00000</td>\n",
       "      <td>1.00000</td>\n",
       "      <td>0.00000</td>\n",
       "      <td>0.00000</td>\n",
       "      <td>0.0</td>\n",
       "      <td>0.00000</td>\n",
       "      <td>0.00000</td>\n",
       "      <td>0.0</td>\n",
       "      <td>1.00000</td>\n",
       "      <td>0</td>\n",
       "    </tr>\n",
       "    <tr>\n",
       "      <td>75</td>\n",
       "      <td>298</td>\n",
       "      <td>28</td>\n",
       "      <td>22314</td>\n",
       "      <td>34</td>\n",
       "      <td>ILMB</td>\n",
       "      <td>G</td>\n",
       "      <td>A</td>\n",
       "      <td>43</td>\n",
       "      <td>0.662791</td>\n",
       "      <td>0.39535</td>\n",
       "      <td>...</td>\n",
       "      <td>0.44700</td>\n",
       "      <td>0.55300</td>\n",
       "      <td>0.45226</td>\n",
       "      <td>0.00947</td>\n",
       "      <td>0.0</td>\n",
       "      <td>0.12583</td>\n",
       "      <td>0.05979</td>\n",
       "      <td>0.0</td>\n",
       "      <td>0.49746</td>\n",
       "      <td>0</td>\n",
       "    </tr>\n",
       "    <tr>\n",
       "      <td>76</td>\n",
       "      <td>298</td>\n",
       "      <td>28</td>\n",
       "      <td>22314</td>\n",
       "      <td>34</td>\n",
       "      <td>DB</td>\n",
       "      <td>G</td>\n",
       "      <td>A</td>\n",
       "      <td>29</td>\n",
       "      <td>0.810345</td>\n",
       "      <td>0.31034</td>\n",
       "      <td>...</td>\n",
       "      <td>0.30737</td>\n",
       "      <td>0.69263</td>\n",
       "      <td>0.31276</td>\n",
       "      <td>0.00579</td>\n",
       "      <td>0.0</td>\n",
       "      <td>0.00774</td>\n",
       "      <td>-0.02774</td>\n",
       "      <td>0.0</td>\n",
       "      <td>1.00000</td>\n",
       "      <td>0</td>\n",
       "    </tr>\n",
       "    <tr>\n",
       "      <td>77</td>\n",
       "      <td>298</td>\n",
       "      <td>28</td>\n",
       "      <td>22314</td>\n",
       "      <td>34</td>\n",
       "      <td>FL</td>\n",
       "      <td>G</td>\n",
       "      <td>-</td>\n",
       "      <td>28</td>\n",
       "      <td>1.000000</td>\n",
       "      <td>0.00000</td>\n",
       "      <td>...</td>\n",
       "      <td>0.00000</td>\n",
       "      <td>1.00000</td>\n",
       "      <td>0.00000</td>\n",
       "      <td>0.00000</td>\n",
       "      <td>0.0</td>\n",
       "      <td>0.00000</td>\n",
       "      <td>0.00000</td>\n",
       "      <td>0.0</td>\n",
       "      <td>1.00000</td>\n",
       "      <td>0</td>\n",
       "    </tr>\n",
       "    <tr>\n",
       "      <td>78</td>\n",
       "      <td>298</td>\n",
       "      <td>28</td>\n",
       "      <td>22314</td>\n",
       "      <td>34</td>\n",
       "      <td>NB</td>\n",
       "      <td>-</td>\n",
       "      <td>A</td>\n",
       "      <td>40</td>\n",
       "      <td>0.000000</td>\n",
       "      <td>0.00000</td>\n",
       "      <td>...</td>\n",
       "      <td>0.00000</td>\n",
       "      <td>1.00000</td>\n",
       "      <td>0.00000</td>\n",
       "      <td>0.00000</td>\n",
       "      <td>0.0</td>\n",
       "      <td>0.00000</td>\n",
       "      <td>0.00000</td>\n",
       "      <td>0.0</td>\n",
       "      <td>1.00000</td>\n",
       "      <td>0</td>\n",
       "    </tr>\n",
       "    <tr>\n",
       "      <td>131</td>\n",
       "      <td>415</td>\n",
       "      <td>36</td>\n",
       "      <td>33628</td>\n",
       "      <td>35</td>\n",
       "      <td>ILMB</td>\n",
       "      <td>A</td>\n",
       "      <td>G</td>\n",
       "      <td>41</td>\n",
       "      <td>0.536585</td>\n",
       "      <td>0.43902</td>\n",
       "      <td>...</td>\n",
       "      <td>0.49732</td>\n",
       "      <td>0.50268</td>\n",
       "      <td>0.50346</td>\n",
       "      <td>0.00098</td>\n",
       "      <td>0.0</td>\n",
       "      <td>0.12799</td>\n",
       "      <td>0.12799</td>\n",
       "      <td>0.0</td>\n",
       "      <td>0.53055</td>\n",
       "      <td>0</td>\n",
       "    </tr>\n",
       "    <tr>\n",
       "      <td>132</td>\n",
       "      <td>415</td>\n",
       "      <td>36</td>\n",
       "      <td>33628</td>\n",
       "      <td>35</td>\n",
       "      <td>DB</td>\n",
       "      <td>A</td>\n",
       "      <td>G</td>\n",
       "      <td>28</td>\n",
       "      <td>0.964286</td>\n",
       "      <td>0.07143</td>\n",
       "      <td>...</td>\n",
       "      <td>0.06888</td>\n",
       "      <td>0.93112</td>\n",
       "      <td>0.07013</td>\n",
       "      <td>0.00014</td>\n",
       "      <td>0.0</td>\n",
       "      <td>-0.01852</td>\n",
       "      <td>-0.01852</td>\n",
       "      <td>0.0</td>\n",
       "      <td>1.00000</td>\n",
       "      <td>0</td>\n",
       "    </tr>\n",
       "    <tr>\n",
       "      <td>133</td>\n",
       "      <td>415</td>\n",
       "      <td>36</td>\n",
       "      <td>33628</td>\n",
       "      <td>35</td>\n",
       "      <td>FL</td>\n",
       "      <td>-</td>\n",
       "      <td>G</td>\n",
       "      <td>27</td>\n",
       "      <td>0.000000</td>\n",
       "      <td>0.00000</td>\n",
       "      <td>...</td>\n",
       "      <td>0.00000</td>\n",
       "      <td>1.00000</td>\n",
       "      <td>0.00000</td>\n",
       "      <td>0.00000</td>\n",
       "      <td>0.0</td>\n",
       "      <td>0.00000</td>\n",
       "      <td>0.00000</td>\n",
       "      <td>0.0</td>\n",
       "      <td>1.00000</td>\n",
       "      <td>0</td>\n",
       "    </tr>\n",
       "    <tr>\n",
       "      <td>134</td>\n",
       "      <td>415</td>\n",
       "      <td>36</td>\n",
       "      <td>33628</td>\n",
       "      <td>35</td>\n",
       "      <td>NB</td>\n",
       "      <td>A</td>\n",
       "      <td>-</td>\n",
       "      <td>39</td>\n",
       "      <td>1.000000</td>\n",
       "      <td>0.00000</td>\n",
       "      <td>...</td>\n",
       "      <td>0.00000</td>\n",
       "      <td>1.00000</td>\n",
       "      <td>0.00000</td>\n",
       "      <td>0.00000</td>\n",
       "      <td>0.0</td>\n",
       "      <td>0.00000</td>\n",
       "      <td>0.00000</td>\n",
       "      <td>0.0</td>\n",
       "      <td>1.00000</td>\n",
       "      <td>0</td>\n",
       "    </tr>\n",
       "    <tr>\n",
       "      <td>139</td>\n",
       "      <td>436</td>\n",
       "      <td>38</td>\n",
       "      <td>5204</td>\n",
       "      <td>61</td>\n",
       "      <td>ILMB</td>\n",
       "      <td>G</td>\n",
       "      <td>C</td>\n",
       "      <td>43</td>\n",
       "      <td>0.848837</td>\n",
       "      <td>0.20930</td>\n",
       "      <td>...</td>\n",
       "      <td>0.25663</td>\n",
       "      <td>0.74337</td>\n",
       "      <td>0.25964</td>\n",
       "      <td>0.00139</td>\n",
       "      <td>0.0</td>\n",
       "      <td>0.19389</td>\n",
       "      <td>0.19389</td>\n",
       "      <td>0.0</td>\n",
       "      <td>0.22263</td>\n",
       "      <td>0</td>\n",
       "    </tr>\n",
       "    <tr>\n",
       "      <td>140</td>\n",
       "      <td>436</td>\n",
       "      <td>38</td>\n",
       "      <td>5204</td>\n",
       "      <td>61</td>\n",
       "      <td>DB</td>\n",
       "      <td>G</td>\n",
       "      <td>-</td>\n",
       "      <td>26</td>\n",
       "      <td>1.000000</td>\n",
       "      <td>0.00000</td>\n",
       "      <td>...</td>\n",
       "      <td>0.00000</td>\n",
       "      <td>1.00000</td>\n",
       "      <td>0.00000</td>\n",
       "      <td>0.00000</td>\n",
       "      <td>0.0</td>\n",
       "      <td>0.00000</td>\n",
       "      <td>0.00000</td>\n",
       "      <td>0.0</td>\n",
       "      <td>1.00000</td>\n",
       "      <td>0</td>\n",
       "    </tr>\n",
       "    <tr>\n",
       "      <td>141</td>\n",
       "      <td>436</td>\n",
       "      <td>38</td>\n",
       "      <td>5204</td>\n",
       "      <td>61</td>\n",
       "      <td>FL</td>\n",
       "      <td>G</td>\n",
       "      <td>-</td>\n",
       "      <td>27</td>\n",
       "      <td>1.000000</td>\n",
       "      <td>0.00000</td>\n",
       "      <td>...</td>\n",
       "      <td>0.00000</td>\n",
       "      <td>1.00000</td>\n",
       "      <td>0.00000</td>\n",
       "      <td>0.00000</td>\n",
       "      <td>0.0</td>\n",
       "      <td>0.00000</td>\n",
       "      <td>0.00000</td>\n",
       "      <td>0.0</td>\n",
       "      <td>1.00000</td>\n",
       "      <td>0</td>\n",
       "    </tr>\n",
       "    <tr>\n",
       "      <td>142</td>\n",
       "      <td>436</td>\n",
       "      <td>38</td>\n",
       "      <td>5204</td>\n",
       "      <td>61</td>\n",
       "      <td>NB</td>\n",
       "      <td>G</td>\n",
       "      <td>C</td>\n",
       "      <td>30</td>\n",
       "      <td>0.016667</td>\n",
       "      <td>0.03333</td>\n",
       "      <td>...</td>\n",
       "      <td>0.03278</td>\n",
       "      <td>0.96722</td>\n",
       "      <td>0.03333</td>\n",
       "      <td>0.00013</td>\n",
       "      <td>0.0</td>\n",
       "      <td>-0.00000</td>\n",
       "      <td>-0.00000</td>\n",
       "      <td>0.0</td>\n",
       "      <td>1.00000</td>\n",
       "      <td>0</td>\n",
       "    </tr>\n",
       "  </tbody>\n",
       "</table>\n",
       "<p>20 rows × 21 columns</p>\n",
       "</div>"
      ],
      "text/plain": [
       "     # Locus ID  Chr     BP  Col Pop ID P Nuc Q Nuc   N         P  Obs Het  \\\n",
       "67          267   23  27403   15   ILMB     C     T  28  0.535714  0.50000   \n",
       "68          267   23  27403   15     DB     C     -  21  1.000000  0.00000   \n",
       "69          267   23  27403   15     FL     -     T  13  0.000000  0.00000   \n",
       "70          267   23  27403   15     NB     C     -  23  1.000000  0.00000   \n",
       "71          267   23  27360   58   ILMB     A     G  25  0.520000  0.48000   \n",
       "72          267   23  27360   58     DB     A     G  20  0.975000  0.05000   \n",
       "73          267   23  27360   58     FL     -     G  13  0.000000  0.00000   \n",
       "74          267   23  27360   58     NB     A     -  22  1.000000  0.00000   \n",
       "75          298   28  22314   34   ILMB     G     A  43  0.662791  0.39535   \n",
       "76          298   28  22314   34     DB     G     A  29  0.810345  0.31034   \n",
       "77          298   28  22314   34     FL     G     -  28  1.000000  0.00000   \n",
       "78          298   28  22314   34     NB     -     A  40  0.000000  0.00000   \n",
       "131         415   36  33628   35   ILMB     A     G  41  0.536585  0.43902   \n",
       "132         415   36  33628   35     DB     A     G  28  0.964286  0.07143   \n",
       "133         415   36  33628   35     FL     -     G  27  0.000000  0.00000   \n",
       "134         415   36  33628   35     NB     A     -  39  1.000000  0.00000   \n",
       "139         436   38   5204   61   ILMB     G     C  43  0.848837  0.20930   \n",
       "140         436   38   5204   61     DB     G     -  26  1.000000  0.00000   \n",
       "141         436   38   5204   61     FL     G     -  27  1.000000  0.00000   \n",
       "142         436   38   5204   61     NB     G     C  30  0.016667  0.03333   \n",
       "\n",
       "     ...  Exp Het  Exp Hom       Pi  Smoothed Pi  Smoothed Pi P-value  \\\n",
       "67   ...  0.49745  0.50255  0.50649      0.00083                  0.0   \n",
       "68   ...  0.00000  1.00000  0.00000      0.00000                  0.0   \n",
       "69   ...  0.00000  1.00000  0.00000      0.00000                  0.0   \n",
       "70   ...  0.00000  1.00000  0.00000      0.00000                  0.0   \n",
       "71   ...  0.49920  0.50080  0.50939      0.00083                  0.0   \n",
       "72   ...  0.04875  0.95125  0.05000      0.00008                  0.0   \n",
       "73   ...  0.00000  1.00000  0.00000      0.00000                  0.0   \n",
       "74   ...  0.00000  1.00000  0.00000      0.00000                  0.0   \n",
       "75   ...  0.44700  0.55300  0.45226      0.00947                  0.0   \n",
       "76   ...  0.30737  0.69263  0.31276      0.00579                  0.0   \n",
       "77   ...  0.00000  1.00000  0.00000      0.00000                  0.0   \n",
       "78   ...  0.00000  1.00000  0.00000      0.00000                  0.0   \n",
       "131  ...  0.49732  0.50268  0.50346      0.00098                  0.0   \n",
       "132  ...  0.06888  0.93112  0.07013      0.00014                  0.0   \n",
       "133  ...  0.00000  1.00000  0.00000      0.00000                  0.0   \n",
       "134  ...  0.00000  1.00000  0.00000      0.00000                  0.0   \n",
       "139  ...  0.25663  0.74337  0.25964      0.00139                  0.0   \n",
       "140  ...  0.00000  1.00000  0.00000      0.00000                  0.0   \n",
       "141  ...  0.00000  1.00000  0.00000      0.00000                  0.0   \n",
       "142  ...  0.03278  0.96722  0.03333      0.00013                  0.0   \n",
       "\n",
       "         Fis  Smoothed Fis  Smoothed Fis P-value  HWE P-value  Private  \n",
       "67   0.01282       0.01711                   0.0      1.00000        0  \n",
       "68   0.00000       0.00000                   0.0      1.00000        0  \n",
       "69   0.00000       0.00000                   0.0      1.00000        0  \n",
       "70   0.00000       0.00000                   0.0      1.00000        0  \n",
       "71   0.05769       0.01711                   0.0      1.00000        0  \n",
       "72   0.00000       0.00000                   0.0      1.00000        0  \n",
       "73   0.00000       0.00000                   0.0      1.00000        0  \n",
       "74   0.00000       0.00000                   0.0      1.00000        0  \n",
       "75   0.12583       0.05979                   0.0      0.49746        0  \n",
       "76   0.00774      -0.02774                   0.0      1.00000        0  \n",
       "77   0.00000       0.00000                   0.0      1.00000        0  \n",
       "78   0.00000       0.00000                   0.0      1.00000        0  \n",
       "131  0.12799       0.12799                   0.0      0.53055        0  \n",
       "132 -0.01852      -0.01852                   0.0      1.00000        0  \n",
       "133  0.00000       0.00000                   0.0      1.00000        0  \n",
       "134  0.00000       0.00000                   0.0      1.00000        0  \n",
       "139  0.19389       0.19389                   0.0      0.22263        0  \n",
       "140  0.00000       0.00000                   0.0      1.00000        0  \n",
       "141  0.00000       0.00000                   0.0      1.00000        0  \n",
       "142 -0.00000      -0.00000                   0.0      1.00000        0  \n",
       "\n",
       "[20 rows x 21 columns]"
      ]
     },
     "execution_count": 265,
     "metadata": {},
     "output_type": "execute_result"
    }
   ],
   "source": [
    "y.iloc[0:20]"
   ]
  },
  {
   "cell_type": "code",
   "execution_count": 266,
   "metadata": {
    "kernel": "Python3"
   },
   "outputs": [
    {
     "data": {
      "text/plain": [
       "5376"
      ]
     },
     "execution_count": 266,
     "metadata": {},
     "output_type": "execute_result"
    }
   ],
   "source": [
    "len(goodLoc)"
   ]
  },
  {
   "cell_type": "code",
   "execution_count": 224,
   "metadata": {
    "kernel": "Python3"
   },
   "outputs": [
    {
     "name": "stdout",
     "output_type": "stream",
     "text": [
      "5376\n"
     ]
    }
   ],
   "source": [
    "%expand\n",
    "positions = []\n",
    "OUT = open(\"{suffix}fixed2_98.positions\",\"w\")\n",
    "OUTr = open(\"{suffix}fixed2_98.positions\",\"w\")\n",
    "OUTr.write(\"LOCUS\\tPOS\\n\")\n",
    "n=0\n",
    "for row in y.itertuples(index=True):\n",
    "    if (row.Chr, row.BP) not in positions:\n",
    "        positions.append((row.Chr, row.BP))\n",
    "        OUT.write(str(row.Chr)+\"\\t\"+str(row.BP)+\"\\n\")\n",
    "        OUTr.write(str(row.Chr)+\"\\t\"+str(row.BP)+\"\\n\")\n",
    "        n+=1\n",
    "OUT.close()\n",
    "OUTr.close()\n",
    "print(n)"
   ]
  },
  {
   "cell_type": "code",
   "execution_count": 225,
   "metadata": {
    "kernel": "bash"
   },
   "outputs": [
    {
     "name": "stdout",
     "output_type": "stream",
     "text": [
      "\n",
      "VCFtools - 0.1.17\n",
      "(C) Adam Auton and Anthony Marcketta 2009\n",
      "\n",
      "Parameters as interpreted:\n",
      "\t--vcf ./maf05mac4het9m3R50_2/Making/m85-hwPbi.recode.vcf\n",
      "\t--recode-INFO-all\n",
      "\t--out ./maf05mac4het9m3R50_2/Making/m85-hwPBi-fixed2_98\n",
      "\t--positions ./maf05mac4het9m3R50_2/Making/fixed2_98.positions\n",
      "\t--recode\n",
      "\n",
      "After filtering, kept 144 out of 144 Individuals\n",
      "Outputting VCF file...\n",
      "After filtering, kept 2435 out of a possible 15078 Sites\n",
      "Run Time = 3.00 seconds\n"
     ]
    }
   ],
   "source": [
    "%expand\n",
    "module load vcftools/v0.1.17\n",
    "\n",
    "vcftools --vcf {suffix}m85-hwPbi.recode.vcf --recode \\\n",
    "--recode-INFO-all --positions {suffix}fixed2_98.positions \\\n",
    "--out {suffix}m85-hwPBi-fixed2_98"
   ]
  },
  {
   "cell_type": "code",
   "execution_count": 226,
   "metadata": {
    "kernel": "ir",
    "scrolled": true
   },
   "outputs": [
    {
     "name": "stderr",
     "output_type": "stream",
     "text": [
      "Execution date@time: 20191010@1141\n",
      "Folder created: read_vcf_20191010@1141\n",
      "Function call and arguments stored in: radiator_read_vcf_args_20191010@1141.tsv\n",
      "File written: random.seed (716045)\n",
      "\n",
      "Reading VCF\n",
      "Data summary: \n",
      "    number of samples: 144\n",
      "    number of markers: 2435\n",
      "done! timing: 2 sec\n",
      "\n",
      "\n",
      "File written: radiator_20191010@1141.gds\n",
      "\n",
      "Analyzing the data...\n",
      "VCF source: Stacks v2.4\n",
      "Data is bi-allelic\n",
      "Cleaning VCF's sample names\n",
      "Synchronizing data and strata...\n",
      "    Number of strata: 4\n",
      "    Number of individuals: 144\n",
      "Reads assembly: de novo\n",
      "Filters parameters file generated: filters_parameters_20191010@1141.tsv\n",
      "Filters parameters file: initiated and updated\n"
     ]
    },
    {
     "name": "stdout",
     "output_type": "stream",
     "text": [
      "################################################################################\n",
      "########################### radiator::filter_monomorphic #######################\n",
      "################################################################################\n"
     ]
    },
    {
     "name": "stderr",
     "output_type": "stream",
     "text": [
      "Execution date@time: 20191010@1141\n",
      "Function call and arguments stored in: radiator_filter_monomorphic_args_20191010@1141.tsv\n",
      "Filters parameters file: initiated\n",
      "File written: whitelist.polymorphic.markers_20191010@1141.tsv\n",
      "Filters parameters file: updated\n"
     ]
    },
    {
     "name": "stdout",
     "output_type": "stream",
     "text": [
      "################################### RESULTS ####################################\n"
     ]
    },
    {
     "name": "stderr",
     "output_type": "stream",
     "text": [
      "\n",
      "Filter monomorphic markers\n",
      "Number of individuals / strata / chrom / locus / SNP:\n",
      "    Before: 144 / 4 / 1 / 1917 / 2435\n",
      "    Blacklisted: 0 / 0 / 0 / 0 / 0\n",
      "    After: 144 / 4 / 1 / 1917 / 2435\n",
      "\n",
      "Computation time, overall: 0 sec\n"
     ]
    },
    {
     "name": "stdout",
     "output_type": "stream",
     "text": [
      "######################## filter_monomorphic completed ##########################\n"
     ]
    },
    {
     "name": "stderr",
     "output_type": "stream",
     "text": [
      "\n",
      "Preparing output files...\n",
      "File written: whitelist.markers.tsv\n",
      "Writing the filtered strata: strata.filtered.tsvstrata.filtered.tsv\n",
      "\n",
      "Generating statistics after filtering\n",
      "Generating individual stats...\n",
      "File written: individuals qc info and stats summary\n",
      "File written: individuals qc plot\n",
      "Generating markers stats...\n"
     ]
    },
    {
     "name": "stdout",
     "output_type": "stream",
     "text": [
      "################################### SUMMARY ####################################\n"
     ]
    },
    {
     "name": "stderr",
     "output_type": "stream",
     "text": [
      "\n",
      "\n",
      "Summary (AFTER filtering):\n",
      "Missing data: \n",
      "    markers: 0.05\n",
      "    individuals: 0.05\n",
      "\n",
      "\n",
      "Coverage info:\n",
      "    individuals mean read depth: 25962\n",
      "    individuals mean genotype coverage: 11\n",
      "    markers mean coverage: 11\n",
      "\n",
      "\n",
      "Number of chromosome/contig/scaffold: 1\n",
      "Number of locus: 1917\n",
      "Number of markers: 2435\n",
      "Number of populations: 4\n",
      "Number of individuals: 144\n",
      "\n",
      "Number of ind/pop:\n",
      "ILMB = 44\n",
      "DB = 29\n",
      "FL = 29\n",
      "NB = 42\n",
      "\n",
      "Number of duplicate id: 0\n",
      "radiator Genomic Data Structure (GDS) file: radiator_20191010@1141.gds\n",
      "\n",
      "Computation time, overall: 8 sec\n"
     ]
    },
    {
     "data": {
      "image/png": "[encoded data removed]",
      "text/plain": [
       "plot without title"
      ]
     },
     "metadata": {},
     "output_type": "display_data"
    },
    {
     "name": "stdout",
     "output_type": "stream",
     "text": [
      "############################## completed read_vcf ##############################\n"
     ]
    },
    {
     "data": {
      "image/png": "[encoded data removed]",
      "text/plain": [
       "plot without title"
      ]
     },
     "metadata": {},
     "output_type": "display_data"
    }
   ],
   "source": [
    "%expand\n",
    "data = read_vcf(\"m85-hwPBi-fixed2_98.recode.vcf\", strata = \"../../NFLDB.strata\",\n",
    "        vcf.stats = TRUE, parallel.core = 4, filter.common.markers = F)\n"
   ]
  },
  {
   "cell_type": "code",
   "execution_count": null,
   "metadata": {
    "kernel": "ir"
   },
   "outputs": [],
   "source": [
    "#dataLD = filter_ld(data, interactive.filter = F, filter.short.ld = \"mac\",\n",
    "#  filter.long.ld = 0.7, parallel.core = 4, long.ld.missing = TRUE,\n",
    "#  filename = \"filtered_hwld\")"
   ]
  },
  {
   "cell_type": "code",
   "execution_count": null,
   "metadata": {
    "kernel": "ir"
   },
   "outputs": [],
   "source": [
    "genomic_converter(dataLD, strata=\"../../NFLDB.strata\", \n",
    "                  output = c(\"genind\",\"structure\",\"vcf\"),\n",
    "                 parallel.core = 4, filename = \"hwp3t1ld7\")"
   ]
  },
  {
   "cell_type": "code",
   "execution_count": 227,
   "metadata": {
    "kernel": "bash"
   },
   "outputs": [],
   "source": [
    "%expand\n",
    "module load tabix/0.2.6\n",
    "module load samtools/1.6\n",
    "\n",
    "bgzip {suffix}m85-hwPBi-fixed2_98.recode.vcf \n",
    "tabix -p vcf {suffix}m85-hwPBi-fixed2_98.recode.vcf.gz"
   ]
  },
  {
   "cell_type": "code",
   "execution_count": 228,
   "metadata": {
    "kernel": "bash"
   },
   "outputs": [
    {
     "name": "stdout",
     "output_type": "stream",
     "text": [
      "1917\n"
     ]
    }
   ],
   "source": [
    "%expand\n",
    "module load bcftools/1.3.2\n",
    "\n",
    "bcftools +prune {suffix}m85-hwPBi-fixed2_98.recode.vcf.gz -l 0.2 -n 1 -w 10000 \\\n",
    "-Ov -o {suffix}m85-hwPBi-fixed2_98-thinned.vcf\n",
    "grep -v \"#\" {suffix}m85-hwPBi-fixed2_98-thinned.vcf | wc -l"
   ]
  },
  {
   "cell_type": "code",
   "execution_count": null,
   "metadata": {
    "kernel": "bash"
   },
   "outputs": [],
   "source": []
  },
  {
   "cell_type": "code",
   "execution_count": 229,
   "metadata": {
    "kernel": "ir"
   },
   "outputs": [
    {
     "name": "stderr",
     "output_type": "stream",
     "text": [
      "Execution date@time: 20191010@1146\n",
      "Folder created: read_vcf_20191010@1146\n",
      "Function call and arguments stored in: radiator_read_vcf_args_20191010@1146.tsv\n",
      "File written: random.seed (955762)\n",
      "\n",
      "Reading VCF\n",
      "Data summary: \n",
      "    number of samples: 144\n",
      "    number of markers: 1917\n",
      "done! timing: 2 sec\n",
      "\n",
      "\n",
      "File written: radiator_20191010@1146.gds\n",
      "\n",
      "Analyzing the data...\n",
      "VCF source: Stacks v2.4\n",
      "Data is bi-allelic\n",
      "Cleaning VCF's sample names\n",
      "Synchronizing data and strata...\n",
      "    Number of strata: 4\n",
      "    Number of individuals: 144\n",
      "Reads assembly: de novo\n",
      "Filters parameters file generated: filters_parameters_20191010@1146.tsv\n",
      "Filters parameters file: initiated and updated\n"
     ]
    },
    {
     "name": "stdout",
     "output_type": "stream",
     "text": [
      "################################################################################\n",
      "########################### radiator::filter_monomorphic #######################\n",
      "################################################################################\n"
     ]
    },
    {
     "name": "stderr",
     "output_type": "stream",
     "text": [
      "Execution date@time: 20191010@1146\n",
      "Function call and arguments stored in: radiator_filter_monomorphic_args_20191010@1146.tsv\n",
      "Filters parameters file: initiated\n",
      "File written: whitelist.polymorphic.markers_20191010@1146.tsv\n",
      "Filters parameters file: updated\n"
     ]
    },
    {
     "name": "stdout",
     "output_type": "stream",
     "text": [
      "################################### RESULTS ####################################\n"
     ]
    },
    {
     "name": "stderr",
     "output_type": "stream",
     "text": [
      "\n",
      "Filter monomorphic markers\n",
      "Number of individuals / strata / chrom / locus / SNP:\n",
      "    Before: 144 / 4 / 1 / 1917 / 1917\n",
      "    Blacklisted: 0 / 0 / 0 / 0 / 0\n",
      "    After: 144 / 4 / 1 / 1917 / 1917\n",
      "\n",
      "Computation time, overall: 0 sec\n"
     ]
    },
    {
     "name": "stdout",
     "output_type": "stream",
     "text": [
      "######################## filter_monomorphic completed ##########################\n"
     ]
    },
    {
     "name": "stderr",
     "output_type": "stream",
     "text": [
      "\n",
      "Preparing output files...\n",
      "File written: whitelist.markers.tsv\n",
      "Writing the filtered strata: strata.filtered.tsvstrata.filtered.tsv\n",
      "\n",
      "Generating statistics after filtering\n",
      "Generating individual stats...\n",
      "File written: individuals qc info and stats summary\n",
      "File written: individuals qc plot\n",
      "Generating markers stats...\n"
     ]
    },
    {
     "name": "stdout",
     "output_type": "stream",
     "text": [
      "################################### SUMMARY ####################################\n"
     ]
    },
    {
     "name": "stderr",
     "output_type": "stream",
     "text": [
      "\n",
      "\n",
      "Summary (AFTER filtering):\n",
      "Missing data: \n",
      "    markers: 0.05\n",
      "    individuals: 0.05\n",
      "\n",
      "\n",
      "Coverage info:\n",
      "    individuals mean read depth: 20616\n",
      "    individuals mean genotype coverage: 11\n",
      "    markers mean coverage: 11\n",
      "\n",
      "\n",
      "Number of chromosome/contig/scaffold: 1\n",
      "Number of locus: 1917\n",
      "Number of markers: 1917\n",
      "Number of populations: 4\n",
      "Number of individuals: 144\n",
      "\n",
      "Number of ind/pop:\n",
      "NB = 42\n",
      "DB = 29\n",
      "FL = 29\n",
      "ILMB = 44\n",
      "\n",
      "Number of duplicate id: 0\n",
      "radiator Genomic Data Structure (GDS) file: radiator_20191010@1146.gds\n",
      "\n",
      "Computation time, overall: 7 sec\n"
     ]
    },
    {
     "data": {
      "image/png": "[encoded data removed]",
      "text/plain": [
       "plot without title"
      ]
     },
     "metadata": {},
     "output_type": "display_data"
    },
    {
     "name": "stdout",
     "output_type": "stream",
     "text": [
      "############################## completed read_vcf ##############################\n"
     ]
    },
    {
     "data": {
      "image/png": "[encoded data removed]",
      "text/plain": [
       "plot without title"
      ]
     },
     "metadata": {},
     "output_type": "display_data"
    }
   ],
   "source": [
    "data = read_vcf(\"m85-hwPBi-fixed2_98-thinned.vcf\", strata = \"../../NFLDB.strata\",\n",
    "        vcf.stats = TRUE, parallel.core = 4, filter.common.markers = F,pop.levels=c(\"NB\",\"DB\",\"FL\",\"ILMB\"))\n"
   ]
  },
  {
   "cell_type": "code",
   "execution_count": 230,
   "metadata": {
    "kernel": "ir"
   },
   "outputs": [
    {
     "name": "stdout",
     "output_type": "stream",
     "text": [
      "################################################################################\n",
      "########################## radiator::genomic_converter #########################\n",
      "################################################################################\n"
     ]
    },
    {
     "name": "stderr",
     "output_type": "stream",
     "text": [
      "Execution date@time: 20191010@1147\n",
      "\n",
      "Deprecated arguments identified inside \"...\": \n",
      "    pop.levels\n",
      "\n",
      "Read documentation, for latest changes, and modify your codes!\n",
      "\n",
      "Folder created: 11_radiator_genomic_converter_20191010@1147\n",
      "Function call and arguments stored in: radiator_genomic_converter_args_20191010@1147.tsv\n",
      "Filters parameters file generated: filters_parameters_20191010@1147.tsv\n",
      "\n",
      "Importing data\n",
      "\n",
      "Synchronizing data and strata...\n",
      "    Number of strata: 4\n",
      "    Number of individuals: 144\n",
      "\n",
      "Writing tidy data set:\n",
      "fixed2_98u.rad\n",
      "\n",
      "Preparing data for output\n",
      "\n",
      "Data is bi-allelic\n",
      "Calibrating REF/ALT alleles...\n",
      "    number of REF/ALT switch = 1\n",
      "Generating structure file\n",
      "Generating adegenet genind object\n"
     ]
    },
    {
     "name": "stdout",
     "output_type": "stream",
     "text": [
      "################################### RESULTS ####################################\n"
     ]
    },
    {
     "name": "stderr",
     "output_type": "stream",
     "text": [
      "Data format of input: SeqVarGDSClass\n",
      "Biallelic data\n",
      "Number of markers: 1917\n",
      "Number of chromosome/contig/scaffold: 1\n",
      "Number of strata: 4\n",
      "Number of individuals: 144\n",
      "\n",
      "Computation time, overall: 9 sec\n"
     ]
    },
    {
     "name": "stdout",
     "output_type": "stream",
     "text": [
      "######################### genomic_converter completed ##########################\n"
     ]
    }
   ],
   "source": [
    "outs = genomic_converter(data, strata=\"../../NFLDB.strata\", \n",
    "                  output = c(\"genind\",\"structure\"),\n",
    "                 parallel.core = 4, filename = \"fixed2_98u\",pop.levels=c(\"NB\",\"DB\",\"FL\",\"ILMB\") )"
   ]
  },
  {
   "cell_type": "code",
   "execution_count": 231,
   "metadata": {
    "kernel": "ir"
   },
   "outputs": [
    {
     "data": {
      "text/plain": [
       "/// GENIND OBJECT /////////\n",
       "\n",
       " // 144 individuals; 1,917 loci; 3,834 alleles; size: 3.2 Mb\n",
       "\n",
       " // Basic content\n",
       "   @tab:  144 x 3834 matrix of allele counts\n",
       "   @loc.n.all: number of alleles per locus (range: 2-2)\n",
       "   @loc.fac: locus factor for the 3834 columns of @tab\n",
       "   @all.names: list of allele names for each locus\n",
       "   @ploidy: ploidy of each individual  (range: 2-2)\n",
       "   @type:  codom\n",
       "   @call: radiator::write_genind(data = input, write = TRUE)\n",
       "\n",
       " // Optional content\n",
       "   @pop: population of each individual (group size range: 29-44)\n",
       "   @strata: a data frame with 2 columns ( INDIVIDUALS, POP_ID )"
      ]
     },
     "metadata": {},
     "output_type": "display_data"
    }
   ],
   "source": [
    "outs$genind"
   ]
  },
  {
   "cell_type": "code",
   "execution_count": 232,
   "metadata": {
    "kernel": "ir"
   },
   "outputs": [],
   "source": [
    "d = outs$genind\n",
    "save(d, file=\"fixed2_98u.genind\")"
   ]
  },
  {
   "cell_type": "markdown",
   "metadata": {
    "kernel": "bash"
   },
   "source": [
    "## Fixed within at least 2 pops (90)"
   ]
  },
  {
   "cell_type": "code",
   "execution_count": 293,
   "metadata": {
    "kernel": "Python3"
   },
   "outputs": [],
   "source": [
    "import pandas as pd\n",
    "infile =\"./maf05mac4het9m3R50_2/populations.sumstats.tsv\"\n",
    "\n",
    "IN = pd.read_table(infile,header=4)"
   ]
  },
  {
   "cell_type": "code",
   "execution_count": 294,
   "metadata": {
    "kernel": "Python3"
   },
   "outputs": [],
   "source": [
    "fixed = IN[(IN['P'] >0.9) & (IN['Pop ID'] != \"ILMB\")]"
   ]
  },
  {
   "cell_type": "code",
   "execution_count": 295,
   "metadata": {
    "kernel": "Python3"
   },
   "outputs": [
    {
     "data": {
      "text/html": [
       "<div>\n",
       "<style scoped>\n",
       "    .dataframe tbody tr th:only-of-type {\n",
       "        vertical-align: middle;\n",
       "    }\n",
       "\n",
       "    .dataframe tbody tr th {\n",
       "        vertical-align: top;\n",
       "    }\n",
       "\n",
       "    .dataframe thead th {\n",
       "        text-align: right;\n",
       "    }\n",
       "</style>\n",
       "<table border=\"1\" class=\"dataframe\">\n",
       "  <thead>\n",
       "    <tr style=\"text-align: right;\">\n",
       "      <th></th>\n",
       "      <th># Locus ID</th>\n",
       "      <th>Chr</th>\n",
       "      <th>BP</th>\n",
       "      <th>Col</th>\n",
       "      <th>Pop ID</th>\n",
       "      <th>P Nuc</th>\n",
       "      <th>Q Nuc</th>\n",
       "      <th>N</th>\n",
       "      <th>P</th>\n",
       "      <th>Obs Het</th>\n",
       "      <th>...</th>\n",
       "      <th>Exp Het</th>\n",
       "      <th>Exp Hom</th>\n",
       "      <th>Pi</th>\n",
       "      <th>Smoothed Pi</th>\n",
       "      <th>Smoothed Pi P-value</th>\n",
       "      <th>Fis</th>\n",
       "      <th>Smoothed Fis</th>\n",
       "      <th>Smoothed Fis P-value</th>\n",
       "      <th>HWE P-value</th>\n",
       "      <th>Private</th>\n",
       "    </tr>\n",
       "  </thead>\n",
       "  <tbody>\n",
       "    <tr>\n",
       "      <td>4</td>\n",
       "      <td>178</td>\n",
       "      <td>18</td>\n",
       "      <td>2739</td>\n",
       "      <td>90</td>\n",
       "      <td>DB</td>\n",
       "      <td>A</td>\n",
       "      <td>G</td>\n",
       "      <td>29</td>\n",
       "      <td>0.948276</td>\n",
       "      <td>0.10345</td>\n",
       "      <td>...</td>\n",
       "      <td>0.09810</td>\n",
       "      <td>0.90190</td>\n",
       "      <td>0.09982</td>\n",
       "      <td>0.00044</td>\n",
       "      <td>0.0</td>\n",
       "      <td>-0.03636</td>\n",
       "      <td>-0.03636</td>\n",
       "      <td>0.0</td>\n",
       "      <td>1.0</td>\n",
       "      <td>0</td>\n",
       "    </tr>\n",
       "    <tr>\n",
       "      <td>5</td>\n",
       "      <td>178</td>\n",
       "      <td>18</td>\n",
       "      <td>2739</td>\n",
       "      <td>90</td>\n",
       "      <td>FL</td>\n",
       "      <td>A</td>\n",
       "      <td>-</td>\n",
       "      <td>29</td>\n",
       "      <td>1.000000</td>\n",
       "      <td>0.00000</td>\n",
       "      <td>...</td>\n",
       "      <td>0.00000</td>\n",
       "      <td>1.00000</td>\n",
       "      <td>0.00000</td>\n",
       "      <td>0.00000</td>\n",
       "      <td>0.0</td>\n",
       "      <td>0.00000</td>\n",
       "      <td>0.00000</td>\n",
       "      <td>0.0</td>\n",
       "      <td>1.0</td>\n",
       "      <td>0</td>\n",
       "    </tr>\n",
       "    <tr>\n",
       "      <td>8</td>\n",
       "      <td>179</td>\n",
       "      <td>18</td>\n",
       "      <td>2739</td>\n",
       "      <td>30</td>\n",
       "      <td>DB</td>\n",
       "      <td>T</td>\n",
       "      <td>C</td>\n",
       "      <td>28</td>\n",
       "      <td>0.964286</td>\n",
       "      <td>0.07143</td>\n",
       "      <td>...</td>\n",
       "      <td>0.06888</td>\n",
       "      <td>0.93112</td>\n",
       "      <td>0.07013</td>\n",
       "      <td>0.00000</td>\n",
       "      <td>0.0</td>\n",
       "      <td>-0.01852</td>\n",
       "      <td>0.00000</td>\n",
       "      <td>0.0</td>\n",
       "      <td>1.0</td>\n",
       "      <td>0</td>\n",
       "    </tr>\n",
       "    <tr>\n",
       "      <td>9</td>\n",
       "      <td>179</td>\n",
       "      <td>18</td>\n",
       "      <td>2739</td>\n",
       "      <td>30</td>\n",
       "      <td>FL</td>\n",
       "      <td>T</td>\n",
       "      <td>-</td>\n",
       "      <td>28</td>\n",
       "      <td>1.000000</td>\n",
       "      <td>0.00000</td>\n",
       "      <td>...</td>\n",
       "      <td>0.00000</td>\n",
       "      <td>1.00000</td>\n",
       "      <td>0.00000</td>\n",
       "      <td>0.00000</td>\n",
       "      <td>0.0</td>\n",
       "      <td>0.00000</td>\n",
       "      <td>0.00000</td>\n",
       "      <td>0.0</td>\n",
       "      <td>1.0</td>\n",
       "      <td>0</td>\n",
       "    </tr>\n",
       "    <tr>\n",
       "      <td>12</td>\n",
       "      <td>183</td>\n",
       "      <td>18</td>\n",
       "      <td>10128</td>\n",
       "      <td>74</td>\n",
       "      <td>DB</td>\n",
       "      <td>A</td>\n",
       "      <td>-</td>\n",
       "      <td>29</td>\n",
       "      <td>1.000000</td>\n",
       "      <td>0.00000</td>\n",
       "      <td>...</td>\n",
       "      <td>0.00000</td>\n",
       "      <td>1.00000</td>\n",
       "      <td>0.00000</td>\n",
       "      <td>0.00000</td>\n",
       "      <td>0.0</td>\n",
       "      <td>0.00000</td>\n",
       "      <td>0.00000</td>\n",
       "      <td>0.0</td>\n",
       "      <td>1.0</td>\n",
       "      <td>0</td>\n",
       "    </tr>\n",
       "    <tr>\n",
       "      <td>...</td>\n",
       "      <td>...</td>\n",
       "      <td>...</td>\n",
       "      <td>...</td>\n",
       "      <td>...</td>\n",
       "      <td>...</td>\n",
       "      <td>...</td>\n",
       "      <td>...</td>\n",
       "      <td>...</td>\n",
       "      <td>...</td>\n",
       "      <td>...</td>\n",
       "      <td>...</td>\n",
       "      <td>...</td>\n",
       "      <td>...</td>\n",
       "      <td>...</td>\n",
       "      <td>...</td>\n",
       "      <td>...</td>\n",
       "      <td>...</td>\n",
       "      <td>...</td>\n",
       "      <td>...</td>\n",
       "      <td>...</td>\n",
       "      <td>...</td>\n",
       "    </tr>\n",
       "    <tr>\n",
       "      <td>168777</td>\n",
       "      <td>474567</td>\n",
       "      <td>250036</td>\n",
       "      <td>11186</td>\n",
       "      <td>48</td>\n",
       "      <td>NB</td>\n",
       "      <td>T</td>\n",
       "      <td>-</td>\n",
       "      <td>24</td>\n",
       "      <td>1.000000</td>\n",
       "      <td>0.00000</td>\n",
       "      <td>...</td>\n",
       "      <td>0.00000</td>\n",
       "      <td>1.00000</td>\n",
       "      <td>0.00000</td>\n",
       "      <td>0.00000</td>\n",
       "      <td>0.0</td>\n",
       "      <td>0.00000</td>\n",
       "      <td>0.00000</td>\n",
       "      <td>0.0</td>\n",
       "      <td>1.0</td>\n",
       "      <td>0</td>\n",
       "    </tr>\n",
       "    <tr>\n",
       "      <td>168779</td>\n",
       "      <td>474581</td>\n",
       "      <td>250036</td>\n",
       "      <td>41435</td>\n",
       "      <td>48</td>\n",
       "      <td>DB</td>\n",
       "      <td>C</td>\n",
       "      <td>T</td>\n",
       "      <td>29</td>\n",
       "      <td>0.965517</td>\n",
       "      <td>0.06897</td>\n",
       "      <td>...</td>\n",
       "      <td>0.06659</td>\n",
       "      <td>0.93341</td>\n",
       "      <td>0.06776</td>\n",
       "      <td>0.00063</td>\n",
       "      <td>0.0</td>\n",
       "      <td>-0.01786</td>\n",
       "      <td>-0.26580</td>\n",
       "      <td>0.0</td>\n",
       "      <td>1.0</td>\n",
       "      <td>0</td>\n",
       "    </tr>\n",
       "    <tr>\n",
       "      <td>168780</td>\n",
       "      <td>474581</td>\n",
       "      <td>250036</td>\n",
       "      <td>41435</td>\n",
       "      <td>48</td>\n",
       "      <td>FL</td>\n",
       "      <td>C</td>\n",
       "      <td>-</td>\n",
       "      <td>29</td>\n",
       "      <td>1.000000</td>\n",
       "      <td>0.00000</td>\n",
       "      <td>...</td>\n",
       "      <td>0.00000</td>\n",
       "      <td>1.00000</td>\n",
       "      <td>0.00000</td>\n",
       "      <td>0.00000</td>\n",
       "      <td>0.0</td>\n",
       "      <td>0.00000</td>\n",
       "      <td>0.00000</td>\n",
       "      <td>0.0</td>\n",
       "      <td>1.0</td>\n",
       "      <td>0</td>\n",
       "    </tr>\n",
       "    <tr>\n",
       "      <td>168783</td>\n",
       "      <td>474584</td>\n",
       "      <td>250036</td>\n",
       "      <td>41435</td>\n",
       "      <td>31</td>\n",
       "      <td>DB</td>\n",
       "      <td>G</td>\n",
       "      <td>A</td>\n",
       "      <td>29</td>\n",
       "      <td>0.965517</td>\n",
       "      <td>0.06897</td>\n",
       "      <td>...</td>\n",
       "      <td>0.06659</td>\n",
       "      <td>0.93341</td>\n",
       "      <td>0.06776</td>\n",
       "      <td>0.00000</td>\n",
       "      <td>0.0</td>\n",
       "      <td>-0.01786</td>\n",
       "      <td>0.00000</td>\n",
       "      <td>0.0</td>\n",
       "      <td>1.0</td>\n",
       "      <td>0</td>\n",
       "    </tr>\n",
       "    <tr>\n",
       "      <td>168784</td>\n",
       "      <td>474584</td>\n",
       "      <td>250036</td>\n",
       "      <td>41435</td>\n",
       "      <td>31</td>\n",
       "      <td>FL</td>\n",
       "      <td>G</td>\n",
       "      <td>-</td>\n",
       "      <td>29</td>\n",
       "      <td>1.000000</td>\n",
       "      <td>0.00000</td>\n",
       "      <td>...</td>\n",
       "      <td>0.00000</td>\n",
       "      <td>1.00000</td>\n",
       "      <td>0.00000</td>\n",
       "      <td>0.00000</td>\n",
       "      <td>0.0</td>\n",
       "      <td>0.00000</td>\n",
       "      <td>0.00000</td>\n",
       "      <td>0.0</td>\n",
       "      <td>1.0</td>\n",
       "      <td>0</td>\n",
       "    </tr>\n",
       "  </tbody>\n",
       "</table>\n",
       "<p>70054 rows × 21 columns</p>\n",
       "</div>"
      ],
      "text/plain": [
       "        # Locus ID     Chr     BP  Col Pop ID P Nuc Q Nuc   N         P  \\\n",
       "4              178      18   2739   90     DB     A     G  29  0.948276   \n",
       "5              178      18   2739   90     FL     A     -  29  1.000000   \n",
       "8              179      18   2739   30     DB     T     C  28  0.964286   \n",
       "9              179      18   2739   30     FL     T     -  28  1.000000   \n",
       "12             183      18  10128   74     DB     A     -  29  1.000000   \n",
       "...            ...     ...    ...  ...    ...   ...   ...  ..       ...   \n",
       "168777      474567  250036  11186   48     NB     T     -  24  1.000000   \n",
       "168779      474581  250036  41435   48     DB     C     T  29  0.965517   \n",
       "168780      474581  250036  41435   48     FL     C     -  29  1.000000   \n",
       "168783      474584  250036  41435   31     DB     G     A  29  0.965517   \n",
       "168784      474584  250036  41435   31     FL     G     -  29  1.000000   \n",
       "\n",
       "        Obs Het  ...  Exp Het  Exp Hom       Pi  Smoothed Pi  \\\n",
       "4       0.10345  ...  0.09810  0.90190  0.09982      0.00044   \n",
       "5       0.00000  ...  0.00000  1.00000  0.00000      0.00000   \n",
       "8       0.07143  ...  0.06888  0.93112  0.07013      0.00000   \n",
       "9       0.00000  ...  0.00000  1.00000  0.00000      0.00000   \n",
       "12      0.00000  ...  0.00000  1.00000  0.00000      0.00000   \n",
       "...         ...  ...      ...      ...      ...          ...   \n",
       "168777  0.00000  ...  0.00000  1.00000  0.00000      0.00000   \n",
       "168779  0.06897  ...  0.06659  0.93341  0.06776      0.00063   \n",
       "168780  0.00000  ...  0.00000  1.00000  0.00000      0.00000   \n",
       "168783  0.06897  ...  0.06659  0.93341  0.06776      0.00000   \n",
       "168784  0.00000  ...  0.00000  1.00000  0.00000      0.00000   \n",
       "\n",
       "        Smoothed Pi P-value      Fis  Smoothed Fis  Smoothed Fis P-value  \\\n",
       "4                       0.0 -0.03636      -0.03636                   0.0   \n",
       "5                       0.0  0.00000       0.00000                   0.0   \n",
       "8                       0.0 -0.01852       0.00000                   0.0   \n",
       "9                       0.0  0.00000       0.00000                   0.0   \n",
       "12                      0.0  0.00000       0.00000                   0.0   \n",
       "...                     ...      ...           ...                   ...   \n",
       "168777                  0.0  0.00000       0.00000                   0.0   \n",
       "168779                  0.0 -0.01786      -0.26580                   0.0   \n",
       "168780                  0.0  0.00000       0.00000                   0.0   \n",
       "168783                  0.0 -0.01786       0.00000                   0.0   \n",
       "168784                  0.0  0.00000       0.00000                   0.0   \n",
       "\n",
       "        HWE P-value  Private  \n",
       "4               1.0        0  \n",
       "5               1.0        0  \n",
       "8               1.0        0  \n",
       "9               1.0        0  \n",
       "12              1.0        0  \n",
       "...             ...      ...  \n",
       "168777          1.0        0  \n",
       "168779          1.0        0  \n",
       "168780          1.0        0  \n",
       "168783          1.0        0  \n",
       "168784          1.0        0  \n",
       "\n",
       "[70054 rows x 21 columns]"
      ]
     },
     "execution_count": 295,
     "metadata": {},
     "output_type": "execute_result"
    }
   ],
   "source": [
    "fixed"
   ]
  },
  {
   "cell_type": "code",
   "execution_count": 296,
   "metadata": {
    "kernel": "Python3"
   },
   "outputs": [],
   "source": [
    "check = []\n",
    "for row in fixed.itertuples(index=True):\n",
    "    if (row._1,row.Chr,row.BP) not in check:\n",
    "        check.append((row._1,row.Chr,row.BP))\n",
    "\n",
    "x = IN[IN[[\"# Locus ID\",\"Chr\",\"BP\"]].apply(tuple, 1).isin(check)]\n",
    "x = x[(x['Pop ID'] == \"DB\") | (x['Pop ID'] == \"NB\")| (x['Pop ID'] == \"FL\")]   \n",
    "\n"
   ]
  },
  {
   "cell_type": "code",
   "execution_count": 297,
   "metadata": {
    "kernel": "Python3"
   },
   "outputs": [],
   "source": [
    "check =[]\n",
    "goodLoc = []\n",
    "for row in x.itertuples(index=True):\n",
    "    if row.P < 0.1:\n",
    "        if (row._1,row.Chr,row.BP) not in check:\n",
    "            check.append((row._1,row.Chr,row.BP))\n",
    "            if (row.Chr,row.BP) not in goodLoc:\n",
    "                goodLoc.append((row.Chr,row.BP))"
   ]
  },
  {
   "cell_type": "code",
   "execution_count": 298,
   "metadata": {
    "kernel": "Python3"
   },
   "outputs": [],
   "source": [
    "y = IN[IN[[\"Chr\",\"BP\"]].apply(tuple, 1).isin(goodLoc)]"
   ]
  },
  {
   "cell_type": "code",
   "execution_count": 299,
   "metadata": {
    "kernel": "Python3"
   },
   "outputs": [
    {
     "data": {
      "text/html": [
       "<div>\n",
       "<style scoped>\n",
       "    .dataframe tbody tr th:only-of-type {\n",
       "        vertical-align: middle;\n",
       "    }\n",
       "\n",
       "    .dataframe tbody tr th {\n",
       "        vertical-align: top;\n",
       "    }\n",
       "\n",
       "    .dataframe thead th {\n",
       "        text-align: right;\n",
       "    }\n",
       "</style>\n",
       "<table border=\"1\" class=\"dataframe\">\n",
       "  <thead>\n",
       "    <tr style=\"text-align: right;\">\n",
       "      <th></th>\n",
       "      <th># Locus ID</th>\n",
       "      <th>Chr</th>\n",
       "      <th>BP</th>\n",
       "      <th>Col</th>\n",
       "      <th>Pop ID</th>\n",
       "      <th>P Nuc</th>\n",
       "      <th>Q Nuc</th>\n",
       "      <th>N</th>\n",
       "      <th>P</th>\n",
       "      <th>Obs Het</th>\n",
       "      <th>...</th>\n",
       "      <th>Exp Het</th>\n",
       "      <th>Exp Hom</th>\n",
       "      <th>Pi</th>\n",
       "      <th>Smoothed Pi</th>\n",
       "      <th>Smoothed Pi P-value</th>\n",
       "      <th>Fis</th>\n",
       "      <th>Smoothed Fis</th>\n",
       "      <th>Smoothed Fis P-value</th>\n",
       "      <th>HWE P-value</th>\n",
       "      <th>Private</th>\n",
       "    </tr>\n",
       "  </thead>\n",
       "  <tbody>\n",
       "    <tr>\n",
       "      <td>3</td>\n",
       "      <td>178</td>\n",
       "      <td>18</td>\n",
       "      <td>2739</td>\n",
       "      <td>90</td>\n",
       "      <td>ILMB</td>\n",
       "      <td>A</td>\n",
       "      <td>G</td>\n",
       "      <td>42</td>\n",
       "      <td>0.845238</td>\n",
       "      <td>0.30952</td>\n",
       "      <td>...</td>\n",
       "      <td>0.26162</td>\n",
       "      <td>0.73838</td>\n",
       "      <td>0.26477</td>\n",
       "      <td>0.00223</td>\n",
       "      <td>0.0</td>\n",
       "      <td>-0.16901</td>\n",
       "      <td>-0.07313</td>\n",
       "      <td>0.0</td>\n",
       "      <td>0.56574</td>\n",
       "      <td>0</td>\n",
       "    </tr>\n",
       "    <tr>\n",
       "      <td>4</td>\n",
       "      <td>178</td>\n",
       "      <td>18</td>\n",
       "      <td>2739</td>\n",
       "      <td>90</td>\n",
       "      <td>DB</td>\n",
       "      <td>A</td>\n",
       "      <td>G</td>\n",
       "      <td>29</td>\n",
       "      <td>0.948276</td>\n",
       "      <td>0.10345</td>\n",
       "      <td>...</td>\n",
       "      <td>0.09810</td>\n",
       "      <td>0.90190</td>\n",
       "      <td>0.09982</td>\n",
       "      <td>0.00044</td>\n",
       "      <td>0.0</td>\n",
       "      <td>-0.03636</td>\n",
       "      <td>-0.03636</td>\n",
       "      <td>0.0</td>\n",
       "      <td>1.00000</td>\n",
       "      <td>0</td>\n",
       "    </tr>\n",
       "    <tr>\n",
       "      <td>5</td>\n",
       "      <td>178</td>\n",
       "      <td>18</td>\n",
       "      <td>2739</td>\n",
       "      <td>90</td>\n",
       "      <td>FL</td>\n",
       "      <td>A</td>\n",
       "      <td>-</td>\n",
       "      <td>29</td>\n",
       "      <td>1.000000</td>\n",
       "      <td>0.00000</td>\n",
       "      <td>...</td>\n",
       "      <td>0.00000</td>\n",
       "      <td>1.00000</td>\n",
       "      <td>0.00000</td>\n",
       "      <td>0.00000</td>\n",
       "      <td>0.0</td>\n",
       "      <td>0.00000</td>\n",
       "      <td>0.00000</td>\n",
       "      <td>0.0</td>\n",
       "      <td>1.00000</td>\n",
       "      <td>0</td>\n",
       "    </tr>\n",
       "    <tr>\n",
       "      <td>6</td>\n",
       "      <td>178</td>\n",
       "      <td>18</td>\n",
       "      <td>2739</td>\n",
       "      <td>90</td>\n",
       "      <td>NB</td>\n",
       "      <td>A</td>\n",
       "      <td>G</td>\n",
       "      <td>38</td>\n",
       "      <td>0.039474</td>\n",
       "      <td>0.07895</td>\n",
       "      <td>...</td>\n",
       "      <td>0.07583</td>\n",
       "      <td>0.92417</td>\n",
       "      <td>0.07684</td>\n",
       "      <td>0.00030</td>\n",
       "      <td>0.0</td>\n",
       "      <td>-0.02740</td>\n",
       "      <td>-0.02740</td>\n",
       "      <td>0.0</td>\n",
       "      <td>1.00000</td>\n",
       "      <td>0</td>\n",
       "    </tr>\n",
       "    <tr>\n",
       "      <td>7</td>\n",
       "      <td>179</td>\n",
       "      <td>18</td>\n",
       "      <td>2739</td>\n",
       "      <td>30</td>\n",
       "      <td>ILMB</td>\n",
       "      <td>T</td>\n",
       "      <td>C</td>\n",
       "      <td>44</td>\n",
       "      <td>0.818182</td>\n",
       "      <td>0.31818</td>\n",
       "      <td>...</td>\n",
       "      <td>0.29752</td>\n",
       "      <td>0.70248</td>\n",
       "      <td>0.30094</td>\n",
       "      <td>0.00000</td>\n",
       "      <td>0.0</td>\n",
       "      <td>-0.05729</td>\n",
       "      <td>0.00000</td>\n",
       "      <td>0.0</td>\n",
       "      <td>1.00000</td>\n",
       "      <td>0</td>\n",
       "    </tr>\n",
       "    <tr>\n",
       "      <td>8</td>\n",
       "      <td>179</td>\n",
       "      <td>18</td>\n",
       "      <td>2739</td>\n",
       "      <td>30</td>\n",
       "      <td>DB</td>\n",
       "      <td>T</td>\n",
       "      <td>C</td>\n",
       "      <td>28</td>\n",
       "      <td>0.964286</td>\n",
       "      <td>0.07143</td>\n",
       "      <td>...</td>\n",
       "      <td>0.06888</td>\n",
       "      <td>0.93112</td>\n",
       "      <td>0.07013</td>\n",
       "      <td>0.00000</td>\n",
       "      <td>0.0</td>\n",
       "      <td>-0.01852</td>\n",
       "      <td>0.00000</td>\n",
       "      <td>0.0</td>\n",
       "      <td>1.00000</td>\n",
       "      <td>0</td>\n",
       "    </tr>\n",
       "    <tr>\n",
       "      <td>9</td>\n",
       "      <td>179</td>\n",
       "      <td>18</td>\n",
       "      <td>2739</td>\n",
       "      <td>30</td>\n",
       "      <td>FL</td>\n",
       "      <td>T</td>\n",
       "      <td>-</td>\n",
       "      <td>28</td>\n",
       "      <td>1.000000</td>\n",
       "      <td>0.00000</td>\n",
       "      <td>...</td>\n",
       "      <td>0.00000</td>\n",
       "      <td>1.00000</td>\n",
       "      <td>0.00000</td>\n",
       "      <td>0.00000</td>\n",
       "      <td>0.0</td>\n",
       "      <td>0.00000</td>\n",
       "      <td>0.00000</td>\n",
       "      <td>0.0</td>\n",
       "      <td>1.00000</td>\n",
       "      <td>0</td>\n",
       "    </tr>\n",
       "    <tr>\n",
       "      <td>10</td>\n",
       "      <td>179</td>\n",
       "      <td>18</td>\n",
       "      <td>2739</td>\n",
       "      <td>30</td>\n",
       "      <td>NB</td>\n",
       "      <td>T</td>\n",
       "      <td>C</td>\n",
       "      <td>40</td>\n",
       "      <td>0.050000</td>\n",
       "      <td>0.05000</td>\n",
       "      <td>...</td>\n",
       "      <td>0.09500</td>\n",
       "      <td>0.90500</td>\n",
       "      <td>0.09620</td>\n",
       "      <td>0.00000</td>\n",
       "      <td>0.0</td>\n",
       "      <td>0.48026</td>\n",
       "      <td>0.00000</td>\n",
       "      <td>0.0</td>\n",
       "      <td>0.07546</td>\n",
       "      <td>0</td>\n",
       "    </tr>\n",
       "    <tr>\n",
       "      <td>67</td>\n",
       "      <td>267</td>\n",
       "      <td>23</td>\n",
       "      <td>27403</td>\n",
       "      <td>15</td>\n",
       "      <td>ILMB</td>\n",
       "      <td>C</td>\n",
       "      <td>T</td>\n",
       "      <td>28</td>\n",
       "      <td>0.535714</td>\n",
       "      <td>0.50000</td>\n",
       "      <td>...</td>\n",
       "      <td>0.49745</td>\n",
       "      <td>0.50255</td>\n",
       "      <td>0.50649</td>\n",
       "      <td>0.00083</td>\n",
       "      <td>0.0</td>\n",
       "      <td>0.01282</td>\n",
       "      <td>0.01711</td>\n",
       "      <td>0.0</td>\n",
       "      <td>1.00000</td>\n",
       "      <td>0</td>\n",
       "    </tr>\n",
       "    <tr>\n",
       "      <td>68</td>\n",
       "      <td>267</td>\n",
       "      <td>23</td>\n",
       "      <td>27403</td>\n",
       "      <td>15</td>\n",
       "      <td>DB</td>\n",
       "      <td>C</td>\n",
       "      <td>-</td>\n",
       "      <td>21</td>\n",
       "      <td>1.000000</td>\n",
       "      <td>0.00000</td>\n",
       "      <td>...</td>\n",
       "      <td>0.00000</td>\n",
       "      <td>1.00000</td>\n",
       "      <td>0.00000</td>\n",
       "      <td>0.00000</td>\n",
       "      <td>0.0</td>\n",
       "      <td>0.00000</td>\n",
       "      <td>0.00000</td>\n",
       "      <td>0.0</td>\n",
       "      <td>1.00000</td>\n",
       "      <td>0</td>\n",
       "    </tr>\n",
       "    <tr>\n",
       "      <td>69</td>\n",
       "      <td>267</td>\n",
       "      <td>23</td>\n",
       "      <td>27403</td>\n",
       "      <td>15</td>\n",
       "      <td>FL</td>\n",
       "      <td>-</td>\n",
       "      <td>T</td>\n",
       "      <td>13</td>\n",
       "      <td>0.000000</td>\n",
       "      <td>0.00000</td>\n",
       "      <td>...</td>\n",
       "      <td>0.00000</td>\n",
       "      <td>1.00000</td>\n",
       "      <td>0.00000</td>\n",
       "      <td>0.00000</td>\n",
       "      <td>0.0</td>\n",
       "      <td>0.00000</td>\n",
       "      <td>0.00000</td>\n",
       "      <td>0.0</td>\n",
       "      <td>1.00000</td>\n",
       "      <td>0</td>\n",
       "    </tr>\n",
       "    <tr>\n",
       "      <td>70</td>\n",
       "      <td>267</td>\n",
       "      <td>23</td>\n",
       "      <td>27403</td>\n",
       "      <td>15</td>\n",
       "      <td>NB</td>\n",
       "      <td>C</td>\n",
       "      <td>-</td>\n",
       "      <td>23</td>\n",
       "      <td>1.000000</td>\n",
       "      <td>0.00000</td>\n",
       "      <td>...</td>\n",
       "      <td>0.00000</td>\n",
       "      <td>1.00000</td>\n",
       "      <td>0.00000</td>\n",
       "      <td>0.00000</td>\n",
       "      <td>0.0</td>\n",
       "      <td>0.00000</td>\n",
       "      <td>0.00000</td>\n",
       "      <td>0.0</td>\n",
       "      <td>1.00000</td>\n",
       "      <td>0</td>\n",
       "    </tr>\n",
       "    <tr>\n",
       "      <td>71</td>\n",
       "      <td>267</td>\n",
       "      <td>23</td>\n",
       "      <td>27360</td>\n",
       "      <td>58</td>\n",
       "      <td>ILMB</td>\n",
       "      <td>A</td>\n",
       "      <td>G</td>\n",
       "      <td>25</td>\n",
       "      <td>0.520000</td>\n",
       "      <td>0.48000</td>\n",
       "      <td>...</td>\n",
       "      <td>0.49920</td>\n",
       "      <td>0.50080</td>\n",
       "      <td>0.50939</td>\n",
       "      <td>0.00083</td>\n",
       "      <td>0.0</td>\n",
       "      <td>0.05769</td>\n",
       "      <td>0.01711</td>\n",
       "      <td>0.0</td>\n",
       "      <td>1.00000</td>\n",
       "      <td>0</td>\n",
       "    </tr>\n",
       "    <tr>\n",
       "      <td>72</td>\n",
       "      <td>267</td>\n",
       "      <td>23</td>\n",
       "      <td>27360</td>\n",
       "      <td>58</td>\n",
       "      <td>DB</td>\n",
       "      <td>A</td>\n",
       "      <td>G</td>\n",
       "      <td>20</td>\n",
       "      <td>0.975000</td>\n",
       "      <td>0.05000</td>\n",
       "      <td>...</td>\n",
       "      <td>0.04875</td>\n",
       "      <td>0.95125</td>\n",
       "      <td>0.05000</td>\n",
       "      <td>0.00008</td>\n",
       "      <td>0.0</td>\n",
       "      <td>0.00000</td>\n",
       "      <td>0.00000</td>\n",
       "      <td>0.0</td>\n",
       "      <td>1.00000</td>\n",
       "      <td>0</td>\n",
       "    </tr>\n",
       "    <tr>\n",
       "      <td>73</td>\n",
       "      <td>267</td>\n",
       "      <td>23</td>\n",
       "      <td>27360</td>\n",
       "      <td>58</td>\n",
       "      <td>FL</td>\n",
       "      <td>-</td>\n",
       "      <td>G</td>\n",
       "      <td>13</td>\n",
       "      <td>0.000000</td>\n",
       "      <td>0.00000</td>\n",
       "      <td>...</td>\n",
       "      <td>0.00000</td>\n",
       "      <td>1.00000</td>\n",
       "      <td>0.00000</td>\n",
       "      <td>0.00000</td>\n",
       "      <td>0.0</td>\n",
       "      <td>0.00000</td>\n",
       "      <td>0.00000</td>\n",
       "      <td>0.0</td>\n",
       "      <td>1.00000</td>\n",
       "      <td>0</td>\n",
       "    </tr>\n",
       "    <tr>\n",
       "      <td>74</td>\n",
       "      <td>267</td>\n",
       "      <td>23</td>\n",
       "      <td>27360</td>\n",
       "      <td>58</td>\n",
       "      <td>NB</td>\n",
       "      <td>A</td>\n",
       "      <td>-</td>\n",
       "      <td>22</td>\n",
       "      <td>1.000000</td>\n",
       "      <td>0.00000</td>\n",
       "      <td>...</td>\n",
       "      <td>0.00000</td>\n",
       "      <td>1.00000</td>\n",
       "      <td>0.00000</td>\n",
       "      <td>0.00000</td>\n",
       "      <td>0.0</td>\n",
       "      <td>0.00000</td>\n",
       "      <td>0.00000</td>\n",
       "      <td>0.0</td>\n",
       "      <td>1.00000</td>\n",
       "      <td>0</td>\n",
       "    </tr>\n",
       "    <tr>\n",
       "      <td>75</td>\n",
       "      <td>298</td>\n",
       "      <td>28</td>\n",
       "      <td>22314</td>\n",
       "      <td>34</td>\n",
       "      <td>ILMB</td>\n",
       "      <td>G</td>\n",
       "      <td>A</td>\n",
       "      <td>43</td>\n",
       "      <td>0.662791</td>\n",
       "      <td>0.39535</td>\n",
       "      <td>...</td>\n",
       "      <td>0.44700</td>\n",
       "      <td>0.55300</td>\n",
       "      <td>0.45226</td>\n",
       "      <td>0.00947</td>\n",
       "      <td>0.0</td>\n",
       "      <td>0.12583</td>\n",
       "      <td>0.05979</td>\n",
       "      <td>0.0</td>\n",
       "      <td>0.49746</td>\n",
       "      <td>0</td>\n",
       "    </tr>\n",
       "    <tr>\n",
       "      <td>76</td>\n",
       "      <td>298</td>\n",
       "      <td>28</td>\n",
       "      <td>22314</td>\n",
       "      <td>34</td>\n",
       "      <td>DB</td>\n",
       "      <td>G</td>\n",
       "      <td>A</td>\n",
       "      <td>29</td>\n",
       "      <td>0.810345</td>\n",
       "      <td>0.31034</td>\n",
       "      <td>...</td>\n",
       "      <td>0.30737</td>\n",
       "      <td>0.69263</td>\n",
       "      <td>0.31276</td>\n",
       "      <td>0.00579</td>\n",
       "      <td>0.0</td>\n",
       "      <td>0.00774</td>\n",
       "      <td>-0.02774</td>\n",
       "      <td>0.0</td>\n",
       "      <td>1.00000</td>\n",
       "      <td>0</td>\n",
       "    </tr>\n",
       "    <tr>\n",
       "      <td>77</td>\n",
       "      <td>298</td>\n",
       "      <td>28</td>\n",
       "      <td>22314</td>\n",
       "      <td>34</td>\n",
       "      <td>FL</td>\n",
       "      <td>G</td>\n",
       "      <td>-</td>\n",
       "      <td>28</td>\n",
       "      <td>1.000000</td>\n",
       "      <td>0.00000</td>\n",
       "      <td>...</td>\n",
       "      <td>0.00000</td>\n",
       "      <td>1.00000</td>\n",
       "      <td>0.00000</td>\n",
       "      <td>0.00000</td>\n",
       "      <td>0.0</td>\n",
       "      <td>0.00000</td>\n",
       "      <td>0.00000</td>\n",
       "      <td>0.0</td>\n",
       "      <td>1.00000</td>\n",
       "      <td>0</td>\n",
       "    </tr>\n",
       "    <tr>\n",
       "      <td>78</td>\n",
       "      <td>298</td>\n",
       "      <td>28</td>\n",
       "      <td>22314</td>\n",
       "      <td>34</td>\n",
       "      <td>NB</td>\n",
       "      <td>-</td>\n",
       "      <td>A</td>\n",
       "      <td>40</td>\n",
       "      <td>0.000000</td>\n",
       "      <td>0.00000</td>\n",
       "      <td>...</td>\n",
       "      <td>0.00000</td>\n",
       "      <td>1.00000</td>\n",
       "      <td>0.00000</td>\n",
       "      <td>0.00000</td>\n",
       "      <td>0.0</td>\n",
       "      <td>0.00000</td>\n",
       "      <td>0.00000</td>\n",
       "      <td>0.0</td>\n",
       "      <td>1.00000</td>\n",
       "      <td>0</td>\n",
       "    </tr>\n",
       "  </tbody>\n",
       "</table>\n",
       "<p>20 rows × 21 columns</p>\n",
       "</div>"
      ],
      "text/plain": [
       "    # Locus ID  Chr     BP  Col Pop ID P Nuc Q Nuc   N         P  Obs Het  \\\n",
       "3          178   18   2739   90   ILMB     A     G  42  0.845238  0.30952   \n",
       "4          178   18   2739   90     DB     A     G  29  0.948276  0.10345   \n",
       "5          178   18   2739   90     FL     A     -  29  1.000000  0.00000   \n",
       "6          178   18   2739   90     NB     A     G  38  0.039474  0.07895   \n",
       "7          179   18   2739   30   ILMB     T     C  44  0.818182  0.31818   \n",
       "8          179   18   2739   30     DB     T     C  28  0.964286  0.07143   \n",
       "9          179   18   2739   30     FL     T     -  28  1.000000  0.00000   \n",
       "10         179   18   2739   30     NB     T     C  40  0.050000  0.05000   \n",
       "67         267   23  27403   15   ILMB     C     T  28  0.535714  0.50000   \n",
       "68         267   23  27403   15     DB     C     -  21  1.000000  0.00000   \n",
       "69         267   23  27403   15     FL     -     T  13  0.000000  0.00000   \n",
       "70         267   23  27403   15     NB     C     -  23  1.000000  0.00000   \n",
       "71         267   23  27360   58   ILMB     A     G  25  0.520000  0.48000   \n",
       "72         267   23  27360   58     DB     A     G  20  0.975000  0.05000   \n",
       "73         267   23  27360   58     FL     -     G  13  0.000000  0.00000   \n",
       "74         267   23  27360   58     NB     A     -  22  1.000000  0.00000   \n",
       "75         298   28  22314   34   ILMB     G     A  43  0.662791  0.39535   \n",
       "76         298   28  22314   34     DB     G     A  29  0.810345  0.31034   \n",
       "77         298   28  22314   34     FL     G     -  28  1.000000  0.00000   \n",
       "78         298   28  22314   34     NB     -     A  40  0.000000  0.00000   \n",
       "\n",
       "    ...  Exp Het  Exp Hom       Pi  Smoothed Pi  Smoothed Pi P-value      Fis  \\\n",
       "3   ...  0.26162  0.73838  0.26477      0.00223                  0.0 -0.16901   \n",
       "4   ...  0.09810  0.90190  0.09982      0.00044                  0.0 -0.03636   \n",
       "5   ...  0.00000  1.00000  0.00000      0.00000                  0.0  0.00000   \n",
       "6   ...  0.07583  0.92417  0.07684      0.00030                  0.0 -0.02740   \n",
       "7   ...  0.29752  0.70248  0.30094      0.00000                  0.0 -0.05729   \n",
       "8   ...  0.06888  0.93112  0.07013      0.00000                  0.0 -0.01852   \n",
       "9   ...  0.00000  1.00000  0.00000      0.00000                  0.0  0.00000   \n",
       "10  ...  0.09500  0.90500  0.09620      0.00000                  0.0  0.48026   \n",
       "67  ...  0.49745  0.50255  0.50649      0.00083                  0.0  0.01282   \n",
       "68  ...  0.00000  1.00000  0.00000      0.00000                  0.0  0.00000   \n",
       "69  ...  0.00000  1.00000  0.00000      0.00000                  0.0  0.00000   \n",
       "70  ...  0.00000  1.00000  0.00000      0.00000                  0.0  0.00000   \n",
       "71  ...  0.49920  0.50080  0.50939      0.00083                  0.0  0.05769   \n",
       "72  ...  0.04875  0.95125  0.05000      0.00008                  0.0  0.00000   \n",
       "73  ...  0.00000  1.00000  0.00000      0.00000                  0.0  0.00000   \n",
       "74  ...  0.00000  1.00000  0.00000      0.00000                  0.0  0.00000   \n",
       "75  ...  0.44700  0.55300  0.45226      0.00947                  0.0  0.12583   \n",
       "76  ...  0.30737  0.69263  0.31276      0.00579                  0.0  0.00774   \n",
       "77  ...  0.00000  1.00000  0.00000      0.00000                  0.0  0.00000   \n",
       "78  ...  0.00000  1.00000  0.00000      0.00000                  0.0  0.00000   \n",
       "\n",
       "    Smoothed Fis  Smoothed Fis P-value  HWE P-value  Private  \n",
       "3       -0.07313                   0.0      0.56574        0  \n",
       "4       -0.03636                   0.0      1.00000        0  \n",
       "5        0.00000                   0.0      1.00000        0  \n",
       "6       -0.02740                   0.0      1.00000        0  \n",
       "7        0.00000                   0.0      1.00000        0  \n",
       "8        0.00000                   0.0      1.00000        0  \n",
       "9        0.00000                   0.0      1.00000        0  \n",
       "10       0.00000                   0.0      0.07546        0  \n",
       "67       0.01711                   0.0      1.00000        0  \n",
       "68       0.00000                   0.0      1.00000        0  \n",
       "69       0.00000                   0.0      1.00000        0  \n",
       "70       0.00000                   0.0      1.00000        0  \n",
       "71       0.01711                   0.0      1.00000        0  \n",
       "72       0.00000                   0.0      1.00000        0  \n",
       "73       0.00000                   0.0      1.00000        0  \n",
       "74       0.00000                   0.0      1.00000        0  \n",
       "75       0.05979                   0.0      0.49746        0  \n",
       "76      -0.02774                   0.0      1.00000        0  \n",
       "77       0.00000                   0.0      1.00000        0  \n",
       "78       0.00000                   0.0      1.00000        0  \n",
       "\n",
       "[20 rows x 21 columns]"
      ]
     },
     "execution_count": 299,
     "metadata": {},
     "output_type": "execute_result"
    }
   ],
   "source": [
    "y.iloc[0:20]"
   ]
  },
  {
   "cell_type": "code",
   "execution_count": 300,
   "metadata": {
    "kernel": "Python3"
   },
   "outputs": [
    {
     "data": {
      "text/plain": [
       "8175"
      ]
     },
     "execution_count": 300,
     "metadata": {},
     "output_type": "execute_result"
    }
   ],
   "source": [
    "len(goodLoc)"
   ]
  },
  {
   "cell_type": "code",
   "execution_count": 301,
   "metadata": {
    "kernel": "Python3"
   },
   "outputs": [
    {
     "name": "stdout",
     "output_type": "stream",
     "text": [
      "8175\n"
     ]
    }
   ],
   "source": [
    "%expand\n",
    "positions = []\n",
    "OUT = open(\"{suffix}fixed2_90.positions\",\"w\")\n",
    "OUTr = open(\"{suffix}fixed2_90R.positions\",\"w\")\n",
    "OUTr.write(\"LOCUS\\tPOS\\n\")\n",
    "n=0\n",
    "for row in y.itertuples(index=True):\n",
    "    if (row.Chr, row.BP) not in positions:\n",
    "        positions.append((row.Chr, row.BP))\n",
    "        OUT.write(str(row.Chr)+\"\\t\"+str(row.BP)+\"\\n\")\n",
    "        OUTr.write(str(row.Chr)+\"\\t\"+str(row.BP)+\"\\n\")\n",
    "        n+=1\n",
    "OUT.close()\n",
    "OUTr.close()\n",
    "print(n)"
   ]
  },
  {
   "cell_type": "code",
   "execution_count": 302,
   "metadata": {
    "kernel": "bash"
   },
   "outputs": [
    {
     "name": "stdout",
     "output_type": "stream",
     "text": [
      "\n",
      "VCFtools - 0.1.17\n",
      "(C) Adam Auton and Anthony Marcketta 2009\n",
      "\n",
      "Parameters as interpreted:\n",
      "\t--vcf ./maf05mac4het9m3R50_2/Making/m85-hwPbi.recode.vcf\n",
      "\t--recode-INFO-all\n",
      "\t--out ./maf05mac4het9m3R50_2/Making/m85-hwPBi-fixed2_90\n",
      "\t--positions ./maf05mac4het9m3R50_2/Making/fixed2_90.positions\n",
      "\t--recode\n",
      "\n",
      "After filtering, kept 144 out of 144 Individuals\n",
      "Outputting VCF file...\n",
      "After filtering, kept 3752 out of a possible 15078 Sites\n",
      "Run Time = 4.00 seconds\n"
     ]
    }
   ],
   "source": [
    "%expand\n",
    "module load vcftools/v0.1.17\n",
    "\n",
    "vcftools --vcf {suffix}m85-hwPbi.recode.vcf --recode \\\n",
    "--recode-INFO-all --positions {suffix}fixed2_90.positions \\\n",
    "--out {suffix}m85-hwPBi-fixed2_90"
   ]
  },
  {
   "cell_type": "code",
   "execution_count": 226,
   "metadata": {
    "kernel": "ir",
    "scrolled": true
   },
   "outputs": [
    {
     "name": "stderr",
     "output_type": "stream",
     "text": [
      "Execution date@time: 20191010@1141\n",
      "Folder created: read_vcf_20191010@1141\n",
      "Function call and arguments stored in: radiator_read_vcf_args_20191010@1141.tsv\n",
      "File written: random.seed (716045)\n",
      "\n",
      "Reading VCF\n",
      "Data summary: \n",
      "    number of samples: 144\n",
      "    number of markers: 2435\n",
      "done! timing: 2 sec\n",
      "\n",
      "\n",
      "File written: radiator_20191010@1141.gds\n",
      "\n",
      "Analyzing the data...\n",
      "VCF source: Stacks v2.4\n",
      "Data is bi-allelic\n",
      "Cleaning VCF's sample names\n",
      "Synchronizing data and strata...\n",
      "    Number of strata: 4\n",
      "    Number of individuals: 144\n",
      "Reads assembly: de novo\n",
      "Filters parameters file generated: filters_parameters_20191010@1141.tsv\n",
      "Filters parameters file: initiated and updated\n"
     ]
    },
    {
     "name": "stdout",
     "output_type": "stream",
     "text": [
      "################################################################################\n",
      "########################### radiator::filter_monomorphic #######################\n",
      "################################################################################\n"
     ]
    },
    {
     "name": "stderr",
     "output_type": "stream",
     "text": [
      "Execution date@time: 20191010@1141\n",
      "Function call and arguments stored in: radiator_filter_monomorphic_args_20191010@1141.tsv\n",
      "Filters parameters file: initiated\n",
      "File written: whitelist.polymorphic.markers_20191010@1141.tsv\n",
      "Filters parameters file: updated\n"
     ]
    },
    {
     "name": "stdout",
     "output_type": "stream",
     "text": [
      "################################### RESULTS ####################################\n"
     ]
    },
    {
     "name": "stderr",
     "output_type": "stream",
     "text": [
      "\n",
      "Filter monomorphic markers\n",
      "Number of individuals / strata / chrom / locus / SNP:\n",
      "    Before: 144 / 4 / 1 / 1917 / 2435\n",
      "    Blacklisted: 0 / 0 / 0 / 0 / 0\n",
      "    After: 144 / 4 / 1 / 1917 / 2435\n",
      "\n",
      "Computation time, overall: 0 sec\n"
     ]
    },
    {
     "name": "stdout",
     "output_type": "stream",
     "text": [
      "######################## filter_monomorphic completed ##########################\n"
     ]
    },
    {
     "name": "stderr",
     "output_type": "stream",
     "text": [
      "\n",
      "Preparing output files...\n",
      "File written: whitelist.markers.tsv\n",
      "Writing the filtered strata: strata.filtered.tsvstrata.filtered.tsv\n",
      "\n",
      "Generating statistics after filtering\n",
      "Generating individual stats...\n",
      "File written: individuals qc info and stats summary\n",
      "File written: individuals qc plot\n",
      "Generating markers stats...\n"
     ]
    },
    {
     "name": "stdout",
     "output_type": "stream",
     "text": [
      "################################### SUMMARY ####################################\n"
     ]
    },
    {
     "name": "stderr",
     "output_type": "stream",
     "text": [
      "\n",
      "\n",
      "Summary (AFTER filtering):\n",
      "Missing data: \n",
      "    markers: 0.05\n",
      "    individuals: 0.05\n",
      "\n",
      "\n",
      "Coverage info:\n",
      "    individuals mean read depth: 25962\n",
      "    individuals mean genotype coverage: 11\n",
      "    markers mean coverage: 11\n",
      "\n",
      "\n",
      "Number of chromosome/contig/scaffold: 1\n",
      "Number of locus: 1917\n",
      "Number of markers: 2435\n",
      "Number of populations: 4\n",
      "Number of individuals: 144\n",
      "\n",
      "Number of ind/pop:\n",
      "ILMB = 44\n",
      "DB = 29\n",
      "FL = 29\n",
      "NB = 42\n",
      "\n",
      "Number of duplicate id: 0\n",
      "radiator Genomic Data Structure (GDS) file: radiator_20191010@1141.gds\n",
      "\n",
      "Computation time, overall: 8 sec\n"
     ]
    },
    {
     "data": {
      "image/png": "[encoded data removed]",
      "text/plain": [
       "plot without title"
      ]
     },
     "metadata": {},
     "output_type": "display_data"
    },
    {
     "name": "stdout",
     "output_type": "stream",
     "text": [
      "############################## completed read_vcf ##############################\n"
     ]
    },
    {
     "data": {
      "image/png": "[encoded data removed]",
      "text/plain": [
       "plot without title"
      ]
     },
     "metadata": {},
     "output_type": "display_data"
    }
   ],
   "source": [
    "%expand\n",
    "data = read_vcf(\"m85-hwPBi-fixed2_98.recode.vcf\", strata = \"../../NFLDB.strata\",\n",
    "        vcf.stats = TRUE, parallel.core = 4, filter.common.markers = F)\n"
   ]
  },
  {
   "cell_type": "code",
   "execution_count": null,
   "metadata": {
    "kernel": "ir"
   },
   "outputs": [],
   "source": [
    "#dataLD = filter_ld(data, interactive.filter = F, filter.short.ld = \"mac\",\n",
    "#  filter.long.ld = 0.7, parallel.core = 4, long.ld.missing = TRUE,\n",
    "#  filename = \"filtered_hwld\")"
   ]
  },
  {
   "cell_type": "code",
   "execution_count": null,
   "metadata": {
    "kernel": "ir"
   },
   "outputs": [],
   "source": [
    "genomic_converter(dataLD, strata=\"../../NFLDB.strata\", \n",
    "                  output = c(\"genind\",\"structure\",\"vcf\"),\n",
    "                 parallel.core = 4, filename = \"hwp3t1ld7\")"
   ]
  },
  {
   "cell_type": "code",
   "execution_count": 303,
   "metadata": {
    "kernel": "bash"
   },
   "outputs": [],
   "source": [
    "%expand\n",
    "module load tabix/0.2.6\n",
    "module load samtools/1.6\n",
    "\n",
    "bgzip {suffix}m85-hwPBi-fixed2_90.recode.vcf \n",
    "tabix -p vcf {suffix}m85-hwPBi-fixed2_90.recode.vcf.gz"
   ]
  },
  {
   "cell_type": "code",
   "execution_count": 304,
   "metadata": {
    "kernel": "bash"
   },
   "outputs": [
    {
     "name": "stdout",
     "output_type": "stream",
     "text": [
      "2809\n"
     ]
    }
   ],
   "source": [
    "%expand\n",
    "module load bcftools/1.3.2\n",
    "\n",
    "bcftools +prune {suffix}m85-hwPBi-fixed2_90.recode.vcf.gz -l 0.2 -n 1 -w 10000 \\\n",
    "-Ov -o {suffix}m85-hwPBi-fixed2_90-thinned.vcf\n",
    "grep -v \"#\" {suffix}m85-hwPBi-fixed2_90-thinned.vcf | wc -l"
   ]
  },
  {
   "cell_type": "code",
   "execution_count": null,
   "metadata": {
    "kernel": "bash"
   },
   "outputs": [],
   "source": []
  },
  {
   "cell_type": "code",
   "execution_count": 305,
   "metadata": {
    "kernel": "ir"
   },
   "outputs": [
    {
     "name": "stderr",
     "output_type": "stream",
     "text": [
      "Execution date@time: 20191010@1654\n",
      "Folder created: read_vcf_20191010@1654\n",
      "Function call and arguments stored in: radiator_read_vcf_args_20191010@1654.tsv\n",
      "File written: random.seed (605520)\n",
      "\n",
      "Reading VCF\n",
      "Data summary: \n",
      "    number of samples: 144\n",
      "    number of markers: 2809\n",
      "done! timing: 5 sec\n",
      "\n",
      "\n",
      "File written: radiator_20191010@1654.gds\n",
      "\n",
      "Analyzing the data...\n",
      "VCF source: Stacks v2.4\n",
      "Data is bi-allelic\n",
      "Cleaning VCF's sample names\n",
      "Synchronizing data and strata...\n",
      "    Number of strata: 4\n",
      "    Number of individuals: 144\n",
      "Reads assembly: de novo\n",
      "Filters parameters file generated: filters_parameters_20191010@1654.tsv\n",
      "Filters parameters file: initiated and updated\n"
     ]
    },
    {
     "name": "stdout",
     "output_type": "stream",
     "text": [
      "################################################################################\n",
      "########################### radiator::filter_monomorphic #######################\n",
      "################################################################################\n"
     ]
    },
    {
     "name": "stderr",
     "output_type": "stream",
     "text": [
      "Execution date@time: 20191010@1654\n",
      "Function call and arguments stored in: radiator_filter_monomorphic_args_20191010@1654.tsv\n",
      "Filters parameters file: initiated\n",
      "File written: whitelist.polymorphic.markers_20191010@1654.tsv\n",
      "Filters parameters file: updated\n"
     ]
    },
    {
     "name": "stdout",
     "output_type": "stream",
     "text": [
      "################################### RESULTS ####################################\n"
     ]
    },
    {
     "name": "stderr",
     "output_type": "stream",
     "text": [
      "\n",
      "Filter monomorphic markers\n",
      "Number of individuals / strata / chrom / locus / SNP:\n",
      "    Before: 144 / 4 / 1 / 2809 / 2809\n",
      "    Blacklisted: 0 / 0 / 0 / 0 / 0\n",
      "    After: 144 / 4 / 1 / 2809 / 2809\n",
      "\n",
      "Computation time, overall: 0 sec\n"
     ]
    },
    {
     "name": "stdout",
     "output_type": "stream",
     "text": [
      "######################## filter_monomorphic completed ##########################\n"
     ]
    },
    {
     "name": "stderr",
     "output_type": "stream",
     "text": [
      "\n",
      "Preparing output files...\n",
      "File written: whitelist.markers.tsv\n",
      "Writing the filtered strata: strata.filtered.tsvstrata.filtered.tsv\n",
      "\n",
      "Generating statistics after filtering\n",
      "Generating individual stats...\n",
      "File written: individuals qc info and stats summary\n",
      "File written: individuals qc plot\n",
      "Generating markers stats...\n"
     ]
    },
    {
     "name": "stdout",
     "output_type": "stream",
     "text": [
      "################################### SUMMARY ####################################\n"
     ]
    },
    {
     "name": "stderr",
     "output_type": "stream",
     "text": [
      "\n",
      "\n",
      "Summary (AFTER filtering):\n",
      "Missing data: \n",
      "    markers: 0.05\n",
      "    individuals: 0.05\n",
      "\n",
      "\n",
      "Coverage info:\n",
      "    individuals mean read depth: 30566\n",
      "    individuals mean genotype coverage: 11\n",
      "    markers mean coverage: 11\n",
      "\n",
      "\n",
      "Number of chromosome/contig/scaffold: 1\n",
      "Number of locus: 2809\n",
      "Number of markers: 2809\n",
      "Number of populations: 4\n",
      "Number of individuals: 144\n",
      "\n",
      "Number of ind/pop:\n",
      "NB = 42\n",
      "DB = 29\n",
      "FL = 29\n",
      "ILMB = 44\n",
      "\n",
      "Number of duplicate id: 0\n",
      "radiator Genomic Data Structure (GDS) file: radiator_20191010@1654.gds\n",
      "\n",
      "Computation time, overall: 11 sec\n"
     ]
    },
    {
     "data": {
      "image/png": "[encoded data removed]",
      "text/plain": [
       "plot without title"
      ]
     },
     "metadata": {},
     "output_type": "display_data"
    },
    {
     "name": "stdout",
     "output_type": "stream",
     "text": [
      "############################## completed read_vcf ##############################\n"
     ]
    },
    {
     "data": {
      "image/png": "[encoded data removed]",
      "text/plain": [
       "plot without title"
      ]
     },
     "metadata": {},
     "output_type": "display_data"
    }
   ],
   "source": [
    "data = read_vcf(\"m85-hwPBi-fixed2_90-thinned.vcf\", strata = \"../../NFLDB.strata\",\n",
    "        vcf.stats = TRUE, parallel.core = 4, filter.common.markers = F,pop.levels=c(\"NB\",\"DB\",\"FL\",\"ILMB\"))\n"
   ]
  },
  {
   "cell_type": "code",
   "execution_count": 306,
   "metadata": {
    "kernel": "ir"
   },
   "outputs": [
    {
     "name": "stdout",
     "output_type": "stream",
     "text": [
      "################################################################################\n",
      "########################## radiator::genomic_converter #########################\n",
      "################################################################################\n"
     ]
    },
    {
     "name": "stderr",
     "output_type": "stream",
     "text": [
      "Execution date@time: 20191010@1654\n",
      "\n",
      "Deprecated arguments identified inside \"...\": \n",
      "    pop.levels\n",
      "\n",
      "Read documentation, for latest changes, and modify your codes!\n",
      "\n",
      "Folder created: 15_radiator_genomic_converter_20191010@1654\n",
      "Function call and arguments stored in: radiator_genomic_converter_args_20191010@1654.tsv\n",
      "Filters parameters file generated: filters_parameters_20191010@1654.tsv\n",
      "\n",
      "Importing data\n",
      "\n",
      "Synchronizing data and strata...\n",
      "    Number of strata: 4\n",
      "    Number of individuals: 144\n",
      "\n",
      "Writing tidy data set:\n",
      "fixed2_90u.rad\n",
      "\n",
      "Preparing data for output\n",
      "\n",
      "Data is bi-allelic\n",
      "Calibrating REF/ALT alleles...\n",
      "    number of REF/ALT switch = 3\n",
      "Generating structure file\n",
      "Generating adegenet genind object\n"
     ]
    },
    {
     "name": "stdout",
     "output_type": "stream",
     "text": [
      "################################### RESULTS ####################################\n"
     ]
    },
    {
     "name": "stderr",
     "output_type": "stream",
     "text": [
      "Data format of input: SeqVarGDSClass\n",
      "Biallelic data\n",
      "Number of markers: 2809\n",
      "Number of chromosome/contig/scaffold: 1\n",
      "Number of strata: 4\n",
      "Number of individuals: 144\n",
      "\n",
      "Computation time, overall: 11 sec\n"
     ]
    },
    {
     "name": "stdout",
     "output_type": "stream",
     "text": [
      "######################### genomic_converter completed ##########################\n"
     ]
    }
   ],
   "source": [
    "outs = genomic_converter(data, strata=\"../../NFLDB.strata\", \n",
    "                  output = c(\"genind\",\"structure\"),\n",
    "                 parallel.core = 4, filename = \"fixed2_90u\",pop.levels=c(\"NB\",\"DB\",\"FL\",\"ILMB\") )"
   ]
  },
  {
   "cell_type": "code",
   "execution_count": 307,
   "metadata": {
    "kernel": "ir"
   },
   "outputs": [
    {
     "data": {
      "text/plain": [
       "/// GENIND OBJECT /////////\n",
       "\n",
       " // 144 individuals; 2,809 loci; 5,618 alleles; size: 4.7 Mb\n",
       "\n",
       " // Basic content\n",
       "   @tab:  144 x 5618 matrix of allele counts\n",
       "   @loc.n.all: number of alleles per locus (range: 2-2)\n",
       "   @loc.fac: locus factor for the 5618 columns of @tab\n",
       "   @all.names: list of allele names for each locus\n",
       "   @ploidy: ploidy of each individual  (range: 2-2)\n",
       "   @type:  codom\n",
       "   @call: radiator::write_genind(data = input, write = TRUE)\n",
       "\n",
       " // Optional content\n",
       "   @pop: population of each individual (group size range: 29-44)\n",
       "   @strata: a data frame with 2 columns ( INDIVIDUALS, POP_ID )"
      ]
     },
     "metadata": {},
     "output_type": "display_data"
    }
   ],
   "source": [
    "outs$genind"
   ]
  },
  {
   "cell_type": "code",
   "execution_count": 308,
   "metadata": {
    "kernel": "ir"
   },
   "outputs": [],
   "source": [
    "d = outs$genind\n",
    "save(d, file=\"fixed2_90u.genind\")"
   ]
  },
  {
   "cell_type": "markdown",
   "metadata": {
    "kernel": "R"
   },
   "source": [
    "### Top markers based on PCA (fixed2_90"
   ]
  },
  {
   "cell_type": "code",
   "execution_count": 3,
   "metadata": {
    "kernel": "bash"
   },
   "outputs": [
    {
     "name": "stdout",
     "output_type": "stream",
     "text": [
      "\n",
      "VCFtools - 0.1.17\n",
      "(C) Adam Auton and Anthony Marcketta 2009\n",
      "\n",
      "Parameters as interpreted:\n",
      "\t--vcf ./maf05mac4het9m3R50_2/Making/m85-hwPBi-fixed2_90-thinned.vcf\n",
      "\t--recode-INFO-all\n",
      "\t--out ./maf05mac4het9m3R50_2/Making/../Analysis/pc12_90-fixed2_90\n",
      "\t--positions ./maf05mac4het9m3R50_2/Making/../Analysis/fixed2_90_pc12_90.positions\n",
      "\t--recode\n",
      "\n",
      "After filtering, kept 144 out of 144 Individuals\n",
      "Outputting VCF file...\n",
      "After filtering, kept 549 out of a possible 2809 Sites\n",
      "Run Time = 1.00 seconds\n"
     ]
    }
   ],
   "source": [
    "%expand\n",
    "module load vcftools/v0.1.17\n",
    "\n",
    "vcftools --vcf {suffix}m85-hwPBi-fixed2_90-thinned.vcf --recode \\\n",
    "--recode-INFO-all --positions {suffix}../Analysis/fixed2_90_pc12_90.positions \\\n",
    "--out {suffix}../Analysis/pc12_90-fixed2_90"
   ]
  },
  {
   "cell_type": "code",
   "execution_count": 6,
   "metadata": {
    "kernel": "ir"
   },
   "outputs": [
    {
     "data": {
      "text/html": [
       "'/gpfs01/home/kes0132/Delta/Stacks_Assembly/MyStacks/maf05mac4het9m3R50_2/Making'"
      ],
      "text/latex": [
       "'/gpfs01/home/kes0132/Delta/Stacks\\_Assembly/MyStacks/maf05mac4het9m3R50\\_2/Making'"
      ],
      "text/markdown": [
       "'/gpfs01/home/kes0132/Delta/Stacks_Assembly/MyStacks/maf05mac4het9m3R50_2/Making'"
      ],
      "text/plain": [
       "[1] \"/gpfs01/home/kes0132/Delta/Stacks_Assembly/MyStacks/maf05mac4het9m3R50_2/Making\""
      ]
     },
     "metadata": {},
     "output_type": "display_data"
    }
   ],
   "source": [
    "getwd()"
   ]
  },
  {
   "cell_type": "code",
   "execution_count": 7,
   "metadata": {
    "kernel": "ir",
    "scrolled": true
   },
   "outputs": [
    {
     "name": "stderr",
     "output_type": "stream",
     "text": [
      "Execution date@time: 20191014@1244\n",
      "Folder created: read_vcf_20191014@1244\n",
      "Function call and arguments stored in: radiator_read_vcf_args_20191014@1244.tsv\n",
      "File written: random.seed (264889)\n",
      "\n",
      "Reading VCF\n",
      "Data summary: \n",
      "    number of samples: 144\n",
      "    number of markers: 549\n",
      "done! timing: 9 sec\n",
      "\n",
      "\n",
      "File written: radiator_20191014@1244.gds\n",
      "\n",
      "Analyzing the data...\n",
      "VCF source: Stacks v2.4\n",
      "Data is bi-allelic\n",
      "Cleaning VCF's sample names\n",
      "Synchronizing data and strata...\n",
      "    Number of strata: 4\n",
      "    Number of individuals: 144\n",
      "Reads assembly: de novo\n",
      "Filters parameters file generated: filters_parameters_20191014@1244.tsv\n",
      "Filters parameters file: initiated and updated\n"
     ]
    },
    {
     "name": "stdout",
     "output_type": "stream",
     "text": [
      "################################################################################\n",
      "########################### radiator::filter_monomorphic #######################\n",
      "################################################################################\n"
     ]
    },
    {
     "name": "stderr",
     "output_type": "stream",
     "text": [
      "Execution date@time: 20191014@1244\n",
      "Function call and arguments stored in: radiator_filter_monomorphic_args_20191014@1244.tsv\n",
      "Filters parameters file: initiated\n",
      "File written: whitelist.polymorphic.markers_20191014@1244.tsv\n",
      "Filters parameters file: updated\n"
     ]
    },
    {
     "name": "stdout",
     "output_type": "stream",
     "text": [
      "################################### RESULTS ####################################\n"
     ]
    },
    {
     "name": "stderr",
     "output_type": "stream",
     "text": [
      "\n",
      "Filter monomorphic markers\n",
      "Number of individuals / strata / chrom / locus / SNP:\n",
      "    Before: 144 / 4 / 1 / 549 / 549\n",
      "    Blacklisted: 0 / 0 / 0 / 0 / 0\n",
      "    After: 144 / 4 / 1 / 549 / 549\n",
      "\n",
      "Computation time, overall: 0 sec\n"
     ]
    },
    {
     "name": "stdout",
     "output_type": "stream",
     "text": [
      "######################## filter_monomorphic completed ##########################\n"
     ]
    },
    {
     "name": "stderr",
     "output_type": "stream",
     "text": [
      "\n",
      "Preparing output files...\n",
      "File written: whitelist.markers.tsv\n",
      "Writing the filtered strata: strata.filtered.tsvstrata.filtered.tsv\n",
      "\n",
      "Generating statistics after filtering\n",
      "Generating individual stats...\n",
      "File written: individuals qc info and stats summary\n",
      "File written: individuals qc plot\n",
      "Generating markers stats...\n"
     ]
    },
    {
     "name": "stdout",
     "output_type": "stream",
     "text": [
      "################################### SUMMARY ####################################\n"
     ]
    },
    {
     "name": "stderr",
     "output_type": "stream",
     "text": [
      "\n",
      "\n",
      "Summary (AFTER filtering):\n",
      "Missing data: \n",
      "    markers: 0.02\n",
      "    individuals: 0.02\n",
      "\n",
      "\n",
      "Coverage info:\n",
      "    individuals mean read depth: 8132\n",
      "    individuals mean genotype coverage: 15\n",
      "    markers mean coverage: 15\n",
      "\n",
      "\n",
      "Number of chromosome/contig/scaffold: 1\n",
      "Number of locus: 549\n",
      "Number of markers: 549\n",
      "Number of populations: 4\n",
      "Number of individuals: 144\n",
      "\n",
      "Number of ind/pop:\n",
      "NB = 42\n",
      "DB = 29\n",
      "FL = 29\n",
      "ILMB = 44\n",
      "\n",
      "Number of duplicate id: 0\n",
      "radiator Genomic Data Structure (GDS) file: radiator_20191014@1244.gds\n",
      "\n",
      "Computation time, overall: 32 sec\n"
     ]
    },
    {
     "data": {
      "image/png": "[encoded data removed]",
      "text/plain": [
       "plot without title"
      ]
     },
     "metadata": {},
     "output_type": "display_data"
    },
    {
     "name": "stdout",
     "output_type": "stream",
     "text": [
      "############################## completed read_vcf ##############################\n"
     ]
    },
    {
     "data": {
      "image/png": "[encoded data removed]",
      "text/plain": [
       "plot without title"
      ]
     },
     "metadata": {},
     "output_type": "display_data"
    }
   ],
   "source": [
    "%expand\n",
    "\n",
    "data = read_vcf(\"../Analysis/pc12_90-fixed2_90.recode.vcf\", strata = \"../../NFLDB.strata\",\n",
    "        vcf.stats = TRUE, parallel.core = 4, filter.common.markers = F, pop.levels=c(\"NB\",\"DB\",\"FL\",\"ILMB\") )\n"
   ]
  },
  {
   "cell_type": "code",
   "execution_count": 8,
   "metadata": {
    "kernel": "ir"
   },
   "outputs": [
    {
     "name": "stdout",
     "output_type": "stream",
     "text": [
      "################################################################################\n",
      "########################## radiator::genomic_converter #########################\n",
      "################################################################################\n"
     ]
    },
    {
     "name": "stderr",
     "output_type": "stream",
     "text": [
      "Execution date@time: 20191014@1244\n",
      "\n",
      "Deprecated arguments identified inside \"...\": \n",
      "    pop.levels\n",
      "\n",
      "Read documentation, for latest changes, and modify your codes!\n",
      "\n",
      "Folder created: 19_radiator_genomic_converter_20191014@1244\n",
      "Function call and arguments stored in: radiator_genomic_converter_args_20191014@1244.tsv\n",
      "Filters parameters file generated: filters_parameters_20191014@1244.tsv\n",
      "\n",
      "Importing data\n",
      "\n",
      "Synchronizing data and strata...\n",
      "    Number of strata: 4\n",
      "    Number of individuals: 144\n",
      "\n",
      "Writing tidy data set:\n",
      "pc12_90-fixed2_90.rad\n",
      "\n",
      "Preparing data for output\n",
      "\n",
      "Data is bi-allelic\n",
      "Calibrating REF/ALT alleles...\n",
      "    number of REF/ALT switch = 0\n",
      "Generating structure file\n",
      "Generating adegenet genind object\n"
     ]
    },
    {
     "name": "stdout",
     "output_type": "stream",
     "text": [
      "################################### RESULTS ####################################\n"
     ]
    },
    {
     "name": "stderr",
     "output_type": "stream",
     "text": [
      "Data format of input: SeqVarGDSClass\n",
      "Biallelic data\n",
      "Number of markers: 549\n",
      "Number of chromosome/contig/scaffold: 1\n",
      "Number of strata: 4\n",
      "Number of individuals: 144\n",
      "\n",
      "Computation time, overall: 4 sec\n"
     ]
    },
    {
     "name": "stdout",
     "output_type": "stream",
     "text": [
      "######################### genomic_converter completed ##########################\n"
     ]
    }
   ],
   "source": [
    "outs = genomic_converter(data, strata=\"../../NFLDB.strata\", \n",
    "                  output = c(\"genind\",\"structure\"),\n",
    "                 parallel.core = 4, filename = \"pc12_90-fixed2_90\",pop.levels=c(\"NB\",\"DB\",\"FL\",\"ILMB\"))"
   ]
  },
  {
   "cell_type": "code",
   "execution_count": 9,
   "metadata": {
    "kernel": "ir"
   },
   "outputs": [
    {
     "data": {
      "text/plain": [
       "/// GENIND OBJECT /////////\n",
       "\n",
       " // 144 individuals; 549 loci; 1,098 alleles; size: 977.9 Kb\n",
       "\n",
       " // Basic content\n",
       "   @tab:  144 x 1098 matrix of allele counts\n",
       "   @loc.n.all: number of alleles per locus (range: 2-2)\n",
       "   @loc.fac: locus factor for the 1098 columns of @tab\n",
       "   @all.names: list of allele names for each locus\n",
       "   @ploidy: ploidy of each individual  (range: 2-2)\n",
       "   @type:  codom\n",
       "   @call: radiator::write_genind(data = input, write = TRUE)\n",
       "\n",
       " // Optional content\n",
       "   @pop: population of each individual (group size range: 29-44)\n",
       "   @strata: a data frame with 2 columns ( INDIVIDUALS, POP_ID )"
      ]
     },
     "metadata": {},
     "output_type": "display_data"
    }
   ],
   "source": [
    "outs$genind"
   ]
  },
  {
   "cell_type": "code",
   "execution_count": 10,
   "metadata": {
    "kernel": "ir"
   },
   "outputs": [],
   "source": [
    "d = outs$genind\n",
    "save(d, file=\"../Analysis/pc12_90-fixed2_90.genind\")"
   ]
  },
  {
   "cell_type": "markdown",
   "metadata": {
    "kernel": "R"
   },
   "source": [
    "### Top markers based on PCA w/intergrades (fixed2_90)"
   ]
  },
  {
   "cell_type": "code",
   "execution_count": 1,
   "metadata": {
    "kernel": "bash"
   },
   "outputs": [
    {
     "name": "stderr",
     "output_type": "stream",
     "text": [
      "Use of %expand magic in SoS cells is deprecated.\n",
      "Failed to interpolate module load vcftools/v0.1.17\n",
      "\n",
      "vcftools --vcf {suffix}m85-hwPBi-fixed2_90-thinned.vcf --recode \\\n",
      "--recode-INFO-all --positions {suffix}../Analysis/fixed2_90_pc12_90_int.positions \\\n",
      "--out {suffix}../Analysis/pc12_90-fixed2_90-int: name 'suffix' is not defined\n"
     ]
    }
   ],
   "source": [
    "%expand\n",
    "module load vcftools/v0.1.17\n",
    "\n",
    "vcftools --vcf {suffix}m85-hwPBi-fixed2_90-thinned.vcf --recode \\\n",
    "--recode-INFO-all --positions {suffix}../Analysis/fixed2_90_pc12_90_int.positions \\\n",
    "--out {suffix}../Analysis/pc12_90-fixed2_90-int"
   ]
  },
  {
   "cell_type": "code",
   "execution_count": 6,
   "metadata": {
    "kernel": "ir"
   },
   "outputs": [
    {
     "data": {
      "text/html": [
       "'/gpfs01/home/kes0132/Delta/Stacks_Assembly/MyStacks'"
      ],
      "text/latex": [
       "'/gpfs01/home/kes0132/Delta/Stacks\\_Assembly/MyStacks'"
      ],
      "text/markdown": [
       "'/gpfs01/home/kes0132/Delta/Stacks_Assembly/MyStacks'"
      ],
      "text/plain": [
       "[1] \"/gpfs01/home/kes0132/Delta/Stacks_Assembly/MyStacks\""
      ]
     },
     "metadata": {},
     "output_type": "display_data"
    }
   ],
   "source": [
    "getwd()"
   ]
  },
  {
   "cell_type": "code",
   "execution_count": 10,
   "metadata": {
    "kernel": "ir",
    "scrolled": true
   },
   "outputs": [
    {
     "name": "stderr",
     "output_type": "stream",
     "text": [
      "Execution date@time: 20191018@1404\n",
      "Folder created: read_vcf_20191018@1404\n",
      "Function call and arguments stored in: radiator_read_vcf_args_20191018@1404.tsv\n",
      "File written: random.seed (763480)\n",
      "\n",
      "Reading VCF\n",
      "Data summary: \n",
      "    number of samples: 144\n",
      "    number of markers: 562\n",
      "done! timing: 8 sec\n",
      "\n",
      "\n",
      "File written: radiator_20191018@1404.gds\n",
      "\n",
      "Analyzing the data...\n",
      "VCF source: Stacks v2.4\n",
      "Data is bi-allelic\n",
      "Cleaning VCF's sample names\n",
      "Synchronizing data and strata...\n",
      "    Number of strata: 4\n",
      "    Number of individuals: 144\n",
      "Reads assembly: reference-assisted\n",
      "Filters parameters file generated: filters_parameters_20191018@1404.tsv\n",
      "Filters parameters file: initiated and updated\n"
     ]
    },
    {
     "name": "stdout",
     "output_type": "stream",
     "text": [
      "################################################################################\n",
      "########################### radiator::filter_monomorphic #######################\n",
      "################################################################################\n"
     ]
    },
    {
     "name": "stderr",
     "output_type": "stream",
     "text": [
      "Execution date@time: 20191018@1404\n",
      "Function call and arguments stored in: radiator_filter_monomorphic_args_20191018@1404.tsv\n",
      "Filters parameters file: initiated\n",
      "File written: whitelist.polymorphic.markers_20191018@1404.tsv\n",
      "Filters parameters file: updated\n"
     ]
    },
    {
     "name": "stdout",
     "output_type": "stream",
     "text": [
      "################################### RESULTS ####################################\n"
     ]
    },
    {
     "name": "stderr",
     "output_type": "stream",
     "text": [
      "\n",
      "Filter monomorphic markers\n",
      "Number of individuals / strata / chrom / locus / SNP:\n",
      "    Before: 144 / 4 / 562 / 562 / 562\n",
      "    Blacklisted: 0 / 0 / 0 / 0 / 0\n",
      "    After: 144 / 4 / 562 / 562 / 562\n",
      "\n",
      "Computation time, overall: 0 sec\n"
     ]
    },
    {
     "name": "stdout",
     "output_type": "stream",
     "text": [
      "######################## filter_monomorphic completed ##########################\n"
     ]
    },
    {
     "name": "stderr",
     "output_type": "stream",
     "text": [
      "\n",
      "Preparing output files...\n",
      "File written: whitelist.markers.tsv\n",
      "Writing the filtered strata: strata.filtered.tsvstrata.filtered.tsv\n",
      "\n",
      "Generating statistics after filtering\n",
      "Generating individual stats...\n",
      "File written: individuals qc info and stats summary\n",
      "File written: individuals qc plot\n",
      "Generating markers stats...\n"
     ]
    },
    {
     "name": "stdout",
     "output_type": "stream",
     "text": [
      "################################### SUMMARY ####################################\n"
     ]
    },
    {
     "name": "stderr",
     "output_type": "stream",
     "text": [
      "\n",
      "\n",
      "Summary (AFTER filtering):\n",
      "Missing data: \n",
      "    markers: 0.02\n",
      "    individuals: 0.02\n",
      "\n",
      "\n",
      "Coverage info:\n",
      "    individuals mean read depth: 7949\n",
      "    individuals mean genotype coverage: 14\n",
      "    markers mean coverage: 14\n",
      "\n",
      "\n",
      "Number of chromosome/contig/scaffold: 562\n",
      "Number of locus: 562\n",
      "Number of markers: 562\n",
      "Number of populations: 4\n",
      "Number of individuals: 144\n",
      "\n",
      "Number of ind/pop:\n",
      "NB = 42\n",
      "DB = 29\n",
      "FL = 29\n",
      "ILMB = 44\n",
      "\n",
      "Number of duplicate id: 0\n",
      "radiator Genomic Data Structure (GDS) file: radiator_20191018@1404.gds\n",
      "\n",
      "Computation time, overall: 27 sec\n"
     ]
    },
    {
     "data": {
      "image/png": "[encoded data removed]",
      "text/plain": [
       "plot without title"
      ]
     },
     "metadata": {},
     "output_type": "display_data"
    },
    {
     "name": "stdout",
     "output_type": "stream",
     "text": [
      "############################## completed read_vcf ##############################\n"
     ]
    },
    {
     "data": {
      "image/png": "[encoded data removed]",
      "text/plain": [
       "plot without title"
      ]
     },
     "metadata": {},
     "output_type": "display_data"
    }
   ],
   "source": [
    "%expand\n",
    "#setwd(\"{suffix}\")\n",
    "data = read_vcf(\"../Analysis/pc12_90-fixed2_90-int.recode.vcf\", strata = \"../../NFLDB.strata\",\n",
    "        vcf.stats = TRUE, parallel.core = 4, filter.common.markers = F, pop.levels=c(\"NB\",\"DB\",\"FL\",\"ILMB\"),  )\n"
   ]
  },
  {
   "cell_type": "code",
   "execution_count": 11,
   "metadata": {
    "kernel": "ir"
   },
   "outputs": [
    {
     "name": "stdout",
     "output_type": "stream",
     "text": [
      "################################################################################\n",
      "########################## radiator::genomic_converter #########################\n",
      "################################################################################\n"
     ]
    },
    {
     "name": "stderr",
     "output_type": "stream",
     "text": [
      "Execution date@time: 20191018@1405\n",
      "\n",
      "Deprecated arguments identified inside \"...\": \n",
      "    pop.levels\n",
      "\n",
      "Read documentation, for latest changes, and modify your codes!\n",
      "\n",
      "Folder created: 21_radiator_genomic_converter_20191018@1405\n",
      "Function call and arguments stored in: radiator_genomic_converter_args_20191018@1405.tsv\n",
      "Filters parameters file generated: filters_parameters_20191018@1405.tsv\n",
      "\n",
      "Importing data\n",
      "\n",
      "Synchronizing data and strata...\n",
      "    Number of strata: 4\n",
      "    Number of individuals: 144\n",
      "\n",
      "Writing tidy data set:\n",
      "pc12_90-fixed2_90-int.rad\n",
      "\n",
      "Preparing data for output\n",
      "\n",
      "Data is bi-allelic\n",
      "Calibrating REF/ALT alleles...\n",
      "    number of REF/ALT switch = 0\n",
      "Generating structure file\n",
      "Generating adegenet genind object\n"
     ]
    },
    {
     "name": "stdout",
     "output_type": "stream",
     "text": [
      "################################### RESULTS ####################################\n"
     ]
    },
    {
     "name": "stderr",
     "output_type": "stream",
     "text": [
      "Data format of input: SeqVarGDSClass\n",
      "Biallelic data\n",
      "Number of markers: 562\n",
      "Number of chromosome/contig/scaffold: 562\n",
      "Number of strata: 4\n",
      "Number of individuals: 144\n",
      "\n",
      "Computation time, overall: 16 sec\n"
     ]
    },
    {
     "name": "stdout",
     "output_type": "stream",
     "text": [
      "######################### genomic_converter completed ##########################\n"
     ]
    }
   ],
   "source": [
    "outs = genomic_converter(data, strata=\"../../NFLDB.strata\", \n",
    "                  output = c(\"genind\",\"structure\"),\n",
    "                 parallel.core = 4, filename = \"pc12_90-fixed2_90-int\",pop.levels=c(\"NB\",\"DB\",\"FL\",\"ILMB\"))"
   ]
  },
  {
   "cell_type": "code",
   "execution_count": 12,
   "metadata": {
    "kernel": "ir"
   },
   "outputs": [
    {
     "data": {
      "text/plain": [
       "/// GENIND OBJECT /////////\n",
       "\n",
       " // 144 individuals; 562 loci; 1,124 alleles; size: 1017.6 Kb\n",
       "\n",
       " // Basic content\n",
       "   @tab:  144 x 1124 matrix of allele counts\n",
       "   @loc.n.all: number of alleles per locus (range: 2-2)\n",
       "   @loc.fac: locus factor for the 1124 columns of @tab\n",
       "   @all.names: list of allele names for each locus\n",
       "   @ploidy: ploidy of each individual  (range: 2-2)\n",
       "   @type:  codom\n",
       "   @call: radiator::write_genind(data = input, write = TRUE)\n",
       "\n",
       " // Optional content\n",
       "   @pop: population of each individual (group size range: 29-44)\n",
       "   @strata: a data frame with 2 columns ( INDIVIDUALS, POP_ID )"
      ]
     },
     "metadata": {},
     "output_type": "display_data"
    }
   ],
   "source": [
    "outs$genind"
   ]
  },
  {
   "cell_type": "code",
   "execution_count": 13,
   "metadata": {
    "kernel": "ir"
   },
   "outputs": [],
   "source": [
    "d = outs$genind\n",
    "save(d, file=\"../Analysis/pc12_90-fixed2_90-int.genind\")"
   ]
  },
  {
   "cell_type": "markdown",
   "metadata": {
    "kernel": "bash"
   },
   "source": [
    "## Fixed within individual pops"
   ]
  },
  {
   "cell_type": "code",
   "execution_count": 233,
   "metadata": {
    "kernel": "Python3"
   },
   "outputs": [],
   "source": [
    "import pandas as pd\n",
    "infile =\"./maf05mac4het9m3R50_2/populations.sumstats.tsv\"\n",
    "\n",
    "IN = pd.read_table(infile,header=4)"
   ]
  },
  {
   "cell_type": "code",
   "execution_count": 141,
   "metadata": {
    "kernel": "Python3"
   },
   "outputs": [
    {
     "data": {
      "text/plain": [
       "# Locus ID                int64\n",
       "Chr                       int64\n",
       "BP                        int64\n",
       "Col                       int64\n",
       "Pop ID                   object\n",
       "P Nuc                    object\n",
       "Q Nuc                    object\n",
       "N                         int64\n",
       "P                       float64\n",
       "Obs Het                 float64\n",
       "Obs Hom                 float64\n",
       "Exp Het                 float64\n",
       "Exp Hom                 float64\n",
       "Pi                      float64\n",
       "Smoothed Pi             float64\n",
       "Smoothed Pi P-value     float64\n",
       "Fis                     float64\n",
       "Smoothed Fis            float64\n",
       "Smoothed Fis P-value    float64\n",
       "HWE P-value             float64\n",
       "Private                   int64\n",
       "dtype: object"
      ]
     },
     "execution_count": 141,
     "metadata": {},
     "output_type": "execute_result"
    }
   ],
   "source": [
    "IN.dtypes"
   ]
  },
  {
   "cell_type": "markdown",
   "metadata": {
    "kernel": "Python3"
   },
   "source": [
    "### fixed between DB and NB"
   ]
  },
  {
   "cell_type": "code",
   "execution_count": 234,
   "metadata": {
    "kernel": "Python3"
   },
   "outputs": [],
   "source": [
    "# fixed between DB and NB\n",
    "fixed = IN[(IN['P'] >0.98) & ((IN['Pop ID'] == \"NB\") | (IN['Pop ID'] == \"DB\"))]"
   ]
  },
  {
   "cell_type": "code",
   "execution_count": 235,
   "metadata": {
    "kernel": "Python3"
   },
   "outputs": [],
   "source": [
    "check = []\n",
    "for row in fixed.itertuples(index=True):\n",
    "    if (row._1,row.Chr,row.BP) not in check:\n",
    "        check.append((row._1,row.Chr,row.BP))\n",
    "\n",
    "x = IN[IN[[\"# Locus ID\",\"Chr\",\"BP\"]].apply(tuple, 1).isin(check)]\n",
    "x = x[(x['Pop ID'] == \"DB\") | (x['Pop ID'] == \"NB\")]   \n",
    "\n"
   ]
  },
  {
   "cell_type": "code",
   "execution_count": 236,
   "metadata": {
    "kernel": "Python3"
   },
   "outputs": [],
   "source": [
    "check =[]\n",
    "goodLoc = []\n",
    "for row in x.itertuples(index=True):\n",
    "    if row.P < 0.02:\n",
    "        if (row._1,row.Chr,row.BP) not in check:\n",
    "            check.append((row._1,row.Chr,row.BP))\n",
    "            if (row.Chr,row.BP) not in goodLoc:\n",
    "                goodLoc.append((row.Chr,row.BP))"
   ]
  },
  {
   "cell_type": "code",
   "execution_count": 237,
   "metadata": {
    "kernel": "Python3"
   },
   "outputs": [],
   "source": [
    "y = IN[IN[[\"Chr\",\"BP\"]].apply(tuple, 1).isin(goodLoc)]"
   ]
  },
  {
   "cell_type": "code",
   "execution_count": 238,
   "metadata": {
    "kernel": "Python3"
   },
   "outputs": [
    {
     "data": {
      "text/html": [
       "<div>\n",
       "<style scoped>\n",
       "    .dataframe tbody tr th:only-of-type {\n",
       "        vertical-align: middle;\n",
       "    }\n",
       "\n",
       "    .dataframe tbody tr th {\n",
       "        vertical-align: top;\n",
       "    }\n",
       "\n",
       "    .dataframe thead th {\n",
       "        text-align: right;\n",
       "    }\n",
       "</style>\n",
       "<table border=\"1\" class=\"dataframe\">\n",
       "  <thead>\n",
       "    <tr style=\"text-align: right;\">\n",
       "      <th></th>\n",
       "      <th># Locus ID</th>\n",
       "      <th>Chr</th>\n",
       "      <th>BP</th>\n",
       "      <th>Col</th>\n",
       "      <th>Pop ID</th>\n",
       "      <th>P Nuc</th>\n",
       "      <th>Q Nuc</th>\n",
       "      <th>N</th>\n",
       "      <th>P</th>\n",
       "      <th>Obs Het</th>\n",
       "      <th>...</th>\n",
       "      <th>Exp Het</th>\n",
       "      <th>Exp Hom</th>\n",
       "      <th>Pi</th>\n",
       "      <th>Smoothed Pi</th>\n",
       "      <th>Smoothed Pi P-value</th>\n",
       "      <th>Fis</th>\n",
       "      <th>Smoothed Fis</th>\n",
       "      <th>Smoothed Fis P-value</th>\n",
       "      <th>HWE P-value</th>\n",
       "      <th>Private</th>\n",
       "    </tr>\n",
       "  </thead>\n",
       "  <tbody>\n",
       "    <tr>\n",
       "      <td>139</td>\n",
       "      <td>436</td>\n",
       "      <td>38</td>\n",
       "      <td>5204</td>\n",
       "      <td>61</td>\n",
       "      <td>ILMB</td>\n",
       "      <td>G</td>\n",
       "      <td>C</td>\n",
       "      <td>43</td>\n",
       "      <td>0.848837</td>\n",
       "      <td>0.20930</td>\n",
       "      <td>...</td>\n",
       "      <td>0.25663</td>\n",
       "      <td>0.74337</td>\n",
       "      <td>0.25964</td>\n",
       "      <td>0.00139</td>\n",
       "      <td>0.0</td>\n",
       "      <td>0.19389</td>\n",
       "      <td>0.19389</td>\n",
       "      <td>0.0</td>\n",
       "      <td>0.22263</td>\n",
       "      <td>0</td>\n",
       "    </tr>\n",
       "    <tr>\n",
       "      <td>140</td>\n",
       "      <td>436</td>\n",
       "      <td>38</td>\n",
       "      <td>5204</td>\n",
       "      <td>61</td>\n",
       "      <td>DB</td>\n",
       "      <td>G</td>\n",
       "      <td>-</td>\n",
       "      <td>26</td>\n",
       "      <td>1.000000</td>\n",
       "      <td>0.00000</td>\n",
       "      <td>...</td>\n",
       "      <td>0.00000</td>\n",
       "      <td>1.00000</td>\n",
       "      <td>0.00000</td>\n",
       "      <td>0.00000</td>\n",
       "      <td>0.0</td>\n",
       "      <td>0.00000</td>\n",
       "      <td>0.00000</td>\n",
       "      <td>0.0</td>\n",
       "      <td>1.00000</td>\n",
       "      <td>0</td>\n",
       "    </tr>\n",
       "    <tr>\n",
       "      <td>141</td>\n",
       "      <td>436</td>\n",
       "      <td>38</td>\n",
       "      <td>5204</td>\n",
       "      <td>61</td>\n",
       "      <td>FL</td>\n",
       "      <td>G</td>\n",
       "      <td>-</td>\n",
       "      <td>27</td>\n",
       "      <td>1.000000</td>\n",
       "      <td>0.00000</td>\n",
       "      <td>...</td>\n",
       "      <td>0.00000</td>\n",
       "      <td>1.00000</td>\n",
       "      <td>0.00000</td>\n",
       "      <td>0.00000</td>\n",
       "      <td>0.0</td>\n",
       "      <td>0.00000</td>\n",
       "      <td>0.00000</td>\n",
       "      <td>0.0</td>\n",
       "      <td>1.00000</td>\n",
       "      <td>0</td>\n",
       "    </tr>\n",
       "    <tr>\n",
       "      <td>142</td>\n",
       "      <td>436</td>\n",
       "      <td>38</td>\n",
       "      <td>5204</td>\n",
       "      <td>61</td>\n",
       "      <td>NB</td>\n",
       "      <td>G</td>\n",
       "      <td>C</td>\n",
       "      <td>30</td>\n",
       "      <td>0.016667</td>\n",
       "      <td>0.03333</td>\n",
       "      <td>...</td>\n",
       "      <td>0.03278</td>\n",
       "      <td>0.96722</td>\n",
       "      <td>0.03333</td>\n",
       "      <td>0.00013</td>\n",
       "      <td>0.0</td>\n",
       "      <td>-0.00000</td>\n",
       "      <td>-0.00000</td>\n",
       "      <td>0.0</td>\n",
       "      <td>1.00000</td>\n",
       "      <td>0</td>\n",
       "    </tr>\n",
       "    <tr>\n",
       "      <td>2516</td>\n",
       "      <td>8235</td>\n",
       "      <td>2000</td>\n",
       "      <td>3888</td>\n",
       "      <td>26</td>\n",
       "      <td>ILMB</td>\n",
       "      <td>G</td>\n",
       "      <td>C</td>\n",
       "      <td>44</td>\n",
       "      <td>0.761364</td>\n",
       "      <td>0.34091</td>\n",
       "      <td>...</td>\n",
       "      <td>0.36338</td>\n",
       "      <td>0.63662</td>\n",
       "      <td>0.36755</td>\n",
       "      <td>0.00257</td>\n",
       "      <td>0.0</td>\n",
       "      <td>0.07249</td>\n",
       "      <td>0.07249</td>\n",
       "      <td>0.0</td>\n",
       "      <td>0.68278</td>\n",
       "      <td>0</td>\n",
       "    </tr>\n",
       "    <tr>\n",
       "      <td>2517</td>\n",
       "      <td>8235</td>\n",
       "      <td>2000</td>\n",
       "      <td>3888</td>\n",
       "      <td>26</td>\n",
       "      <td>DB</td>\n",
       "      <td>G</td>\n",
       "      <td>C</td>\n",
       "      <td>28</td>\n",
       "      <td>0.982143</td>\n",
       "      <td>0.03571</td>\n",
       "      <td>...</td>\n",
       "      <td>0.03508</td>\n",
       "      <td>0.96492</td>\n",
       "      <td>0.03571</td>\n",
       "      <td>0.00024</td>\n",
       "      <td>0.0</td>\n",
       "      <td>-0.00000</td>\n",
       "      <td>-0.00000</td>\n",
       "      <td>0.0</td>\n",
       "      <td>1.00000</td>\n",
       "      <td>0</td>\n",
       "    </tr>\n",
       "    <tr>\n",
       "      <td>2518</td>\n",
       "      <td>8235</td>\n",
       "      <td>2000</td>\n",
       "      <td>3888</td>\n",
       "      <td>26</td>\n",
       "      <td>FL</td>\n",
       "      <td>G</td>\n",
       "      <td>-</td>\n",
       "      <td>29</td>\n",
       "      <td>1.000000</td>\n",
       "      <td>0.00000</td>\n",
       "      <td>...</td>\n",
       "      <td>0.00000</td>\n",
       "      <td>1.00000</td>\n",
       "      <td>0.00000</td>\n",
       "      <td>0.00000</td>\n",
       "      <td>0.0</td>\n",
       "      <td>0.00000</td>\n",
       "      <td>0.00000</td>\n",
       "      <td>0.0</td>\n",
       "      <td>1.00000</td>\n",
       "      <td>0</td>\n",
       "    </tr>\n",
       "    <tr>\n",
       "      <td>2519</td>\n",
       "      <td>8235</td>\n",
       "      <td>2000</td>\n",
       "      <td>3888</td>\n",
       "      <td>26</td>\n",
       "      <td>NB</td>\n",
       "      <td>-</td>\n",
       "      <td>C</td>\n",
       "      <td>40</td>\n",
       "      <td>0.000000</td>\n",
       "      <td>0.00000</td>\n",
       "      <td>...</td>\n",
       "      <td>0.00000</td>\n",
       "      <td>1.00000</td>\n",
       "      <td>0.00000</td>\n",
       "      <td>0.00000</td>\n",
       "      <td>0.0</td>\n",
       "      <td>0.00000</td>\n",
       "      <td>0.00000</td>\n",
       "      <td>0.0</td>\n",
       "      <td>1.00000</td>\n",
       "      <td>0</td>\n",
       "    </tr>\n",
       "    <tr>\n",
       "      <td>3012</td>\n",
       "      <td>9348</td>\n",
       "      <td>2494</td>\n",
       "      <td>8233</td>\n",
       "      <td>50</td>\n",
       "      <td>ILMB</td>\n",
       "      <td>C</td>\n",
       "      <td>-</td>\n",
       "      <td>28</td>\n",
       "      <td>1.000000</td>\n",
       "      <td>0.00000</td>\n",
       "      <td>...</td>\n",
       "      <td>0.00000</td>\n",
       "      <td>1.00000</td>\n",
       "      <td>0.00000</td>\n",
       "      <td>0.00000</td>\n",
       "      <td>0.0</td>\n",
       "      <td>0.00000</td>\n",
       "      <td>0.00000</td>\n",
       "      <td>0.0</td>\n",
       "      <td>1.00000</td>\n",
       "      <td>0</td>\n",
       "    </tr>\n",
       "    <tr>\n",
       "      <td>3013</td>\n",
       "      <td>9348</td>\n",
       "      <td>2494</td>\n",
       "      <td>8233</td>\n",
       "      <td>50</td>\n",
       "      <td>DB</td>\n",
       "      <td>-</td>\n",
       "      <td>A</td>\n",
       "      <td>7</td>\n",
       "      <td>0.000000</td>\n",
       "      <td>0.00000</td>\n",
       "      <td>...</td>\n",
       "      <td>0.00000</td>\n",
       "      <td>1.00000</td>\n",
       "      <td>0.00000</td>\n",
       "      <td>0.00000</td>\n",
       "      <td>0.0</td>\n",
       "      <td>0.00000</td>\n",
       "      <td>0.00000</td>\n",
       "      <td>0.0</td>\n",
       "      <td>1.00000</td>\n",
       "      <td>1</td>\n",
       "    </tr>\n",
       "    <tr>\n",
       "      <td>3014</td>\n",
       "      <td>9348</td>\n",
       "      <td>2494</td>\n",
       "      <td>8233</td>\n",
       "      <td>50</td>\n",
       "      <td>FL</td>\n",
       "      <td>C</td>\n",
       "      <td>-</td>\n",
       "      <td>28</td>\n",
       "      <td>1.000000</td>\n",
       "      <td>0.00000</td>\n",
       "      <td>...</td>\n",
       "      <td>0.00000</td>\n",
       "      <td>1.00000</td>\n",
       "      <td>0.00000</td>\n",
       "      <td>0.00000</td>\n",
       "      <td>0.0</td>\n",
       "      <td>0.00000</td>\n",
       "      <td>0.00000</td>\n",
       "      <td>0.0</td>\n",
       "      <td>1.00000</td>\n",
       "      <td>0</td>\n",
       "    </tr>\n",
       "    <tr>\n",
       "      <td>3015</td>\n",
       "      <td>9348</td>\n",
       "      <td>2494</td>\n",
       "      <td>8233</td>\n",
       "      <td>50</td>\n",
       "      <td>NB</td>\n",
       "      <td>C</td>\n",
       "      <td>-</td>\n",
       "      <td>38</td>\n",
       "      <td>1.000000</td>\n",
       "      <td>0.00000</td>\n",
       "      <td>...</td>\n",
       "      <td>0.00000</td>\n",
       "      <td>1.00000</td>\n",
       "      <td>0.00000</td>\n",
       "      <td>0.00000</td>\n",
       "      <td>0.0</td>\n",
       "      <td>0.00000</td>\n",
       "      <td>0.00000</td>\n",
       "      <td>0.0</td>\n",
       "      <td>1.00000</td>\n",
       "      <td>0</td>\n",
       "    </tr>\n",
       "    <tr>\n",
       "      <td>3616</td>\n",
       "      <td>11543</td>\n",
       "      <td>3604</td>\n",
       "      <td>274</td>\n",
       "      <td>13</td>\n",
       "      <td>ILMB</td>\n",
       "      <td>G</td>\n",
       "      <td>A</td>\n",
       "      <td>38</td>\n",
       "      <td>0.934211</td>\n",
       "      <td>0.02632</td>\n",
       "      <td>...</td>\n",
       "      <td>0.12292</td>\n",
       "      <td>0.87708</td>\n",
       "      <td>0.12456</td>\n",
       "      <td>0.00040</td>\n",
       "      <td>0.0</td>\n",
       "      <td>0.78873</td>\n",
       "      <td>0.78873</td>\n",
       "      <td>0.0</td>\n",
       "      <td>0.00274</td>\n",
       "      <td>0</td>\n",
       "    </tr>\n",
       "    <tr>\n",
       "      <td>3617</td>\n",
       "      <td>11543</td>\n",
       "      <td>3604</td>\n",
       "      <td>274</td>\n",
       "      <td>13</td>\n",
       "      <td>DB</td>\n",
       "      <td>-</td>\n",
       "      <td>A</td>\n",
       "      <td>17</td>\n",
       "      <td>0.000000</td>\n",
       "      <td>0.00000</td>\n",
       "      <td>...</td>\n",
       "      <td>0.00000</td>\n",
       "      <td>1.00000</td>\n",
       "      <td>0.00000</td>\n",
       "      <td>0.00000</td>\n",
       "      <td>0.0</td>\n",
       "      <td>0.00000</td>\n",
       "      <td>0.00000</td>\n",
       "      <td>0.0</td>\n",
       "      <td>1.00000</td>\n",
       "      <td>0</td>\n",
       "    </tr>\n",
       "    <tr>\n",
       "      <td>3618</td>\n",
       "      <td>11543</td>\n",
       "      <td>3604</td>\n",
       "      <td>274</td>\n",
       "      <td>13</td>\n",
       "      <td>FL</td>\n",
       "      <td>G</td>\n",
       "      <td>-</td>\n",
       "      <td>29</td>\n",
       "      <td>1.000000</td>\n",
       "      <td>0.00000</td>\n",
       "      <td>...</td>\n",
       "      <td>0.00000</td>\n",
       "      <td>1.00000</td>\n",
       "      <td>0.00000</td>\n",
       "      <td>0.00000</td>\n",
       "      <td>0.0</td>\n",
       "      <td>0.00000</td>\n",
       "      <td>0.00000</td>\n",
       "      <td>0.0</td>\n",
       "      <td>1.00000</td>\n",
       "      <td>0</td>\n",
       "    </tr>\n",
       "  </tbody>\n",
       "</table>\n",
       "<p>15 rows × 21 columns</p>\n",
       "</div>"
      ],
      "text/plain": [
       "      # Locus ID   Chr    BP  Col Pop ID P Nuc Q Nuc   N         P  Obs Het  \\\n",
       "139          436    38  5204   61   ILMB     G     C  43  0.848837  0.20930   \n",
       "140          436    38  5204   61     DB     G     -  26  1.000000  0.00000   \n",
       "141          436    38  5204   61     FL     G     -  27  1.000000  0.00000   \n",
       "142          436    38  5204   61     NB     G     C  30  0.016667  0.03333   \n",
       "2516        8235  2000  3888   26   ILMB     G     C  44  0.761364  0.34091   \n",
       "2517        8235  2000  3888   26     DB     G     C  28  0.982143  0.03571   \n",
       "2518        8235  2000  3888   26     FL     G     -  29  1.000000  0.00000   \n",
       "2519        8235  2000  3888   26     NB     -     C  40  0.000000  0.00000   \n",
       "3012        9348  2494  8233   50   ILMB     C     -  28  1.000000  0.00000   \n",
       "3013        9348  2494  8233   50     DB     -     A   7  0.000000  0.00000   \n",
       "3014        9348  2494  8233   50     FL     C     -  28  1.000000  0.00000   \n",
       "3015        9348  2494  8233   50     NB     C     -  38  1.000000  0.00000   \n",
       "3616       11543  3604   274   13   ILMB     G     A  38  0.934211  0.02632   \n",
       "3617       11543  3604   274   13     DB     -     A  17  0.000000  0.00000   \n",
       "3618       11543  3604   274   13     FL     G     -  29  1.000000  0.00000   \n",
       "\n",
       "      ...  Exp Het  Exp Hom       Pi  Smoothed Pi  Smoothed Pi P-value  \\\n",
       "139   ...  0.25663  0.74337  0.25964      0.00139                  0.0   \n",
       "140   ...  0.00000  1.00000  0.00000      0.00000                  0.0   \n",
       "141   ...  0.00000  1.00000  0.00000      0.00000                  0.0   \n",
       "142   ...  0.03278  0.96722  0.03333      0.00013                  0.0   \n",
       "2516  ...  0.36338  0.63662  0.36755      0.00257                  0.0   \n",
       "2517  ...  0.03508  0.96492  0.03571      0.00024                  0.0   \n",
       "2518  ...  0.00000  1.00000  0.00000      0.00000                  0.0   \n",
       "2519  ...  0.00000  1.00000  0.00000      0.00000                  0.0   \n",
       "3012  ...  0.00000  1.00000  0.00000      0.00000                  0.0   \n",
       "3013  ...  0.00000  1.00000  0.00000      0.00000                  0.0   \n",
       "3014  ...  0.00000  1.00000  0.00000      0.00000                  0.0   \n",
       "3015  ...  0.00000  1.00000  0.00000      0.00000                  0.0   \n",
       "3616  ...  0.12292  0.87708  0.12456      0.00040                  0.0   \n",
       "3617  ...  0.00000  1.00000  0.00000      0.00000                  0.0   \n",
       "3618  ...  0.00000  1.00000  0.00000      0.00000                  0.0   \n",
       "\n",
       "          Fis  Smoothed Fis  Smoothed Fis P-value  HWE P-value  Private  \n",
       "139   0.19389       0.19389                   0.0      0.22263        0  \n",
       "140   0.00000       0.00000                   0.0      1.00000        0  \n",
       "141   0.00000       0.00000                   0.0      1.00000        0  \n",
       "142  -0.00000      -0.00000                   0.0      1.00000        0  \n",
       "2516  0.07249       0.07249                   0.0      0.68278        0  \n",
       "2517 -0.00000      -0.00000                   0.0      1.00000        0  \n",
       "2518  0.00000       0.00000                   0.0      1.00000        0  \n",
       "2519  0.00000       0.00000                   0.0      1.00000        0  \n",
       "3012  0.00000       0.00000                   0.0      1.00000        0  \n",
       "3013  0.00000       0.00000                   0.0      1.00000        1  \n",
       "3014  0.00000       0.00000                   0.0      1.00000        0  \n",
       "3015  0.00000       0.00000                   0.0      1.00000        0  \n",
       "3616  0.78873       0.78873                   0.0      0.00274        0  \n",
       "3617  0.00000       0.00000                   0.0      1.00000        0  \n",
       "3618  0.00000       0.00000                   0.0      1.00000        0  \n",
       "\n",
       "[15 rows x 21 columns]"
      ]
     },
     "execution_count": 238,
     "metadata": {},
     "output_type": "execute_result"
    }
   ],
   "source": [
    "y.iloc[0:15]"
   ]
  },
  {
   "cell_type": "code",
   "execution_count": 239,
   "metadata": {
    "kernel": "Python3"
   },
   "outputs": [
    {
     "data": {
      "text/plain": [
       "166"
      ]
     },
     "execution_count": 239,
     "metadata": {},
     "output_type": "execute_result"
    }
   ],
   "source": [
    "len(goodLoc)"
   ]
  },
  {
   "cell_type": "code",
   "execution_count": 240,
   "metadata": {
    "kernel": "Python3"
   },
   "outputs": [
    {
     "name": "stdout",
     "output_type": "stream",
     "text": [
      "166\n"
     ]
    }
   ],
   "source": [
    "%expand\n",
    "positions = []\n",
    "OUT = open(\"{suffix}fixedDBNB98.positions\",\"w\")\n",
    "OUTr = open(\"{suffix}fixedDBNB98_R.positions\",\"w\")\n",
    "OUTr.write(\"LOCUS\\tPOS\\n\")\n",
    "n=0\n",
    "for row in y.itertuples(index=True):\n",
    "    if (row.Chr, row.BP) not in positions:\n",
    "        positions.append((row.Chr, row.BP))\n",
    "        OUT.write(str(row.Chr)+\"\\t\"+str(row.BP)+\"\\n\")\n",
    "        OUTr.write(str(row.Chr)+\"\\t\"+str(row.BP)+\"\\n\")\n",
    "        n+=1\n",
    "OUT.close()\n",
    "OUTr.close()\n",
    "print(n)"
   ]
  },
  {
   "cell_type": "code",
   "execution_count": 268,
   "metadata": {
    "kernel": "bash"
   },
   "outputs": [
    {
     "name": "stdout",
     "output_type": "stream",
     "text": [
      "\n",
      "VCFtools - 0.1.17\n",
      "(C) Adam Auton and Anthony Marcketta 2009\n",
      "\n",
      "Parameters as interpreted:\n",
      "\t--vcf ./maf05mac4het9m3R50_2/Making/m85-hwPBi-fixed2_98-thinned.vcf\n",
      "\t--recode-INFO-all\n",
      "\t--out ./maf05mac4het9m3R50_2/Making/m85-hwPBi-fixed-thinned-DBNB98\n",
      "\t--positions ./maf05mac4het9m3R50_2/Making/fixedDBNB98.positions\n",
      "\t--recode\n",
      "\n",
      "After filtering, kept 144 out of 144 Individuals\n",
      "Outputting VCF file...\n",
      "After filtering, kept 39 out of a possible 1917 Sites\n",
      "Run Time = 1.00 seconds\n"
     ]
    }
   ],
   "source": [
    "%expand\n",
    "module load vcftools/v0.1.17\n",
    "\n",
    "vcftools --vcf {suffix}m85-hwPBi-fixed2_98-thinned.vcf --recode \\\n",
    "--recode-INFO-all --positions {suffix}fixedDBNB98.positions \\\n",
    "--out {suffix}m85-hwPBi-fixed-thinned-DBNB98"
   ]
  },
  {
   "cell_type": "markdown",
   "metadata": {
    "kernel": "Python3"
   },
   "source": [
    "### fixed between DB and FL"
   ]
  },
  {
   "cell_type": "code",
   "execution_count": 199,
   "metadata": {
    "kernel": "Python3"
   },
   "outputs": [],
   "source": [
    "\n",
    "fixed = IN[(IN['P'] >0.98) & ((IN['Pop ID'] == \"FL\") | (IN['Pop ID'] == \"DB\"))]"
   ]
  },
  {
   "cell_type": "code",
   "execution_count": 241,
   "metadata": {
    "kernel": "Python3"
   },
   "outputs": [],
   "source": [
    "check = []\n",
    "for row in fixed.itertuples(index=True):\n",
    "    if (row._1,row.Chr,row.BP) not in check:\n",
    "        check.append((row._1,row.Chr,row.BP))\n",
    "\n",
    "x = IN[IN[[\"# Locus ID\",\"Chr\",\"BP\"]].apply(tuple, 1).isin(check)]\n",
    "x = x[(x['Pop ID'] == \"DB\") | (x['Pop ID'] == \"FL\")]   \n",
    "\n"
   ]
  },
  {
   "cell_type": "code",
   "execution_count": 242,
   "metadata": {
    "kernel": "Python3"
   },
   "outputs": [],
   "source": [
    "check =[]\n",
    "goodLoc = []\n",
    "for row in x.itertuples(index=True):\n",
    "    if row.P < 0.02:\n",
    "        if (row._1,row.Chr,row.BP) not in check:\n",
    "            check.append((row._1,row.Chr,row.BP))\n",
    "            if (row.Chr,row.BP) not in goodLoc:\n",
    "                goodLoc.append((row.Chr,row.BP))"
   ]
  },
  {
   "cell_type": "code",
   "execution_count": 243,
   "metadata": {
    "kernel": "Python3"
   },
   "outputs": [],
   "source": [
    "y = IN[IN[[\"Chr\",\"BP\"]].apply(tuple, 1).isin(goodLoc)]"
   ]
  },
  {
   "cell_type": "code",
   "execution_count": 244,
   "metadata": {
    "kernel": "Python3"
   },
   "outputs": [
    {
     "data": {
      "text/html": [
       "<div>\n",
       "<style scoped>\n",
       "    .dataframe tbody tr th:only-of-type {\n",
       "        vertical-align: middle;\n",
       "    }\n",
       "\n",
       "    .dataframe tbody tr th {\n",
       "        vertical-align: top;\n",
       "    }\n",
       "\n",
       "    .dataframe thead th {\n",
       "        text-align: right;\n",
       "    }\n",
       "</style>\n",
       "<table border=\"1\" class=\"dataframe\">\n",
       "  <thead>\n",
       "    <tr style=\"text-align: right;\">\n",
       "      <th></th>\n",
       "      <th># Locus ID</th>\n",
       "      <th>Chr</th>\n",
       "      <th>BP</th>\n",
       "      <th>Col</th>\n",
       "      <th>Pop ID</th>\n",
       "      <th>P Nuc</th>\n",
       "      <th>Q Nuc</th>\n",
       "      <th>N</th>\n",
       "      <th>P</th>\n",
       "      <th>Obs Het</th>\n",
       "      <th>...</th>\n",
       "      <th>Exp Het</th>\n",
       "      <th>Exp Hom</th>\n",
       "      <th>Pi</th>\n",
       "      <th>Smoothed Pi</th>\n",
       "      <th>Smoothed Pi P-value</th>\n",
       "      <th>Fis</th>\n",
       "      <th>Smoothed Fis</th>\n",
       "      <th>Smoothed Fis P-value</th>\n",
       "      <th>HWE P-value</th>\n",
       "      <th>Private</th>\n",
       "    </tr>\n",
       "  </thead>\n",
       "  <tbody>\n",
       "    <tr>\n",
       "      <td>67</td>\n",
       "      <td>267</td>\n",
       "      <td>23</td>\n",
       "      <td>27403</td>\n",
       "      <td>15</td>\n",
       "      <td>ILMB</td>\n",
       "      <td>C</td>\n",
       "      <td>T</td>\n",
       "      <td>28</td>\n",
       "      <td>0.535714</td>\n",
       "      <td>0.50000</td>\n",
       "      <td>...</td>\n",
       "      <td>0.49745</td>\n",
       "      <td>0.50255</td>\n",
       "      <td>0.50649</td>\n",
       "      <td>0.00083</td>\n",
       "      <td>0.0</td>\n",
       "      <td>0.01282</td>\n",
       "      <td>0.01711</td>\n",
       "      <td>0.0</td>\n",
       "      <td>1.00000</td>\n",
       "      <td>0</td>\n",
       "    </tr>\n",
       "    <tr>\n",
       "      <td>68</td>\n",
       "      <td>267</td>\n",
       "      <td>23</td>\n",
       "      <td>27403</td>\n",
       "      <td>15</td>\n",
       "      <td>DB</td>\n",
       "      <td>C</td>\n",
       "      <td>-</td>\n",
       "      <td>21</td>\n",
       "      <td>1.000000</td>\n",
       "      <td>0.00000</td>\n",
       "      <td>...</td>\n",
       "      <td>0.00000</td>\n",
       "      <td>1.00000</td>\n",
       "      <td>0.00000</td>\n",
       "      <td>0.00000</td>\n",
       "      <td>0.0</td>\n",
       "      <td>0.00000</td>\n",
       "      <td>0.00000</td>\n",
       "      <td>0.0</td>\n",
       "      <td>1.00000</td>\n",
       "      <td>0</td>\n",
       "    </tr>\n",
       "    <tr>\n",
       "      <td>69</td>\n",
       "      <td>267</td>\n",
       "      <td>23</td>\n",
       "      <td>27403</td>\n",
       "      <td>15</td>\n",
       "      <td>FL</td>\n",
       "      <td>-</td>\n",
       "      <td>T</td>\n",
       "      <td>13</td>\n",
       "      <td>0.000000</td>\n",
       "      <td>0.00000</td>\n",
       "      <td>...</td>\n",
       "      <td>0.00000</td>\n",
       "      <td>1.00000</td>\n",
       "      <td>0.00000</td>\n",
       "      <td>0.00000</td>\n",
       "      <td>0.0</td>\n",
       "      <td>0.00000</td>\n",
       "      <td>0.00000</td>\n",
       "      <td>0.0</td>\n",
       "      <td>1.00000</td>\n",
       "      <td>0</td>\n",
       "    </tr>\n",
       "    <tr>\n",
       "      <td>70</td>\n",
       "      <td>267</td>\n",
       "      <td>23</td>\n",
       "      <td>27403</td>\n",
       "      <td>15</td>\n",
       "      <td>NB</td>\n",
       "      <td>C</td>\n",
       "      <td>-</td>\n",
       "      <td>23</td>\n",
       "      <td>1.000000</td>\n",
       "      <td>0.00000</td>\n",
       "      <td>...</td>\n",
       "      <td>0.00000</td>\n",
       "      <td>1.00000</td>\n",
       "      <td>0.00000</td>\n",
       "      <td>0.00000</td>\n",
       "      <td>0.0</td>\n",
       "      <td>0.00000</td>\n",
       "      <td>0.00000</td>\n",
       "      <td>0.0</td>\n",
       "      <td>1.00000</td>\n",
       "      <td>0</td>\n",
       "    </tr>\n",
       "    <tr>\n",
       "      <td>71</td>\n",
       "      <td>267</td>\n",
       "      <td>23</td>\n",
       "      <td>27360</td>\n",
       "      <td>58</td>\n",
       "      <td>ILMB</td>\n",
       "      <td>A</td>\n",
       "      <td>G</td>\n",
       "      <td>25</td>\n",
       "      <td>0.520000</td>\n",
       "      <td>0.48000</td>\n",
       "      <td>...</td>\n",
       "      <td>0.49920</td>\n",
       "      <td>0.50080</td>\n",
       "      <td>0.50939</td>\n",
       "      <td>0.00083</td>\n",
       "      <td>0.0</td>\n",
       "      <td>0.05769</td>\n",
       "      <td>0.01711</td>\n",
       "      <td>0.0</td>\n",
       "      <td>1.00000</td>\n",
       "      <td>0</td>\n",
       "    </tr>\n",
       "    <tr>\n",
       "      <td>72</td>\n",
       "      <td>267</td>\n",
       "      <td>23</td>\n",
       "      <td>27360</td>\n",
       "      <td>58</td>\n",
       "      <td>DB</td>\n",
       "      <td>A</td>\n",
       "      <td>G</td>\n",
       "      <td>20</td>\n",
       "      <td>0.975000</td>\n",
       "      <td>0.05000</td>\n",
       "      <td>...</td>\n",
       "      <td>0.04875</td>\n",
       "      <td>0.95125</td>\n",
       "      <td>0.05000</td>\n",
       "      <td>0.00008</td>\n",
       "      <td>0.0</td>\n",
       "      <td>0.00000</td>\n",
       "      <td>0.00000</td>\n",
       "      <td>0.0</td>\n",
       "      <td>1.00000</td>\n",
       "      <td>0</td>\n",
       "    </tr>\n",
       "    <tr>\n",
       "      <td>73</td>\n",
       "      <td>267</td>\n",
       "      <td>23</td>\n",
       "      <td>27360</td>\n",
       "      <td>58</td>\n",
       "      <td>FL</td>\n",
       "      <td>-</td>\n",
       "      <td>G</td>\n",
       "      <td>13</td>\n",
       "      <td>0.000000</td>\n",
       "      <td>0.00000</td>\n",
       "      <td>...</td>\n",
       "      <td>0.00000</td>\n",
       "      <td>1.00000</td>\n",
       "      <td>0.00000</td>\n",
       "      <td>0.00000</td>\n",
       "      <td>0.0</td>\n",
       "      <td>0.00000</td>\n",
       "      <td>0.00000</td>\n",
       "      <td>0.0</td>\n",
       "      <td>1.00000</td>\n",
       "      <td>0</td>\n",
       "    </tr>\n",
       "    <tr>\n",
       "      <td>74</td>\n",
       "      <td>267</td>\n",
       "      <td>23</td>\n",
       "      <td>27360</td>\n",
       "      <td>58</td>\n",
       "      <td>NB</td>\n",
       "      <td>A</td>\n",
       "      <td>-</td>\n",
       "      <td>22</td>\n",
       "      <td>1.000000</td>\n",
       "      <td>0.00000</td>\n",
       "      <td>...</td>\n",
       "      <td>0.00000</td>\n",
       "      <td>1.00000</td>\n",
       "      <td>0.00000</td>\n",
       "      <td>0.00000</td>\n",
       "      <td>0.0</td>\n",
       "      <td>0.00000</td>\n",
       "      <td>0.00000</td>\n",
       "      <td>0.0</td>\n",
       "      <td>1.00000</td>\n",
       "      <td>0</td>\n",
       "    </tr>\n",
       "    <tr>\n",
       "      <td>131</td>\n",
       "      <td>415</td>\n",
       "      <td>36</td>\n",
       "      <td>33628</td>\n",
       "      <td>35</td>\n",
       "      <td>ILMB</td>\n",
       "      <td>A</td>\n",
       "      <td>G</td>\n",
       "      <td>41</td>\n",
       "      <td>0.536585</td>\n",
       "      <td>0.43902</td>\n",
       "      <td>...</td>\n",
       "      <td>0.49732</td>\n",
       "      <td>0.50268</td>\n",
       "      <td>0.50346</td>\n",
       "      <td>0.00098</td>\n",
       "      <td>0.0</td>\n",
       "      <td>0.12799</td>\n",
       "      <td>0.12799</td>\n",
       "      <td>0.0</td>\n",
       "      <td>0.53055</td>\n",
       "      <td>0</td>\n",
       "    </tr>\n",
       "    <tr>\n",
       "      <td>132</td>\n",
       "      <td>415</td>\n",
       "      <td>36</td>\n",
       "      <td>33628</td>\n",
       "      <td>35</td>\n",
       "      <td>DB</td>\n",
       "      <td>A</td>\n",
       "      <td>G</td>\n",
       "      <td>28</td>\n",
       "      <td>0.964286</td>\n",
       "      <td>0.07143</td>\n",
       "      <td>...</td>\n",
       "      <td>0.06888</td>\n",
       "      <td>0.93112</td>\n",
       "      <td>0.07013</td>\n",
       "      <td>0.00014</td>\n",
       "      <td>0.0</td>\n",
       "      <td>-0.01852</td>\n",
       "      <td>-0.01852</td>\n",
       "      <td>0.0</td>\n",
       "      <td>1.00000</td>\n",
       "      <td>0</td>\n",
       "    </tr>\n",
       "    <tr>\n",
       "      <td>133</td>\n",
       "      <td>415</td>\n",
       "      <td>36</td>\n",
       "      <td>33628</td>\n",
       "      <td>35</td>\n",
       "      <td>FL</td>\n",
       "      <td>-</td>\n",
       "      <td>G</td>\n",
       "      <td>27</td>\n",
       "      <td>0.000000</td>\n",
       "      <td>0.00000</td>\n",
       "      <td>...</td>\n",
       "      <td>0.00000</td>\n",
       "      <td>1.00000</td>\n",
       "      <td>0.00000</td>\n",
       "      <td>0.00000</td>\n",
       "      <td>0.0</td>\n",
       "      <td>0.00000</td>\n",
       "      <td>0.00000</td>\n",
       "      <td>0.0</td>\n",
       "      <td>1.00000</td>\n",
       "      <td>0</td>\n",
       "    </tr>\n",
       "    <tr>\n",
       "      <td>134</td>\n",
       "      <td>415</td>\n",
       "      <td>36</td>\n",
       "      <td>33628</td>\n",
       "      <td>35</td>\n",
       "      <td>NB</td>\n",
       "      <td>A</td>\n",
       "      <td>-</td>\n",
       "      <td>39</td>\n",
       "      <td>1.000000</td>\n",
       "      <td>0.00000</td>\n",
       "      <td>...</td>\n",
       "      <td>0.00000</td>\n",
       "      <td>1.00000</td>\n",
       "      <td>0.00000</td>\n",
       "      <td>0.00000</td>\n",
       "      <td>0.0</td>\n",
       "      <td>0.00000</td>\n",
       "      <td>0.00000</td>\n",
       "      <td>0.0</td>\n",
       "      <td>1.00000</td>\n",
       "      <td>0</td>\n",
       "    </tr>\n",
       "    <tr>\n",
       "      <td>143</td>\n",
       "      <td>499</td>\n",
       "      <td>49</td>\n",
       "      <td>11372</td>\n",
       "      <td>5</td>\n",
       "      <td>ILMB</td>\n",
       "      <td>T</td>\n",
       "      <td>G</td>\n",
       "      <td>43</td>\n",
       "      <td>0.546512</td>\n",
       "      <td>0.53488</td>\n",
       "      <td>...</td>\n",
       "      <td>0.49567</td>\n",
       "      <td>0.50433</td>\n",
       "      <td>0.50150</td>\n",
       "      <td>0.00364</td>\n",
       "      <td>0.0</td>\n",
       "      <td>-0.06656</td>\n",
       "      <td>-0.04030</td>\n",
       "      <td>0.0</td>\n",
       "      <td>0.76103</td>\n",
       "      <td>0</td>\n",
       "    </tr>\n",
       "    <tr>\n",
       "      <td>144</td>\n",
       "      <td>499</td>\n",
       "      <td>49</td>\n",
       "      <td>11372</td>\n",
       "      <td>5</td>\n",
       "      <td>DB</td>\n",
       "      <td>T</td>\n",
       "      <td>G</td>\n",
       "      <td>28</td>\n",
       "      <td>0.892857</td>\n",
       "      <td>0.14286</td>\n",
       "      <td>...</td>\n",
       "      <td>0.19133</td>\n",
       "      <td>0.80867</td>\n",
       "      <td>0.19481</td>\n",
       "      <td>0.00106</td>\n",
       "      <td>0.0</td>\n",
       "      <td>0.26667</td>\n",
       "      <td>0.06961</td>\n",
       "      <td>0.0</td>\n",
       "      <td>0.25739</td>\n",
       "      <td>0</td>\n",
       "    </tr>\n",
       "    <tr>\n",
       "      <td>145</td>\n",
       "      <td>499</td>\n",
       "      <td>49</td>\n",
       "      <td>11372</td>\n",
       "      <td>5</td>\n",
       "      <td>FL</td>\n",
       "      <td>-</td>\n",
       "      <td>G</td>\n",
       "      <td>29</td>\n",
       "      <td>0.000000</td>\n",
       "      <td>0.00000</td>\n",
       "      <td>...</td>\n",
       "      <td>0.00000</td>\n",
       "      <td>1.00000</td>\n",
       "      <td>0.00000</td>\n",
       "      <td>0.00000</td>\n",
       "      <td>0.0</td>\n",
       "      <td>0.00000</td>\n",
       "      <td>0.00000</td>\n",
       "      <td>0.0</td>\n",
       "      <td>1.00000</td>\n",
       "      <td>0</td>\n",
       "    </tr>\n",
       "  </tbody>\n",
       "</table>\n",
       "<p>15 rows × 21 columns</p>\n",
       "</div>"
      ],
      "text/plain": [
       "     # Locus ID  Chr     BP  Col Pop ID P Nuc Q Nuc   N         P  Obs Het  \\\n",
       "67          267   23  27403   15   ILMB     C     T  28  0.535714  0.50000   \n",
       "68          267   23  27403   15     DB     C     -  21  1.000000  0.00000   \n",
       "69          267   23  27403   15     FL     -     T  13  0.000000  0.00000   \n",
       "70          267   23  27403   15     NB     C     -  23  1.000000  0.00000   \n",
       "71          267   23  27360   58   ILMB     A     G  25  0.520000  0.48000   \n",
       "72          267   23  27360   58     DB     A     G  20  0.975000  0.05000   \n",
       "73          267   23  27360   58     FL     -     G  13  0.000000  0.00000   \n",
       "74          267   23  27360   58     NB     A     -  22  1.000000  0.00000   \n",
       "131         415   36  33628   35   ILMB     A     G  41  0.536585  0.43902   \n",
       "132         415   36  33628   35     DB     A     G  28  0.964286  0.07143   \n",
       "133         415   36  33628   35     FL     -     G  27  0.000000  0.00000   \n",
       "134         415   36  33628   35     NB     A     -  39  1.000000  0.00000   \n",
       "143         499   49  11372    5   ILMB     T     G  43  0.546512  0.53488   \n",
       "144         499   49  11372    5     DB     T     G  28  0.892857  0.14286   \n",
       "145         499   49  11372    5     FL     -     G  29  0.000000  0.00000   \n",
       "\n",
       "     ...  Exp Het  Exp Hom       Pi  Smoothed Pi  Smoothed Pi P-value  \\\n",
       "67   ...  0.49745  0.50255  0.50649      0.00083                  0.0   \n",
       "68   ...  0.00000  1.00000  0.00000      0.00000                  0.0   \n",
       "69   ...  0.00000  1.00000  0.00000      0.00000                  0.0   \n",
       "70   ...  0.00000  1.00000  0.00000      0.00000                  0.0   \n",
       "71   ...  0.49920  0.50080  0.50939      0.00083                  0.0   \n",
       "72   ...  0.04875  0.95125  0.05000      0.00008                  0.0   \n",
       "73   ...  0.00000  1.00000  0.00000      0.00000                  0.0   \n",
       "74   ...  0.00000  1.00000  0.00000      0.00000                  0.0   \n",
       "131  ...  0.49732  0.50268  0.50346      0.00098                  0.0   \n",
       "132  ...  0.06888  0.93112  0.07013      0.00014                  0.0   \n",
       "133  ...  0.00000  1.00000  0.00000      0.00000                  0.0   \n",
       "134  ...  0.00000  1.00000  0.00000      0.00000                  0.0   \n",
       "143  ...  0.49567  0.50433  0.50150      0.00364                  0.0   \n",
       "144  ...  0.19133  0.80867  0.19481      0.00106                  0.0   \n",
       "145  ...  0.00000  1.00000  0.00000      0.00000                  0.0   \n",
       "\n",
       "         Fis  Smoothed Fis  Smoothed Fis P-value  HWE P-value  Private  \n",
       "67   0.01282       0.01711                   0.0      1.00000        0  \n",
       "68   0.00000       0.00000                   0.0      1.00000        0  \n",
       "69   0.00000       0.00000                   0.0      1.00000        0  \n",
       "70   0.00000       0.00000                   0.0      1.00000        0  \n",
       "71   0.05769       0.01711                   0.0      1.00000        0  \n",
       "72   0.00000       0.00000                   0.0      1.00000        0  \n",
       "73   0.00000       0.00000                   0.0      1.00000        0  \n",
       "74   0.00000       0.00000                   0.0      1.00000        0  \n",
       "131  0.12799       0.12799                   0.0      0.53055        0  \n",
       "132 -0.01852      -0.01852                   0.0      1.00000        0  \n",
       "133  0.00000       0.00000                   0.0      1.00000        0  \n",
       "134  0.00000       0.00000                   0.0      1.00000        0  \n",
       "143 -0.06656      -0.04030                   0.0      0.76103        0  \n",
       "144  0.26667       0.06961                   0.0      0.25739        0  \n",
       "145  0.00000       0.00000                   0.0      1.00000        0  \n",
       "\n",
       "[15 rows x 21 columns]"
      ]
     },
     "execution_count": 244,
     "metadata": {},
     "output_type": "execute_result"
    }
   ],
   "source": [
    "y.iloc[0:15]"
   ]
  },
  {
   "cell_type": "code",
   "execution_count": 245,
   "metadata": {
    "kernel": "Python3"
   },
   "outputs": [
    {
     "data": {
      "text/plain": [
       "4629"
      ]
     },
     "execution_count": 245,
     "metadata": {},
     "output_type": "execute_result"
    }
   ],
   "source": [
    "len(goodLoc)"
   ]
  },
  {
   "cell_type": "code",
   "execution_count": 246,
   "metadata": {
    "kernel": "Python3"
   },
   "outputs": [
    {
     "name": "stdout",
     "output_type": "stream",
     "text": [
      "4629\n"
     ]
    }
   ],
   "source": [
    "%expand\n",
    "positions = []\n",
    "OUT = open(\"{suffix}fixedDBFL98.positions\",\"w\")\n",
    "OUTr = open(\"{suffix}fixedDBFL98_R.positions\",\"w\")\n",
    "OUTr.write(\"LOCUS\\tPOS\\n\")\n",
    "n=0\n",
    "for row in y.itertuples(index=True):\n",
    "    if (row.Chr, row.BP) not in positions:\n",
    "        positions.append((row.Chr, row.BP))\n",
    "        OUT.write(str(row.Chr)+\"\\t\"+str(row.BP)+\"\\n\")\n",
    "        OUTr.write(str(row.Chr)+\"\\t\"+str(row.BP)+\"\\n\")\n",
    "        n+=1\n",
    "OUT.close()\n",
    "OUTr.close()\n",
    "print(n)"
   ]
  },
  {
   "cell_type": "markdown",
   "metadata": {
    "kernel": "Python3"
   },
   "source": [
    "### fixed between FL and NB"
   ]
  },
  {
   "cell_type": "code",
   "execution_count": 247,
   "metadata": {
    "kernel": "Python3"
   },
   "outputs": [],
   "source": [
    "\n",
    "fixed = IN[(IN['P'] >0.98) & ((IN['Pop ID'] == \"NB\") | (IN['Pop ID'] == \"FL\"))]"
   ]
  },
  {
   "cell_type": "code",
   "execution_count": 248,
   "metadata": {
    "kernel": "Python3"
   },
   "outputs": [],
   "source": [
    "check = []\n",
    "for row in fixed.itertuples(index=True):\n",
    "    if (row._1,row.Chr,row.BP) not in check:\n",
    "        check.append((row._1,row.Chr,row.BP))\n",
    "\n",
    "x = IN[IN[[\"# Locus ID\",\"Chr\",\"BP\"]].apply(tuple, 1).isin(check)]\n",
    "x = x[(x['Pop ID'] == \"FL\") | (x['Pop ID'] == \"NB\")]   \n",
    "\n"
   ]
  },
  {
   "cell_type": "code",
   "execution_count": 249,
   "metadata": {
    "kernel": "Python3"
   },
   "outputs": [],
   "source": [
    "check =[]\n",
    "goodLoc = []\n",
    "for row in x.itertuples(index=True):\n",
    "    if row.P < 0.02:\n",
    "        if (row._1,row.Chr,row.BP) not in check:\n",
    "            check.append((row._1,row.Chr,row.BP))\n",
    "            if (row.Chr,row.BP) not in goodLoc:\n",
    "                goodLoc.append((row.Chr,row.BP))"
   ]
  },
  {
   "cell_type": "code",
   "execution_count": 250,
   "metadata": {
    "kernel": "Python3"
   },
   "outputs": [],
   "source": [
    "y = IN[IN[[\"Chr\",\"BP\"]].apply(tuple, 1).isin(goodLoc)]"
   ]
  },
  {
   "cell_type": "code",
   "execution_count": 251,
   "metadata": {
    "kernel": "Python3"
   },
   "outputs": [
    {
     "data": {
      "text/html": [
       "<div>\n",
       "<style scoped>\n",
       "    .dataframe tbody tr th:only-of-type {\n",
       "        vertical-align: middle;\n",
       "    }\n",
       "\n",
       "    .dataframe tbody tr th {\n",
       "        vertical-align: top;\n",
       "    }\n",
       "\n",
       "    .dataframe thead th {\n",
       "        text-align: right;\n",
       "    }\n",
       "</style>\n",
       "<table border=\"1\" class=\"dataframe\">\n",
       "  <thead>\n",
       "    <tr style=\"text-align: right;\">\n",
       "      <th></th>\n",
       "      <th># Locus ID</th>\n",
       "      <th>Chr</th>\n",
       "      <th>BP</th>\n",
       "      <th>Col</th>\n",
       "      <th>Pop ID</th>\n",
       "      <th>P Nuc</th>\n",
       "      <th>Q Nuc</th>\n",
       "      <th>N</th>\n",
       "      <th>P</th>\n",
       "      <th>Obs Het</th>\n",
       "      <th>...</th>\n",
       "      <th>Exp Het</th>\n",
       "      <th>Exp Hom</th>\n",
       "      <th>Pi</th>\n",
       "      <th>Smoothed Pi</th>\n",
       "      <th>Smoothed Pi P-value</th>\n",
       "      <th>Fis</th>\n",
       "      <th>Smoothed Fis</th>\n",
       "      <th>Smoothed Fis P-value</th>\n",
       "      <th>HWE P-value</th>\n",
       "      <th>Private</th>\n",
       "    </tr>\n",
       "  </thead>\n",
       "  <tbody>\n",
       "    <tr>\n",
       "      <td>67</td>\n",
       "      <td>267</td>\n",
       "      <td>23</td>\n",
       "      <td>27403</td>\n",
       "      <td>15</td>\n",
       "      <td>ILMB</td>\n",
       "      <td>C</td>\n",
       "      <td>T</td>\n",
       "      <td>28</td>\n",
       "      <td>0.535714</td>\n",
       "      <td>0.50000</td>\n",
       "      <td>...</td>\n",
       "      <td>0.49745</td>\n",
       "      <td>0.50255</td>\n",
       "      <td>0.50649</td>\n",
       "      <td>0.00083</td>\n",
       "      <td>0.0</td>\n",
       "      <td>0.01282</td>\n",
       "      <td>0.01711</td>\n",
       "      <td>0.0</td>\n",
       "      <td>1.00000</td>\n",
       "      <td>0</td>\n",
       "    </tr>\n",
       "    <tr>\n",
       "      <td>68</td>\n",
       "      <td>267</td>\n",
       "      <td>23</td>\n",
       "      <td>27403</td>\n",
       "      <td>15</td>\n",
       "      <td>DB</td>\n",
       "      <td>C</td>\n",
       "      <td>-</td>\n",
       "      <td>21</td>\n",
       "      <td>1.000000</td>\n",
       "      <td>0.00000</td>\n",
       "      <td>...</td>\n",
       "      <td>0.00000</td>\n",
       "      <td>1.00000</td>\n",
       "      <td>0.00000</td>\n",
       "      <td>0.00000</td>\n",
       "      <td>0.0</td>\n",
       "      <td>0.00000</td>\n",
       "      <td>0.00000</td>\n",
       "      <td>0.0</td>\n",
       "      <td>1.00000</td>\n",
       "      <td>0</td>\n",
       "    </tr>\n",
       "    <tr>\n",
       "      <td>69</td>\n",
       "      <td>267</td>\n",
       "      <td>23</td>\n",
       "      <td>27403</td>\n",
       "      <td>15</td>\n",
       "      <td>FL</td>\n",
       "      <td>-</td>\n",
       "      <td>T</td>\n",
       "      <td>13</td>\n",
       "      <td>0.000000</td>\n",
       "      <td>0.00000</td>\n",
       "      <td>...</td>\n",
       "      <td>0.00000</td>\n",
       "      <td>1.00000</td>\n",
       "      <td>0.00000</td>\n",
       "      <td>0.00000</td>\n",
       "      <td>0.0</td>\n",
       "      <td>0.00000</td>\n",
       "      <td>0.00000</td>\n",
       "      <td>0.0</td>\n",
       "      <td>1.00000</td>\n",
       "      <td>0</td>\n",
       "    </tr>\n",
       "    <tr>\n",
       "      <td>70</td>\n",
       "      <td>267</td>\n",
       "      <td>23</td>\n",
       "      <td>27403</td>\n",
       "      <td>15</td>\n",
       "      <td>NB</td>\n",
       "      <td>C</td>\n",
       "      <td>-</td>\n",
       "      <td>23</td>\n",
       "      <td>1.000000</td>\n",
       "      <td>0.00000</td>\n",
       "      <td>...</td>\n",
       "      <td>0.00000</td>\n",
       "      <td>1.00000</td>\n",
       "      <td>0.00000</td>\n",
       "      <td>0.00000</td>\n",
       "      <td>0.0</td>\n",
       "      <td>0.00000</td>\n",
       "      <td>0.00000</td>\n",
       "      <td>0.0</td>\n",
       "      <td>1.00000</td>\n",
       "      <td>0</td>\n",
       "    </tr>\n",
       "    <tr>\n",
       "      <td>71</td>\n",
       "      <td>267</td>\n",
       "      <td>23</td>\n",
       "      <td>27360</td>\n",
       "      <td>58</td>\n",
       "      <td>ILMB</td>\n",
       "      <td>A</td>\n",
       "      <td>G</td>\n",
       "      <td>25</td>\n",
       "      <td>0.520000</td>\n",
       "      <td>0.48000</td>\n",
       "      <td>...</td>\n",
       "      <td>0.49920</td>\n",
       "      <td>0.50080</td>\n",
       "      <td>0.50939</td>\n",
       "      <td>0.00083</td>\n",
       "      <td>0.0</td>\n",
       "      <td>0.05769</td>\n",
       "      <td>0.01711</td>\n",
       "      <td>0.0</td>\n",
       "      <td>1.00000</td>\n",
       "      <td>0</td>\n",
       "    </tr>\n",
       "    <tr>\n",
       "      <td>72</td>\n",
       "      <td>267</td>\n",
       "      <td>23</td>\n",
       "      <td>27360</td>\n",
       "      <td>58</td>\n",
       "      <td>DB</td>\n",
       "      <td>A</td>\n",
       "      <td>G</td>\n",
       "      <td>20</td>\n",
       "      <td>0.975000</td>\n",
       "      <td>0.05000</td>\n",
       "      <td>...</td>\n",
       "      <td>0.04875</td>\n",
       "      <td>0.95125</td>\n",
       "      <td>0.05000</td>\n",
       "      <td>0.00008</td>\n",
       "      <td>0.0</td>\n",
       "      <td>0.00000</td>\n",
       "      <td>0.00000</td>\n",
       "      <td>0.0</td>\n",
       "      <td>1.00000</td>\n",
       "      <td>0</td>\n",
       "    </tr>\n",
       "    <tr>\n",
       "      <td>73</td>\n",
       "      <td>267</td>\n",
       "      <td>23</td>\n",
       "      <td>27360</td>\n",
       "      <td>58</td>\n",
       "      <td>FL</td>\n",
       "      <td>-</td>\n",
       "      <td>G</td>\n",
       "      <td>13</td>\n",
       "      <td>0.000000</td>\n",
       "      <td>0.00000</td>\n",
       "      <td>...</td>\n",
       "      <td>0.00000</td>\n",
       "      <td>1.00000</td>\n",
       "      <td>0.00000</td>\n",
       "      <td>0.00000</td>\n",
       "      <td>0.0</td>\n",
       "      <td>0.00000</td>\n",
       "      <td>0.00000</td>\n",
       "      <td>0.0</td>\n",
       "      <td>1.00000</td>\n",
       "      <td>0</td>\n",
       "    </tr>\n",
       "    <tr>\n",
       "      <td>74</td>\n",
       "      <td>267</td>\n",
       "      <td>23</td>\n",
       "      <td>27360</td>\n",
       "      <td>58</td>\n",
       "      <td>NB</td>\n",
       "      <td>A</td>\n",
       "      <td>-</td>\n",
       "      <td>22</td>\n",
       "      <td>1.000000</td>\n",
       "      <td>0.00000</td>\n",
       "      <td>...</td>\n",
       "      <td>0.00000</td>\n",
       "      <td>1.00000</td>\n",
       "      <td>0.00000</td>\n",
       "      <td>0.00000</td>\n",
       "      <td>0.0</td>\n",
       "      <td>0.00000</td>\n",
       "      <td>0.00000</td>\n",
       "      <td>0.0</td>\n",
       "      <td>1.00000</td>\n",
       "      <td>0</td>\n",
       "    </tr>\n",
       "    <tr>\n",
       "      <td>75</td>\n",
       "      <td>298</td>\n",
       "      <td>28</td>\n",
       "      <td>22314</td>\n",
       "      <td>34</td>\n",
       "      <td>ILMB</td>\n",
       "      <td>G</td>\n",
       "      <td>A</td>\n",
       "      <td>43</td>\n",
       "      <td>0.662791</td>\n",
       "      <td>0.39535</td>\n",
       "      <td>...</td>\n",
       "      <td>0.44700</td>\n",
       "      <td>0.55300</td>\n",
       "      <td>0.45226</td>\n",
       "      <td>0.00947</td>\n",
       "      <td>0.0</td>\n",
       "      <td>0.12583</td>\n",
       "      <td>0.05979</td>\n",
       "      <td>0.0</td>\n",
       "      <td>0.49746</td>\n",
       "      <td>0</td>\n",
       "    </tr>\n",
       "    <tr>\n",
       "      <td>76</td>\n",
       "      <td>298</td>\n",
       "      <td>28</td>\n",
       "      <td>22314</td>\n",
       "      <td>34</td>\n",
       "      <td>DB</td>\n",
       "      <td>G</td>\n",
       "      <td>A</td>\n",
       "      <td>29</td>\n",
       "      <td>0.810345</td>\n",
       "      <td>0.31034</td>\n",
       "      <td>...</td>\n",
       "      <td>0.30737</td>\n",
       "      <td>0.69263</td>\n",
       "      <td>0.31276</td>\n",
       "      <td>0.00579</td>\n",
       "      <td>0.0</td>\n",
       "      <td>0.00774</td>\n",
       "      <td>-0.02774</td>\n",
       "      <td>0.0</td>\n",
       "      <td>1.00000</td>\n",
       "      <td>0</td>\n",
       "    </tr>\n",
       "    <tr>\n",
       "      <td>77</td>\n",
       "      <td>298</td>\n",
       "      <td>28</td>\n",
       "      <td>22314</td>\n",
       "      <td>34</td>\n",
       "      <td>FL</td>\n",
       "      <td>G</td>\n",
       "      <td>-</td>\n",
       "      <td>28</td>\n",
       "      <td>1.000000</td>\n",
       "      <td>0.00000</td>\n",
       "      <td>...</td>\n",
       "      <td>0.00000</td>\n",
       "      <td>1.00000</td>\n",
       "      <td>0.00000</td>\n",
       "      <td>0.00000</td>\n",
       "      <td>0.0</td>\n",
       "      <td>0.00000</td>\n",
       "      <td>0.00000</td>\n",
       "      <td>0.0</td>\n",
       "      <td>1.00000</td>\n",
       "      <td>0</td>\n",
       "    </tr>\n",
       "    <tr>\n",
       "      <td>78</td>\n",
       "      <td>298</td>\n",
       "      <td>28</td>\n",
       "      <td>22314</td>\n",
       "      <td>34</td>\n",
       "      <td>NB</td>\n",
       "      <td>-</td>\n",
       "      <td>A</td>\n",
       "      <td>40</td>\n",
       "      <td>0.000000</td>\n",
       "      <td>0.00000</td>\n",
       "      <td>...</td>\n",
       "      <td>0.00000</td>\n",
       "      <td>1.00000</td>\n",
       "      <td>0.00000</td>\n",
       "      <td>0.00000</td>\n",
       "      <td>0.0</td>\n",
       "      <td>0.00000</td>\n",
       "      <td>0.00000</td>\n",
       "      <td>0.0</td>\n",
       "      <td>1.00000</td>\n",
       "      <td>0</td>\n",
       "    </tr>\n",
       "    <tr>\n",
       "      <td>131</td>\n",
       "      <td>415</td>\n",
       "      <td>36</td>\n",
       "      <td>33628</td>\n",
       "      <td>35</td>\n",
       "      <td>ILMB</td>\n",
       "      <td>A</td>\n",
       "      <td>G</td>\n",
       "      <td>41</td>\n",
       "      <td>0.536585</td>\n",
       "      <td>0.43902</td>\n",
       "      <td>...</td>\n",
       "      <td>0.49732</td>\n",
       "      <td>0.50268</td>\n",
       "      <td>0.50346</td>\n",
       "      <td>0.00098</td>\n",
       "      <td>0.0</td>\n",
       "      <td>0.12799</td>\n",
       "      <td>0.12799</td>\n",
       "      <td>0.0</td>\n",
       "      <td>0.53055</td>\n",
       "      <td>0</td>\n",
       "    </tr>\n",
       "    <tr>\n",
       "      <td>132</td>\n",
       "      <td>415</td>\n",
       "      <td>36</td>\n",
       "      <td>33628</td>\n",
       "      <td>35</td>\n",
       "      <td>DB</td>\n",
       "      <td>A</td>\n",
       "      <td>G</td>\n",
       "      <td>28</td>\n",
       "      <td>0.964286</td>\n",
       "      <td>0.07143</td>\n",
       "      <td>...</td>\n",
       "      <td>0.06888</td>\n",
       "      <td>0.93112</td>\n",
       "      <td>0.07013</td>\n",
       "      <td>0.00014</td>\n",
       "      <td>0.0</td>\n",
       "      <td>-0.01852</td>\n",
       "      <td>-0.01852</td>\n",
       "      <td>0.0</td>\n",
       "      <td>1.00000</td>\n",
       "      <td>0</td>\n",
       "    </tr>\n",
       "    <tr>\n",
       "      <td>133</td>\n",
       "      <td>415</td>\n",
       "      <td>36</td>\n",
       "      <td>33628</td>\n",
       "      <td>35</td>\n",
       "      <td>FL</td>\n",
       "      <td>-</td>\n",
       "      <td>G</td>\n",
       "      <td>27</td>\n",
       "      <td>0.000000</td>\n",
       "      <td>0.00000</td>\n",
       "      <td>...</td>\n",
       "      <td>0.00000</td>\n",
       "      <td>1.00000</td>\n",
       "      <td>0.00000</td>\n",
       "      <td>0.00000</td>\n",
       "      <td>0.0</td>\n",
       "      <td>0.00000</td>\n",
       "      <td>0.00000</td>\n",
       "      <td>0.0</td>\n",
       "      <td>1.00000</td>\n",
       "      <td>0</td>\n",
       "    </tr>\n",
       "  </tbody>\n",
       "</table>\n",
       "<p>15 rows × 21 columns</p>\n",
       "</div>"
      ],
      "text/plain": [
       "     # Locus ID  Chr     BP  Col Pop ID P Nuc Q Nuc   N         P  Obs Het  \\\n",
       "67          267   23  27403   15   ILMB     C     T  28  0.535714  0.50000   \n",
       "68          267   23  27403   15     DB     C     -  21  1.000000  0.00000   \n",
       "69          267   23  27403   15     FL     -     T  13  0.000000  0.00000   \n",
       "70          267   23  27403   15     NB     C     -  23  1.000000  0.00000   \n",
       "71          267   23  27360   58   ILMB     A     G  25  0.520000  0.48000   \n",
       "72          267   23  27360   58     DB     A     G  20  0.975000  0.05000   \n",
       "73          267   23  27360   58     FL     -     G  13  0.000000  0.00000   \n",
       "74          267   23  27360   58     NB     A     -  22  1.000000  0.00000   \n",
       "75          298   28  22314   34   ILMB     G     A  43  0.662791  0.39535   \n",
       "76          298   28  22314   34     DB     G     A  29  0.810345  0.31034   \n",
       "77          298   28  22314   34     FL     G     -  28  1.000000  0.00000   \n",
       "78          298   28  22314   34     NB     -     A  40  0.000000  0.00000   \n",
       "131         415   36  33628   35   ILMB     A     G  41  0.536585  0.43902   \n",
       "132         415   36  33628   35     DB     A     G  28  0.964286  0.07143   \n",
       "133         415   36  33628   35     FL     -     G  27  0.000000  0.00000   \n",
       "\n",
       "     ...  Exp Het  Exp Hom       Pi  Smoothed Pi  Smoothed Pi P-value  \\\n",
       "67   ...  0.49745  0.50255  0.50649      0.00083                  0.0   \n",
       "68   ...  0.00000  1.00000  0.00000      0.00000                  0.0   \n",
       "69   ...  0.00000  1.00000  0.00000      0.00000                  0.0   \n",
       "70   ...  0.00000  1.00000  0.00000      0.00000                  0.0   \n",
       "71   ...  0.49920  0.50080  0.50939      0.00083                  0.0   \n",
       "72   ...  0.04875  0.95125  0.05000      0.00008                  0.0   \n",
       "73   ...  0.00000  1.00000  0.00000      0.00000                  0.0   \n",
       "74   ...  0.00000  1.00000  0.00000      0.00000                  0.0   \n",
       "75   ...  0.44700  0.55300  0.45226      0.00947                  0.0   \n",
       "76   ...  0.30737  0.69263  0.31276      0.00579                  0.0   \n",
       "77   ...  0.00000  1.00000  0.00000      0.00000                  0.0   \n",
       "78   ...  0.00000  1.00000  0.00000      0.00000                  0.0   \n",
       "131  ...  0.49732  0.50268  0.50346      0.00098                  0.0   \n",
       "132  ...  0.06888  0.93112  0.07013      0.00014                  0.0   \n",
       "133  ...  0.00000  1.00000  0.00000      0.00000                  0.0   \n",
       "\n",
       "         Fis  Smoothed Fis  Smoothed Fis P-value  HWE P-value  Private  \n",
       "67   0.01282       0.01711                   0.0      1.00000        0  \n",
       "68   0.00000       0.00000                   0.0      1.00000        0  \n",
       "69   0.00000       0.00000                   0.0      1.00000        0  \n",
       "70   0.00000       0.00000                   0.0      1.00000        0  \n",
       "71   0.05769       0.01711                   0.0      1.00000        0  \n",
       "72   0.00000       0.00000                   0.0      1.00000        0  \n",
       "73   0.00000       0.00000                   0.0      1.00000        0  \n",
       "74   0.00000       0.00000                   0.0      1.00000        0  \n",
       "75   0.12583       0.05979                   0.0      0.49746        0  \n",
       "76   0.00774      -0.02774                   0.0      1.00000        0  \n",
       "77   0.00000       0.00000                   0.0      1.00000        0  \n",
       "78   0.00000       0.00000                   0.0      1.00000        0  \n",
       "131  0.12799       0.12799                   0.0      0.53055        0  \n",
       "132 -0.01852      -0.01852                   0.0      1.00000        0  \n",
       "133  0.00000       0.00000                   0.0      1.00000        0  \n",
       "\n",
       "[15 rows x 21 columns]"
      ]
     },
     "execution_count": 251,
     "metadata": {},
     "output_type": "execute_result"
    }
   ],
   "source": [
    "y.iloc[0:15]"
   ]
  },
  {
   "cell_type": "code",
   "execution_count": 252,
   "metadata": {
    "kernel": "Python3"
   },
   "outputs": [
    {
     "data": {
      "text/plain": [
       "4964"
      ]
     },
     "execution_count": 252,
     "metadata": {},
     "output_type": "execute_result"
    }
   ],
   "source": [
    "len(goodLoc)"
   ]
  },
  {
   "cell_type": "code",
   "execution_count": 255,
   "metadata": {
    "kernel": "Python3"
   },
   "outputs": [
    {
     "name": "stdout",
     "output_type": "stream",
     "text": [
      "4964\n"
     ]
    }
   ],
   "source": [
    "%expand\n",
    "positions = []\n",
    "OUT = open(\"{suffix}fixedFLNB98.positions\",\"w\")\n",
    "OUTr = open(\"{suffix}fixedFLNB98_R.positions\",\"w\")\n",
    "OUTr.write(\"LOCUS\\tPOS\\n\")\n",
    "n=0\n",
    "for row in y.itertuples(index=True):\n",
    "    if (row.Chr, row.BP) not in positions:\n",
    "        positions.append((row.Chr, row.BP))\n",
    "        OUT.write(str(row.Chr)+\"\\t\"+str(row.BP)+\"\\n\")\n",
    "        OUTr.write(str(row.Chr)+\"\\t\"+str(row.BP)+\"\\n\")\n",
    "        n+=1\n",
    "OUT.close()\n",
    "OUTr.close()\n",
    "print(n)"
   ]
  },
  {
   "cell_type": "code",
   "execution_count": 139,
   "metadata": {
    "kernel": "bash"
   },
   "outputs": [
    {
     "name": "stdout",
     "output_type": "stream",
     "text": [
      "\n",
      "VCFtools - 0.1.17\n",
      "(C) Adam Auton and Anthony Marcketta 2009\n",
      "\n",
      "Parameters as interpreted:\n",
      "\t--vcf ./maf05mac4het9m3R50_2/Making/m85-hwPbi.recode.vcf\n",
      "\t--recode-INFO-all\n",
      "\t--out ./maf05mac4het9m3R50_2/Making/m85-hwPBi-fixed2_97\n",
      "\t--positions ./maf05mac4het9m3R50_2/Making/fixed2_97.positions\n",
      "\t--recode\n",
      "\n",
      "After filtering, kept 144 out of 144 Individuals\n",
      "Outputting VCF file...\n",
      "After filtering, kept 4090 out of a possible 15078 Sites\n",
      "Run Time = 3.00 seconds\n"
     ]
    }
   ],
   "source": [
    "%expand\n",
    "module load vcftools/v0.1.17\n",
    "\n",
    "vcftools --vcf {suffix}m85-hwPbi.recode.vcf --recode \\\n",
    "--recode-INFO-all --positions {suffix}fixed2_97.positions \\\n",
    "--out {suffix}m85-hwPBi-fixed2_97"
   ]
  },
  {
   "cell_type": "markdown",
   "metadata": {
    "kernel": "R"
   },
   "source": [
    "### Top markers based on PCA"
   ]
  },
  {
   "cell_type": "code",
   "execution_count": 46,
   "metadata": {
    "kernel": "bash"
   },
   "outputs": [
    {
     "name": "stdout",
     "output_type": "stream",
     "text": [
      "\n",
      "VCFtools - 0.1.17\n",
      "(C) Adam Auton and Anthony Marcketta 2009\n",
      "\n",
      "Parameters as interpreted:\n",
      "\t--vcf ./maf05mac4het9m3R50_2/Making/m85-hwPBi-fixed-thinned.vcf\n",
      "\t--recode-INFO-all\n",
      "\t--out ./maf05mac4het9m3R50_2/Making/../Analysis/pc12_95-fixed\n",
      "\t--positions ./maf05mac4het9m3R50_2/Making/../Analysis/pc12_95.positions\n",
      "\t--recode\n",
      "\n",
      "After filtering, kept 144 out of 144 Individuals\n",
      "Outputting VCF file...\n",
      "After filtering, kept 218 out of a possible 2229 Sites\n",
      "Run Time = 1.00 seconds\n"
     ]
    }
   ],
   "source": [
    "%expand\n",
    "module load vcftools/v0.1.17\n",
    "\n",
    "vcftools --vcf {suffix}m85-hwPBi-fixed-thinned.vcf --recode \\\n",
    "--recode-INFO-all --positions {suffix}../Analysis/pc12_95.positions \\\n",
    "--out {suffix}../Analysis/pc12_95-fixed"
   ]
  },
  {
   "cell_type": "code",
   "execution_count": 47,
   "metadata": {
    "kernel": "R"
   },
   "outputs": [
    {
     "data": {
      "text/html": [
       "'/gpfs01/home/kes0132/Delta/Stacks_Assembly/MyStacks/maf05mac4het9m3R50_2/Making'"
      ],
      "text/latex": [
       "'/gpfs01/home/kes0132/Delta/Stacks\\_Assembly/MyStacks/maf05mac4het9m3R50\\_2/Making'"
      ],
      "text/markdown": [
       "'/gpfs01/home/kes0132/Delta/Stacks_Assembly/MyStacks/maf05mac4het9m3R50_2/Making'"
      ],
      "text/plain": [
       "[1] \"/gpfs01/home/kes0132/Delta/Stacks_Assembly/MyStacks/maf05mac4het9m3R50_2/Making\""
      ]
     },
     "metadata": {},
     "output_type": "display_data"
    }
   ],
   "source": [
    "getwd()"
   ]
  },
  {
   "cell_type": "code",
   "execution_count": 16,
   "metadata": {
    "kernel": "ir",
    "scrolled": true
   },
   "outputs": [
    {
     "name": "stderr",
     "output_type": "stream",
     "text": [
      "Execution date@time: 20191007@1133\n",
      "Folder created: read_vcf_20191007@1133\n",
      "Function call and arguments stored in: radiator_read_vcf_args_20191007@1133.tsv\n",
      "File written: random.seed (542535)\n",
      "\n",
      "Reading VCF\n",
      "Data summary: \n",
      "    number of samples: 144\n",
      "    number of markers: 218\n",
      "done! timing: 1 sec\n",
      "\n",
      "\n",
      "File written: radiator_20191007@1133.gds\n",
      "\n",
      "Analyzing the data...\n",
      "VCF source: Stacks v2.4\n",
      "Data is bi-allelic\n",
      "Cleaning VCF's sample names\n",
      "Synchronizing data and strata...\n",
      "    Number of strata: 4\n",
      "    Number of individuals: 144\n",
      "Reads assembly: de novo\n",
      "Filters parameters file generated: filters_parameters_20191007@1133.tsv\n",
      "Filters parameters file: initiated and updated\n"
     ]
    },
    {
     "name": "stdout",
     "output_type": "stream",
     "text": [
      "################################################################################\n",
      "########################### radiator::filter_monomorphic #######################\n",
      "################################################################################\n"
     ]
    },
    {
     "name": "stderr",
     "output_type": "stream",
     "text": [
      "Execution date@time: 20191007@1133\n",
      "Function call and arguments stored in: radiator_filter_monomorphic_args_20191007@1133.tsv\n",
      "Filters parameters file: initiated\n",
      "File written: whitelist.polymorphic.markers_20191007@1133.tsv\n",
      "Filters parameters file: updated\n"
     ]
    },
    {
     "name": "stdout",
     "output_type": "stream",
     "text": [
      "################################### RESULTS ####################################\n"
     ]
    },
    {
     "name": "stderr",
     "output_type": "stream",
     "text": [
      "\n",
      "Filter monomorphic markers\n",
      "Number of individuals / strata / chrom / locus / SNP:\n",
      "    Before: 144 / 4 / 1 / 218 / 218\n",
      "    Blacklisted: 0 / 0 / 0 / 0 / 0\n",
      "    After: 144 / 4 / 1 / 218 / 218\n",
      "\n",
      "Computation time, overall: 0 sec\n"
     ]
    },
    {
     "name": "stdout",
     "output_type": "stream",
     "text": [
      "######################## filter_monomorphic completed ##########################\n"
     ]
    },
    {
     "name": "stderr",
     "output_type": "stream",
     "text": [
      "\n",
      "Preparing output files...\n",
      "File written: whitelist.markers.tsv\n",
      "Writing the filtered strata: strata.filtered.tsvstrata.filtered.tsv\n",
      "\n",
      "Generating statistics after filtering\n",
      "Generating individual stats...\n",
      "File written: individuals qc info and stats summary\n",
      "File written: individuals qc plot\n",
      "Generating markers stats...\n"
     ]
    },
    {
     "name": "stdout",
     "output_type": "stream",
     "text": [
      "################################### SUMMARY ####################################\n"
     ]
    },
    {
     "name": "stderr",
     "output_type": "stream",
     "text": [
      "\n",
      "\n",
      "Summary (AFTER filtering):\n",
      "Missing data: \n",
      "    markers: 0.02\n",
      "    individuals: 0.02\n",
      "\n",
      "\n",
      "Coverage info:\n",
      "    individuals mean read depth: 3229\n",
      "    individuals mean genotype coverage: 15\n",
      "    markers mean coverage: 15\n",
      "\n",
      "\n",
      "Number of chromosome/contig/scaffold: 1\n",
      "Number of locus: 218\n",
      "Number of markers: 218\n",
      "Number of populations: 4\n",
      "Number of individuals: 144\n",
      "\n",
      "Number of ind/pop:\n",
      "NB = 42\n",
      "DB = 29\n",
      "FL = 29\n",
      "ILMB = 44\n",
      "\n",
      "Number of duplicate id: 0\n",
      "radiator Genomic Data Structure (GDS) file: radiator_20191007@1133.gds\n",
      "\n",
      "Computation time, overall: 6 sec\n"
     ]
    },
    {
     "data": {
      "image/png": "[encoded data removed]",
      "text/plain": [
       "plot without title"
      ]
     },
     "metadata": {},
     "output_type": "display_data"
    },
    {
     "name": "stdout",
     "output_type": "stream",
     "text": [
      "############################## completed read_vcf ##############################\n"
     ]
    },
    {
     "data": {
      "image/png": "[encoded data removed]",
      "text/plain": [
       "plot without title"
      ]
     },
     "metadata": {},
     "output_type": "display_data"
    }
   ],
   "source": [
    "%expand\n",
    "data = read_vcf(\"../Analysis/pc12_95-fixed/pc12_95-fixed.recode.vcf\", strata = \"../../NFLDB.strata\",\n",
    "        vcf.stats = TRUE, parallel.core = 4, filter.common.markers = F, pop.levels=c(\"NB\",\"DB\",\"FL\",\"ILMB\") )\n"
   ]
  },
  {
   "cell_type": "code",
   "execution_count": 17,
   "metadata": {
    "kernel": "ir"
   },
   "outputs": [
    {
     "name": "stdout",
     "output_type": "stream",
     "text": [
      "################################################################################\n",
      "########################## radiator::genomic_converter #########################\n",
      "################################################################################\n"
     ]
    },
    {
     "name": "stderr",
     "output_type": "stream",
     "text": [
      "Execution date@time: 20191007@1134\n",
      "\n",
      "Deprecated arguments identified inside \"...\": \n",
      "    pop.levels\n",
      "\n",
      "Read documentation, for latest changes, and modify your codes!\n",
      "\n",
      "Folder created: 08_radiator_genomic_converter_20191007@1134\n",
      "Function call and arguments stored in: radiator_genomic_converter_args_20191007@1134.tsv\n",
      "Filters parameters file generated: filters_parameters_20191007@1134.tsv\n",
      "\n",
      "Importing data\n",
      "\n",
      "Synchronizing data and strata...\n",
      "    Number of strata: 4\n",
      "    Number of individuals: 144\n",
      "\n",
      "Writing tidy data set:\n",
      "pc12_95-fixed.rad\n",
      "\n",
      "Preparing data for output\n",
      "\n",
      "Data is bi-allelic\n",
      "Calibrating REF/ALT alleles...\n",
      "    number of REF/ALT switch = 0\n",
      "Generating structure file\n",
      "Generating adegenet genind object\n"
     ]
    },
    {
     "name": "stdout",
     "output_type": "stream",
     "text": [
      "################################### RESULTS ####################################\n"
     ]
    },
    {
     "name": "stderr",
     "output_type": "stream",
     "text": [
      "Data format of input: SeqVarGDSClass\n",
      "Biallelic data\n",
      "Number of markers: 218\n",
      "Number of chromosome/contig/scaffold: 1\n",
      "Number of strata: 4\n",
      "Number of individuals: 144\n",
      "\n",
      "Computation time, overall: 2 sec\n"
     ]
    },
    {
     "name": "stdout",
     "output_type": "stream",
     "text": [
      "######################### genomic_converter completed ##########################\n"
     ]
    }
   ],
   "source": [
    "outs = genomic_converter(data, strata=\"../../NFLDB.strata\", \n",
    "                  output = c(\"genind\",\"structure\"),\n",
    "                 parallel.core = 4, filename = \"pc12_95-fixed\",pop.levels=c(\"NB\",\"DB\",\"FL\",\"ILMB\"))"
   ]
  },
  {
   "cell_type": "code",
   "execution_count": 18,
   "metadata": {
    "kernel": "ir"
   },
   "outputs": [
    {
     "data": {
      "text/plain": [
       "/// GENIND OBJECT /////////\n",
       "\n",
       " // 144 individuals; 218 loci; 436 alleles; size: 410.1 Kb\n",
       "\n",
       " // Basic content\n",
       "   @tab:  144 x 436 matrix of allele counts\n",
       "   @loc.n.all: number of alleles per locus (range: 2-2)\n",
       "   @loc.fac: locus factor for the 436 columns of @tab\n",
       "   @all.names: list of allele names for each locus\n",
       "   @ploidy: ploidy of each individual  (range: 2-2)\n",
       "   @type:  codom\n",
       "   @call: radiator::write_genind(data = input, write = TRUE)\n",
       "\n",
       " // Optional content\n",
       "   @pop: population of each individual (group size range: 29-44)\n",
       "   @strata: a data frame with 2 columns ( INDIVIDUALS, POP_ID )"
      ]
     },
     "metadata": {},
     "output_type": "display_data"
    }
   ],
   "source": [
    "outs$genind"
   ]
  },
  {
   "cell_type": "code",
   "execution_count": 19,
   "metadata": {
    "kernel": "ir"
   },
   "outputs": [],
   "source": [
    "d = outs$genind\n",
    "save(d, file=\"../Analysis/pc12_95-fixed/pc12_95-fixed.genind\")"
   ]
  },
  {
   "cell_type": "code",
   "execution_count": null,
   "metadata": {
    "kernel": "ir"
   },
   "outputs": [],
   "source": []
  },
  {
   "cell_type": "markdown",
   "metadata": {
    "kernel": "Python3"
   },
   "source": [
    "## Structure file with pure references\n"
   ]
  },
  {
   "cell_type": "code",
   "execution_count": 3,
   "metadata": {
    "kernel": "Python3"
   },
   "outputs": [],
   "source": [
    "%expand\n",
    "#don't need\n",
    "purefile = open(\"{suffix}../Analysis/Pure_NFLDB.tsv\",\"r\")\n",
    "str_in = open(\"{suffix}../Analysis/allfiltu/allfiltu_pflag.str\",\"r\")\n",
    "str_out = open(\"{suffix}../Analysis/allfiltu/allfiltu_pflagPureB.str\",\"w\")\n",
    "\n",
    "keep = []\n",
    "next(purefile)\n",
    "next(purefile)\n",
    "for line in purefile:\n",
    "    keep.append(line.split(\"\\t\")[0])\n",
    "purefile.close()\n",
    "\n",
    "str_out.write(str_in.readline())\n",
    "for line in str_in:\n",
    "    stuff = line.split(\"\\t\")\n",
    "    if stuff[0] not in keep:\n",
    "        stuff[2] = \"0\"\n",
    "        if stuff[1] == \"1\":\n",
    "            stuff[1] = \"5\"\n",
    "        if stuff[1] == \"2\":\n",
    "            stuff[1] = \"6\"\n",
    "        if stuff[1] == \"3\":\n",
    "            stuff[1] = \"7\"\n",
    "    else:\n",
    "        stuff[2] = \"1\"\n",
    "    str_out.write(\"\\t\".join(stuff))\n",
    "\n",
    "str_in.close()\n",
    "str_out.close()"
   ]
  },
  {
   "cell_type": "code",
   "execution_count": 5,
   "metadata": {
    "kernel": "Python3"
   },
   "outputs": [],
   "source": [
    "%expand\n",
    "#don't need\n",
    "purefile = open(\"{suffix}../Analysis/Pure_NFLDB-fixed2_90.tsv\",\"r\")\n",
    "str_in = open(\"{suffix}../Analysis/allfiltu/all\",\"r\")\n",
    "str_out = open(\"{suffix}../Analysis/pc12_95-fixed/pc12_95-fixed_pflagPureB.str\",\"w\")\n",
    "\n",
    "keep = []\n",
    "next(purefile)\n",
    "next(purefile)\n",
    "for line in purefile:\n",
    "    keep.append(line.split(\"\\t\")[0])\n",
    "purefile.close()\n",
    "\n",
    "str_out.write(str_in.readline())\n",
    "for line in str_in:\n",
    "    stuff = line.split(\"\\t\")\n",
    "    if stuff[0] not in keep:\n",
    "        stuff[2] = \"0\"\n",
    "        if stuff[1] == \"1\":\n",
    "            stuff[1] = \"5\"\n",
    "        if stuff[1] == \"2\":\n",
    "            stuff[1] = \"6\"\n",
    "        if stuff[1] == \"3\":\n",
    "            stuff[1] = \"7\"\n",
    "    else:\n",
    "        stuff[2] = \"1\"\n",
    "    str_out.write(\"\\t\".join(stuff))\n",
    "\n",
    "str_in.close()\n",
    "str_out.close()"
   ]
  },
  {
   "cell_type": "code",
   "execution_count": 3,
   "metadata": {
    "kernel": "Python3"
   },
   "outputs": [],
   "source": [
    "%expand\n",
    "purefile = open(\"{suffix}../Analysis/Pure_NFLDB_allfiltu955.tsv\",\"r\")\n",
    "str_in = open(\"{suffix}../Analysis/fixed2_90u_pc12_90/pc12_90-fixed2_90_pflag.str\",\"r\")\n",
    "str_out = open(\"{suffix}../Analysis/fixed2_90u_pc12_90/pc12_90-fixed2_90_pflagPure95.str\",\"w\")\n",
    "\n",
    "keep = []\n",
    "next(purefile)\n",
    "next(purefile)\n",
    "for line in purefile:\n",
    "    keep.append(line.split(\"\\t\")[0])\n",
    "purefile.close()\n",
    "\n",
    "str_out.write(str_in.readline())\n",
    "for line in str_in:\n",
    "    stuff = line.split(\"\\t\")\n",
    "    if stuff[0] not in keep:\n",
    "        stuff[2] = \"0\"\n",
    "    else:\n",
    "        stuff[2] = \"1\"\n",
    "    str_out.write(\"\\t\".join(stuff))\n",
    "\n",
    "    \n",
    "\n",
    "str_in.close()\n",
    "str_out.close()"
   ]
  },
  {
   "cell_type": "code",
   "execution_count": null,
   "metadata": {
    "kernel": "Python3"
   },
   "outputs": [],
   "source": [
    "# editing black bass panel\n",
    "for line in str_in:\n",
    "    stuff = line.split(\"\\t\")\n",
    "    if stuff[1] != \"7\":\n",
    "        stuff.insert(2,\"1\")\n",
    "    else:\n",
    "        stuff.insert(2,\"0\")\n",
    "    str_out.write(\"\\t\".join(stuff))\n"
   ]
  },
  {
   "cell_type": "code",
   "execution_count": 6,
   "metadata": {
    "kernel": "Python3"
   },
   "outputs": [],
   "source": [
    "%expand\n",
    "purefile = open(\"{suffix}../Analysis/Pure_NFLDB.tsv\",\"r\")\n",
    "str_in = open(\"{suffix}../Analysis/pc12_95-fixed/pc12_95-fixed_pflag.str\",\"r\")\n",
    "str_out = open(\"{suffix}../Analysis/pc12_95-fixed/pc12_95-fixed_pflagPure.str\",\"w\")\n",
    "\n",
    "keep = []\n",
    "next(purefile)\n",
    "next(purefile)\n",
    "for line in purefile:\n",
    "    keep.append(line.split(\"\\t\")[0])\n",
    "purefile.close()\n",
    "\n",
    "str_out.write(str_in.readline())\n",
    "for line in str_in:\n",
    "    stuff = line.split(\"\\t\")\n",
    "    if stuff[0] not in keep:\n",
    "        stuff[2] = \"0\"\n",
    "    else:\n",
    "        stuff[2] = \"1\"\n",
    "    str_out.write(\"\\t\".join(stuff))\n",
    "\n",
    "str_in.close()\n",
    "str_out.close()"
   ]
  },
  {
   "cell_type": "code",
   "execution_count": 21,
   "metadata": {
    "kernel": "Python3"
   },
   "outputs": [
    {
     "data": {
      "text/plain": [
       "['CANOT-11830',\n",
       " 'CANOT-11832',\n",
       " 'CANOT-2617',\n",
       " 'CANOT11829',\n",
       " 'CANOT11837',\n",
       " 'CANOT11838',\n",
       " 'DB-2592',\n",
       " 'DB-2593',\n",
       " 'DB-2637',\n",
       " 'DB12041',\n",
       " 'DB2589',\n",
       " 'DB2590',\n",
       " 'DB2634',\n",
       " 'DB2635',\n",
       " 'SIPS-26',\n",
       " 'TN11851',\n",
       " 'TN11855',\n",
       " 'FL01',\n",
       " 'FL09',\n",
       " 'FL12',\n",
       " 'FL15',\n",
       " 'FL16',\n",
       " 'FL20',\n",
       " 'FL21',\n",
       " 'FL23',\n",
       " 'FL30',\n",
       " 'FL55',\n",
       " 'FL60',\n",
       " 'FL64',\n",
       " 'FL68',\n",
       " 'FL70',\n",
       " 'FL71',\n",
       " 'FL72',\n",
       " 'FL73',\n",
       " 'FLAL01',\n",
       " 'FLAL01II',\n",
       " 'FLAL02',\n",
       " 'FLAL02II',\n",
       " 'FLAL03',\n",
       " 'FLAL03',\n",
       " 'FLAL04',\n",
       " 'FLAL04II',\n",
       " 'FLF17',\n",
       " 'FLM10',\n",
       " 'FLM12',\n",
       " 'FLM13',\n",
       " 'FLM15',\n",
       " 'MATT-01',\n",
       " 'MATT-02',\n",
       " 'MATT-06',\n",
       " 'Mill-18',\n",
       " 'NB11',\n",
       " 'NB12',\n",
       " 'NB13',\n",
       " 'NB19',\n",
       " 'NBM01',\n",
       " 'Otter-13',\n",
       " 'Otter-4',\n",
       " 'SL04',\n",
       " 'SL10',\n",
       " 'SL11',\n",
       " 'SL14',\n",
       " 'SL15',\n",
       " 'SL16',\n",
       " 'SL19',\n",
       " 'SL2',\n",
       " 'SL8']"
      ]
     },
     "execution_count": 21,
     "metadata": {},
     "output_type": "execute_result"
    }
   ],
   "source": [
    "keep"
   ]
  },
  {
   "cell_type": "markdown",
   "metadata": {
    "kernel": "ir"
   },
   "source": [
    "## Fixed within all pops"
   ]
  },
  {
   "cell_type": "code",
   "execution_count": 269,
   "metadata": {
    "kernel": "Python3"
   },
   "outputs": [],
   "source": [
    "import pandas as pd\n",
    "infile =\"./maf05mac4het9m3R50_2/populations.sumstats.tsv\"\n",
    "\n",
    "IN = pd.read_table(infile,header=4)"
   ]
  },
  {
   "cell_type": "code",
   "execution_count": 85,
   "metadata": {
    "kernel": "Python3"
   },
   "outputs": [
    {
     "data": {
      "text/plain": [
       "# Locus ID                int64\n",
       "Chr                       int64\n",
       "BP                        int64\n",
       "Col                       int64\n",
       "Pop ID                   object\n",
       "P Nuc                    object\n",
       "Q Nuc                    object\n",
       "N                         int64\n",
       "P                       float64\n",
       "Obs Het                 float64\n",
       "Obs Hom                 float64\n",
       "Exp Het                 float64\n",
       "Exp Hom                 float64\n",
       "Pi                      float64\n",
       "Smoothed Pi             float64\n",
       "Smoothed Pi P-value     float64\n",
       "Fis                     float64\n",
       "Smoothed Fis            float64\n",
       "Smoothed Fis P-value    float64\n",
       "HWE P-value             float64\n",
       "Private                   int64\n",
       "dtype: object"
      ]
     },
     "execution_count": 85,
     "metadata": {},
     "output_type": "execute_result"
    }
   ],
   "source": [
    "IN.dtypes"
   ]
  },
  {
   "cell_type": "code",
   "execution_count": 270,
   "metadata": {
    "kernel": "Python3"
   },
   "outputs": [],
   "source": [
    "#movies[(movies.duration >= 200) & (movies.genre == 'Drama')]\n",
    "fixed = IN[((IN['P'] >0.98) | (IN['P'] < 0.02)) & (IN['Pop ID'] != \"ILMB\")]"
   ]
  },
  {
   "cell_type": "code",
   "execution_count": 272,
   "metadata": {
    "kernel": "Python3"
   },
   "outputs": [
    {
     "data": {
      "text/html": [
       "<div>\n",
       "<style scoped>\n",
       "    .dataframe tbody tr th:only-of-type {\n",
       "        vertical-align: middle;\n",
       "    }\n",
       "\n",
       "    .dataframe tbody tr th {\n",
       "        vertical-align: top;\n",
       "    }\n",
       "\n",
       "    .dataframe thead th {\n",
       "        text-align: right;\n",
       "    }\n",
       "</style>\n",
       "<table border=\"1\" class=\"dataframe\">\n",
       "  <thead>\n",
       "    <tr style=\"text-align: right;\">\n",
       "      <th></th>\n",
       "      <th># Locus ID</th>\n",
       "      <th>Chr</th>\n",
       "      <th>BP</th>\n",
       "      <th>Col</th>\n",
       "      <th>Pop ID</th>\n",
       "      <th>P Nuc</th>\n",
       "      <th>Q Nuc</th>\n",
       "      <th>N</th>\n",
       "      <th>P</th>\n",
       "      <th>Obs Het</th>\n",
       "      <th>...</th>\n",
       "      <th>Exp Het</th>\n",
       "      <th>Exp Hom</th>\n",
       "      <th>Pi</th>\n",
       "      <th>Smoothed Pi</th>\n",
       "      <th>Smoothed Pi P-value</th>\n",
       "      <th>Fis</th>\n",
       "      <th>Smoothed Fis</th>\n",
       "      <th>Smoothed Fis P-value</th>\n",
       "      <th>HWE P-value</th>\n",
       "      <th>Private</th>\n",
       "    </tr>\n",
       "  </thead>\n",
       "  <tbody>\n",
       "    <tr>\n",
       "      <td>5</td>\n",
       "      <td>178</td>\n",
       "      <td>18</td>\n",
       "      <td>2739</td>\n",
       "      <td>90</td>\n",
       "      <td>FL</td>\n",
       "      <td>A</td>\n",
       "      <td>-</td>\n",
       "      <td>29</td>\n",
       "      <td>1.000000</td>\n",
       "      <td>0.00000</td>\n",
       "      <td>...</td>\n",
       "      <td>0.00000</td>\n",
       "      <td>1.00000</td>\n",
       "      <td>0.00000</td>\n",
       "      <td>0.00000</td>\n",
       "      <td>0.0</td>\n",
       "      <td>0.0</td>\n",
       "      <td>0.00000</td>\n",
       "      <td>0.0</td>\n",
       "      <td>1.0</td>\n",
       "      <td>0</td>\n",
       "    </tr>\n",
       "    <tr>\n",
       "      <td>9</td>\n",
       "      <td>179</td>\n",
       "      <td>18</td>\n",
       "      <td>2739</td>\n",
       "      <td>30</td>\n",
       "      <td>FL</td>\n",
       "      <td>T</td>\n",
       "      <td>-</td>\n",
       "      <td>28</td>\n",
       "      <td>1.000000</td>\n",
       "      <td>0.00000</td>\n",
       "      <td>...</td>\n",
       "      <td>0.00000</td>\n",
       "      <td>1.00000</td>\n",
       "      <td>0.00000</td>\n",
       "      <td>0.00000</td>\n",
       "      <td>0.0</td>\n",
       "      <td>0.0</td>\n",
       "      <td>0.00000</td>\n",
       "      <td>0.0</td>\n",
       "      <td>1.0</td>\n",
       "      <td>0</td>\n",
       "    </tr>\n",
       "    <tr>\n",
       "      <td>12</td>\n",
       "      <td>183</td>\n",
       "      <td>18</td>\n",
       "      <td>10128</td>\n",
       "      <td>74</td>\n",
       "      <td>DB</td>\n",
       "      <td>A</td>\n",
       "      <td>-</td>\n",
       "      <td>29</td>\n",
       "      <td>1.000000</td>\n",
       "      <td>0.00000</td>\n",
       "      <td>...</td>\n",
       "      <td>0.00000</td>\n",
       "      <td>1.00000</td>\n",
       "      <td>0.00000</td>\n",
       "      <td>0.00000</td>\n",
       "      <td>0.0</td>\n",
       "      <td>0.0</td>\n",
       "      <td>0.00000</td>\n",
       "      <td>0.0</td>\n",
       "      <td>1.0</td>\n",
       "      <td>0</td>\n",
       "    </tr>\n",
       "    <tr>\n",
       "      <td>14</td>\n",
       "      <td>183</td>\n",
       "      <td>18</td>\n",
       "      <td>10128</td>\n",
       "      <td>74</td>\n",
       "      <td>NB</td>\n",
       "      <td>A</td>\n",
       "      <td>-</td>\n",
       "      <td>40</td>\n",
       "      <td>1.000000</td>\n",
       "      <td>0.00000</td>\n",
       "      <td>...</td>\n",
       "      <td>0.00000</td>\n",
       "      <td>1.00000</td>\n",
       "      <td>0.00000</td>\n",
       "      <td>0.00000</td>\n",
       "      <td>0.0</td>\n",
       "      <td>0.0</td>\n",
       "      <td>0.00000</td>\n",
       "      <td>0.0</td>\n",
       "      <td>1.0</td>\n",
       "      <td>0</td>\n",
       "    </tr>\n",
       "    <tr>\n",
       "      <td>16</td>\n",
       "      <td>185</td>\n",
       "      <td>18</td>\n",
       "      <td>10128</td>\n",
       "      <td>32</td>\n",
       "      <td>DB</td>\n",
       "      <td>T</td>\n",
       "      <td>-</td>\n",
       "      <td>29</td>\n",
       "      <td>1.000000</td>\n",
       "      <td>0.00000</td>\n",
       "      <td>...</td>\n",
       "      <td>0.00000</td>\n",
       "      <td>1.00000</td>\n",
       "      <td>0.00000</td>\n",
       "      <td>0.00000</td>\n",
       "      <td>0.0</td>\n",
       "      <td>0.0</td>\n",
       "      <td>0.00000</td>\n",
       "      <td>0.0</td>\n",
       "      <td>1.0</td>\n",
       "      <td>0</td>\n",
       "    </tr>\n",
       "    <tr>\n",
       "      <td>18</td>\n",
       "      <td>185</td>\n",
       "      <td>18</td>\n",
       "      <td>10128</td>\n",
       "      <td>32</td>\n",
       "      <td>NB</td>\n",
       "      <td>T</td>\n",
       "      <td>-</td>\n",
       "      <td>41</td>\n",
       "      <td>1.000000</td>\n",
       "      <td>0.00000</td>\n",
       "      <td>...</td>\n",
       "      <td>0.00000</td>\n",
       "      <td>1.00000</td>\n",
       "      <td>0.00000</td>\n",
       "      <td>0.00000</td>\n",
       "      <td>0.0</td>\n",
       "      <td>0.0</td>\n",
       "      <td>0.00000</td>\n",
       "      <td>0.0</td>\n",
       "      <td>1.0</td>\n",
       "      <td>0</td>\n",
       "    </tr>\n",
       "    <tr>\n",
       "      <td>21</td>\n",
       "      <td>193</td>\n",
       "      <td>21</td>\n",
       "      <td>2687</td>\n",
       "      <td>28</td>\n",
       "      <td>FL</td>\n",
       "      <td>G</td>\n",
       "      <td>-</td>\n",
       "      <td>29</td>\n",
       "      <td>1.000000</td>\n",
       "      <td>0.00000</td>\n",
       "      <td>...</td>\n",
       "      <td>0.00000</td>\n",
       "      <td>1.00000</td>\n",
       "      <td>0.00000</td>\n",
       "      <td>0.00000</td>\n",
       "      <td>0.0</td>\n",
       "      <td>0.0</td>\n",
       "      <td>0.00000</td>\n",
       "      <td>0.0</td>\n",
       "      <td>1.0</td>\n",
       "      <td>0</td>\n",
       "    </tr>\n",
       "    <tr>\n",
       "      <td>22</td>\n",
       "      <td>193</td>\n",
       "      <td>21</td>\n",
       "      <td>2687</td>\n",
       "      <td>28</td>\n",
       "      <td>NB</td>\n",
       "      <td>G</td>\n",
       "      <td>-</td>\n",
       "      <td>42</td>\n",
       "      <td>1.000000</td>\n",
       "      <td>0.00000</td>\n",
       "      <td>...</td>\n",
       "      <td>0.00000</td>\n",
       "      <td>1.00000</td>\n",
       "      <td>0.00000</td>\n",
       "      <td>0.00000</td>\n",
       "      <td>0.0</td>\n",
       "      <td>0.0</td>\n",
       "      <td>0.00000</td>\n",
       "      <td>0.0</td>\n",
       "      <td>1.0</td>\n",
       "      <td>0</td>\n",
       "    </tr>\n",
       "    <tr>\n",
       "      <td>24</td>\n",
       "      <td>193</td>\n",
       "      <td>21</td>\n",
       "      <td>2702</td>\n",
       "      <td>43</td>\n",
       "      <td>DB</td>\n",
       "      <td>T</td>\n",
       "      <td>C</td>\n",
       "      <td>29</td>\n",
       "      <td>0.982759</td>\n",
       "      <td>0.03448</td>\n",
       "      <td>...</td>\n",
       "      <td>0.03389</td>\n",
       "      <td>0.96611</td>\n",
       "      <td>0.03448</td>\n",
       "      <td>0.00113</td>\n",
       "      <td>0.0</td>\n",
       "      <td>-0.0</td>\n",
       "      <td>0.03734</td>\n",
       "      <td>0.0</td>\n",
       "      <td>1.0</td>\n",
       "      <td>0</td>\n",
       "    </tr>\n",
       "    <tr>\n",
       "      <td>26</td>\n",
       "      <td>193</td>\n",
       "      <td>21</td>\n",
       "      <td>2702</td>\n",
       "      <td>43</td>\n",
       "      <td>NB</td>\n",
       "      <td>T</td>\n",
       "      <td>-</td>\n",
       "      <td>42</td>\n",
       "      <td>1.000000</td>\n",
       "      <td>0.00000</td>\n",
       "      <td>...</td>\n",
       "      <td>0.00000</td>\n",
       "      <td>1.00000</td>\n",
       "      <td>0.00000</td>\n",
       "      <td>0.00000</td>\n",
       "      <td>0.0</td>\n",
       "      <td>0.0</td>\n",
       "      <td>0.00000</td>\n",
       "      <td>0.0</td>\n",
       "      <td>1.0</td>\n",
       "      <td>0</td>\n",
       "    </tr>\n",
       "    <tr>\n",
       "      <td>28</td>\n",
       "      <td>195</td>\n",
       "      <td>21</td>\n",
       "      <td>2702</td>\n",
       "      <td>24</td>\n",
       "      <td>DB</td>\n",
       "      <td>A</td>\n",
       "      <td>G</td>\n",
       "      <td>29</td>\n",
       "      <td>0.982759</td>\n",
       "      <td>0.03448</td>\n",
       "      <td>...</td>\n",
       "      <td>0.03389</td>\n",
       "      <td>0.96611</td>\n",
       "      <td>0.03448</td>\n",
       "      <td>0.00000</td>\n",
       "      <td>0.0</td>\n",
       "      <td>-0.0</td>\n",
       "      <td>0.00000</td>\n",
       "      <td>0.0</td>\n",
       "      <td>1.0</td>\n",
       "      <td>0</td>\n",
       "    </tr>\n",
       "    <tr>\n",
       "      <td>30</td>\n",
       "      <td>195</td>\n",
       "      <td>21</td>\n",
       "      <td>2702</td>\n",
       "      <td>24</td>\n",
       "      <td>NB</td>\n",
       "      <td>A</td>\n",
       "      <td>-</td>\n",
       "      <td>42</td>\n",
       "      <td>1.000000</td>\n",
       "      <td>0.00000</td>\n",
       "      <td>...</td>\n",
       "      <td>0.00000</td>\n",
       "      <td>1.00000</td>\n",
       "      <td>0.00000</td>\n",
       "      <td>0.00000</td>\n",
       "      <td>0.0</td>\n",
       "      <td>0.0</td>\n",
       "      <td>0.00000</td>\n",
       "      <td>0.0</td>\n",
       "      <td>1.0</td>\n",
       "      <td>0</td>\n",
       "    </tr>\n",
       "    <tr>\n",
       "      <td>33</td>\n",
       "      <td>195</td>\n",
       "      <td>21</td>\n",
       "      <td>2687</td>\n",
       "      <td>39</td>\n",
       "      <td>FL</td>\n",
       "      <td>C</td>\n",
       "      <td>-</td>\n",
       "      <td>29</td>\n",
       "      <td>1.000000</td>\n",
       "      <td>0.00000</td>\n",
       "      <td>...</td>\n",
       "      <td>0.00000</td>\n",
       "      <td>1.00000</td>\n",
       "      <td>0.00000</td>\n",
       "      <td>0.00000</td>\n",
       "      <td>0.0</td>\n",
       "      <td>0.0</td>\n",
       "      <td>0.00000</td>\n",
       "      <td>0.0</td>\n",
       "      <td>1.0</td>\n",
       "      <td>0</td>\n",
       "    </tr>\n",
       "    <tr>\n",
       "      <td>34</td>\n",
       "      <td>195</td>\n",
       "      <td>21</td>\n",
       "      <td>2687</td>\n",
       "      <td>39</td>\n",
       "      <td>NB</td>\n",
       "      <td>C</td>\n",
       "      <td>-</td>\n",
       "      <td>42</td>\n",
       "      <td>1.000000</td>\n",
       "      <td>0.00000</td>\n",
       "      <td>...</td>\n",
       "      <td>0.00000</td>\n",
       "      <td>1.00000</td>\n",
       "      <td>0.00000</td>\n",
       "      <td>0.00000</td>\n",
       "      <td>0.0</td>\n",
       "      <td>0.0</td>\n",
       "      <td>0.00000</td>\n",
       "      <td>0.0</td>\n",
       "      <td>1.0</td>\n",
       "      <td>0</td>\n",
       "    </tr>\n",
       "    <tr>\n",
       "      <td>36</td>\n",
       "      <td>199</td>\n",
       "      <td>21</td>\n",
       "      <td>21986</td>\n",
       "      <td>35</td>\n",
       "      <td>DB</td>\n",
       "      <td>C</td>\n",
       "      <td>-</td>\n",
       "      <td>2</td>\n",
       "      <td>1.000000</td>\n",
       "      <td>0.00000</td>\n",
       "      <td>...</td>\n",
       "      <td>0.00000</td>\n",
       "      <td>1.00000</td>\n",
       "      <td>0.00000</td>\n",
       "      <td>0.00000</td>\n",
       "      <td>0.0</td>\n",
       "      <td>0.0</td>\n",
       "      <td>0.00000</td>\n",
       "      <td>0.0</td>\n",
       "      <td>1.0</td>\n",
       "      <td>0</td>\n",
       "    </tr>\n",
       "    <tr>\n",
       "      <td>37</td>\n",
       "      <td>199</td>\n",
       "      <td>21</td>\n",
       "      <td>21986</td>\n",
       "      <td>35</td>\n",
       "      <td>FL</td>\n",
       "      <td>C</td>\n",
       "      <td>-</td>\n",
       "      <td>28</td>\n",
       "      <td>1.000000</td>\n",
       "      <td>0.00000</td>\n",
       "      <td>...</td>\n",
       "      <td>0.00000</td>\n",
       "      <td>1.00000</td>\n",
       "      <td>0.00000</td>\n",
       "      <td>0.00000</td>\n",
       "      <td>0.0</td>\n",
       "      <td>0.0</td>\n",
       "      <td>0.00000</td>\n",
       "      <td>0.0</td>\n",
       "      <td>1.0</td>\n",
       "      <td>0</td>\n",
       "    </tr>\n",
       "    <tr>\n",
       "      <td>38</td>\n",
       "      <td>199</td>\n",
       "      <td>21</td>\n",
       "      <td>21986</td>\n",
       "      <td>35</td>\n",
       "      <td>NB</td>\n",
       "      <td>C</td>\n",
       "      <td>-</td>\n",
       "      <td>39</td>\n",
       "      <td>1.000000</td>\n",
       "      <td>0.00000</td>\n",
       "      <td>...</td>\n",
       "      <td>0.00000</td>\n",
       "      <td>1.00000</td>\n",
       "      <td>0.00000</td>\n",
       "      <td>0.00000</td>\n",
       "      <td>0.0</td>\n",
       "      <td>0.0</td>\n",
       "      <td>0.00000</td>\n",
       "      <td>0.0</td>\n",
       "      <td>1.0</td>\n",
       "      <td>0</td>\n",
       "    </tr>\n",
       "    <tr>\n",
       "      <td>40</td>\n",
       "      <td>200</td>\n",
       "      <td>21</td>\n",
       "      <td>21986</td>\n",
       "      <td>45</td>\n",
       "      <td>DB</td>\n",
       "      <td>G</td>\n",
       "      <td>-</td>\n",
       "      <td>1</td>\n",
       "      <td>1.000000</td>\n",
       "      <td>0.00000</td>\n",
       "      <td>...</td>\n",
       "      <td>0.00000</td>\n",
       "      <td>1.00000</td>\n",
       "      <td>0.00000</td>\n",
       "      <td>0.00000</td>\n",
       "      <td>0.0</td>\n",
       "      <td>0.0</td>\n",
       "      <td>0.00000</td>\n",
       "      <td>0.0</td>\n",
       "      <td>1.0</td>\n",
       "      <td>0</td>\n",
       "    </tr>\n",
       "    <tr>\n",
       "      <td>41</td>\n",
       "      <td>200</td>\n",
       "      <td>21</td>\n",
       "      <td>21986</td>\n",
       "      <td>45</td>\n",
       "      <td>FL</td>\n",
       "      <td>G</td>\n",
       "      <td>-</td>\n",
       "      <td>28</td>\n",
       "      <td>1.000000</td>\n",
       "      <td>0.00000</td>\n",
       "      <td>...</td>\n",
       "      <td>0.00000</td>\n",
       "      <td>1.00000</td>\n",
       "      <td>0.00000</td>\n",
       "      <td>0.00000</td>\n",
       "      <td>0.0</td>\n",
       "      <td>0.0</td>\n",
       "      <td>0.00000</td>\n",
       "      <td>0.0</td>\n",
       "      <td>1.0</td>\n",
       "      <td>0</td>\n",
       "    </tr>\n",
       "    <tr>\n",
       "      <td>42</td>\n",
       "      <td>200</td>\n",
       "      <td>21</td>\n",
       "      <td>21986</td>\n",
       "      <td>45</td>\n",
       "      <td>NB</td>\n",
       "      <td>G</td>\n",
       "      <td>-</td>\n",
       "      <td>39</td>\n",
       "      <td>1.000000</td>\n",
       "      <td>0.00000</td>\n",
       "      <td>...</td>\n",
       "      <td>0.00000</td>\n",
       "      <td>1.00000</td>\n",
       "      <td>0.00000</td>\n",
       "      <td>0.00000</td>\n",
       "      <td>0.0</td>\n",
       "      <td>0.0</td>\n",
       "      <td>0.00000</td>\n",
       "      <td>0.0</td>\n",
       "      <td>1.0</td>\n",
       "      <td>0</td>\n",
       "    </tr>\n",
       "  </tbody>\n",
       "</table>\n",
       "<p>20 rows × 21 columns</p>\n",
       "</div>"
      ],
      "text/plain": [
       "    # Locus ID  Chr     BP  Col Pop ID P Nuc Q Nuc   N         P  Obs Het  \\\n",
       "5          178   18   2739   90     FL     A     -  29  1.000000  0.00000   \n",
       "9          179   18   2739   30     FL     T     -  28  1.000000  0.00000   \n",
       "12         183   18  10128   74     DB     A     -  29  1.000000  0.00000   \n",
       "14         183   18  10128   74     NB     A     -  40  1.000000  0.00000   \n",
       "16         185   18  10128   32     DB     T     -  29  1.000000  0.00000   \n",
       "18         185   18  10128   32     NB     T     -  41  1.000000  0.00000   \n",
       "21         193   21   2687   28     FL     G     -  29  1.000000  0.00000   \n",
       "22         193   21   2687   28     NB     G     -  42  1.000000  0.00000   \n",
       "24         193   21   2702   43     DB     T     C  29  0.982759  0.03448   \n",
       "26         193   21   2702   43     NB     T     -  42  1.000000  0.00000   \n",
       "28         195   21   2702   24     DB     A     G  29  0.982759  0.03448   \n",
       "30         195   21   2702   24     NB     A     -  42  1.000000  0.00000   \n",
       "33         195   21   2687   39     FL     C     -  29  1.000000  0.00000   \n",
       "34         195   21   2687   39     NB     C     -  42  1.000000  0.00000   \n",
       "36         199   21  21986   35     DB     C     -   2  1.000000  0.00000   \n",
       "37         199   21  21986   35     FL     C     -  28  1.000000  0.00000   \n",
       "38         199   21  21986   35     NB     C     -  39  1.000000  0.00000   \n",
       "40         200   21  21986   45     DB     G     -   1  1.000000  0.00000   \n",
       "41         200   21  21986   45     FL     G     -  28  1.000000  0.00000   \n",
       "42         200   21  21986   45     NB     G     -  39  1.000000  0.00000   \n",
       "\n",
       "    ...  Exp Het  Exp Hom       Pi  Smoothed Pi  Smoothed Pi P-value  Fis  \\\n",
       "5   ...  0.00000  1.00000  0.00000      0.00000                  0.0  0.0   \n",
       "9   ...  0.00000  1.00000  0.00000      0.00000                  0.0  0.0   \n",
       "12  ...  0.00000  1.00000  0.00000      0.00000                  0.0  0.0   \n",
       "14  ...  0.00000  1.00000  0.00000      0.00000                  0.0  0.0   \n",
       "16  ...  0.00000  1.00000  0.00000      0.00000                  0.0  0.0   \n",
       "18  ...  0.00000  1.00000  0.00000      0.00000                  0.0  0.0   \n",
       "21  ...  0.00000  1.00000  0.00000      0.00000                  0.0  0.0   \n",
       "22  ...  0.00000  1.00000  0.00000      0.00000                  0.0  0.0   \n",
       "24  ...  0.03389  0.96611  0.03448      0.00113                  0.0 -0.0   \n",
       "26  ...  0.00000  1.00000  0.00000      0.00000                  0.0  0.0   \n",
       "28  ...  0.03389  0.96611  0.03448      0.00000                  0.0 -0.0   \n",
       "30  ...  0.00000  1.00000  0.00000      0.00000                  0.0  0.0   \n",
       "33  ...  0.00000  1.00000  0.00000      0.00000                  0.0  0.0   \n",
       "34  ...  0.00000  1.00000  0.00000      0.00000                  0.0  0.0   \n",
       "36  ...  0.00000  1.00000  0.00000      0.00000                  0.0  0.0   \n",
       "37  ...  0.00000  1.00000  0.00000      0.00000                  0.0  0.0   \n",
       "38  ...  0.00000  1.00000  0.00000      0.00000                  0.0  0.0   \n",
       "40  ...  0.00000  1.00000  0.00000      0.00000                  0.0  0.0   \n",
       "41  ...  0.00000  1.00000  0.00000      0.00000                  0.0  0.0   \n",
       "42  ...  0.00000  1.00000  0.00000      0.00000                  0.0  0.0   \n",
       "\n",
       "    Smoothed Fis  Smoothed Fis P-value  HWE P-value  Private  \n",
       "5        0.00000                   0.0          1.0        0  \n",
       "9        0.00000                   0.0          1.0        0  \n",
       "12       0.00000                   0.0          1.0        0  \n",
       "14       0.00000                   0.0          1.0        0  \n",
       "16       0.00000                   0.0          1.0        0  \n",
       "18       0.00000                   0.0          1.0        0  \n",
       "21       0.00000                   0.0          1.0        0  \n",
       "22       0.00000                   0.0          1.0        0  \n",
       "24       0.03734                   0.0          1.0        0  \n",
       "26       0.00000                   0.0          1.0        0  \n",
       "28       0.00000                   0.0          1.0        0  \n",
       "30       0.00000                   0.0          1.0        0  \n",
       "33       0.00000                   0.0          1.0        0  \n",
       "34       0.00000                   0.0          1.0        0  \n",
       "36       0.00000                   0.0          1.0        0  \n",
       "37       0.00000                   0.0          1.0        0  \n",
       "38       0.00000                   0.0          1.0        0  \n",
       "40       0.00000                   0.0          1.0        0  \n",
       "41       0.00000                   0.0          1.0        0  \n",
       "42       0.00000                   0.0          1.0        0  \n",
       "\n",
       "[20 rows x 21 columns]"
      ]
     },
     "execution_count": 272,
     "metadata": {},
     "output_type": "execute_result"
    }
   ],
   "source": [
    "fixed.iloc[0:20]"
   ]
  },
  {
   "cell_type": "code",
   "execution_count": 279,
   "metadata": {
    "kernel": "Python3"
   },
   "outputs": [],
   "source": [
    "check ={}\n",
    "alt = {}\n",
    "fix3Loc = []\n",
    "inds = []\n",
    "ind_check = []\n",
    "for row in fixed.itertuples(index=True):\n",
    "    if (row._1,row.Chr,row.BP) not in check.keys():\n",
    "        check[(row._1,row.Chr,row.BP)] = 1\n",
    "        alt[(row._1,row.Chr,row.BP)] = [row.P]\n",
    "    else:\n",
    "        check[(row._1,row.Chr,row.BP)] += 1\n",
    "        alt[(row._1,row.Chr,row.BP)].append(row.P)\n",
    "        if check[(row._1,row.Chr,row.BP)] == 3:\n",
    "            if any(i < 0.02 for i in alt[(row._1,row.Chr,row.BP)]):\n",
    "                fix3Loc.append((row.Chr,row.BP))\n",
    "          "
   ]
  },
  {
   "cell_type": "code",
   "execution_count": 280,
   "metadata": {
    "kernel": "Python3"
   },
   "outputs": [
    {
     "data": {
      "text/plain": [
       "3749"
      ]
     },
     "execution_count": 280,
     "metadata": {},
     "output_type": "execute_result"
    }
   ],
   "source": [
    "len(fix3Loc)"
   ]
  },
  {
   "cell_type": "code",
   "execution_count": 281,
   "metadata": {
    "kernel": "Python3"
   },
   "outputs": [],
   "source": [
    "x = IN[IN[[\"Chr\",\"BP\"]].apply(tuple, 1).isin(fix3Loc)]"
   ]
  },
  {
   "cell_type": "code",
   "execution_count": 282,
   "metadata": {
    "kernel": "Python3"
   },
   "outputs": [
    {
     "data": {
      "text/html": [
       "<div>\n",
       "<style scoped>\n",
       "    .dataframe tbody tr th:only-of-type {\n",
       "        vertical-align: middle;\n",
       "    }\n",
       "\n",
       "    .dataframe tbody tr th {\n",
       "        vertical-align: top;\n",
       "    }\n",
       "\n",
       "    .dataframe thead th {\n",
       "        text-align: right;\n",
       "    }\n",
       "</style>\n",
       "<table border=\"1\" class=\"dataframe\">\n",
       "  <thead>\n",
       "    <tr style=\"text-align: right;\">\n",
       "      <th></th>\n",
       "      <th># Locus ID</th>\n",
       "      <th>Chr</th>\n",
       "      <th>BP</th>\n",
       "      <th>Col</th>\n",
       "      <th>Pop ID</th>\n",
       "      <th>P Nuc</th>\n",
       "      <th>Q Nuc</th>\n",
       "      <th>N</th>\n",
       "      <th>P</th>\n",
       "      <th>Obs Het</th>\n",
       "      <th>...</th>\n",
       "      <th>Exp Het</th>\n",
       "      <th>Exp Hom</th>\n",
       "      <th>Pi</th>\n",
       "      <th>Smoothed Pi</th>\n",
       "      <th>Smoothed Pi P-value</th>\n",
       "      <th>Fis</th>\n",
       "      <th>Smoothed Fis</th>\n",
       "      <th>Smoothed Fis P-value</th>\n",
       "      <th>HWE P-value</th>\n",
       "      <th>Private</th>\n",
       "    </tr>\n",
       "  </thead>\n",
       "  <tbody>\n",
       "    <tr>\n",
       "      <td>67</td>\n",
       "      <td>267</td>\n",
       "      <td>23</td>\n",
       "      <td>27403</td>\n",
       "      <td>15</td>\n",
       "      <td>ILMB</td>\n",
       "      <td>C</td>\n",
       "      <td>T</td>\n",
       "      <td>28</td>\n",
       "      <td>0.535714</td>\n",
       "      <td>0.50000</td>\n",
       "      <td>...</td>\n",
       "      <td>0.49745</td>\n",
       "      <td>0.50255</td>\n",
       "      <td>0.50649</td>\n",
       "      <td>0.00083</td>\n",
       "      <td>0.0</td>\n",
       "      <td>0.01282</td>\n",
       "      <td>0.01711</td>\n",
       "      <td>0.0</td>\n",
       "      <td>1.00000</td>\n",
       "      <td>0</td>\n",
       "    </tr>\n",
       "    <tr>\n",
       "      <td>68</td>\n",
       "      <td>267</td>\n",
       "      <td>23</td>\n",
       "      <td>27403</td>\n",
       "      <td>15</td>\n",
       "      <td>DB</td>\n",
       "      <td>C</td>\n",
       "      <td>-</td>\n",
       "      <td>21</td>\n",
       "      <td>1.000000</td>\n",
       "      <td>0.00000</td>\n",
       "      <td>...</td>\n",
       "      <td>0.00000</td>\n",
       "      <td>1.00000</td>\n",
       "      <td>0.00000</td>\n",
       "      <td>0.00000</td>\n",
       "      <td>0.0</td>\n",
       "      <td>0.00000</td>\n",
       "      <td>0.00000</td>\n",
       "      <td>0.0</td>\n",
       "      <td>1.00000</td>\n",
       "      <td>0</td>\n",
       "    </tr>\n",
       "    <tr>\n",
       "      <td>69</td>\n",
       "      <td>267</td>\n",
       "      <td>23</td>\n",
       "      <td>27403</td>\n",
       "      <td>15</td>\n",
       "      <td>FL</td>\n",
       "      <td>-</td>\n",
       "      <td>T</td>\n",
       "      <td>13</td>\n",
       "      <td>0.000000</td>\n",
       "      <td>0.00000</td>\n",
       "      <td>...</td>\n",
       "      <td>0.00000</td>\n",
       "      <td>1.00000</td>\n",
       "      <td>0.00000</td>\n",
       "      <td>0.00000</td>\n",
       "      <td>0.0</td>\n",
       "      <td>0.00000</td>\n",
       "      <td>0.00000</td>\n",
       "      <td>0.0</td>\n",
       "      <td>1.00000</td>\n",
       "      <td>0</td>\n",
       "    </tr>\n",
       "    <tr>\n",
       "      <td>70</td>\n",
       "      <td>267</td>\n",
       "      <td>23</td>\n",
       "      <td>27403</td>\n",
       "      <td>15</td>\n",
       "      <td>NB</td>\n",
       "      <td>C</td>\n",
       "      <td>-</td>\n",
       "      <td>23</td>\n",
       "      <td>1.000000</td>\n",
       "      <td>0.00000</td>\n",
       "      <td>...</td>\n",
       "      <td>0.00000</td>\n",
       "      <td>1.00000</td>\n",
       "      <td>0.00000</td>\n",
       "      <td>0.00000</td>\n",
       "      <td>0.0</td>\n",
       "      <td>0.00000</td>\n",
       "      <td>0.00000</td>\n",
       "      <td>0.0</td>\n",
       "      <td>1.00000</td>\n",
       "      <td>0</td>\n",
       "    </tr>\n",
       "    <tr>\n",
       "      <td>139</td>\n",
       "      <td>436</td>\n",
       "      <td>38</td>\n",
       "      <td>5204</td>\n",
       "      <td>61</td>\n",
       "      <td>ILMB</td>\n",
       "      <td>G</td>\n",
       "      <td>C</td>\n",
       "      <td>43</td>\n",
       "      <td>0.848837</td>\n",
       "      <td>0.20930</td>\n",
       "      <td>...</td>\n",
       "      <td>0.25663</td>\n",
       "      <td>0.74337</td>\n",
       "      <td>0.25964</td>\n",
       "      <td>0.00139</td>\n",
       "      <td>0.0</td>\n",
       "      <td>0.19389</td>\n",
       "      <td>0.19389</td>\n",
       "      <td>0.0</td>\n",
       "      <td>0.22263</td>\n",
       "      <td>0</td>\n",
       "    </tr>\n",
       "    <tr>\n",
       "      <td>140</td>\n",
       "      <td>436</td>\n",
       "      <td>38</td>\n",
       "      <td>5204</td>\n",
       "      <td>61</td>\n",
       "      <td>DB</td>\n",
       "      <td>G</td>\n",
       "      <td>-</td>\n",
       "      <td>26</td>\n",
       "      <td>1.000000</td>\n",
       "      <td>0.00000</td>\n",
       "      <td>...</td>\n",
       "      <td>0.00000</td>\n",
       "      <td>1.00000</td>\n",
       "      <td>0.00000</td>\n",
       "      <td>0.00000</td>\n",
       "      <td>0.0</td>\n",
       "      <td>0.00000</td>\n",
       "      <td>0.00000</td>\n",
       "      <td>0.0</td>\n",
       "      <td>1.00000</td>\n",
       "      <td>0</td>\n",
       "    </tr>\n",
       "    <tr>\n",
       "      <td>141</td>\n",
       "      <td>436</td>\n",
       "      <td>38</td>\n",
       "      <td>5204</td>\n",
       "      <td>61</td>\n",
       "      <td>FL</td>\n",
       "      <td>G</td>\n",
       "      <td>-</td>\n",
       "      <td>27</td>\n",
       "      <td>1.000000</td>\n",
       "      <td>0.00000</td>\n",
       "      <td>...</td>\n",
       "      <td>0.00000</td>\n",
       "      <td>1.00000</td>\n",
       "      <td>0.00000</td>\n",
       "      <td>0.00000</td>\n",
       "      <td>0.0</td>\n",
       "      <td>0.00000</td>\n",
       "      <td>0.00000</td>\n",
       "      <td>0.0</td>\n",
       "      <td>1.00000</td>\n",
       "      <td>0</td>\n",
       "    </tr>\n",
       "    <tr>\n",
       "      <td>142</td>\n",
       "      <td>436</td>\n",
       "      <td>38</td>\n",
       "      <td>5204</td>\n",
       "      <td>61</td>\n",
       "      <td>NB</td>\n",
       "      <td>G</td>\n",
       "      <td>C</td>\n",
       "      <td>30</td>\n",
       "      <td>0.016667</td>\n",
       "      <td>0.03333</td>\n",
       "      <td>...</td>\n",
       "      <td>0.03278</td>\n",
       "      <td>0.96722</td>\n",
       "      <td>0.03333</td>\n",
       "      <td>0.00013</td>\n",
       "      <td>0.0</td>\n",
       "      <td>-0.00000</td>\n",
       "      <td>-0.00000</td>\n",
       "      <td>0.0</td>\n",
       "      <td>1.00000</td>\n",
       "      <td>0</td>\n",
       "    </tr>\n",
       "    <tr>\n",
       "      <td>299</td>\n",
       "      <td>1109</td>\n",
       "      <td>131</td>\n",
       "      <td>8235</td>\n",
       "      <td>38</td>\n",
       "      <td>ILMB</td>\n",
       "      <td>A</td>\n",
       "      <td>G</td>\n",
       "      <td>21</td>\n",
       "      <td>0.642857</td>\n",
       "      <td>0.14286</td>\n",
       "      <td>...</td>\n",
       "      <td>0.45918</td>\n",
       "      <td>0.54082</td>\n",
       "      <td>0.47038</td>\n",
       "      <td>0.00197</td>\n",
       "      <td>0.0</td>\n",
       "      <td>0.69630</td>\n",
       "      <td>0.34836</td>\n",
       "      <td>0.0</td>\n",
       "      <td>0.00203</td>\n",
       "      <td>0</td>\n",
       "    </tr>\n",
       "    <tr>\n",
       "      <td>300</td>\n",
       "      <td>1109</td>\n",
       "      <td>131</td>\n",
       "      <td>8235</td>\n",
       "      <td>38</td>\n",
       "      <td>DB</td>\n",
       "      <td>A</td>\n",
       "      <td>-</td>\n",
       "      <td>24</td>\n",
       "      <td>1.000000</td>\n",
       "      <td>0.00000</td>\n",
       "      <td>...</td>\n",
       "      <td>0.00000</td>\n",
       "      <td>1.00000</td>\n",
       "      <td>0.00000</td>\n",
       "      <td>0.00000</td>\n",
       "      <td>0.0</td>\n",
       "      <td>0.00000</td>\n",
       "      <td>0.00000</td>\n",
       "      <td>0.0</td>\n",
       "      <td>1.00000</td>\n",
       "      <td>0</td>\n",
       "    </tr>\n",
       "    <tr>\n",
       "      <td>301</td>\n",
       "      <td>1109</td>\n",
       "      <td>131</td>\n",
       "      <td>8235</td>\n",
       "      <td>38</td>\n",
       "      <td>FL</td>\n",
       "      <td>-</td>\n",
       "      <td>G</td>\n",
       "      <td>10</td>\n",
       "      <td>0.000000</td>\n",
       "      <td>0.00000</td>\n",
       "      <td>...</td>\n",
       "      <td>0.00000</td>\n",
       "      <td>1.00000</td>\n",
       "      <td>0.00000</td>\n",
       "      <td>0.00000</td>\n",
       "      <td>0.0</td>\n",
       "      <td>0.00000</td>\n",
       "      <td>0.00000</td>\n",
       "      <td>0.0</td>\n",
       "      <td>1.00000</td>\n",
       "      <td>0</td>\n",
       "    </tr>\n",
       "    <tr>\n",
       "      <td>302</td>\n",
       "      <td>1109</td>\n",
       "      <td>131</td>\n",
       "      <td>8235</td>\n",
       "      <td>38</td>\n",
       "      <td>NB</td>\n",
       "      <td>A</td>\n",
       "      <td>-</td>\n",
       "      <td>25</td>\n",
       "      <td>1.000000</td>\n",
       "      <td>0.00000</td>\n",
       "      <td>...</td>\n",
       "      <td>0.00000</td>\n",
       "      <td>1.00000</td>\n",
       "      <td>0.00000</td>\n",
       "      <td>0.00000</td>\n",
       "      <td>0.0</td>\n",
       "      <td>0.00000</td>\n",
       "      <td>0.00000</td>\n",
       "      <td>0.0</td>\n",
       "      <td>1.00000</td>\n",
       "      <td>0</td>\n",
       "    </tr>\n",
       "    <tr>\n",
       "      <td>347</td>\n",
       "      <td>1205</td>\n",
       "      <td>145</td>\n",
       "      <td>10612</td>\n",
       "      <td>69</td>\n",
       "      <td>ILMB</td>\n",
       "      <td>C</td>\n",
       "      <td>T</td>\n",
       "      <td>44</td>\n",
       "      <td>0.693182</td>\n",
       "      <td>0.38636</td>\n",
       "      <td>...</td>\n",
       "      <td>0.42536</td>\n",
       "      <td>0.57464</td>\n",
       "      <td>0.43025</td>\n",
       "      <td>0.00441</td>\n",
       "      <td>0.0</td>\n",
       "      <td>0.10200</td>\n",
       "      <td>0.05867</td>\n",
       "      <td>0.0</td>\n",
       "      <td>0.49884</td>\n",
       "      <td>0</td>\n",
       "    </tr>\n",
       "    <tr>\n",
       "      <td>348</td>\n",
       "      <td>1205</td>\n",
       "      <td>145</td>\n",
       "      <td>10612</td>\n",
       "      <td>69</td>\n",
       "      <td>DB</td>\n",
       "      <td>C</td>\n",
       "      <td>T</td>\n",
       "      <td>29</td>\n",
       "      <td>0.982759</td>\n",
       "      <td>0.03448</td>\n",
       "      <td>...</td>\n",
       "      <td>0.03389</td>\n",
       "      <td>0.96611</td>\n",
       "      <td>0.03448</td>\n",
       "      <td>0.00234</td>\n",
       "      <td>0.0</td>\n",
       "      <td>-0.00000</td>\n",
       "      <td>-0.03985</td>\n",
       "      <td>0.0</td>\n",
       "      <td>1.00000</td>\n",
       "      <td>0</td>\n",
       "    </tr>\n",
       "    <tr>\n",
       "      <td>349</td>\n",
       "      <td>1205</td>\n",
       "      <td>145</td>\n",
       "      <td>10612</td>\n",
       "      <td>69</td>\n",
       "      <td>FL</td>\n",
       "      <td>-</td>\n",
       "      <td>T</td>\n",
       "      <td>29</td>\n",
       "      <td>0.000000</td>\n",
       "      <td>0.00000</td>\n",
       "      <td>...</td>\n",
       "      <td>0.00000</td>\n",
       "      <td>1.00000</td>\n",
       "      <td>0.00000</td>\n",
       "      <td>0.00000</td>\n",
       "      <td>0.0</td>\n",
       "      <td>0.00000</td>\n",
       "      <td>0.00000</td>\n",
       "      <td>0.0</td>\n",
       "      <td>1.00000</td>\n",
       "      <td>0</td>\n",
       "    </tr>\n",
       "    <tr>\n",
       "      <td>350</td>\n",
       "      <td>1205</td>\n",
       "      <td>145</td>\n",
       "      <td>10612</td>\n",
       "      <td>69</td>\n",
       "      <td>NB</td>\n",
       "      <td>C</td>\n",
       "      <td>-</td>\n",
       "      <td>40</td>\n",
       "      <td>1.000000</td>\n",
       "      <td>0.00000</td>\n",
       "      <td>...</td>\n",
       "      <td>0.00000</td>\n",
       "      <td>1.00000</td>\n",
       "      <td>0.00000</td>\n",
       "      <td>0.00000</td>\n",
       "      <td>0.0</td>\n",
       "      <td>0.00000</td>\n",
       "      <td>0.00000</td>\n",
       "      <td>0.0</td>\n",
       "      <td>1.00000</td>\n",
       "      <td>0</td>\n",
       "    </tr>\n",
       "    <tr>\n",
       "      <td>351</td>\n",
       "      <td>1206</td>\n",
       "      <td>145</td>\n",
       "      <td>10612</td>\n",
       "      <td>23</td>\n",
       "      <td>ILMB</td>\n",
       "      <td>G</td>\n",
       "      <td>A</td>\n",
       "      <td>41</td>\n",
       "      <td>0.707317</td>\n",
       "      <td>0.39024</td>\n",
       "      <td>...</td>\n",
       "      <td>0.41404</td>\n",
       "      <td>0.58596</td>\n",
       "      <td>0.41915</td>\n",
       "      <td>0.00000</td>\n",
       "      <td>0.0</td>\n",
       "      <td>0.06897</td>\n",
       "      <td>0.00000</td>\n",
       "      <td>0.0</td>\n",
       "      <td>0.71213</td>\n",
       "      <td>0</td>\n",
       "    </tr>\n",
       "    <tr>\n",
       "      <td>352</td>\n",
       "      <td>1206</td>\n",
       "      <td>145</td>\n",
       "      <td>10612</td>\n",
       "      <td>23</td>\n",
       "      <td>DB</td>\n",
       "      <td>G</td>\n",
       "      <td>A</td>\n",
       "      <td>29</td>\n",
       "      <td>0.982759</td>\n",
       "      <td>0.03448</td>\n",
       "      <td>...</td>\n",
       "      <td>0.03389</td>\n",
       "      <td>0.96611</td>\n",
       "      <td>0.03448</td>\n",
       "      <td>0.00000</td>\n",
       "      <td>0.0</td>\n",
       "      <td>-0.00000</td>\n",
       "      <td>0.00000</td>\n",
       "      <td>0.0</td>\n",
       "      <td>1.00000</td>\n",
       "      <td>0</td>\n",
       "    </tr>\n",
       "    <tr>\n",
       "      <td>353</td>\n",
       "      <td>1206</td>\n",
       "      <td>145</td>\n",
       "      <td>10612</td>\n",
       "      <td>23</td>\n",
       "      <td>FL</td>\n",
       "      <td>-</td>\n",
       "      <td>A</td>\n",
       "      <td>26</td>\n",
       "      <td>0.000000</td>\n",
       "      <td>0.00000</td>\n",
       "      <td>...</td>\n",
       "      <td>0.00000</td>\n",
       "      <td>1.00000</td>\n",
       "      <td>0.00000</td>\n",
       "      <td>0.00000</td>\n",
       "      <td>0.0</td>\n",
       "      <td>0.00000</td>\n",
       "      <td>0.00000</td>\n",
       "      <td>0.0</td>\n",
       "      <td>1.00000</td>\n",
       "      <td>0</td>\n",
       "    </tr>\n",
       "    <tr>\n",
       "      <td>354</td>\n",
       "      <td>1206</td>\n",
       "      <td>145</td>\n",
       "      <td>10612</td>\n",
       "      <td>23</td>\n",
       "      <td>NB</td>\n",
       "      <td>G</td>\n",
       "      <td>-</td>\n",
       "      <td>40</td>\n",
       "      <td>1.000000</td>\n",
       "      <td>0.00000</td>\n",
       "      <td>...</td>\n",
       "      <td>0.00000</td>\n",
       "      <td>1.00000</td>\n",
       "      <td>0.00000</td>\n",
       "      <td>0.00000</td>\n",
       "      <td>0.0</td>\n",
       "      <td>0.00000</td>\n",
       "      <td>0.00000</td>\n",
       "      <td>0.0</td>\n",
       "      <td>1.00000</td>\n",
       "      <td>0</td>\n",
       "    </tr>\n",
       "  </tbody>\n",
       "</table>\n",
       "<p>20 rows × 21 columns</p>\n",
       "</div>"
      ],
      "text/plain": [
       "     # Locus ID  Chr     BP  Col Pop ID P Nuc Q Nuc   N         P  Obs Het  \\\n",
       "67          267   23  27403   15   ILMB     C     T  28  0.535714  0.50000   \n",
       "68          267   23  27403   15     DB     C     -  21  1.000000  0.00000   \n",
       "69          267   23  27403   15     FL     -     T  13  0.000000  0.00000   \n",
       "70          267   23  27403   15     NB     C     -  23  1.000000  0.00000   \n",
       "139         436   38   5204   61   ILMB     G     C  43  0.848837  0.20930   \n",
       "140         436   38   5204   61     DB     G     -  26  1.000000  0.00000   \n",
       "141         436   38   5204   61     FL     G     -  27  1.000000  0.00000   \n",
       "142         436   38   5204   61     NB     G     C  30  0.016667  0.03333   \n",
       "299        1109  131   8235   38   ILMB     A     G  21  0.642857  0.14286   \n",
       "300        1109  131   8235   38     DB     A     -  24  1.000000  0.00000   \n",
       "301        1109  131   8235   38     FL     -     G  10  0.000000  0.00000   \n",
       "302        1109  131   8235   38     NB     A     -  25  1.000000  0.00000   \n",
       "347        1205  145  10612   69   ILMB     C     T  44  0.693182  0.38636   \n",
       "348        1205  145  10612   69     DB     C     T  29  0.982759  0.03448   \n",
       "349        1205  145  10612   69     FL     -     T  29  0.000000  0.00000   \n",
       "350        1205  145  10612   69     NB     C     -  40  1.000000  0.00000   \n",
       "351        1206  145  10612   23   ILMB     G     A  41  0.707317  0.39024   \n",
       "352        1206  145  10612   23     DB     G     A  29  0.982759  0.03448   \n",
       "353        1206  145  10612   23     FL     -     A  26  0.000000  0.00000   \n",
       "354        1206  145  10612   23     NB     G     -  40  1.000000  0.00000   \n",
       "\n",
       "     ...  Exp Het  Exp Hom       Pi  Smoothed Pi  Smoothed Pi P-value  \\\n",
       "67   ...  0.49745  0.50255  0.50649      0.00083                  0.0   \n",
       "68   ...  0.00000  1.00000  0.00000      0.00000                  0.0   \n",
       "69   ...  0.00000  1.00000  0.00000      0.00000                  0.0   \n",
       "70   ...  0.00000  1.00000  0.00000      0.00000                  0.0   \n",
       "139  ...  0.25663  0.74337  0.25964      0.00139                  0.0   \n",
       "140  ...  0.00000  1.00000  0.00000      0.00000                  0.0   \n",
       "141  ...  0.00000  1.00000  0.00000      0.00000                  0.0   \n",
       "142  ...  0.03278  0.96722  0.03333      0.00013                  0.0   \n",
       "299  ...  0.45918  0.54082  0.47038      0.00197                  0.0   \n",
       "300  ...  0.00000  1.00000  0.00000      0.00000                  0.0   \n",
       "301  ...  0.00000  1.00000  0.00000      0.00000                  0.0   \n",
       "302  ...  0.00000  1.00000  0.00000      0.00000                  0.0   \n",
       "347  ...  0.42536  0.57464  0.43025      0.00441                  0.0   \n",
       "348  ...  0.03389  0.96611  0.03448      0.00234                  0.0   \n",
       "349  ...  0.00000  1.00000  0.00000      0.00000                  0.0   \n",
       "350  ...  0.00000  1.00000  0.00000      0.00000                  0.0   \n",
       "351  ...  0.41404  0.58596  0.41915      0.00000                  0.0   \n",
       "352  ...  0.03389  0.96611  0.03448      0.00000                  0.0   \n",
       "353  ...  0.00000  1.00000  0.00000      0.00000                  0.0   \n",
       "354  ...  0.00000  1.00000  0.00000      0.00000                  0.0   \n",
       "\n",
       "         Fis  Smoothed Fis  Smoothed Fis P-value  HWE P-value  Private  \n",
       "67   0.01282       0.01711                   0.0      1.00000        0  \n",
       "68   0.00000       0.00000                   0.0      1.00000        0  \n",
       "69   0.00000       0.00000                   0.0      1.00000        0  \n",
       "70   0.00000       0.00000                   0.0      1.00000        0  \n",
       "139  0.19389       0.19389                   0.0      0.22263        0  \n",
       "140  0.00000       0.00000                   0.0      1.00000        0  \n",
       "141  0.00000       0.00000                   0.0      1.00000        0  \n",
       "142 -0.00000      -0.00000                   0.0      1.00000        0  \n",
       "299  0.69630       0.34836                   0.0      0.00203        0  \n",
       "300  0.00000       0.00000                   0.0      1.00000        0  \n",
       "301  0.00000       0.00000                   0.0      1.00000        0  \n",
       "302  0.00000       0.00000                   0.0      1.00000        0  \n",
       "347  0.10200       0.05867                   0.0      0.49884        0  \n",
       "348 -0.00000      -0.03985                   0.0      1.00000        0  \n",
       "349  0.00000       0.00000                   0.0      1.00000        0  \n",
       "350  0.00000       0.00000                   0.0      1.00000        0  \n",
       "351  0.06897       0.00000                   0.0      0.71213        0  \n",
       "352 -0.00000       0.00000                   0.0      1.00000        0  \n",
       "353  0.00000       0.00000                   0.0      1.00000        0  \n",
       "354  0.00000       0.00000                   0.0      1.00000        0  \n",
       "\n",
       "[20 rows x 21 columns]"
      ]
     },
     "execution_count": 282,
     "metadata": {},
     "output_type": "execute_result"
    }
   ],
   "source": [
    "x[0:20]"
   ]
  },
  {
   "cell_type": "code",
   "execution_count": 116,
   "metadata": {
    "kernel": "Python3"
   },
   "outputs": [],
   "source": [
    "%expand\n",
    "x[[\"# Locus ID\",\"Chr\",\"BP\",\"Pop ID\",\"N\",\"P\"]].to_csv(\"{suffix}testfixed3.txt\",sep=\"\\t\", index=False)"
   ]
  },
  {
   "cell_type": "code",
   "execution_count": 283,
   "metadata": {
    "kernel": "Python3"
   },
   "outputs": [
    {
     "name": "stdout",
     "output_type": "stream",
     "text": [
      "2838\n"
     ]
    }
   ],
   "source": [
    "%expand\n",
    "positions = []\n",
    "OUT = open(\"{suffix}fixed3.positions\",\"w\")\n",
    "OUTr = open(\"{suffix}fixed3_R.positions\",\"w\")\n",
    "OUTr.write(\"LOCUS\\tPOS\\n\")\n",
    "n=0\n",
    "for (Chr,BP) in fix3Loc:\n",
    "    if (Chr, BP) not in positions:\n",
    "        positions.append((Chr, BP))\n",
    "        OUT.write(str(Chr)+\"\\t\"+str(BP)+\"\\n\")\n",
    "        OUTr.write(str(Chr)+\"\\t\"+str(BP)+\"\\n\")\n",
    "        n+=1\n",
    "OUT.close()\n",
    "OUTr.close()\n",
    "print(n)"
   ]
  },
  {
   "cell_type": "code",
   "execution_count": 284,
   "metadata": {
    "kernel": "bash"
   },
   "outputs": [
    {
     "name": "stdout",
     "output_type": "stream",
     "text": [
      "\n",
      "VCFtools - 0.1.17\n",
      "(C) Adam Auton and Anthony Marcketta 2009\n",
      "\n",
      "Parameters as interpreted:\n",
      "\t--vcf ./maf05mac4het9m3R50_2/Making/m85-hwPbi.recode.vcf\n",
      "\t--recode-INFO-all\n",
      "\t--out ./maf05mac4het9m3R50_2/Making/m85-hwPBi-fixed3\n",
      "\t--positions ./maf05mac4het9m3R50_2/Making/fixed3.positions\n",
      "\t--recode\n",
      "\n",
      "After filtering, kept 144 out of 144 Individuals\n",
      "Outputting VCF file...\n",
      "After filtering, kept 1456 out of a possible 15078 Sites\n",
      "Run Time = 3.00 seconds\n"
     ]
    }
   ],
   "source": [
    "%expand\n",
    "module load vcftools/v0.1.17\n",
    "\n",
    "vcftools --vcf {suffix}m85-hwPbi.recode.vcf --recode \\\n",
    "--recode-INFO-all --positions {suffix}fixed3.positions \\\n",
    "--out {suffix}m85-hwPBi-fixed3"
   ]
  },
  {
   "cell_type": "code",
   "execution_count": 226,
   "metadata": {
    "kernel": "ir",
    "scrolled": true
   },
   "outputs": [
    {
     "name": "stderr",
     "output_type": "stream",
     "text": [
      "Execution date@time: 20191010@1141\n",
      "Folder created: read_vcf_20191010@1141\n",
      "Function call and arguments stored in: radiator_read_vcf_args_20191010@1141.tsv\n",
      "File written: random.seed (716045)\n",
      "\n",
      "Reading VCF\n",
      "Data summary: \n",
      "    number of samples: 144\n",
      "    number of markers: 2435\n",
      "done! timing: 2 sec\n",
      "\n",
      "\n",
      "File written: radiator_20191010@1141.gds\n",
      "\n",
      "Analyzing the data...\n",
      "VCF source: Stacks v2.4\n",
      "Data is bi-allelic\n",
      "Cleaning VCF's sample names\n",
      "Synchronizing data and strata...\n",
      "    Number of strata: 4\n",
      "    Number of individuals: 144\n",
      "Reads assembly: de novo\n",
      "Filters parameters file generated: filters_parameters_20191010@1141.tsv\n",
      "Filters parameters file: initiated and updated\n"
     ]
    },
    {
     "name": "stdout",
     "output_type": "stream",
     "text": [
      "################################################################################\n",
      "########################### radiator::filter_monomorphic #######################\n",
      "################################################################################\n"
     ]
    },
    {
     "name": "stderr",
     "output_type": "stream",
     "text": [
      "Execution date@time: 20191010@1141\n",
      "Function call and arguments stored in: radiator_filter_monomorphic_args_20191010@1141.tsv\n",
      "Filters parameters file: initiated\n",
      "File written: whitelist.polymorphic.markers_20191010@1141.tsv\n",
      "Filters parameters file: updated\n"
     ]
    },
    {
     "name": "stdout",
     "output_type": "stream",
     "text": [
      "################################### RESULTS ####################################\n"
     ]
    },
    {
     "name": "stderr",
     "output_type": "stream",
     "text": [
      "\n",
      "Filter monomorphic markers\n",
      "Number of individuals / strata / chrom / locus / SNP:\n",
      "    Before: 144 / 4 / 1 / 1917 / 2435\n",
      "    Blacklisted: 0 / 0 / 0 / 0 / 0\n",
      "    After: 144 / 4 / 1 / 1917 / 2435\n",
      "\n",
      "Computation time, overall: 0 sec\n"
     ]
    },
    {
     "name": "stdout",
     "output_type": "stream",
     "text": [
      "######################## filter_monomorphic completed ##########################\n"
     ]
    },
    {
     "name": "stderr",
     "output_type": "stream",
     "text": [
      "\n",
      "Preparing output files...\n",
      "File written: whitelist.markers.tsv\n",
      "Writing the filtered strata: strata.filtered.tsvstrata.filtered.tsv\n",
      "\n",
      "Generating statistics after filtering\n",
      "Generating individual stats...\n",
      "File written: individuals qc info and stats summary\n",
      "File written: individuals qc plot\n",
      "Generating markers stats...\n"
     ]
    },
    {
     "name": "stdout",
     "output_type": "stream",
     "text": [
      "################################### SUMMARY ####################################\n"
     ]
    },
    {
     "name": "stderr",
     "output_type": "stream",
     "text": [
      "\n",
      "\n",
      "Summary (AFTER filtering):\n",
      "Missing data: \n",
      "    markers: 0.05\n",
      "    individuals: 0.05\n",
      "\n",
      "\n",
      "Coverage info:\n",
      "    individuals mean read depth: 25962\n",
      "    individuals mean genotype coverage: 11\n",
      "    markers mean coverage: 11\n",
      "\n",
      "\n",
      "Number of chromosome/contig/scaffold: 1\n",
      "Number of locus: 1917\n",
      "Number of markers: 2435\n",
      "Number of populations: 4\n",
      "Number of individuals: 144\n",
      "\n",
      "Number of ind/pop:\n",
      "ILMB = 44\n",
      "DB = 29\n",
      "FL = 29\n",
      "NB = 42\n",
      "\n",
      "Number of duplicate id: 0\n",
      "radiator Genomic Data Structure (GDS) file: radiator_20191010@1141.gds\n",
      "\n",
      "Computation time, overall: 8 sec\n"
     ]
    },
    {
     "data": {
      "image/png": "[encoded data removed]",
      "text/plain": [
       "plot without title"
      ]
     },
     "metadata": {},
     "output_type": "display_data"
    },
    {
     "name": "stdout",
     "output_type": "stream",
     "text": [
      "############################## completed read_vcf ##############################\n"
     ]
    },
    {
     "data": {
      "image/png": "[encoded data removed]",
      "text/plain": [
       "plot without title"
      ]
     },
     "metadata": {},
     "output_type": "display_data"
    }
   ],
   "source": [
    "%expand\n",
    "data = read_vcf(\"m85-hwPBi-fixed2_98.recode.vcf\", strata = \"../../NFLDB.strata\",\n",
    "        vcf.stats = TRUE, parallel.core = 4, filter.common.markers = F)\n"
   ]
  },
  {
   "cell_type": "code",
   "execution_count": null,
   "metadata": {
    "kernel": "ir"
   },
   "outputs": [],
   "source": [
    "#dataLD = filter_ld(data, interactive.filter = F, filter.short.ld = \"mac\",\n",
    "#  filter.long.ld = 0.7, parallel.core = 4, long.ld.missing = TRUE,\n",
    "#  filename = \"filtered_hwld\")"
   ]
  },
  {
   "cell_type": "code",
   "execution_count": null,
   "metadata": {
    "kernel": "ir"
   },
   "outputs": [],
   "source": [
    "genomic_converter(dataLD, strata=\"../../NFLDB.strata\", \n",
    "                  output = c(\"genind\",\"structure\",\"vcf\"),\n",
    "                 parallel.core = 4, filename = \"hwp3t1ld7\")"
   ]
  },
  {
   "cell_type": "code",
   "execution_count": 285,
   "metadata": {
    "kernel": "bash"
   },
   "outputs": [],
   "source": [
    "%expand\n",
    "module load tabix/0.2.6\n",
    "module load samtools/1.6\n",
    "\n",
    "bgzip {suffix}m85-hwPBi-fixed3.recode.vcf \n",
    "tabix -p vcf {suffix}m85-hwPBi-fixed3.recode.vcf.gz"
   ]
  },
  {
   "cell_type": "code",
   "execution_count": 286,
   "metadata": {
    "kernel": "bash"
   },
   "outputs": [
    {
     "name": "stdout",
     "output_type": "stream",
     "text": [
      "1184\n"
     ]
    }
   ],
   "source": [
    "%expand\n",
    "module load bcftools/1.3.2\n",
    "\n",
    "bcftools +prune {suffix}m85-hwPBi-fixed3.recode.vcf.gz -l 0.2 -n 1 -w 10000 \\\n",
    "-Ov -o {suffix}m85-hwPBi-fixed3-thinned.vcf\n",
    "grep -v \"#\" {suffix}m85-hwPBi-fixed3-thinned.vcf | wc -l"
   ]
  },
  {
   "cell_type": "code",
   "execution_count": null,
   "metadata": {
    "kernel": "bash"
   },
   "outputs": [],
   "source": []
  },
  {
   "cell_type": "code",
   "execution_count": 287,
   "metadata": {
    "kernel": "ir"
   },
   "outputs": [
    {
     "name": "stderr",
     "output_type": "stream",
     "text": [
      "Execution date@time: 20191010@1619\n",
      "Folder created: read_vcf_20191010@1619\n",
      "Function call and arguments stored in: radiator_read_vcf_args_20191010@1619.tsv\n",
      "File written: random.seed (990023)\n",
      "\n",
      "Reading VCF\n",
      "Data summary: \n",
      "    number of samples: 144\n",
      "    number of markers: 1184\n",
      "done! timing: 3 sec\n",
      "\n",
      "\n",
      "File written: radiator_20191010@1619.gds\n",
      "\n",
      "Analyzing the data...\n",
      "VCF source: Stacks v2.4\n",
      "Data is bi-allelic\n",
      "Cleaning VCF's sample names\n",
      "Synchronizing data and strata...\n",
      "    Number of strata: 4\n",
      "    Number of individuals: 144\n",
      "Reads assembly: de novo\n",
      "Filters parameters file generated: filters_parameters_20191010@1619.tsv\n",
      "Filters parameters file: initiated and updated\n"
     ]
    },
    {
     "name": "stdout",
     "output_type": "stream",
     "text": [
      "################################################################################\n",
      "########################### radiator::filter_monomorphic #######################\n",
      "################################################################################\n"
     ]
    },
    {
     "name": "stderr",
     "output_type": "stream",
     "text": [
      "Execution date@time: 20191010@1619\n",
      "Function call and arguments stored in: radiator_filter_monomorphic_args_20191010@1619.tsv\n",
      "Filters parameters file: initiated\n",
      "File written: whitelist.polymorphic.markers_20191010@1619.tsv\n",
      "Filters parameters file: updated\n"
     ]
    },
    {
     "name": "stdout",
     "output_type": "stream",
     "text": [
      "################################### RESULTS ####################################\n"
     ]
    },
    {
     "name": "stderr",
     "output_type": "stream",
     "text": [
      "\n",
      "Filter monomorphic markers\n",
      "Number of individuals / strata / chrom / locus / SNP:\n",
      "    Before: 144 / 4 / 1 / 1184 / 1184\n",
      "    Blacklisted: 0 / 0 / 0 / 0 / 0\n",
      "    After: 144 / 4 / 1 / 1184 / 1184\n",
      "\n",
      "Computation time, overall: 0 sec\n"
     ]
    },
    {
     "name": "stdout",
     "output_type": "stream",
     "text": [
      "######################## filter_monomorphic completed ##########################\n"
     ]
    },
    {
     "name": "stderr",
     "output_type": "stream",
     "text": [
      "\n",
      "Preparing output files...\n",
      "File written: whitelist.markers.tsv\n",
      "Writing the filtered strata: strata.filtered.tsvstrata.filtered.tsv\n",
      "\n",
      "Generating statistics after filtering\n",
      "Generating individual stats...\n",
      "File written: individuals qc info and stats summary\n",
      "File written: individuals qc plot\n",
      "Generating markers stats...\n"
     ]
    },
    {
     "name": "stdout",
     "output_type": "stream",
     "text": [
      "################################### SUMMARY ####################################\n"
     ]
    },
    {
     "name": "stderr",
     "output_type": "stream",
     "text": [
      "\n",
      "\n",
      "Summary (AFTER filtering):\n",
      "Missing data: \n",
      "    markers: 0.05\n",
      "    individuals: 0.05\n",
      "\n",
      "\n",
      "Coverage info:\n",
      "    individuals mean read depth: 12502\n",
      "    individuals mean genotype coverage: 11\n",
      "    markers mean coverage: 11\n",
      "\n",
      "\n",
      "Number of chromosome/contig/scaffold: 1\n",
      "Number of locus: 1184\n",
      "Number of markers: 1184\n",
      "Number of populations: 4\n",
      "Number of individuals: 144\n",
      "\n",
      "Number of ind/pop:\n",
      "NB = 42\n",
      "DB = 29\n",
      "FL = 29\n",
      "ILMB = 44\n",
      "\n",
      "Number of duplicate id: 0\n",
      "radiator Genomic Data Structure (GDS) file: radiator_20191010@1619.gds\n",
      "\n",
      "Computation time, overall: 13 sec\n"
     ]
    },
    {
     "data": {
      "image/png": "[encoded data removed]",
      "text/plain": [
       "plot without title"
      ]
     },
     "metadata": {},
     "output_type": "display_data"
    },
    {
     "name": "stdout",
     "output_type": "stream",
     "text": [
      "############################## completed read_vcf ##############################\n"
     ]
    },
    {
     "data": {
      "image/png": "[encoded data removed]",
      "text/plain": [
       "plot without title"
      ]
     },
     "metadata": {},
     "output_type": "display_data"
    }
   ],
   "source": [
    "data = read_vcf(\"m85-hwPBi-fixed3-thinned.vcf\", strata = \"../../NFLDB.strata\",\n",
    "        vcf.stats = TRUE, parallel.core = 4, filter.common.markers = F,pop.levels=c(\"NB\",\"DB\",\"FL\",\"ILMB\"))\n"
   ]
  },
  {
   "cell_type": "code",
   "execution_count": 291,
   "metadata": {
    "kernel": "ir"
   },
   "outputs": [
    {
     "name": "stdout",
     "output_type": "stream",
     "text": [
      "################################################################################\n",
      "########################## radiator::genomic_converter #########################\n",
      "################################################################################\n"
     ]
    },
    {
     "name": "stderr",
     "output_type": "stream",
     "text": [
      "Execution date@time: 20191010@1622\n",
      "\n",
      "Deprecated arguments identified inside \"...\": \n",
      "    pop.levels\n",
      "\n",
      "Read documentation, for latest changes, and modify your codes!\n",
      "\n",
      "Folder created: 14_radiator_genomic_converter_20191010@1622\n",
      "Function call and arguments stored in: radiator_genomic_converter_args_20191010@1622.tsv\n",
      "Filters parameters file generated: filters_parameters_20191010@1622.tsv\n",
      "\n",
      "Importing data\n",
      "\n",
      "Synchronizing data and strata...\n",
      "    Number of strata: 4\n",
      "    Number of individuals: 144\n",
      "\n",
      "Writing tidy data set:\n",
      "fixed3u.rad\n",
      "\n",
      "Preparing data for output\n",
      "\n",
      "Data is bi-allelic\n",
      "Calibrating REF/ALT alleles...\n",
      "    number of REF/ALT switch = 0\n",
      "Generating structure file\n",
      "Generating adegenet genind object\n"
     ]
    },
    {
     "name": "stdout",
     "output_type": "stream",
     "text": [
      "################################### RESULTS ####################################\n"
     ]
    },
    {
     "name": "stderr",
     "output_type": "stream",
     "text": [
      "Data format of input: SeqVarGDSClass\n",
      "Biallelic data\n",
      "Number of markers: 1184\n",
      "Number of chromosome/contig/scaffold: 1\n",
      "Number of strata: 4\n",
      "Number of individuals: 144\n",
      "\n",
      "Computation time, overall: 12 sec\n"
     ]
    },
    {
     "name": "stdout",
     "output_type": "stream",
     "text": [
      "######################### genomic_converter completed ##########################\n"
     ]
    }
   ],
   "source": [
    "outs = genomic_converter(data, strata=\"../../NFLDB.strata\", \n",
    "                  output = c(\"genind\",\"structure\"),\n",
    "                 parallel.core = 4, filename = \"fixed3u\",pop.levels=c(\"NB\",\"DB\",\"FL\",\"ILMB\") )"
   ]
  },
  {
   "cell_type": "code",
   "execution_count": 289,
   "metadata": {
    "kernel": "ir"
   },
   "outputs": [
    {
     "data": {
      "text/plain": [
       "/// GENIND OBJECT /////////\n",
       "\n",
       " // 144 individuals; 1,184 loci; 2,368 alleles; size: 2 Mb\n",
       "\n",
       " // Basic content\n",
       "   @tab:  144 x 2368 matrix of allele counts\n",
       "   @loc.n.all: number of alleles per locus (range: 2-2)\n",
       "   @loc.fac: locus factor for the 2368 columns of @tab\n",
       "   @all.names: list of allele names for each locus\n",
       "   @ploidy: ploidy of each individual  (range: 2-2)\n",
       "   @type:  codom\n",
       "   @call: radiator::write_genind(data = input, write = TRUE)\n",
       "\n",
       " // Optional content\n",
       "   @pop: population of each individual (group size range: 29-44)\n",
       "   @strata: a data frame with 2 columns ( INDIVIDUALS, POP_ID )"
      ]
     },
     "metadata": {},
     "output_type": "display_data"
    }
   ],
   "source": [
    "outs$genind"
   ]
  },
  {
   "cell_type": "code",
   "execution_count": 290,
   "metadata": {
    "kernel": "ir"
   },
   "outputs": [],
   "source": [
    "d = outs$genind\n",
    "save(d, file=\"fixed3u.genind\")"
   ]
  },
  {
   "cell_type": "code",
   "execution_count": null,
   "metadata": {
    "kernel": "ir"
   },
   "outputs": [],
   "source": []
  },
  {
   "cell_type": "markdown",
   "metadata": {
    "kernel": "bash"
   },
   "source": [
    "### Making inputs in R"
   ]
  },
  {
   "cell_type": "code",
   "execution_count": 2,
   "metadata": {
    "kernel": "ir"
   },
   "outputs": [
    {
     "data": {
      "text/html": [
       "'/gpfs01/home/kes0132/Delta/Stacks_Assembly/MyStacks'"
      ],
      "text/latex": [
       "'/gpfs01/home/kes0132/Delta/Stacks\\_Assembly/MyStacks'"
      ],
      "text/markdown": [
       "'/gpfs01/home/kes0132/Delta/Stacks_Assembly/MyStacks'"
      ],
      "text/plain": [
       "[1] \"/gpfs01/home/kes0132/Delta/Stacks_Assembly/MyStacks\""
      ]
     },
     "metadata": {},
     "output_type": "display_data"
    }
   ],
   "source": [
    "getwd()"
   ]
  },
  {
   "cell_type": "code",
   "execution_count": 5,
   "metadata": {
    "kernel": "ir"
   },
   "outputs": [
    {
     "name": "stderr",
     "output_type": "stream",
     "text": [
      "Loading required package: ade4\n",
      "\n",
      "   /// adegenet 2.1.1 is loaded ////////////\n",
      "\n",
      "   > overview: '?adegenet'\n",
      "   > tutorials/doc/questions: 'adegenetWeb()' \n",
      "   > bug reports/feature requests: adegenetIssues()\n",
      "\n",
      "\n"
     ]
    }
   ],
   "source": [
    "%expand\n",
    "setwd(\"{suffix}\")\n",
    "library(radiator)\n",
    "library(adegenet)"
   ]
  },
  {
   "cell_type": "code",
   "execution_count": null,
   "metadata": {
    "kernel": "ir"
   },
   "outputs": [],
   "source": [
    "%expand\n",
    "setwd(\"{suffix}\")\n",
    "data <- radiator::filter_rad(\n",
    "    data = \"./maf05mac4het9m3R50_2/populations.snps.vcf\",\n",
    "    strata = \"../../NFLDB.strata\", \n",
    "    output = c(\"genind\")\n",
    "    )"
   ]
  },
  {
   "cell_type": "code",
   "execution_count": null,
   "metadata": {
    "kernel": "ir"
   },
   "outputs": [],
   "source": [
    "whitelist.markers = \"fixed_R.positions\","
   ]
  },
  {
   "cell_type": "code",
   "execution_count": 11,
   "metadata": {
    "kernel": "ir"
   },
   "outputs": [
    {
     "name": "stderr",
     "output_type": "stream",
     "text": [
      "Execution date@time: 20190926@1205\n",
      "Folder created: read_vcf_20190926@1205\n",
      "Function call and arguments stored in: radiator_read_vcf_args_20190926@1205.tsv\n",
      "File written: random.seed (246505)\n",
      "\n",
      "Reading VCF\n",
      "Data summary: \n",
      "    number of samples: 144\n",
      "    number of markers: 4995\n",
      "done! timing: 3 sec\n",
      "\n",
      "\n",
      "File written: filtered_20190926@1205.gds\n",
      "\n",
      "Analyzing the data...\n",
      "VCF source: Stacks v2.4\n",
      "Data is bi-allelic\n",
      "Cleaning VCF's sample names\n",
      "Synchronizing data and strata...\n",
      "    Number of strata: 4\n",
      "    Number of individuals: 144\n",
      "Reads assembly: de novo\n",
      "Filters parameters file generated: filters_parameters_20190926@1205.tsv\n",
      "Filters parameters file: initiated and updated\n"
     ]
    },
    {
     "name": "stdout",
     "output_type": "stream",
     "text": [
      "################################################################################\n",
      "########################### radiator::filter_monomorphic #######################\n",
      "################################################################################\n"
     ]
    },
    {
     "name": "stderr",
     "output_type": "stream",
     "text": [
      "Execution date@time: 20190926@1205\n",
      "Function call and arguments stored in: radiator_filter_monomorphic_args_20190926@1205.tsv\n",
      "Filters parameters file: initiated\n",
      "File written: whitelist.polymorphic.markers_20190926@1205.tsv\n",
      "Filters parameters file: updated\n"
     ]
    },
    {
     "name": "stdout",
     "output_type": "stream",
     "text": [
      "################################### RESULTS ####################################\n"
     ]
    },
    {
     "name": "stderr",
     "output_type": "stream",
     "text": [
      "\n",
      "Filter monomorphic markers\n",
      "Number of individuals / strata / chrom / locus / SNP:\n",
      "    Before: 144 / 4 / 1 / 2622 / 4995\n",
      "    Blacklisted: 0 / 0 / 0 / 0 / 0\n",
      "    After: 144 / 4 / 1 / 2622 / 4995\n",
      "\n",
      "Computation time, overall: 0 sec\n"
     ]
    },
    {
     "name": "stdout",
     "output_type": "stream",
     "text": [
      "######################## filter_monomorphic completed ##########################\n",
      "################################################################################\n",
      "######################### radiator::filter_genotyping ##########################\n",
      "################################################################################\n"
     ]
    },
    {
     "name": "stderr",
     "output_type": "stream",
     "text": [
      "Execution date@time: 20190926@1205\n",
      "Function call and arguments stored in: radiator_filter_genotyping_args_20190926@1205.tsv\n",
      "Importing data ...\n",
      "Filters parameters file: initiated\n",
      "Generating statistics\n",
      "Generating missingness/genotyping helper table...\n"
     ]
    },
    {
     "ename": "ERROR",
     "evalue": "Error in is_missing(.key): object 'id.select' not found\n",
     "output_type": "error",
     "traceback": [
      "Error in is_missing(.key): object 'id.select' not found\nTraceback:\n",
      "1. read_vcf(\"../../Silliman_subset//sub_populations.snps.vcf\", strata = \"../../NFLDB.strata\", \n .     vcf.stats = TRUE, parallel.core = 4, filter.common.markers = F, \n .     filter.genotyping = 15, filename = \"filtered\")",
      "2. filter_genotyping(data = gds, interactive.filter = FALSE, filter.genotyping = filter.genotyping, \n .     filename = NULL, parallel.core = parallel.core, verbose = verbose, \n .     parameters = filters.parameters, path.folder = wf, internal = FALSE)",
      "3. missing_per_pop(gds = data, strata = strata, parallel.core = parallel.core)",
      "4. strata %>% dplyr::group_by(STRATA) %>% tidyr::nest(data = ., \n .     .key = id.select) %>% dplyr::mutate(MISSING_POP = purrr::map(.x = .$id.select, \n .     .f = missing_pop, gds = gds, markers.meta = markers.meta, \n .     parallel.core = parallel.core)) %>% tidyr::unnest(data = ., \n .     MISSING_POP) %>% dplyr::mutate(BLACKLISTED_MARKERS = n.markers - \n .     WHITELISTED_MARKERS)",
      "5. withVisible(eval(quote(`_fseq`(`_lhs`)), env, env))",
      "6. eval(quote(`_fseq`(`_lhs`)), env, env)",
      "7. eval(quote(`_fseq`(`_lhs`)), env, env)",
      "8. `_fseq`(`_lhs`)",
      "9. freduce(value, `_function_list`)",
      "10. function_list[[i]](value)",
      "11. tidyr::nest(data = ., .key = id.select)",
      "12. nest.grouped_df(data = ., .key = id.select)",
      "13. NextMethod()",
      "14. nest.tbl_df(data = ., .key = id.select)",
      "15. check_key(.key)",
      "16. is_missing(.key)"
     ]
    },
    {
     "name": "stderr",
     "output_type": "stream",
     "text": [
      "\n",
      "Computation time, overall: 1 sec\n"
     ]
    },
    {
     "name": "stdout",
     "output_type": "stream",
     "text": [
      "######################## completed filter_genotyping ###########################\n"
     ]
    },
    {
     "name": "stderr",
     "output_type": "stream",
     "text": [
      "\n",
      "Computation time, overall: 4 sec\n"
     ]
    },
    {
     "name": "stdout",
     "output_type": "stream",
     "text": [
      "############################## completed read_vcf ##############################\n"
     ]
    },
    {
     "data": {
      "image/png": "[encoded data removed]",
      "text/plain": [
       "plot without title"
      ]
     },
     "metadata": {},
     "output_type": "display_data"
    }
   ],
   "source": [
    "%expand\n",
    "data = read_vcf(\"../../Silliman_subset//sub_populations.snps.vcf\", strata = \"../../NFLDB.strata\",\n",
    "        vcf.stats = TRUE, \n",
    "  parallel.core = 4, filter.common.markers = F, filter.genotyping = 15, filename= \"filtered\")\n"
   ]
  },
  {
   "cell_type": "code",
   "execution_count": null,
   "metadata": {
    "kernel": "ir"
   },
   "outputs": [],
   "source": [
    "dataHW = filter_hwe(data,interactive.filter=F, strata= \"../../NFLDB.location.strata\"\n",
    "                   hw.pop.threshold=3, midp.threshold = 1, parallel.core = 4, \n",
    "                    filename=\"filtered_hwe\")"
   ]
  },
  {
   "cell_type": "code",
   "execution_count": null,
   "metadata": {
    "kernel": "ir"
   },
   "outputs": [],
   "source": [
    "dataHWLD = filter_ld(dataHW, interactive.filter = F, filter.short.ld = \"mac\",\n",
    "  filter.long.ld = 0.7, parallel.core = 4, long.ld.missing = TRUE,\n",
    "  filename = \"filtered_hwld\")"
   ]
  },
  {
   "cell_type": "code",
   "execution_count": null,
   "metadata": {
    "kernel": "ir"
   },
   "outputs": [],
   "source": [
    "genomic_converter(dataHWLD, strata=\"../../NFLDB.strata\", \n",
    "                  output = c(\"genind\",\"structure\",\"vcf\"),\n",
    "                 parallel.core = 4, filename = \"hwp3t1ld7\")"
   ]
  },
  {
   "cell_type": "markdown",
   "metadata": {
    "kernel": "ir"
   },
   "source": [
    "### Population Structure"
   ]
  },
  {
   "cell_type": "code",
   "execution_count": null,
   "metadata": {
    "kernel": "bash"
   },
   "outputs": [],
   "source": []
  }
 ],
 "metadata": {
  "kernelspec": {
   "display_name": "Python 3",
   "language": "python",
   "name": "python3"
  },
  "language_info": {
   "codemirror_mode": {
    "name": "ipython",
    "version": 3
   },
   "file_extension": ".py",
   "mimetype": "text/x-python",
   "name": "python",
   "nbconvert_exporter": "python",
   "pygments_lexer": "ipython3",
   "version": "3.9.1"
  },
  "sos": {
   "kernels": [
    [
     "Python3",
     "python3",
     "python",
     "",
     {
      "name": "ipython",
      "version": 3
     }
    ],
    [
     "R",
     "ir",
     "R",
     "",
     "r"
    ],
    [
     "SoS",
     "sos",
     "",
     "",
     "sos"
    ],
    [
     "bash",
     "bash",
     "bash",
     "",
     "shell"
    ],
    [
     "ir",
     "ir",
     "R",
     "",
     "r"
    ]
   ],
   "version": "0.20.5"
  }
 },
 "nbformat": 4,
 "nbformat_minor": 4
}
